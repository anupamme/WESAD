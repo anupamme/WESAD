{
 "cells": [
  {
   "cell_type": "markdown",
   "metadata": {
    "colab_type": "text",
    "id": "view-in-github"
   },
   "source": [
    "<a href=\"https://colab.research.google.com/github/santteegt/om-fol-timeseries/blob/master/LSTM_Model_w_gridsearch_Chest_device.ipynb\" target=\"_parent\"><img src=\"https://colab.research.google.com/assets/colab-badge.svg\" alt=\"Open In Colab\"/></a>"
   ]
  },
  {
   "cell_type": "code",
   "execution_count": 1,
   "metadata": {
    "colab": {
     "base_uri": "https://localhost:8080/",
     "height": 459
    },
    "colab_type": "code",
    "id": "zWa2GDwbVEpS",
    "outputId": "78804263-d4b2-4b82-d69a-e88742338e2d"
   },
   "outputs": [
    {
     "name": "stdout",
     "output_type": "stream",
     "text": [
      "Collecting torch-lr-finder\n",
      "  Downloading https://files.pythonhosted.org/packages/3b/a1/b0745ba7312465342f8480b88bf55c67c2ca035cad77146f91db4843f2e2/torch_lr_finder-0.2.0-py3-none-any.whl\n",
      "Requirement already satisfied: packaging in /usr/local/lib/python3.6/dist-packages (from torch-lr-finder) (20.4)\n",
      "Requirement already satisfied: matplotlib in /usr/local/lib/python3.6/dist-packages (from torch-lr-finder) (3.2.2)\n",
      "Requirement already satisfied: tqdm in /usr/local/lib/python3.6/dist-packages (from torch-lr-finder) (4.41.1)\n",
      "Requirement already satisfied: numpy in /usr/local/lib/python3.6/dist-packages (from torch-lr-finder) (1.18.5)\n",
      "Requirement already satisfied: torch>=0.4.1 in /usr/local/lib/python3.6/dist-packages (from torch-lr-finder) (1.5.1+cu101)\n",
      "Requirement already satisfied: six in /usr/local/lib/python3.6/dist-packages (from packaging->torch-lr-finder) (1.12.0)\n",
      "Requirement already satisfied: pyparsing>=2.0.2 in /usr/local/lib/python3.6/dist-packages (from packaging->torch-lr-finder) (2.4.7)\n",
      "Requirement already satisfied: kiwisolver>=1.0.1 in /usr/local/lib/python3.6/dist-packages (from matplotlib->torch-lr-finder) (1.2.0)\n",
      "Requirement already satisfied: cycler>=0.10 in /usr/local/lib/python3.6/dist-packages (from matplotlib->torch-lr-finder) (0.10.0)\n",
      "Requirement already satisfied: python-dateutil>=2.1 in /usr/local/lib/python3.6/dist-packages (from matplotlib->torch-lr-finder) (2.8.1)\n",
      "Requirement already satisfied: future in /usr/local/lib/python3.6/dist-packages (from torch>=0.4.1->torch-lr-finder) (0.16.0)\n",
      "Installing collected packages: torch-lr-finder\n",
      "Successfully installed torch-lr-finder-0.2.0\n",
      "Collecting skorch\n",
      "\u001b[?25l  Downloading https://files.pythonhosted.org/packages/42/21/4936b881b33de285faa0b36209afe4f9724a0875b2225abdc63b23d384a3/skorch-0.8.0-py3-none-any.whl (113kB)\n",
      "\u001b[K     |████████████████████████████████| 122kB 3.4MB/s \n",
      "\u001b[?25hRequirement already satisfied, skipping upgrade: numpy>=1.13.3 in /usr/local/lib/python3.6/dist-packages (from skorch) (1.18.5)\n",
      "Requirement already satisfied, skipping upgrade: scikit-learn>=0.19.1 in /usr/local/lib/python3.6/dist-packages (from skorch) (0.22.2.post1)\n",
      "Requirement already satisfied, skipping upgrade: tqdm>=4.14.0 in /usr/local/lib/python3.6/dist-packages (from skorch) (4.41.1)\n",
      "Requirement already satisfied, skipping upgrade: tabulate>=0.7.7 in /usr/local/lib/python3.6/dist-packages (from skorch) (0.8.7)\n",
      "Requirement already satisfied, skipping upgrade: scipy>=1.1.0 in /usr/local/lib/python3.6/dist-packages (from skorch) (1.4.1)\n",
      "Requirement already satisfied, skipping upgrade: joblib>=0.11 in /usr/local/lib/python3.6/dist-packages (from scikit-learn>=0.19.1->skorch) (0.16.0)\n",
      "Installing collected packages: skorch\n",
      "Successfully installed skorch-0.8.0\n"
     ]
    }
   ],
   "source": [
    "!pip install torch-lr-finder\n",
    "!pip install -U skorch"
   ]
  },
  {
   "cell_type": "code",
   "execution_count": 2,
   "metadata": {
    "colab": {},
    "colab_type": "code",
    "id": "xsvTkUtynjfO"
   },
   "outputs": [],
   "source": [
    "import os\n",
    "import matplotlib.pyplot as plt\n",
    "import numpy as np\n",
    "import pandas as pd\n",
    "from sklearn.preprocessing import StandardScaler, MinMaxScaler\n",
    "import skorch\n",
    "import torch\n",
    "import torch.nn as nn\n",
    "import torch.nn.functional as F\n",
    "from torch.utils.data import Dataset\n",
    "from torch.utils.data.dataloader import DataLoader\n",
    "from tqdm.notebook import tqdm\n",
    "\n",
    "%matplotlib inline"
   ]
  },
  {
   "cell_type": "code",
   "execution_count": 3,
   "metadata": {
    "colab": {
     "base_uri": "https://localhost:8080/",
     "height": 85
    },
    "colab_type": "code",
    "id": "xaZHaL8rpWKQ",
    "outputId": "bba06969-7386-4cee-9b5d-11db335eba02"
   },
   "outputs": [
    {
     "name": "stdout",
     "output_type": "stream",
     "text": [
      "Downloading...\n",
      "From: https://drive.google.com/uc?id=1_56HAZc2XSXQCAR4iZODq9VAoyq5CvAs\n",
      "To: /content/all_subjects.csv\n",
      "172MB [00:01, 129MB/s]\n"
     ]
    }
   ],
   "source": [
    "# !wget https://github.com/santteegt/om-fol-timeseries/archive/master.zip -O om-fol-timeseries.zip && unzip om-fol-timeseries.zip && rm om-fol-timeseries.zip\n",
    "# !wget https://github.com/santteegt/om-fol-timeseries/raw/master/segmented_data/WESAD_segmented.zip && unzip -d data WESAD_segmented.zip && rm WESAD_segmented.zip\n",
    "# from google.colab import files\n",
    "# uploaded = files.upload()\n",
    "\n",
    "!gdown --id 1_56HAZc2XSXQCAR4iZODq9VAoyq5CvAs  # segmented dataset on my Google drive"
   ]
  },
  {
   "cell_type": "code",
   "execution_count": 4,
   "metadata": {
    "colab": {
     "base_uri": "https://localhost:8080/",
     "height": 68
    },
    "colab_type": "code",
    "id": "hL3XC4qKpa4W",
    "outputId": "5b3fd4a9-78a3-4d60-873a-521e87cdae7c"
   },
   "outputs": [
    {
     "name": "stdout",
     "output_type": "stream",
     "text": [
      "total 167928\n",
      "-rw-r--r-- 1 root root 171953449 Jul 14 14:46 all_subjects.csv\n",
      "drwxr-xr-x 1 root root      4096 Jul 10 16:29 sample_data\n"
     ]
    }
   ],
   "source": [
    "!ls -l"
   ]
  },
  {
   "cell_type": "markdown",
   "metadata": {
    "colab_type": "text",
    "id": "vkjh0j6rsaUu"
   },
   "source": [
    "## Load Subject Data"
   ]
  },
  {
   "cell_type": "code",
   "execution_count": null,
   "metadata": {
    "colab": {},
    "colab_type": "code",
    "id": "NQQm1-SIpdGB"
   },
   "outputs": [],
   "source": [
    "# BASE_PATH = './data'\n",
    "# [subject for subject in os.listdir(BASE_PATH) if subject.endswith('.feather')]"
   ]
  },
  {
   "cell_type": "code",
   "execution_count": 5,
   "metadata": {
    "colab": {
     "base_uri": "https://localhost:8080/",
     "height": 34
    },
    "colab_type": "code",
    "id": "eJ0PTSZts2eI",
    "outputId": "efcd9277-9084-4e6a-e836-2f368aed6984"
   },
   "outputs": [
    {
     "data": {
      "text/plain": [
       "(121813, 79)"
      ]
     },
     "execution_count": 5,
     "metadata": {
      "tags": []
     },
     "output_type": "execute_result"
    }
   ],
   "source": [
    "df = pd.read_csv('all_subjects.csv', index_col=0)\n",
    "df.shape"
   ]
  },
  {
   "cell_type": "markdown",
   "metadata": {
    "colab_type": "text",
    "id": "kn05bY8QPvb-"
   },
   "source": [
    "Transform labels from range 0... TODO: This should be done directly in the dataset:"
   ]
  },
  {
   "cell_type": "code",
   "execution_count": 6,
   "metadata": {
    "colab": {},
    "colab_type": "code",
    "id": "LnejF7Kd2172"
   },
   "outputs": [],
   "source": [
    "df.label = df.label - 1"
   ]
  },
  {
   "cell_type": "markdown",
   "metadata": {
    "colab_type": "text",
    "id": "eBFzzX0sIeIg"
   },
   "source": [
    "## Data Loader"
   ]
  },
  {
   "cell_type": "code",
   "execution_count": 7,
   "metadata": {
    "colab": {},
    "colab_type": "code",
    "id": "Zq0UvOYj60q6"
   },
   "outputs": [],
   "source": [
    "class WESADDataset(Dataset):\n",
    "    #Constructor is mandatory\n",
    "    def __init__(self, dataframe, transform=None):\n",
    "        # normalizer = StandardScaler()\n",
    "        # Since different subjects have different responses on the signal values, min-max normalisation was conducted across different signals to normalize them to the same scale\n",
    "        normalizer = MinMaxScaler()\n",
    "        self.dataframe = dataframe.drop(columns=['subject','label'])\n",
    "        # self.X = self.dataframe.astype(np.float32).to_numpy()\n",
    "        # Normalize features\n",
    "        self.X = normalizer.fit_transform(self.dataframe.astype(np.float32))\n",
    "        self.labels = dataframe['label']\n",
    "        self.transform = transform # e.g. torch.Tensor\n",
    "    \n",
    "    def to_torchtensor(self):            \n",
    "        self.dataframe = torch.from_numpy(self.dataframe)\n",
    "        self.labels = torch.from_numpy(self.labels)\n",
    "    \n",
    "    def __len__(self):\n",
    "        #Mandatory\n",
    "        '''Returns:\n",
    "                Length [int]: Length of Dataset/batches\n",
    "        '''\n",
    "        return self.dataframe.shape[0]\n",
    "\n",
    "    def __getitem__(self, idx): \n",
    "        #Mandatory \n",
    "        \n",
    "        '''Returns:\n",
    "                    Data [Torch Tensor]: \n",
    "                    Target [ Torch Tensor]:\n",
    "        '''\n",
    "        sample = self.X[idx]\n",
    "        # sample = self.X[idx].reshape(1, -1)\n",
    "        target = self.labels[idx]\n",
    "                \n",
    "        if self.transform:\n",
    "            sample = self.transform(sample)\n",
    "\n",
    "        return sample, target"
   ]
  },
  {
   "cell_type": "code",
   "execution_count": 8,
   "metadata": {
    "colab": {},
    "colab_type": "code",
    "id": "yQZ-fX0SIj5L"
   },
   "outputs": [],
   "source": [
    "def get_data_loader(subject, train_batch_size=128, val_batch_size=5):\n",
    "\n",
    "    train = WESADDataset(df[df['subject'] != subject].reset_index(drop=True))\n",
    "    test = WESADDataset(df[df['subject'] == subject].reset_index(drop=True))\n",
    "\n",
    "    train_dl = torch.utils.data.DataLoader(train, batch_size=train_batch_size, shuffle=True, pin_memory=True, num_workers=4)\n",
    "    val_dl = torch.utils.data.DataLoader(test, batch_size=val_batch_size, shuffle=False, pin_memory=True, num_workers=4)\n",
    "    \n",
    "    return train_dl, val_dl"
   ]
  },
  {
   "cell_type": "code",
   "execution_count": 9,
   "metadata": {
    "colab": {},
    "colab_type": "code",
    "id": "PLPy0--FptDt"
   },
   "outputs": [],
   "source": [
    "def get_default_device():\n",
    "    \"\"\"Pick GPU if available, else CPU\"\"\"\n",
    "    if torch.cuda.is_available():\n",
    "        return torch.device('cuda')\n",
    "    else:\n",
    "        return torch.device('cpu')\n",
    "\n",
    "def to_device(data, device):\n",
    "    \"\"\"Move tensor(s) to chosen device\"\"\"\n",
    "    if isinstance(data, (list,tuple)):\n",
    "        return [to_device(x, device) for x in data]\n",
    "    return data.to(device, non_blocking=True)\n",
    "\n",
    "\n",
    "class DeviceDataLoader():\n",
    "    \"\"\"Wrap a dataloader to move data to a device\"\"\"\n",
    "    def __init__(self, dl, device):\n",
    "        self.dl = dl\n",
    "        self.device = device\n",
    "        \n",
    "    def __iter__(self):\n",
    "        \"\"\"Yield a batch of data after moving it to device\"\"\"\n",
    "        for b in self.dl: \n",
    "            yield to_device(b, self.device)\n",
    "\n",
    "    def __len__(self):\n",
    "        \"\"\"Number of batches\"\"\"\n",
    "        return len(self.dl)"
   ]
  },
  {
   "cell_type": "markdown",
   "metadata": {
    "colab_type": "text",
    "id": "mVvM8CGVAzRC"
   },
   "source": [
    "## Methods & utils for model training"
   ]
  },
  {
   "cell_type": "code",
   "execution_count": 10,
   "metadata": {
    "colab": {},
    "colab_type": "code",
    "id": "zsinJ1Z-7BCU"
   },
   "outputs": [],
   "source": [
    "from sklearn.metrics import f1_score\n",
    "\n",
    "def accuracy(outputs, labels):\n",
    "    _, preds = torch.max(outputs, dim=1)\n",
    "    return torch.tensor(torch.sum(preds == labels).item() / len(preds))\n",
    "\n",
    "def f1(output, label, threshold=0.5, beta=1):\n",
    "    probs = torch.argmax(output.data.to('cpu'), dim=1)\n",
    "    preds = label.data.to('cpu')\n",
    "    return f1_score(preds, probs, average='macro')\n",
    "\n",
    "def plot_scores(history):\n",
    "    t_acc = [x['train_acc'] for x in history]\n",
    "    plt.plot(t_acc, '-x', label='Train Acc')\n",
    "\n",
    "    accuracies = [x['val_acc'] for x in history]\n",
    "    f1 = [x['val_f1'] for x in history]\n",
    "    plt.plot(accuracies, '-x', label='Valid Acc')\n",
    "    plt.plot(f1, '-x', label='Val F1')\n",
    "    plt.xlabel('epoch')\n",
    "    plt.ylabel('Score')\n",
    "    plt.title('Score vs. No. of epochs')\n",
    "    plt.legend();\n",
    "\n",
    "def plot_losses(history):\n",
    "    train_losses = [x.get('train_loss') for x in history]\n",
    "    val_losses = [x['val_loss'] for x in history]\n",
    "    plt.plot(train_losses, '-bx')\n",
    "    plt.plot(val_losses, '-rx')\n",
    "    plt.xlabel('epoch')\n",
    "    plt.ylabel('loss')\n",
    "    plt.legend(['Training', 'Validation'])\n",
    "    plt.title('Loss vs. No. of epochs');"
   ]
  },
  {
   "cell_type": "code",
   "execution_count": 11,
   "metadata": {
    "colab": {},
    "colab_type": "code",
    "id": "3bKM-vZh6WDN"
   },
   "outputs": [],
   "source": [
    "class BaseModel(nn.Module):\n",
    "    def training_step(self, batch):\n",
    "        data, labels = batch \n",
    "        out = self(data)                  # Generate predictions\n",
    "        loss = F.cross_entropy(out, labels) # Calculate loss\n",
    "        return loss\n",
    "    \n",
    "    def validation_step(self, batch):\n",
    "        data, labels = batch \n",
    "        out = self(data)                    # Generate predictions\n",
    "        # print('out', out.shape)\n",
    "        loss = F.cross_entropy(out, labels)   # Calculate loss\n",
    "        # print('loss', loss.shape)\n",
    "        out = F.softmax(out, dim=1)           # Apply Softmax\n",
    "        acc = accuracy(out, labels)           # Calculate accuracy\n",
    "        f1_ = f1(out, labels)                  # Calculate F1\n",
    "        return {'val_loss': loss.detach(), 'val_acc': acc, 'val_f1': f1_}\n",
    "        \n",
    "    def validation_epoch_end(self, outputs):\n",
    "        batch_losses = [x['val_loss'] for x in outputs]\n",
    "        epoch_loss = torch.stack(batch_losses).mean()   # Combine losses\n",
    "        batch_accs = [x['val_acc'] for x in outputs]\n",
    "        batch_f1 = [x['val_f1'] for x in outputs]\n",
    "        # print('batch_f1', len(batch_f1))\n",
    "        epoch_acc = torch.stack(batch_accs).mean()      # Combine accuracies\n",
    "        epoch_f1 = np.mean(np.array(batch_f1))         # Combine F1 scores\n",
    "        return {'val_loss': epoch_loss.item(), 'val_acc': epoch_acc.item(), 'val_f1': epoch_f1.item()}\n",
    "    \n",
    "    def epoch_end(self, epoch, result):\n",
    "        print(\"Epoch [{}], train_loss: {:.4f}, train_acc: {:.4f}, val_loss: {:.4f}, val_acc: {:.4f}, val_f1: {:.4f}\".format(\n",
    "            epoch, result['train_loss'], result['train_acc'], result['val_loss'], result['val_acc'], result['val_f1']))"
   ]
  },
  {
   "cell_type": "code",
   "execution_count": 12,
   "metadata": {
    "colab": {},
    "colab_type": "code",
    "id": "ewGiwm2H6DOg"
   },
   "outputs": [],
   "source": [
    "@torch.no_grad()\n",
    "def evaluate(model, val_loader):\n",
    "    model.eval()\n",
    "    outputs = [model.validation_step(batch) for batch in val_loader]\n",
    "    return model.validation_epoch_end(outputs)\n",
    "\n",
    "def fit(epochs, lr, model, train_loader, val_loader, optimizer):\n",
    "    history = []\n",
    "    for epoch in range(epochs):\n",
    "        # Training Phase \n",
    "        model.train()\n",
    "        train_accs = []\n",
    "        train_losses = []\n",
    "        for batch in tqdm(train_loader):\n",
    "            loss = model.training_step(batch)\n",
    "            train_losses.append(loss)\n",
    "            loss.backward()\n",
    "            optimizer.step()\n",
    "            optimizer.zero_grad()\n",
    "\n",
    "            data, labels = batch\n",
    "            train_out = F.softmax(model(data), dim=1)\n",
    "            train_accs.append(accuracy(train_out, labels))\n",
    "\n",
    "\n",
    "        # Validation phase\n",
    "        result = evaluate(model, val_loader)\n",
    "        result['train_loss'] = torch.stack(train_losses).mean().item()\n",
    "        result['train_acc'] = torch.stack(train_accs).mean().item()\n",
    "        history.append(result)\n",
    "\n",
    "        # if epoch < 5 or (epoch + 1) % 5 == 0:\n",
    "        model.epoch_end(epoch, result)\n",
    "            \n",
    "    return history"
   ]
  },
  {
   "cell_type": "markdown",
   "metadata": {
    "colab_type": "text",
    "id": "sbWcJEn7IEAo"
   },
   "source": [
    "## Models"
   ]
  },
  {
   "cell_type": "code",
   "execution_count": 13,
   "metadata": {
    "colab": {},
    "colab_type": "code",
    "id": "-fDiM6gn4jdN"
   },
   "outputs": [],
   "source": [
    "class WesadFeedForward(BaseModel):\n",
    "    def __init__(self, input_dim, output_dim=3):\n",
    "        super().__init__()\n",
    "        self.network = nn.Sequential(\n",
    "            nn.Linear(input_dim, 128),\n",
    "            nn.Dropout(0.5),\n",
    "            nn.ReLU(),\n",
    "            nn.Linear(128, 256),\n",
    "            nn.Dropout(0.5),\n",
    "            nn.ReLU(),\n",
    "            nn.Linear(256, 128),\n",
    "            nn.Linear(128, output_dim),\n",
    "            #nn.Dropout(0.5),\n",
    "            # nn.Softmax(dim=1)\n",
    "        )\n",
    "        \n",
    "    def forward(self, x):\n",
    "        return self.network(x)\n",
    "\n",
    "\n",
    "class WesadLSTM(BaseModel):\n",
    "    def __init__(self, input_dim, hidden_dim, output_dim=3, lstm_layers=1, dropout=0.2):\n",
    "        super().__init__()\n",
    "        self.input_dim = input_dim\n",
    "        self.hidden_dim = hidden_dim\n",
    "        self.classes = output_dim\n",
    "        # self.linear1 = nn.Linear(input_dim, input_dim)\n",
    "        # self.lstm = nn.LSTM(input_dim, hidden_dim, num_layers=lstm_layers, batch_first=True, dropout=0.2)\n",
    "        self.lstm = nn.LSTM(input_size=input_dim, hidden_size=input_dim, num_layers=lstm_layers, dropout=dropout)\n",
    "        self.fc = nn.Linear(hidden_dim, output_dim)\n",
    "        self.dropout = nn.Dropout(dropout)\n",
    "\n",
    "    def forward(self, x):\n",
    "        xb = x.view(-1, 1, self.input_dim)\n",
    "        # print('x', xb.shape)\n",
    "        # out = self.linear1(x)\n",
    "        # out = x.view(x.shape, -1)\n",
    "        # print(out.shape)\n",
    "        # out = self.dropout(out)\n",
    "        # lstm_out, (ht, ct) = self.lstm(out)\n",
    "        # out = self.fc(ht[-1])\n",
    "        lstm_out, _ = self.lstm(xb)\n",
    "        # print(lstm_out.view(-1, self.hidden_dim).shape)\n",
    "        out = self.fc(lstm_out.view(-1, self.hidden_dim))\n",
    "        # out = self.dropout(out)\n",
    "        # out = self.softmax(out)\n",
    "        # out = F.softmax(out, dim=1)\n",
    "        return out.view(-1, self.classes)\n"
   ]
  },
  {
   "cell_type": "markdown",
   "metadata": {
    "colab_type": "text",
    "id": "RqmrXK4O_tCX"
   },
   "source": [
    "## General Model Parameters"
   ]
  },
  {
   "cell_type": "code",
   "execution_count": 14,
   "metadata": {
    "colab": {},
    "colab_type": "code",
    "id": "UBeX47-b_rZP"
   },
   "outputs": [],
   "source": [
    "subjects = df['subject'].unique()\n",
    "subjects.sort()\n",
    "device = get_default_device()\n",
    "\n",
    "train_batch_size = 25\n",
    "val_batch_size = 5\n",
    "input_dim = df.drop(columns=['subject', 'label']).shape[1]\n",
    "output_dim = 3\n",
    "lstm_layers = 5"
   ]
  },
  {
   "cell_type": "code",
   "execution_count": null,
   "metadata": {
    "colab": {},
    "colab_type": "code",
    "id": "65FyNs92F5eX"
   },
   "outputs": [],
   "source": [
    "# lrs = [0.5, 0.1, 0.01, 0.001]\n",
    "# epochs = [20, 20, 20,  20]"
   ]
  },
  {
   "cell_type": "code",
   "execution_count": null,
   "metadata": {
    "colab": {
     "base_uri": "https://localhost:8080/",
     "height": 366,
     "referenced_widgets": [
      "de18359779d24b8aa02ede2c144b53fe",
      "d07c1f93fe1349ec94f5a173060c8da9",
      "80c2efd5d3794a448fd0c22448d325ee",
      "69571c1e37ba428fb85c5da858eb3640",
      "8ab0c7d18e824e76839d7e2df636c410",
      "b5e8f1950fc640488d94e3109b0a237d",
      "e5ac081f09ba4ec18b09dcc6eb2e37d2",
      "e5562350386343909e87db299389e7ef"
     ]
    },
    "colab_type": "code",
    "id": "8Nxfyv_GYUw2",
    "outputId": "a7c7115f-a53b-41b6-dabc-a0a84cac6966"
   },
   "outputs": [
    {
     "data": {
      "application/vnd.jupyter.widget-view+json": {
       "model_id": "de18359779d24b8aa02ede2c144b53fe",
       "version_major": 2,
       "version_minor": 0
      },
      "text/plain": [
       "HBox(children=(FloatProgress(value=0.0, max=1000.0), HTML(value='')))"
      ]
     },
     "metadata": {
      "tags": []
     },
     "output_type": "display_data"
    },
    {
     "name": "stdout",
     "output_type": "stream",
     "text": [
      "Stopping early, the loss has diverged\n",
      "Learning rate search finished. See the graph with {finder_name}.plot()\n"
     ]
    },
    {
     "data": {
      "image/png": "[encoded data removed]",
      "text/plain": [
       "<Figure size 432x288 with 1 Axes>"
      ]
     },
     "metadata": {
      "needs_background": "light",
      "tags": []
     },
     "output_type": "display_data"
    },
    {
     "data": {
      "text/plain": [
       "<matplotlib.axes._subplots.AxesSubplot at 0x7f6fe3490b70>"
      ]
     },
     "execution_count": 21,
     "metadata": {
      "tags": []
     },
     "output_type": "execute_result"
    }
   ],
   "source": [
    "from torch_lr_finder import LRFinder\n",
    "\n",
    "max_lr = 1e-5\n",
    "# grad_clip = 0.001\n",
    "# weight_decay = 1e-4\n",
    "opt_func = torch.optim.Adam\n",
    "criterion = F.cross_entropy\n",
    "train_dl, val_dl = get_data_loader(subject='S2', train_batch_size=train_batch_size, val_batch_size=val_batch_size)\n",
    "\n",
    "# model = WesadFeedForward(input_dim, output_dim)\n",
    "model = WesadLSTM(input_dim=input_dim, hidden_dim=input_dim, output_dim=output_dim, lstm_layers=lstm_layers)\n",
    "# optimizer = opt_func(model.parameters(), lr=max_lr, weight_decay=weight_decay)\n",
    "optimizer = opt_func(model.parameters(), lr=max_lr)\n",
    "lr_finder = LRFinder(model, optimizer, criterion, device=device)\n",
    "lr_finder.range_test(train_dl, end_lr=10000, num_iter=1000)\n",
    "lr_finder.plot() # to inspect the loss-learning rate graph\n",
    "# lr_finder.reset() # to reset the model and optimizer to their initial state"
   ]
  },
  {
   "cell_type": "markdown",
   "metadata": {
    "colab_type": "text",
    "id": "tMur3N7FIBS0"
   },
   "source": [
    "## Running models - LOSO CV"
   ]
  },
  {
   "cell_type": "code",
   "execution_count": null,
   "metadata": {
    "colab": {},
    "colab_type": "code",
    "id": "LuzlSLBypEDg"
   },
   "outputs": [],
   "source": [
    "# def get_loso_cv(subjects, to_device=False):\n",
    "#     for subject in subjects:\n",
    "#         history = []\n",
    "#         print('LOSO', subject)\n",
    "#         train_dl, val_dl = get_data_loader(subject, train_batch_size=train_batch_size, val_batch_size=val_batch_size)\n",
    "#         if to_device:\n",
    "#             train_dl = DeviceDataLoader(train_dl, device)\n",
    "#             val_dl = DeviceDataLoader(val_dl, device)\n",
    "\n",
    "#         yield train_dl, val_dl"
   ]
  },
  {
   "cell_type": "code",
   "execution_count": null,
   "metadata": {
    "colab": {
     "base_uri": "https://localhost:8080/",
     "height": 34
    },
    "colab_type": "code",
    "id": "P_qs92RNGITw",
    "outputId": "7d16960d-3100-4f7e-f99f-4aa635e52e96"
   },
   "outputs": [
    {
     "name": "stdout",
     "output_type": "stream",
     "text": [
      "LOSO S10\n"
     ]
    }
   ],
   "source": [
    "# epochs = 20\n",
    "# lr = 1e-4\n",
    "\n",
    "# models = []\n",
    "# histories = []\n",
    "# val_histories = []\n",
    "# for subject in subjects:\n",
    "#     history = []\n",
    "#     print('LOSO', subject)\n",
    "#     train_dl, val_dl = get_data_loader(subject, train_batch_size=train_batch_size, val_batch_size=val_batch_size)\n",
    "#     train_ddl = DeviceDataLoader(train_dl, device)\n",
    "#     val_ddl = DeviceDataLoader(val_dl, device)\n",
    "#     # model = to_device(WesadFeedForward(input_dim, output_dim), device)\n",
    "#     model = to_device(WesadLSTM(input_dim=input_dim, hidden_dim=input_dim, \n",
    "#                                 output_dim=output_dim, lstm_layers=lstm_layers), device)\n",
    "\n",
    "#     # optimizer = torch.optim.Adam(model.parameters(), lr=lr)\n",
    "\n",
    "#     # history += fit(epochs, lr, model, train_ddl, val_ddl, optimizer)\n",
    "#     break"
   ]
  },
  {
   "cell_type": "code",
   "execution_count": 15,
   "metadata": {
    "colab": {},
    "colab_type": "code",
    "id": "4LfpiXbjEQTQ"
   },
   "outputs": [],
   "source": [
    "def try_batch(model, dl):\n",
    "    model.eval()\n",
    "    for data, labels in dl:\n",
    "        # print(data)\n",
    "        # print(labels)\n",
    "        print('data.shape:', data.shape)\n",
    "        out = model(data)\n",
    "        print('out[0]', out[0])\n",
    "        print('softmax(out[0]):', F.softmax(out, dim=1)[0])\n",
    "        _, p = torch.max(F.softmax(out, dim=1), dim=1)\n",
    "        print('Max', p[0])\n",
    "        break"
   ]
  },
  {
   "cell_type": "code",
   "execution_count": null,
   "metadata": {
    "colab": {},
    "colab_type": "code",
    "id": "MXCusL0C-M_E"
   },
   "outputs": [],
   "source": [
    "# try_batch(model, train_ddl)"
   ]
  },
  {
   "cell_type": "code",
   "execution_count": null,
   "metadata": {
    "colab": {
     "base_uri": "https://localhost:8080/",
     "height": 68
    },
    "colab_type": "code",
    "id": "Nc7XHp4RGK5J",
    "outputId": "c206f7ff-8376-4135-9068-cf4c775c3ca8"
   },
   "outputs": [
    {
     "data": {
      "text/plain": [
       "[{'val_acc': 0.31704410910606384,\n",
       "  'val_f1': 0.3168419036267665,\n",
       "  'val_loss': 1.1131939888000488}]"
      ]
     },
     "execution_count": 20,
     "metadata": {
      "tags": []
     },
     "output_type": "execute_result"
    }
   ],
   "source": [
    "# history = [evaluate(model, val_ddl)]\n",
    "# history"
   ]
  },
  {
   "cell_type": "code",
   "execution_count": null,
   "metadata": {
    "colab": {},
    "colab_type": "code",
    "id": "Ti_YihcVJ7BI"
   },
   "outputs": [],
   "source": [
    "# epochs = 5\n",
    "# lr = 5e-3\n",
    "# optimizer = torch.optim.Adam(model.parameters(), lr=lr)"
   ]
  },
  {
   "cell_type": "code",
   "execution_count": null,
   "metadata": {
    "colab": {
     "base_uri": "https://localhost:8080/",
     "height": 347,
     "referenced_widgets": [
      "7df734534de34697af24898a2f195b9e",
      "f16ad6145b1943fc997f67d408c50fca",
      "d6468069d66d43fa961fdcf24b10f10e",
      "892e164f1d744c1cb546e04cc85164fa",
      "088b20767d6e4d71b51412890969dc76",
      "0a134d32013545eda0bd5d5dcfc36707",
      "f60febd9a8c643be8d9cef045cce4828",
      "e0e86e49b779404897aab3b4ae85edfd",
      "d819f1d1baea4290aec116d61e358adf",
      "4457224890204d60b868f1ea8f4f2dc8",
      "7d051de8c8eb4470b64145f58dfdca55",
      "395517cb7770477cadfd082dfa542a66",
      "2e5127384bce43d9afffcdbaa164206d",
      "0c51ac7d534c4a9f82d0f16d32c269f1",
      "9acbca14de074bd89da12c2f1fbdf6cf",
      "15f9d1856c5d4ca79070fccec70aa5fc",
      "d344f2b329634552ad3577c978f2dd52",
      "345ac6be53ec48ba867d0a4132bf9f8e",
      "c5e77a4b28b84512a40b76302b22717d",
      "9395e8ff5b7e43edabadf3ff766ea1d8",
      "7e7dbf922e5d4286a5e53cbfdd84c523",
      "fb06ea6f38d74306afbcc22d4cb4adcf",
      "bdea7d80b440433cbc09943fb26d83e3",
      "3b9cc8d292c6406a9bbd1c6d8d4c41c8",
      "df4136bbe3d7481cb7c2ae651d1cd0d7",
      "0d9defd150074322bfc6b8a527fb6e16",
      "7e89d00dac1343e182dc0c50ef5ffa39",
      "74cdddbd2f004d7886894e4297474708",
      "6d6d9f0b2a6e48de83eaef9caa9ebd02",
      "175dc9ca4cf941b3a42566b44a0d4f99",
      "91317de663ce44999df501c8b0d75a47",
      "210889d450ce4292af0cc8ddf4d46eae",
      "ad112087ff3b4cc583a60a610891b1de",
      "506e4435462a4d4292a719819a0c8e17",
      "6cb1f020061a471ba03d5eec27d2d35a",
      "b955083d78f2426db949d80f09ee20f2",
      "6b1d165de1c14f72a289fc9e863492d7",
      "51b233b4756a47579d9253d9446ad465",
      "073d47da916f411ca281934f2765d067",
      "43540220a99d43fa9434c6641c983779"
     ]
    },
    "colab_type": "code",
    "id": "1i9617j0DOuG",
    "outputId": "5687c477-d1f3-4161-b73b-8415b9106973"
   },
   "outputs": [
    {
     "data": {
      "application/vnd.jupyter.widget-view+json": {
       "model_id": "7df734534de34697af24898a2f195b9e",
       "version_major": 2,
       "version_minor": 0
      },
      "text/plain": [
       "HBox(children=(FloatProgress(value=0.0, max=4537.0), HTML(value='')))"
      ]
     },
     "metadata": {
      "tags": []
     },
     "output_type": "display_data"
    },
    {
     "name": "stdout",
     "output_type": "stream",
     "text": [
      "\n",
      "Epoch [0], train_loss: 0.4630, train_acc: 0.8153, val_loss: 0.3250, val_acc: 0.8965, val_f1: 0.8817\n"
     ]
    },
    {
     "data": {
      "application/vnd.jupyter.widget-view+json": {
       "model_id": "d819f1d1baea4290aec116d61e358adf",
       "version_major": 2,
       "version_minor": 0
      },
      "text/plain": [
       "HBox(children=(FloatProgress(value=0.0, max=4537.0), HTML(value='')))"
      ]
     },
     "metadata": {
      "tags": []
     },
     "output_type": "display_data"
    },
    {
     "name": "stdout",
     "output_type": "stream",
     "text": [
      "\n",
      "Epoch [1], train_loss: 0.1342, train_acc: 0.9572, val_loss: 0.5303, val_acc: 0.8629, val_f1: 0.8468\n"
     ]
    },
    {
     "data": {
      "application/vnd.jupyter.widget-view+json": {
       "model_id": "d344f2b329634552ad3577c978f2dd52",
       "version_major": 2,
       "version_minor": 0
      },
      "text/plain": [
       "HBox(children=(FloatProgress(value=0.0, max=4537.0), HTML(value='')))"
      ]
     },
     "metadata": {
      "tags": []
     },
     "output_type": "display_data"
    },
    {
     "name": "stdout",
     "output_type": "stream",
     "text": [
      "\n",
      "Epoch [2], train_loss: 0.0932, train_acc: 0.9718, val_loss: 0.6836, val_acc: 0.8338, val_f1: 0.8255\n"
     ]
    },
    {
     "data": {
      "application/vnd.jupyter.widget-view+json": {
       "model_id": "df4136bbe3d7481cb7c2ae651d1cd0d7",
       "version_major": 2,
       "version_minor": 0
      },
      "text/plain": [
       "HBox(children=(FloatProgress(value=0.0, max=4537.0), HTML(value='')))"
      ]
     },
     "metadata": {
      "tags": []
     },
     "output_type": "display_data"
    },
    {
     "name": "stdout",
     "output_type": "stream",
     "text": [
      "\n",
      "Epoch [3], train_loss: 0.0777, train_acc: 0.9771, val_loss: 0.4298, val_acc: 0.8890, val_f1: 0.8769\n"
     ]
    },
    {
     "data": {
      "application/vnd.jupyter.widget-view+json": {
       "model_id": "ad112087ff3b4cc583a60a610891b1de",
       "version_major": 2,
       "version_minor": 0
      },
      "text/plain": [
       "HBox(children=(FloatProgress(value=0.0, max=4537.0), HTML(value='')))"
      ]
     },
     "metadata": {
      "tags": []
     },
     "output_type": "display_data"
    },
    {
     "name": "stdout",
     "output_type": "stream",
     "text": [
      "\n",
      "Epoch [4], train_loss: 0.0615, train_acc: 0.9816, val_loss: 0.4548, val_acc: 0.8970, val_f1: 0.8842\n"
     ]
    }
   ],
   "source": [
    "history += fit(epochs, lr, model, train_ddl, val_ddl, optimizer)"
   ]
  },
  {
   "cell_type": "code",
   "execution_count": null,
   "metadata": {
    "colab": {
     "base_uri": "https://localhost:8080/",
     "height": 295
    },
    "colab_type": "code",
    "id": "wFZKOpppLwXf",
    "outputId": "b6250572-eb23-437c-bb7a-f9fa1964bd54"
   },
   "outputs": [
    {
     "data": {
      "image/png": "[encoded data removed]",
      "text/plain": [
       "<Figure size 432x288 with 1 Axes>"
      ]
     },
     "metadata": {
      "needs_background": "light",
      "tags": []
     },
     "output_type": "display_data"
    }
   ],
   "source": [
    "# plot_scores(history[1:])"
   ]
  },
  {
   "cell_type": "code",
   "execution_count": null,
   "metadata": {
    "colab": {
     "base_uri": "https://localhost:8080/",
     "height": 295
    },
    "colab_type": "code",
    "id": "0sBIoVu-gqTL",
    "outputId": "5eacf1c8-9aee-4bbc-e079-4a14ec228550"
   },
   "outputs": [
    {
     "data": {
      "image/png": "[encoded data removed]",
      "text/plain": [
       "<Figure size 432x288 with 1 Axes>"
      ]
     },
     "metadata": {
      "needs_background": "light",
      "tags": []
     },
     "output_type": "display_data"
    }
   ],
   "source": [
    "# plot_losses(history[1:])"
   ]
  },
  {
   "cell_type": "code",
   "execution_count": null,
   "metadata": {
    "colab": {},
    "colab_type": "code",
    "id": "lsmpvyb7sb2-"
   },
   "outputs": [],
   "source": []
  },
  {
   "cell_type": "markdown",
   "metadata": {
    "colab_type": "text",
    "id": "bvp2Yi5Cjoa8"
   },
   "source": [
    "## GridSearch"
   ]
  },
  {
   "cell_type": "code",
   "execution_count": 16,
   "metadata": {
    "colab": {},
    "colab_type": "code",
    "id": "d0t6TKFRjo1F"
   },
   "outputs": [],
   "source": [
    "from scipy import stats\n",
    "from sklearn.model_selection import cross_validate, LeaveOneGroupOut, RandomizedSearchCV\n",
    "from skorch import NeuralNetClassifier\n",
    "from skorch.dataset import CVSplit"
   ]
  },
  {
   "cell_type": "code",
   "execution_count": 17,
   "metadata": {
    "colab": {},
    "colab_type": "code",
    "id": "uYrAEVCFUjTD"
   },
   "outputs": [],
   "source": [
    "class WesadLSTM(BaseModel):\n",
    "    def __init__(self, input_dim, hidden_dim, output_dim=3, lstm_layers=1, dropout=0.2):\n",
    "        super(WesadLSTM, self).__init__()\n",
    "        self.input_dim = input_dim\n",
    "        self.hidden_dim = hidden_dim\n",
    "        self.classes = output_dim\n",
    "        # self.linear1 = nn.Linear(input_dim, input_dim)\n",
    "        # self.lstm = nn.LSTM(input_dim, hidden_dim, num_layers=lstm_layers, batch_first=True, dropout=0.2)\n",
    "        self.lstm = nn.LSTM(input_size=input_dim, hidden_size=input_dim, num_layers=lstm_layers, dropout=dropout)\n",
    "        self.fc = nn.Linear(hidden_dim, output_dim)\n",
    "        self.dropout = nn.Dropout(dropout)\n",
    "\n",
    "    def forward(self, x):\n",
    "        xb = x.view(-1, 1, self.input_dim)\n",
    "        # print('x', xb.shape)\n",
    "        # out = self.linear1(x)\n",
    "        # out = x.view(x.shape, -1)\n",
    "        # print(out.shape)\n",
    "        # out = self.dropout(out)\n",
    "        # lstm_out, (ht, ct) = self.lstm(out)\n",
    "        # out = self.fc(ht[-1])\n",
    "        lstm_out, _ = self.lstm(xb)\n",
    "        # print(lstm_out.view(-1, self.hidden_dim).shape)\n",
    "        out = self.fc(lstm_out.view(-1, self.hidden_dim))\n",
    "        # out = self.dropout(out)\n",
    "        out = F.softmax(out.view(-1, self.classes), dim=1)\n",
    "        # out = F.softmax(out, dim=1)\n",
    "        return out"
   ]
  },
  {
   "cell_type": "code",
   "execution_count": 29,
   "metadata": {
    "colab": {},
    "colab_type": "code",
    "id": "PxZZeIGuMmLp"
   },
   "outputs": [],
   "source": [
    "NUM_CV_STEPS = 10\n",
    "input_dim = df.drop(columns=['subject', 'label']).shape[1]\n",
    "output_dim = 3\n",
    "\n",
    "optimizer = torch.optim.Adam\n",
    "\n",
    "params = {\n",
    "    # 'net__module__input_dim': [input_dim],\n",
    "    # 'net__module__hidden_dim': [input_dim],\n",
    "    # 'net__module__output_dim': [output_dim],\n",
    "    # 'net__module__lstm_layers': [1, 2, 3, 4, 5],\n",
    "    # 'net__module__dropout': stats.uniform(0, 0.9),\n",
    "    # 'net__lr': [10**(-stats.uniform(1, 5).rvs()) for _ in range(NUM_CV_STEPS)],\n",
    "    # 'net__max_epochs': [5, 10]\n",
    "    'module__input_dim': [input_dim],\n",
    "    'module__hidden_dim': [input_dim],\n",
    "    'module__output_dim': [output_dim],\n",
    "    'module__lstm_layers': [2, 3, 4, 5],\n",
    "    'module__dropout': [0., 0.2, 0.5, 0.7],\n",
    "    # 'lr': [10**(-stats.uniform(1, 5).rvs()) for _ in range(NUM_CV_STEPS)],\n",
    "    'lr': [1e-3, 5e-3, 1e-4, 5e-4, 1e-5],\n",
    "    'max_epochs': [5, 10]\n",
    "}\n",
    "\n",
    "net = NeuralNetClassifier(module=WesadLSTM,\n",
    "                    train_split=None,\n",
    "                    iterator_train__batch_size=train_batch_size,\n",
    "                    iterator_valid__batch_size=val_batch_size,\n",
    "                    # max_epochs=epochs,\n",
    "                    # lr=lr,\n",
    "                    device=device,\n",
    "                    optimizer=optimizer,\n",
    "                    callbacks=[\n",
    "                              ('accuracy', skorch.callbacks.EpochScoring(scoring='accuracy', lower_is_better=False,\n",
    "                                                                         on_train=True))  \n",
    "                    ]\n",
    "                    )"
   ]
  },
  {
   "cell_type": "code",
   "execution_count": 30,
   "metadata": {
    "colab": {},
    "colab_type": "code",
    "id": "-0VugtFCQljX"
   },
   "outputs": [],
   "source": [
    "search_cv = RandomizedSearchCV(net, params, n_iter=NUM_CV_STEPS, verbose=2, refit=False, scoring='accuracy', \n",
    "                               cv=2)"
   ]
  },
  {
   "cell_type": "code",
   "execution_count": 31,
   "metadata": {
    "colab": {
     "base_uri": "https://localhost:8080/",
     "height": 1000
    },
    "colab_type": "code",
    "id": "Ez9TSieeQl77",
    "outputId": "1974a6fe-1b04-4055-8a4a-0a6735758406"
   },
   "outputs": [
    {
     "name": "stdout",
     "output_type": "stream",
     "text": [
      "Fitting 2 folds for each of 10 candidates, totalling 20 fits\n",
      "[CV] module__output_dim=3, module__lstm_layers=4, module__input_dim=77, module__hidden_dim=77, module__dropout=0.0, max_epochs=10, lr=0.001 \n"
     ]
    },
    {
     "name": "stderr",
     "output_type": "stream",
     "text": [
      "[Parallel(n_jobs=1)]: Using backend SequentialBackend with 1 concurrent workers.\n"
     ]
    },
    {
     "name": "stdout",
     "output_type": "stream",
     "text": [
      "  epoch    accuracy    train_loss      dur\n",
      "-------  ----------  ------------  -------\n",
      "      1      \u001b[36m0.7215\u001b[0m        \u001b[32m0.7908\u001b[0m  35.8401\n",
      "      2      0.6949        0.8260  35.7870\n",
      "      3      \u001b[36m0.7486\u001b[0m        \u001b[32m0.7280\u001b[0m  35.7331\n",
      "      4      \u001b[36m0.7829\u001b[0m        \u001b[32m0.6704\u001b[0m  35.8111\n",
      "      5      \u001b[36m0.7978\u001b[0m        \u001b[32m0.6454\u001b[0m  35.9507\n",
      "      6      \u001b[36m0.8131\u001b[0m        \u001b[32m0.6057\u001b[0m  36.0602\n",
      "      7      \u001b[36m0.8208\u001b[0m        \u001b[32m0.5783\u001b[0m  35.8568\n",
      "      8      \u001b[36m0.8255\u001b[0m        \u001b[32m0.5484\u001b[0m  36.0967\n",
      "      9      \u001b[36m0.8415\u001b[0m        \u001b[32m0.5012\u001b[0m  35.8221\n",
      "     10      0.7807        0.5978  36.1035\n",
      "[CV]  module__output_dim=3, module__lstm_layers=4, module__input_dim=77, module__hidden_dim=77, module__dropout=0.0, max_epochs=10, lr=0.001, total= 6.4min\n",
      "[CV] module__output_dim=3, module__lstm_layers=4, module__input_dim=77, module__hidden_dim=77, module__dropout=0.0, max_epochs=10, lr=0.001 \n"
     ]
    },
    {
     "name": "stderr",
     "output_type": "stream",
     "text": [
      "[Parallel(n_jobs=1)]: Done   1 out of   1 | elapsed:  6.4min remaining:    0.0s\n"
     ]
    },
    {
     "name": "stdout",
     "output_type": "stream",
     "text": [
      "  epoch    accuracy    train_loss      dur\n",
      "-------  ----------  ------------  -------\n",
      "      1      \u001b[36m0.7560\u001b[0m        \u001b[32m0.7513\u001b[0m  36.4822\n",
      "      2      \u001b[36m0.7675\u001b[0m        \u001b[32m0.7103\u001b[0m  36.5184\n",
      "      3      \u001b[36m0.8155\u001b[0m        \u001b[32m0.6107\u001b[0m  36.6670\n",
      "      4      0.7849        0.6693  36.6295\n",
      "      5      \u001b[36m0.8360\u001b[0m        \u001b[32m0.5401\u001b[0m  36.6003\n",
      "      6      0.8001        0.6445  36.7480\n",
      "      7      0.8217        0.5603  36.6189\n",
      "      8      \u001b[36m0.8548\u001b[0m        \u001b[32m0.4935\u001b[0m  36.6582\n",
      "      9      0.8404        \u001b[32m0.4730\u001b[0m  35.9626\n",
      "     10      0.8517        \u001b[32m0.4457\u001b[0m  35.8302\n",
      "[CV]  module__output_dim=3, module__lstm_layers=4, module__input_dim=77, module__hidden_dim=77, module__dropout=0.0, max_epochs=10, lr=0.001, total= 6.5min\n",
      "[CV] module__output_dim=3, module__lstm_layers=3, module__input_dim=77, module__hidden_dim=77, module__dropout=0.0, max_epochs=10, lr=0.0001 \n",
      "  epoch    accuracy    train_loss      dur\n",
      "-------  ----------  ------------  -------\n",
      "      1      \u001b[36m0.6706\u001b[0m        \u001b[32m0.7780\u001b[0m  27.7524\n",
      "      2      \u001b[36m0.7257\u001b[0m        \u001b[32m0.7099\u001b[0m  27.7379\n",
      "      3      \u001b[36m0.7502\u001b[0m        \u001b[32m0.6269\u001b[0m  27.7795\n",
      "      4      0.7357        0.6560  28.1195\n",
      "      5      0.6987        0.7067  28.3594\n",
      "      6      0.6906        0.7371  28.2456\n",
      "      7      0.7098        0.6956  28.3802\n",
      "      8      \u001b[36m0.7899\u001b[0m        \u001b[32m0.5730\u001b[0m  28.2946\n",
      "      9      \u001b[36m0.7950\u001b[0m        0.6077  28.2933\n",
      "     10      \u001b[36m0.8018\u001b[0m        \u001b[32m0.5556\u001b[0m  28.2654\n",
      "[CV]  module__output_dim=3, module__lstm_layers=3, module__input_dim=77, module__hidden_dim=77, module__dropout=0.0, max_epochs=10, lr=0.0001, total= 5.0min\n",
      "[CV] module__output_dim=3, module__lstm_layers=3, module__input_dim=77, module__hidden_dim=77, module__dropout=0.0, max_epochs=10, lr=0.0001 \n",
      "  epoch    accuracy    train_loss      dur\n",
      "-------  ----------  ------------  -------\n",
      "      1      \u001b[36m0.6600\u001b[0m        \u001b[32m0.8157\u001b[0m  28.3040\n",
      "      2      \u001b[36m0.7003\u001b[0m        \u001b[32m0.7255\u001b[0m  28.3173\n",
      "      3      \u001b[36m0.7243\u001b[0m        \u001b[32m0.6428\u001b[0m  28.2331\n",
      "      4      0.6740        0.7588  28.2522\n",
      "      5      0.7223        \u001b[32m0.6426\u001b[0m  28.4492\n",
      "      6      \u001b[36m0.7628\u001b[0m        \u001b[32m0.6105\u001b[0m  28.2651\n",
      "      7      0.7075        0.7498  28.3324\n",
      "      8      0.7064        0.7405  28.2151\n",
      "      9      0.7392        0.6942  28.1411\n",
      "     10      0.7301        0.7144  27.9438\n",
      "[CV]  module__output_dim=3, module__lstm_layers=3, module__input_dim=77, module__hidden_dim=77, module__dropout=0.0, max_epochs=10, lr=0.0001, total= 5.0min\n",
      "[CV] module__output_dim=3, module__lstm_layers=3, module__input_dim=77, module__hidden_dim=77, module__dropout=0.7, max_epochs=5, lr=1e-05 \n",
      "  epoch    accuracy    train_loss      dur\n",
      "-------  ----------  ------------  -------\n",
      "      1      \u001b[36m0.4461\u001b[0m        \u001b[32m1.0542\u001b[0m  37.7694\n",
      "      2      \u001b[36m0.5436\u001b[0m        \u001b[32m0.9836\u001b[0m  37.6517\n",
      "      3      \u001b[36m0.6643\u001b[0m        \u001b[32m0.8510\u001b[0m  37.3865\n",
      "      4      \u001b[36m0.7560\u001b[0m        \u001b[32m0.7190\u001b[0m  37.5119\n",
      "      5      \u001b[36m0.7730\u001b[0m        \u001b[32m0.6620\u001b[0m  37.5884\n",
      "[CV]  module__output_dim=3, module__lstm_layers=3, module__input_dim=77, module__hidden_dim=77, module__dropout=0.7, max_epochs=5, lr=1e-05, total= 3.5min\n",
      "[CV] module__output_dim=3, module__lstm_layers=3, module__input_dim=77, module__hidden_dim=77, module__dropout=0.7, max_epochs=5, lr=1e-05 \n",
      "  epoch    accuracy    train_loss      dur\n",
      "-------  ----------  ------------  -------\n",
      "      1      \u001b[36m0.4700\u001b[0m        \u001b[32m1.0526\u001b[0m  37.5623\n",
      "      2      \u001b[36m0.5371\u001b[0m        \u001b[32m1.0042\u001b[0m  37.5464\n",
      "      3      \u001b[36m0.5382\u001b[0m        \u001b[32m0.9955\u001b[0m  37.3638\n",
      "      4      \u001b[36m0.5389\u001b[0m        \u001b[32m0.9789\u001b[0m  37.5275\n",
      "      5      \u001b[36m0.6044\u001b[0m        \u001b[32m0.8840\u001b[0m  37.6425\n",
      "[CV]  module__output_dim=3, module__lstm_layers=3, module__input_dim=77, module__hidden_dim=77, module__dropout=0.7, max_epochs=5, lr=1e-05, total= 3.4min\n",
      "[CV] module__output_dim=3, module__lstm_layers=5, module__input_dim=77, module__hidden_dim=77, module__dropout=0.2, max_epochs=10, lr=1e-05 \n",
      "  epoch    accuracy    train_loss      dur\n",
      "-------  ----------  ------------  -------\n",
      "      1      \u001b[36m0.4890\u001b[0m        \u001b[32m1.0557\u001b[0m  72.9313\n",
      "      2      \u001b[36m0.5488\u001b[0m        \u001b[32m1.0047\u001b[0m  73.1283\n",
      "      3      \u001b[36m0.5506\u001b[0m        \u001b[32m0.9234\u001b[0m  73.1509\n",
      "      4      \u001b[36m0.6766\u001b[0m        \u001b[32m0.8161\u001b[0m  73.2566\n",
      "      5      \u001b[36m0.7435\u001b[0m        \u001b[32m0.7254\u001b[0m  73.3895\n",
      "      6      \u001b[36m0.7722\u001b[0m        \u001b[32m0.6858\u001b[0m  73.1358\n",
      "      7      \u001b[36m0.7834\u001b[0m        \u001b[32m0.6674\u001b[0m  73.2326\n",
      "      8      \u001b[36m0.7925\u001b[0m        \u001b[32m0.6474\u001b[0m  73.2648\n",
      "      9      \u001b[36m0.7946\u001b[0m        \u001b[32m0.6419\u001b[0m  73.0830\n",
      "     10      \u001b[36m0.7985\u001b[0m        \u001b[32m0.6314\u001b[0m  73.1610\n",
      "[CV]  module__output_dim=3, module__lstm_layers=5, module__input_dim=77, module__hidden_dim=77, module__dropout=0.2, max_epochs=10, lr=1e-05, total=12.6min\n",
      "[CV] module__output_dim=3, module__lstm_layers=5, module__input_dim=77, module__hidden_dim=77, module__dropout=0.2, max_epochs=10, lr=1e-05 \n",
      "  epoch    accuracy    train_loss      dur\n",
      "-------  ----------  ------------  -------\n",
      "      1      \u001b[36m0.4892\u001b[0m        \u001b[32m1.0505\u001b[0m  73.2278\n",
      "      2      \u001b[36m0.5488\u001b[0m        \u001b[32m1.0104\u001b[0m  73.0681\n",
      "      3      0.5488        \u001b[32m1.0018\u001b[0m  72.9076\n",
      "      4      0.5488        \u001b[32m0.9910\u001b[0m  72.7939\n",
      "      5      0.5484        \u001b[32m0.9227\u001b[0m  72.8259\n",
      "      6      \u001b[36m0.6714\u001b[0m        \u001b[32m0.8133\u001b[0m  72.9152\n",
      "      7      \u001b[36m0.7107\u001b[0m        \u001b[32m0.7655\u001b[0m  73.0554\n",
      "      8      \u001b[36m0.7384\u001b[0m        \u001b[32m0.7153\u001b[0m  72.9428\n",
      "      9      \u001b[36m0.7469\u001b[0m        \u001b[32m0.6986\u001b[0m  72.8477\n",
      "     10      \u001b[36m0.7536\u001b[0m        \u001b[32m0.6857\u001b[0m  72.8959\n",
      "[CV]  module__output_dim=3, module__lstm_layers=5, module__input_dim=77, module__hidden_dim=77, module__dropout=0.2, max_epochs=10, lr=1e-05, total=12.6min\n",
      "[CV] module__output_dim=3, module__lstm_layers=4, module__input_dim=77, module__hidden_dim=77, module__dropout=0.0, max_epochs=5, lr=0.0001 \n",
      "  epoch    accuracy    train_loss      dur\n",
      "-------  ----------  ------------  -------\n",
      "      1      \u001b[36m0.6573\u001b[0m        \u001b[32m0.8022\u001b[0m  36.2681\n",
      "      2      \u001b[36m0.7012\u001b[0m        \u001b[32m0.7249\u001b[0m  36.4183\n",
      "      3      \u001b[36m0.7399\u001b[0m        \u001b[32m0.6702\u001b[0m  36.2841\n",
      "      4      0.7064        0.7101  36.3204\n",
      "      5      0.6447        0.8354  36.2230\n",
      "[CV]  module__output_dim=3, module__lstm_layers=4, module__input_dim=77, module__hidden_dim=77, module__dropout=0.0, max_epochs=5, lr=0.0001, total= 3.4min\n",
      "[CV] module__output_dim=3, module__lstm_layers=4, module__input_dim=77, module__hidden_dim=77, module__dropout=0.0, max_epochs=5, lr=0.0001 \n",
      "  epoch    accuracy    train_loss      dur\n",
      "-------  ----------  ------------  -------\n",
      "      1      \u001b[36m0.6617\u001b[0m        \u001b[32m0.7876\u001b[0m  36.2909\n",
      "      2      \u001b[36m0.7026\u001b[0m        \u001b[32m0.7278\u001b[0m  36.2304\n",
      "      3      \u001b[36m0.7180\u001b[0m        \u001b[32m0.6808\u001b[0m  36.2916\n",
      "      4      0.6673        0.7537  36.3242\n",
      "      5      0.5997        0.9195  36.4547\n",
      "[CV]  module__output_dim=3, module__lstm_layers=4, module__input_dim=77, module__hidden_dim=77, module__dropout=0.0, max_epochs=5, lr=0.0001, total= 3.4min\n",
      "[CV] module__output_dim=3, module__lstm_layers=4, module__input_dim=77, module__hidden_dim=77, module__dropout=0.0, max_epochs=5, lr=0.005 \n",
      "  epoch    accuracy    train_loss      dur\n",
      "-------  ----------  ------------  -------\n",
      "      1      \u001b[36m0.8907\u001b[0m        \u001b[32m0.5306\u001b[0m  36.3583\n",
      "      2      \u001b[36m0.9076\u001b[0m        \u001b[32m0.4615\u001b[0m  36.3136\n",
      "      3      0.9058        \u001b[32m0.4501\u001b[0m  36.2634\n",
      "      4      \u001b[36m0.9110\u001b[0m        \u001b[32m0.4493\u001b[0m  36.2351\n",
      "      5      0.9035        0.4836  36.1840\n",
      "[CV]  module__output_dim=3, module__lstm_layers=4, module__input_dim=77, module__hidden_dim=77, module__dropout=0.0, max_epochs=5, lr=0.005, total= 3.4min\n",
      "[CV] module__output_dim=3, module__lstm_layers=4, module__input_dim=77, module__hidden_dim=77, module__dropout=0.0, max_epochs=5, lr=0.005 \n",
      "  epoch    accuracy    train_loss      dur\n",
      "-------  ----------  ------------  -------\n",
      "      1      \u001b[36m0.8889\u001b[0m        \u001b[32m0.5282\u001b[0m  36.2509\n",
      "      2      0.8887        \u001b[32m0.5188\u001b[0m  36.2819\n",
      "      3      0.8606        0.5684  36.3404\n",
      "      4      0.8731        0.5728  36.2799\n",
      "      5      \u001b[36m0.9006\u001b[0m        0.5192  36.1428\n",
      "[CV]  module__output_dim=3, module__lstm_layers=4, module__input_dim=77, module__hidden_dim=77, module__dropout=0.0, max_epochs=5, lr=0.005, total= 3.4min\n",
      "[CV] module__output_dim=3, module__lstm_layers=5, module__input_dim=77, module__hidden_dim=77, module__dropout=0.0, max_epochs=10, lr=0.0005 \n",
      "  epoch    accuracy    train_loss      dur\n",
      "-------  ----------  ------------  -------\n",
      "      1      \u001b[36m0.7430\u001b[0m        \u001b[32m0.7436\u001b[0m  44.8497\n",
      "      2      \u001b[36m0.7524\u001b[0m        \u001b[32m0.6661\u001b[0m  44.7709\n",
      "      3      0.7288        \u001b[32m0.6159\u001b[0m  44.7506\n",
      "      4      0.6963        0.7287  44.8502\n",
      "      5      0.7216        0.7039  44.9586\n",
      "      6      0.6846        0.7643  44.7701\n",
      "      7      0.7462        0.6359  44.7595\n",
      "      8      0.7056        0.6851  44.7905\n",
      "      9      0.6531        0.8091  44.8168\n",
      "     10      0.5799        0.9065  44.8436\n",
      "[CV]  module__output_dim=3, module__lstm_layers=5, module__input_dim=77, module__hidden_dim=77, module__dropout=0.0, max_epochs=10, lr=0.0005, total= 7.9min\n",
      "[CV] module__output_dim=3, module__lstm_layers=5, module__input_dim=77, module__hidden_dim=77, module__dropout=0.0, max_epochs=10, lr=0.0005 \n",
      "  epoch    accuracy    train_loss      dur\n",
      "-------  ----------  ------------  -------\n",
      "      1      \u001b[36m0.7612\u001b[0m        \u001b[32m0.7092\u001b[0m  44.8165\n",
      "      2      0.7311        \u001b[32m0.6504\u001b[0m  44.5959\n",
      "      3      0.7337        0.6543  44.6550\n",
      "      4      0.6414        0.8181  44.7810\n",
      "      5      0.7213        0.6717  44.8022\n",
      "      6      0.5791        0.9143  44.8080\n",
      "      7      0.7056        0.7120  44.8147\n",
      "      8      0.6591        0.7870  44.8487\n",
      "      9      0.5869        0.9457  44.7049\n",
      "     10      \u001b[36m0.8036\u001b[0m        \u001b[32m0.5552\u001b[0m  44.8234\n",
      "[CV]  module__output_dim=3, module__lstm_layers=5, module__input_dim=77, module__hidden_dim=77, module__dropout=0.0, max_epochs=10, lr=0.0005, total= 7.9min\n",
      "[CV] module__output_dim=3, module__lstm_layers=4, module__input_dim=77, module__hidden_dim=77, module__dropout=0.5, max_epochs=5, lr=0.0005 \n",
      "  epoch    accuracy    train_loss      dur\n",
      "-------  ----------  ------------  -------\n",
      "      1      \u001b[36m0.7236\u001b[0m        \u001b[32m0.7717\u001b[0m  53.7450\n",
      "      2      0.7219        \u001b[32m0.7338\u001b[0m  54.1532\n",
      "      3      0.6787        0.7522  54.0692\n",
      "      4      0.5949        0.9315  54.0258\n",
      "      5      0.6724        0.8390  54.2038\n",
      "[CV]  module__output_dim=3, module__lstm_layers=4, module__input_dim=77, module__hidden_dim=77, module__dropout=0.5, max_epochs=5, lr=0.0005, total= 4.8min\n",
      "[CV] module__output_dim=3, module__lstm_layers=4, module__input_dim=77, module__hidden_dim=77, module__dropout=0.5, max_epochs=5, lr=0.0005 \n",
      "  epoch    accuracy    train_loss      dur\n",
      "-------  ----------  ------------  -------\n",
      "      1      \u001b[36m0.7364\u001b[0m        \u001b[32m0.7448\u001b[0m  54.2590\n",
      "      2      0.6910        \u001b[32m0.7015\u001b[0m  54.2317\n",
      "      3      0.5509        0.9921  54.1903\n",
      "      4      0.6043        0.9251  54.3504\n",
      "      5      0.6283        0.9062  54.3862\n",
      "[CV]  module__output_dim=3, module__lstm_layers=4, module__input_dim=77, module__hidden_dim=77, module__dropout=0.5, max_epochs=5, lr=0.0005, total= 4.9min\n",
      "[CV] module__output_dim=3, module__lstm_layers=5, module__input_dim=77, module__hidden_dim=77, module__dropout=0.7, max_epochs=10, lr=0.001 \n",
      "  epoch    accuracy    train_loss      dur\n",
      "-------  ----------  ------------  -------\n",
      "      1      \u001b[36m0.7499\u001b[0m        \u001b[32m0.7504\u001b[0m  74.1137\n",
      "      2      \u001b[36m0.7512\u001b[0m        \u001b[32m0.7444\u001b[0m  73.6907\n",
      "      3      0.7483        0.7454  73.9592\n",
      "      4      \u001b[36m0.7769\u001b[0m        \u001b[32m0.7032\u001b[0m  73.9648\n",
      "      5      0.7473        0.7500  73.8826\n",
      "      6      0.7588        0.7288  73.6867\n",
      "      7      0.7282        0.7863  73.8846\n",
      "      8      0.7352        0.7681  73.8521\n",
      "      9      0.7403        0.7680  73.8242\n",
      "     10      0.7293        0.7816  73.9298\n",
      "[CV]  module__output_dim=3, module__lstm_layers=5, module__input_dim=77, module__hidden_dim=77, module__dropout=0.7, max_epochs=10, lr=0.001, total=12.7min\n",
      "[CV] module__output_dim=3, module__lstm_layers=5, module__input_dim=77, module__hidden_dim=77, module__dropout=0.7, max_epochs=10, lr=0.001 \n",
      "  epoch    accuracy    train_loss      dur\n",
      "-------  ----------  ------------  -------\n",
      "      1      \u001b[36m0.7426\u001b[0m        \u001b[32m0.7799\u001b[0m  74.2671\n",
      "      2      0.6780        0.8528  74.1960\n",
      "      3      0.7362        \u001b[32m0.7644\u001b[0m  74.1711\n",
      "      4      \u001b[36m0.7688\u001b[0m        \u001b[32m0.7175\u001b[0m  74.3752\n",
      "      5      \u001b[36m0.7721\u001b[0m        \u001b[32m0.7079\u001b[0m  74.6580\n",
      "      6      0.7559        0.7470  74.2504\n",
      "      7      0.7335        0.7773  74.3824\n",
      "      8      0.7352        0.7758  74.7545\n",
      "      9      0.7034        0.7969  74.7843\n",
      "     10      0.6891        0.8260  74.9516\n",
      "[CV]  module__output_dim=3, module__lstm_layers=5, module__input_dim=77, module__hidden_dim=77, module__dropout=0.7, max_epochs=10, lr=0.001, total=12.8min\n",
      "[CV] module__output_dim=3, module__lstm_layers=2, module__input_dim=77, module__hidden_dim=77, module__dropout=0.7, max_epochs=10, lr=0.001 \n",
      "  epoch    accuracy    train_loss      dur\n",
      "-------  ----------  ------------  -------\n",
      "      1      \u001b[36m0.7215\u001b[0m        \u001b[32m0.7966\u001b[0m  23.3395\n",
      "      2      \u001b[36m0.7284\u001b[0m        \u001b[32m0.7908\u001b[0m  23.3015\n",
      "      3      \u001b[36m0.7600\u001b[0m        \u001b[32m0.7337\u001b[0m  23.3442\n",
      "      4      \u001b[36m0.7808\u001b[0m        \u001b[32m0.6812\u001b[0m  23.2974\n",
      "      5      \u001b[36m0.7829\u001b[0m        \u001b[32m0.6442\u001b[0m  23.2741\n",
      "      6      0.7712        0.6526  23.3125\n",
      "      7      \u001b[36m0.7899\u001b[0m        \u001b[32m0.6016\u001b[0m  23.3757\n",
      "      8      0.7593        0.6632  23.3686\n",
      "      9      0.7800        0.6368  23.3271\n",
      "     10      \u001b[36m0.8331\u001b[0m        \u001b[32m0.5286\u001b[0m  23.4704\n",
      "[CV]  module__output_dim=3, module__lstm_layers=2, module__input_dim=77, module__hidden_dim=77, module__dropout=0.7, max_epochs=10, lr=0.001, total= 4.2min\n",
      "[CV] module__output_dim=3, module__lstm_layers=2, module__input_dim=77, module__hidden_dim=77, module__dropout=0.7, max_epochs=10, lr=0.001 \n",
      "  epoch    accuracy    train_loss      dur\n",
      "-------  ----------  ------------  -------\n",
      "      1      \u001b[36m0.7783\u001b[0m        \u001b[32m0.7145\u001b[0m  23.3917\n",
      "      2      0.7527        0.7365  23.3628\n",
      "      3      0.7459        0.7644  23.3357\n",
      "      4      0.7311        0.7703  23.3014\n",
      "      5      0.7458        0.7486  23.2844\n",
      "      6      0.7709        \u001b[32m0.6726\u001b[0m  23.2682\n",
      "      7      \u001b[36m0.7933\u001b[0m        \u001b[32m0.6101\u001b[0m  23.3166\n",
      "      8      \u001b[36m0.8119\u001b[0m        \u001b[32m0.5721\u001b[0m  23.3495\n",
      "      9      0.7955        0.5921  23.2691\n",
      "     10      \u001b[36m0.8144\u001b[0m        \u001b[32m0.5580\u001b[0m  23.2729\n",
      "[CV]  module__output_dim=3, module__lstm_layers=2, module__input_dim=77, module__hidden_dim=77, module__dropout=0.7, max_epochs=10, lr=0.001, total= 4.2min\n",
      "CPU times: user 1h 47min 39s, sys: 20min 2s, total: 2h 7min 42s\n",
      "Wall time: 2h 7min 59s\n"
     ]
    },
    {
     "name": "stderr",
     "output_type": "stream",
     "text": [
      "[Parallel(n_jobs=1)]: Done  20 out of  20 | elapsed: 128.0min finished\n"
     ]
    },
    {
     "data": {
      "text/plain": [
       "RandomizedSearchCV(cv=2, error_score=nan,\n",
       "                   estimator=<class 'skorch.classifier.NeuralNetClassifier'>[uninitialized](\n",
       "  module=<class '__main__.WesadLSTM'>,\n",
       "),\n",
       "                   iid='deprecated', n_iter=10, n_jobs=None,\n",
       "                   param_distributions={'lr': [0.001, 0.005, 0.0001, 0.0005,\n",
       "                                               1e-05],\n",
       "                                        'max_epochs': [5, 10],\n",
       "                                        'module__dropout': [0.0, 0.2, 0.5, 0.7],\n",
       "                                        'module__hidden_dim': [77],\n",
       "                                        'module__input_dim': [77],\n",
       "                                        'module__lstm_layers': [2, 3, 4, 5],\n",
       "                                        'module__output_dim': [3]},\n",
       "                   pre_dispatch='2*n_jobs', random_state=None, refit=False,\n",
       "                   return_train_score=False, scoring='accuracy', verbose=2)"
      ]
     },
     "execution_count": 31,
     "metadata": {
      "tags": []
     },
     "output_type": "execute_result"
    }
   ],
   "source": [
    "normalizer = MinMaxScaler()\n",
    "# data = df[df['subject'] != 'S3'].copy()\n",
    "data = df.copy()\n",
    "X = normalizer.fit_transform(data.drop(columns=['subject','label']).copy().astype(np.float32))\n",
    "y = data['label'].copy()\n",
    "%time search_cv.fit(X, y)"
   ]
  },
  {
   "cell_type": "markdown",
   "metadata": {
    "colab_type": "text",
    "id": "8BT2guko1AqC"
   },
   "source": [
    "### Cross-validation"
   ]
  },
  {
   "cell_type": "code",
   "execution_count": 32,
   "metadata": {
    "colab": {},
    "colab_type": "code",
    "id": "BOqVUnxj0fG4"
   },
   "outputs": [],
   "source": [
    "def run_cv(clf, X, y, groups, cv, scoring=['accuracy', 'f1_macro'], return_train_score=True,\n",
    "          return_estimator=True, n_jobs=-1):\n",
    "    \"\"\"\n",
    "        More on cross validation: https://scikit-learn.org/stable/modules/cross_validation.html#\n",
    "        More on scoring: https://scikit-learn.org/stable/modules/model_evaluation.html#scoring-parameter\n",
    "    \"\"\"\n",
    "    return cross_validate(clf, X, y, groups=groups, cv=cv, scoring=scoring, return_train_score=return_train_score,\n",
    "                          return_estimator=return_estimator, n_jobs=n_jobs)\n",
    "    \n"
   ]
  },
  {
   "cell_type": "code",
   "execution_count": null,
   "metadata": {
    "colab": {
     "base_uri": "https://localhost:8080/",
     "height": 85
    },
    "colab_type": "code",
    "id": "IrxC44i6-bEH",
    "outputId": "963cebee-326e-45ea-93ad-137845a2f662"
   },
   "outputs": [
    {
     "name": "stdout",
     "output_type": "stream",
     "text": [
      "data.shape: torch.Size([25, 77])\n",
      "out[0] tensor([0.3756, 0.3181, 0.3063], grad_fn=<SelectBackward>)\n",
      "softmax(out[0]): tensor([0.3476, 0.3281, 0.3243], grad_fn=<SelectBackward>)\n",
      "tensor(0)\n"
     ]
    }
   ],
   "source": [
    "# input_dim = df.drop(columns=['subject', 'label']).shape[1]\n",
    "# output_dim = 3\n",
    "# lstm_layers = 5\n",
    "# train_dl, _ = get_data_loader('S3', train_batch_size=25, val_batch_size=5)\n",
    "# model = WesadLSTM(input_dim, input_dim, output_dim, lstm_layers)\n",
    "# try_batch(model, train_dl)\n"
   ]
  },
  {
   "cell_type": "code",
   "execution_count": null,
   "metadata": {
    "colab": {},
    "colab_type": "code",
    "id": "Zh4iFCBXcXug"
   },
   "outputs": [],
   "source": [
    "# def get_losso_cv(ds, y, **fit_params):\n",
    "#     print('X', type(ds.X))\n",
    "#     print('y', type(y))\n",
    "#     print('params', fit_params)\n",
    "#     X = ds.X\n",
    "#     for subject in fit_params['subjects']:\n",
    "#         print('LOSO', subject)\n",
    "#         train = X[X['subject'] != subject].reset_index(drop=True)#.copy()\n",
    "#         train_ds = skorch.dataset.Dataset(train.drop(columns=['subject','label']).copy(), train['label'].copy())\n",
    "#         val = X[X['subject'] == subject].reset_index(drop=True)#.copy()\n",
    "#         val_ds = skorch.dataset.Dataset(val.drop(columns=['subject','label']).copy(), val['label'].copy())\n",
    "\n",
    "#         yield train_ds, val_ds"
   ]
  },
  {
   "cell_type": "code",
   "execution_count": 49,
   "metadata": {
    "colab": {},
    "colab_type": "code",
    "id": "O4BgnnIdj4-u"
   },
   "outputs": [],
   "source": [
    "optimizer = torch.optim.Adam\n",
    "loso_cv = LeaveOneGroupOut()\n",
    "epochs = 5\n",
    "lr = 1e-4\n",
    "\n",
    "subjects = df['subject'].unique()\n",
    "subjects.sort()\n",
    "device = get_default_device()\n",
    "\n",
    "train_batch_size = 25\n",
    "val_batch_size = 5\n",
    "input_dim = df.drop(columns=['subject', 'label']).shape[1]\n",
    "output_dim = 3\n",
    "lstm_layers = 4\n",
    "dropout = 0.\n",
    "\n",
    "net = NeuralNetClassifier(module=WesadLSTM,\n",
    "                    module__input_dim=input_dim,\n",
    "                    module__hidden_dim=input_dim,\n",
    "                    module__output_dim=output_dim,\n",
    "                    module__lstm_layers=lstm_layers,\n",
    "                    module__dropout=dropout,\n",
    "                    # criterion=criterion, # using NLL_Loss so model need to apply softmax manually\n",
    "                    # train_split=CVSplit(cv=get_loso_cv(subjects=subjects, to_device=False)),\n",
    "                    # train_split=get_losso_cv,\n",
    "                    train_split=None,\n",
    "                    iterator_train__batch_size=train_batch_size,\n",
    "                    iterator_valid__batch_size=val_batch_size,\n",
    "                    max_epochs=epochs,\n",
    "                    lr=lr,\n",
    "                    device=device,\n",
    "                    optimizer=optimizer,\n",
    "                    callbacks=[\n",
    "                            #    ('progress_bar', skorch.callbacks.ProgressBar()),\n",
    "                               ('f1_macro', skorch.callbacks.EpochScoring(scoring='f1_macro', lower_is_better=False,\n",
    "                                                                         on_train=True)),\n",
    "                               ('accuracy', skorch.callbacks.EpochScoring(scoring='accuracy', lower_is_better=False,\n",
    "                                                                         on_train=True)),\n",
    "                               ('accuracy_val', skorch.callbacks.EpochScoring(scoring='accuracy', lower_is_better=False,\n",
    "                                                                         on_train=False)),\n",
    "                            #    ('checkpoint', skorch.callbacks.Checkpoint(dirname='lstm_model_rs')),\n",
    "                            #    ('lr_sched', skorch.callbacks.LRScheduler()),\n",
    "\n",
    "                    ]\n",
    "                    )"
   ]
  },
  {
   "cell_type": "code",
   "execution_count": 50,
   "metadata": {
    "colab": {},
    "colab_type": "code",
    "id": "Ix4F0g54VnxF"
   },
   "outputs": [],
   "source": [
    "normalizer = MinMaxScaler()\n",
    "X = normalizer.fit_transform(df.drop(columns=['subject','label']).copy().astype(np.float32))\n",
    "y = df['label'].copy()"
   ]
  },
  {
   "cell_type": "code",
   "execution_count": 51,
   "metadata": {
    "colab": {
     "base_uri": "https://localhost:8080/",
     "height": 1000
    },
    "colab_type": "code",
    "id": "RIzkBN0nS70y",
    "outputId": "85ad7fa8-2846-4e1e-fb83-1d3631a9885d"
   },
   "outputs": [
    {
     "name": "stdout",
     "output_type": "stream",
     "text": [
      "  epoch    accuracy    f1_macro    train_loss      dur\n",
      "-------  ----------  ----------  ------------  -------\n",
      "      1      \u001b[36m0.6881\u001b[0m      \u001b[32m0.5802\u001b[0m        \u001b[35m0.7634\u001b[0m  66.0398\n",
      "      2      \u001b[36m0.7453\u001b[0m      \u001b[32m0.6450\u001b[0m        \u001b[35m0.6183\u001b[0m  65.9664\n",
      "      3      0.7189      0.6281        0.6803  65.9524\n",
      "      4      0.6606      0.5428        0.7768  65.9011\n",
      "      5      0.6465      0.5143        0.8053  66.0517\n",
      "  epoch    accuracy    f1_macro    train_loss      dur\n",
      "-------  ----------  ----------  ------------  -------\n",
      "      1      \u001b[36m0.6827\u001b[0m      \u001b[32m0.5826\u001b[0m        \u001b[35m0.7588\u001b[0m  66.0745\n",
      "      2      \u001b[36m0.7392\u001b[0m      \u001b[32m0.6307\u001b[0m        \u001b[35m0.6295\u001b[0m  66.2088\n",
      "      3      0.6890      0.5826        0.7414  66.5275\n",
      "      4      0.6489      0.5302        0.8071  66.6150\n",
      "      5      0.6341      0.5047        0.8095  66.6128\n",
      "  epoch    accuracy    f1_macro    train_loss      dur\n",
      "-------  ----------  ----------  ------------  -------\n",
      "      1      \u001b[36m0.6918\u001b[0m      \u001b[32m0.5863\u001b[0m        \u001b[35m0.7393\u001b[0m  66.6015\n",
      "      2      \u001b[36m0.7224\u001b[0m      \u001b[32m0.6146\u001b[0m        \u001b[35m0.6688\u001b[0m  66.5212\n",
      "      3      0.6505      0.5203        0.8299  66.7784\n",
      "      4      0.6466      0.5097        0.8173  66.5110\n",
      "      5      0.6251      0.4626        0.8431  66.5576\n",
      "  epoch    accuracy    f1_macro    train_loss      dur\n",
      "-------  ----------  ----------  ------------  -------\n",
      "      1      \u001b[36m0.7012\u001b[0m      \u001b[32m0.5930\u001b[0m        \u001b[35m0.7426\u001b[0m  66.3890\n",
      "      2      \u001b[36m0.7318\u001b[0m      \u001b[32m0.6116\u001b[0m        \u001b[35m0.6514\u001b[0m  66.4918\n",
      "      3      0.6748      0.5492        0.7469  66.5323\n",
      "      4      0.6285      0.4820        0.8298  66.8445\n",
      "      5      0.5917      0.4142        0.8904  66.4193\n",
      "  epoch    accuracy    f1_macro    train_loss      dur\n",
      "-------  ----------  ----------  ------------  -------\n",
      "      1      \u001b[36m0.6759\u001b[0m      \u001b[32m0.5704\u001b[0m        \u001b[35m0.7600\u001b[0m  66.5079\n",
      "      2      \u001b[36m0.7292\u001b[0m      \u001b[32m0.6024\u001b[0m        \u001b[35m0.6562\u001b[0m  66.3049\n",
      "      3      0.7279      \u001b[32m0.6319\u001b[0m        0.6706  66.2772\n",
      "      4      0.6836      0.5822        0.7375  66.5133\n",
      "      5      0.6341      0.5047        0.8272  66.3279\n",
      "  epoch    accuracy    f1_macro    train_loss      dur\n",
      "-------  ----------  ----------  ------------  -------\n",
      "      1      \u001b[36m0.7255\u001b[0m      \u001b[32m0.6381\u001b[0m        \u001b[35m0.6994\u001b[0m  66.9775\n",
      "      2      \u001b[36m0.7568\u001b[0m      \u001b[32m0.6744\u001b[0m        \u001b[35m0.6325\u001b[0m  67.2907\n",
      "      3      0.6863      0.5847        0.7281  66.6514\n",
      "      4      0.6593      0.5401        0.7804  66.8406\n",
      "      5      0.6292      0.4796        0.8384  66.8812\n"
     ]
    },
    {
     "ename": "KeyboardInterrupt",
     "evalue": "ignored",
     "output_type": "error",
     "traceback": [
      "\u001b[0;31m---------------------------------------------------------------------------\u001b[0m",
      "\u001b[0;31mKeyError\u001b[0m                                  Traceback (most recent call last)",
      "\u001b[0;32m/usr/local/lib/python3.6/dist-packages/sklearn/metrics/_scorer.py\u001b[0m in \u001b[0;36m_cached_call\u001b[0;34m(cache, estimator, method, *args, **kwargs)\u001b[0m\n\u001b[1;32m     54\u001b[0m     \u001b[0;32mtry\u001b[0m\u001b[0;34m:\u001b[0m\u001b[0;34m\u001b[0m\u001b[0;34m\u001b[0m\u001b[0m\n\u001b[0;32m---> 55\u001b[0;31m         \u001b[0;32mreturn\u001b[0m \u001b[0mcache\u001b[0m\u001b[0;34m[\u001b[0m\u001b[0mmethod\u001b[0m\u001b[0;34m]\u001b[0m\u001b[0;34m\u001b[0m\u001b[0;34m\u001b[0m\u001b[0m\n\u001b[0m\u001b[1;32m     56\u001b[0m     \u001b[0;32mexcept\u001b[0m \u001b[0mKeyError\u001b[0m\u001b[0;34m:\u001b[0m\u001b[0;34m\u001b[0m\u001b[0;34m\u001b[0m\u001b[0m\n",
      "\u001b[0;31mKeyError\u001b[0m: 'predict'",
      "\nDuring handling of the above exception, another exception occurred:\n",
      "\u001b[0;31mKeyboardInterrupt\u001b[0m                         Traceback (most recent call last)",
      "\u001b[0;32m<ipython-input-51-1913ce4fe5d1>\u001b[0m in \u001b[0;36m<module>\u001b[0;34m()\u001b[0m\n\u001b[1;32m      1\u001b[0m \u001b[0;31m# net.fit(X, y, subjects=subjects)\u001b[0m\u001b[0;34m\u001b[0m\u001b[0;34m\u001b[0m\u001b[0;34m\u001b[0m\u001b[0m\n\u001b[0;32m----> 2\u001b[0;31m \u001b[0mcv_net\u001b[0m \u001b[0;34m=\u001b[0m \u001b[0mrun_cv\u001b[0m\u001b[0;34m(\u001b[0m\u001b[0mnet\u001b[0m\u001b[0;34m,\u001b[0m \u001b[0mX\u001b[0m\u001b[0;34m,\u001b[0m \u001b[0my\u001b[0m\u001b[0;34m,\u001b[0m \u001b[0mgroups\u001b[0m\u001b[0;34m=\u001b[0m\u001b[0mdf\u001b[0m\u001b[0;34m[\u001b[0m\u001b[0;34m'subject'\u001b[0m\u001b[0;34m]\u001b[0m\u001b[0;34m,\u001b[0m \u001b[0mcv\u001b[0m\u001b[0;34m=\u001b[0m\u001b[0mLeaveOneGroupOut\u001b[0m\u001b[0;34m(\u001b[0m\u001b[0;34m)\u001b[0m\u001b[0;34m,\u001b[0m \u001b[0mn_jobs\u001b[0m\u001b[0;34m=\u001b[0m\u001b[0;36m1\u001b[0m\u001b[0;34m)\u001b[0m\u001b[0;34m\u001b[0m\u001b[0;34m\u001b[0m\u001b[0m\n\u001b[0m",
      "\u001b[0;32m<ipython-input-32-f76642911c29>\u001b[0m in \u001b[0;36mrun_cv\u001b[0;34m(clf, X, y, groups, cv, scoring, return_train_score, return_estimator, n_jobs)\u001b[0m\n\u001b[1;32m      6\u001b[0m     \"\"\"\n\u001b[1;32m      7\u001b[0m     return cross_validate(clf, X, y, groups=groups, cv=cv, scoring=scoring, return_train_score=return_train_score,\n\u001b[0;32m----> 8\u001b[0;31m                           return_estimator=return_estimator, n_jobs=n_jobs)\n\u001b[0m\u001b[1;32m      9\u001b[0m \u001b[0;34m\u001b[0m\u001b[0m\n",
      "\u001b[0;32m/usr/local/lib/python3.6/dist-packages/sklearn/model_selection/_validation.py\u001b[0m in \u001b[0;36mcross_validate\u001b[0;34m(estimator, X, y, groups, scoring, cv, n_jobs, verbose, fit_params, pre_dispatch, return_train_score, return_estimator, error_score)\u001b[0m\n\u001b[1;32m    234\u001b[0m             \u001b[0mreturn_times\u001b[0m\u001b[0;34m=\u001b[0m\u001b[0;32mTrue\u001b[0m\u001b[0;34m,\u001b[0m \u001b[0mreturn_estimator\u001b[0m\u001b[0;34m=\u001b[0m\u001b[0mreturn_estimator\u001b[0m\u001b[0;34m,\u001b[0m\u001b[0;34m\u001b[0m\u001b[0;34m\u001b[0m\u001b[0m\n\u001b[1;32m    235\u001b[0m             error_score=error_score)\n\u001b[0;32m--> 236\u001b[0;31m         for train, test in cv.split(X, y, groups))\n\u001b[0m\u001b[1;32m    237\u001b[0m \u001b[0;34m\u001b[0m\u001b[0m\n\u001b[1;32m    238\u001b[0m     \u001b[0mzipped_scores\u001b[0m \u001b[0;34m=\u001b[0m \u001b[0mlist\u001b[0m\u001b[0;34m(\u001b[0m\u001b[0mzip\u001b[0m\u001b[0;34m(\u001b[0m\u001b[0;34m*\u001b[0m\u001b[0mscores\u001b[0m\u001b[0;34m)\u001b[0m\u001b[0;34m)\u001b[0m\u001b[0;34m\u001b[0m\u001b[0;34m\u001b[0m\u001b[0m\n",
      "\u001b[0;32m/usr/local/lib/python3.6/dist-packages/joblib/parallel.py\u001b[0m in \u001b[0;36m__call__\u001b[0;34m(self, iterable)\u001b[0m\n\u001b[1;32m   1030\u001b[0m                 \u001b[0mself\u001b[0m\u001b[0;34m.\u001b[0m\u001b[0m_iterating\u001b[0m \u001b[0;34m=\u001b[0m \u001b[0mself\u001b[0m\u001b[0;34m.\u001b[0m\u001b[0m_original_iterator\u001b[0m \u001b[0;32mis\u001b[0m \u001b[0;32mnot\u001b[0m \u001b[0;32mNone\u001b[0m\u001b[0;34m\u001b[0m\u001b[0;34m\u001b[0m\u001b[0m\n\u001b[1;32m   1031\u001b[0m \u001b[0;34m\u001b[0m\u001b[0m\n\u001b[0;32m-> 1032\u001b[0;31m             \u001b[0;32mwhile\u001b[0m \u001b[0mself\u001b[0m\u001b[0;34m.\u001b[0m\u001b[0mdispatch_one_batch\u001b[0m\u001b[0;34m(\u001b[0m\u001b[0miterator\u001b[0m\u001b[0;34m)\u001b[0m\u001b[0;34m:\u001b[0m\u001b[0;34m\u001b[0m\u001b[0;34m\u001b[0m\u001b[0m\n\u001b[0m\u001b[1;32m   1033\u001b[0m                 \u001b[0;32mpass\u001b[0m\u001b[0;34m\u001b[0m\u001b[0;34m\u001b[0m\u001b[0m\n\u001b[1;32m   1034\u001b[0m \u001b[0;34m\u001b[0m\u001b[0m\n",
      "\u001b[0;32m/usr/local/lib/python3.6/dist-packages/joblib/parallel.py\u001b[0m in \u001b[0;36mdispatch_one_batch\u001b[0;34m(self, iterator)\u001b[0m\n\u001b[1;32m    845\u001b[0m                 \u001b[0;32mreturn\u001b[0m \u001b[0;32mFalse\u001b[0m\u001b[0;34m\u001b[0m\u001b[0;34m\u001b[0m\u001b[0m\n\u001b[1;32m    846\u001b[0m             \u001b[0;32melse\u001b[0m\u001b[0;34m:\u001b[0m\u001b[0;34m\u001b[0m\u001b[0;34m\u001b[0m\u001b[0m\n\u001b[0;32m--> 847\u001b[0;31m                 \u001b[0mself\u001b[0m\u001b[0;34m.\u001b[0m\u001b[0m_dispatch\u001b[0m\u001b[0;34m(\u001b[0m\u001b[0mtasks\u001b[0m\u001b[0;34m)\u001b[0m\u001b[0;34m\u001b[0m\u001b[0;34m\u001b[0m\u001b[0m\n\u001b[0m\u001b[1;32m    848\u001b[0m                 \u001b[0;32mreturn\u001b[0m \u001b[0;32mTrue\u001b[0m\u001b[0;34m\u001b[0m\u001b[0;34m\u001b[0m\u001b[0m\n\u001b[1;32m    849\u001b[0m \u001b[0;34m\u001b[0m\u001b[0m\n",
      "\u001b[0;32m/usr/local/lib/python3.6/dist-packages/joblib/parallel.py\u001b[0m in \u001b[0;36m_dispatch\u001b[0;34m(self, batch)\u001b[0m\n\u001b[1;32m    763\u001b[0m         \u001b[0;32mwith\u001b[0m \u001b[0mself\u001b[0m\u001b[0;34m.\u001b[0m\u001b[0m_lock\u001b[0m\u001b[0;34m:\u001b[0m\u001b[0;34m\u001b[0m\u001b[0;34m\u001b[0m\u001b[0m\n\u001b[1;32m    764\u001b[0m             \u001b[0mjob_idx\u001b[0m \u001b[0;34m=\u001b[0m \u001b[0mlen\u001b[0m\u001b[0;34m(\u001b[0m\u001b[0mself\u001b[0m\u001b[0;34m.\u001b[0m\u001b[0m_jobs\u001b[0m\u001b[0;34m)\u001b[0m\u001b[0;34m\u001b[0m\u001b[0;34m\u001b[0m\u001b[0m\n\u001b[0;32m--> 765\u001b[0;31m             \u001b[0mjob\u001b[0m \u001b[0;34m=\u001b[0m \u001b[0mself\u001b[0m\u001b[0;34m.\u001b[0m\u001b[0m_backend\u001b[0m\u001b[0;34m.\u001b[0m\u001b[0mapply_async\u001b[0m\u001b[0;34m(\u001b[0m\u001b[0mbatch\u001b[0m\u001b[0;34m,\u001b[0m \u001b[0mcallback\u001b[0m\u001b[0;34m=\u001b[0m\u001b[0mcb\u001b[0m\u001b[0;34m)\u001b[0m\u001b[0;34m\u001b[0m\u001b[0;34m\u001b[0m\u001b[0m\n\u001b[0m\u001b[1;32m    766\u001b[0m             \u001b[0;31m# A job can complete so quickly than its callback is\u001b[0m\u001b[0;34m\u001b[0m\u001b[0;34m\u001b[0m\u001b[0;34m\u001b[0m\u001b[0m\n\u001b[1;32m    767\u001b[0m             \u001b[0;31m# called before we get here, causing self._jobs to\u001b[0m\u001b[0;34m\u001b[0m\u001b[0;34m\u001b[0m\u001b[0;34m\u001b[0m\u001b[0m\n",
      "\u001b[0;32m/usr/local/lib/python3.6/dist-packages/joblib/_parallel_backends.py\u001b[0m in \u001b[0;36mapply_async\u001b[0;34m(self, func, callback)\u001b[0m\n\u001b[1;32m    206\u001b[0m     \u001b[0;32mdef\u001b[0m \u001b[0mapply_async\u001b[0m\u001b[0;34m(\u001b[0m\u001b[0mself\u001b[0m\u001b[0;34m,\u001b[0m \u001b[0mfunc\u001b[0m\u001b[0;34m,\u001b[0m \u001b[0mcallback\u001b[0m\u001b[0;34m=\u001b[0m\u001b[0;32mNone\u001b[0m\u001b[0;34m)\u001b[0m\u001b[0;34m:\u001b[0m\u001b[0;34m\u001b[0m\u001b[0;34m\u001b[0m\u001b[0m\n\u001b[1;32m    207\u001b[0m         \u001b[0;34m\"\"\"Schedule a func to be run\"\"\"\u001b[0m\u001b[0;34m\u001b[0m\u001b[0;34m\u001b[0m\u001b[0m\n\u001b[0;32m--> 208\u001b[0;31m         \u001b[0mresult\u001b[0m \u001b[0;34m=\u001b[0m \u001b[0mImmediateResult\u001b[0m\u001b[0;34m(\u001b[0m\u001b[0mfunc\u001b[0m\u001b[0;34m)\u001b[0m\u001b[0;34m\u001b[0m\u001b[0;34m\u001b[0m\u001b[0m\n\u001b[0m\u001b[1;32m    209\u001b[0m         \u001b[0;32mif\u001b[0m \u001b[0mcallback\u001b[0m\u001b[0;34m:\u001b[0m\u001b[0;34m\u001b[0m\u001b[0;34m\u001b[0m\u001b[0m\n\u001b[1;32m    210\u001b[0m             \u001b[0mcallback\u001b[0m\u001b[0;34m(\u001b[0m\u001b[0mresult\u001b[0m\u001b[0;34m)\u001b[0m\u001b[0;34m\u001b[0m\u001b[0;34m\u001b[0m\u001b[0m\n",
      "\u001b[0;32m/usr/local/lib/python3.6/dist-packages/joblib/_parallel_backends.py\u001b[0m in \u001b[0;36m__init__\u001b[0;34m(self, batch)\u001b[0m\n\u001b[1;32m    570\u001b[0m         \u001b[0;31m# Don't delay the application, to avoid keeping the input\u001b[0m\u001b[0;34m\u001b[0m\u001b[0;34m\u001b[0m\u001b[0;34m\u001b[0m\u001b[0m\n\u001b[1;32m    571\u001b[0m         \u001b[0;31m# arguments in memory\u001b[0m\u001b[0;34m\u001b[0m\u001b[0;34m\u001b[0m\u001b[0;34m\u001b[0m\u001b[0m\n\u001b[0;32m--> 572\u001b[0;31m         \u001b[0mself\u001b[0m\u001b[0;34m.\u001b[0m\u001b[0mresults\u001b[0m \u001b[0;34m=\u001b[0m \u001b[0mbatch\u001b[0m\u001b[0;34m(\u001b[0m\u001b[0;34m)\u001b[0m\u001b[0;34m\u001b[0m\u001b[0;34m\u001b[0m\u001b[0m\n\u001b[0m\u001b[1;32m    573\u001b[0m \u001b[0;34m\u001b[0m\u001b[0m\n\u001b[1;32m    574\u001b[0m     \u001b[0;32mdef\u001b[0m \u001b[0mget\u001b[0m\u001b[0;34m(\u001b[0m\u001b[0mself\u001b[0m\u001b[0;34m)\u001b[0m\u001b[0;34m:\u001b[0m\u001b[0;34m\u001b[0m\u001b[0;34m\u001b[0m\u001b[0m\n",
      "\u001b[0;32m/usr/local/lib/python3.6/dist-packages/joblib/parallel.py\u001b[0m in \u001b[0;36m__call__\u001b[0;34m(self)\u001b[0m\n\u001b[1;32m    251\u001b[0m         \u001b[0;32mwith\u001b[0m \u001b[0mparallel_backend\u001b[0m\u001b[0;34m(\u001b[0m\u001b[0mself\u001b[0m\u001b[0;34m.\u001b[0m\u001b[0m_backend\u001b[0m\u001b[0;34m,\u001b[0m \u001b[0mn_jobs\u001b[0m\u001b[0;34m=\u001b[0m\u001b[0mself\u001b[0m\u001b[0;34m.\u001b[0m\u001b[0m_n_jobs\u001b[0m\u001b[0;34m)\u001b[0m\u001b[0;34m:\u001b[0m\u001b[0;34m\u001b[0m\u001b[0;34m\u001b[0m\u001b[0m\n\u001b[1;32m    252\u001b[0m             return [func(*args, **kwargs)\n\u001b[0;32m--> 253\u001b[0;31m                     for func, args, kwargs in self.items]\n\u001b[0m\u001b[1;32m    254\u001b[0m \u001b[0;34m\u001b[0m\u001b[0m\n\u001b[1;32m    255\u001b[0m     \u001b[0;32mdef\u001b[0m \u001b[0m__reduce__\u001b[0m\u001b[0;34m(\u001b[0m\u001b[0mself\u001b[0m\u001b[0;34m)\u001b[0m\u001b[0;34m:\u001b[0m\u001b[0;34m\u001b[0m\u001b[0;34m\u001b[0m\u001b[0m\n",
      "\u001b[0;32m/usr/local/lib/python3.6/dist-packages/joblib/parallel.py\u001b[0m in \u001b[0;36m<listcomp>\u001b[0;34m(.0)\u001b[0m\n\u001b[1;32m    251\u001b[0m         \u001b[0;32mwith\u001b[0m \u001b[0mparallel_backend\u001b[0m\u001b[0;34m(\u001b[0m\u001b[0mself\u001b[0m\u001b[0;34m.\u001b[0m\u001b[0m_backend\u001b[0m\u001b[0;34m,\u001b[0m \u001b[0mn_jobs\u001b[0m\u001b[0;34m=\u001b[0m\u001b[0mself\u001b[0m\u001b[0;34m.\u001b[0m\u001b[0m_n_jobs\u001b[0m\u001b[0;34m)\u001b[0m\u001b[0;34m:\u001b[0m\u001b[0;34m\u001b[0m\u001b[0;34m\u001b[0m\u001b[0m\n\u001b[1;32m    252\u001b[0m             return [func(*args, **kwargs)\n\u001b[0;32m--> 253\u001b[0;31m                     for func, args, kwargs in self.items]\n\u001b[0m\u001b[1;32m    254\u001b[0m \u001b[0;34m\u001b[0m\u001b[0m\n\u001b[1;32m    255\u001b[0m     \u001b[0;32mdef\u001b[0m \u001b[0m__reduce__\u001b[0m\u001b[0;34m(\u001b[0m\u001b[0mself\u001b[0m\u001b[0;34m)\u001b[0m\u001b[0;34m:\u001b[0m\u001b[0;34m\u001b[0m\u001b[0;34m\u001b[0m\u001b[0m\n",
      "\u001b[0;32m/usr/local/lib/python3.6/dist-packages/sklearn/model_selection/_validation.py\u001b[0m in \u001b[0;36m_fit_and_score\u001b[0;34m(estimator, X, y, scorer, train, test, verbose, parameters, fit_params, return_train_score, return_parameters, return_n_test_samples, return_times, return_estimator, error_score)\u001b[0m\n\u001b[1;32m    545\u001b[0m         \u001b[0mscore_time\u001b[0m \u001b[0;34m=\u001b[0m \u001b[0mtime\u001b[0m\u001b[0;34m.\u001b[0m\u001b[0mtime\u001b[0m\u001b[0;34m(\u001b[0m\u001b[0;34m)\u001b[0m \u001b[0;34m-\u001b[0m \u001b[0mstart_time\u001b[0m \u001b[0;34m-\u001b[0m \u001b[0mfit_time\u001b[0m\u001b[0;34m\u001b[0m\u001b[0;34m\u001b[0m\u001b[0m\n\u001b[1;32m    546\u001b[0m         \u001b[0;32mif\u001b[0m \u001b[0mreturn_train_score\u001b[0m\u001b[0;34m:\u001b[0m\u001b[0;34m\u001b[0m\u001b[0;34m\u001b[0m\u001b[0m\n\u001b[0;32m--> 547\u001b[0;31m             \u001b[0mtrain_scores\u001b[0m \u001b[0;34m=\u001b[0m \u001b[0m_score\u001b[0m\u001b[0;34m(\u001b[0m\u001b[0mestimator\u001b[0m\u001b[0;34m,\u001b[0m \u001b[0mX_train\u001b[0m\u001b[0;34m,\u001b[0m \u001b[0my_train\u001b[0m\u001b[0;34m,\u001b[0m \u001b[0mscorer\u001b[0m\u001b[0;34m)\u001b[0m\u001b[0;34m\u001b[0m\u001b[0;34m\u001b[0m\u001b[0m\n\u001b[0m\u001b[1;32m    548\u001b[0m     \u001b[0;32mif\u001b[0m \u001b[0mverbose\u001b[0m \u001b[0;34m>\u001b[0m \u001b[0;36m2\u001b[0m\u001b[0;34m:\u001b[0m\u001b[0;34m\u001b[0m\u001b[0;34m\u001b[0m\u001b[0m\n\u001b[1;32m    549\u001b[0m         \u001b[0;32mif\u001b[0m \u001b[0misinstance\u001b[0m\u001b[0;34m(\u001b[0m\u001b[0mtest_scores\u001b[0m\u001b[0;34m,\u001b[0m \u001b[0mdict\u001b[0m\u001b[0;34m)\u001b[0m\u001b[0;34m:\u001b[0m\u001b[0;34m\u001b[0m\u001b[0;34m\u001b[0m\u001b[0m\n",
      "\u001b[0;32m/usr/local/lib/python3.6/dist-packages/sklearn/model_selection/_validation.py\u001b[0m in \u001b[0;36m_score\u001b[0;34m(estimator, X_test, y_test, scorer)\u001b[0m\n\u001b[1;32m    589\u001b[0m         \u001b[0mscores\u001b[0m \u001b[0;34m=\u001b[0m \u001b[0mscorer\u001b[0m\u001b[0;34m(\u001b[0m\u001b[0mestimator\u001b[0m\u001b[0;34m,\u001b[0m \u001b[0mX_test\u001b[0m\u001b[0;34m)\u001b[0m\u001b[0;34m\u001b[0m\u001b[0;34m\u001b[0m\u001b[0m\n\u001b[1;32m    590\u001b[0m     \u001b[0;32melse\u001b[0m\u001b[0;34m:\u001b[0m\u001b[0;34m\u001b[0m\u001b[0;34m\u001b[0m\u001b[0m\n\u001b[0;32m--> 591\u001b[0;31m         \u001b[0mscores\u001b[0m \u001b[0;34m=\u001b[0m \u001b[0mscorer\u001b[0m\u001b[0;34m(\u001b[0m\u001b[0mestimator\u001b[0m\u001b[0;34m,\u001b[0m \u001b[0mX_test\u001b[0m\u001b[0;34m,\u001b[0m \u001b[0my_test\u001b[0m\u001b[0;34m)\u001b[0m\u001b[0;34m\u001b[0m\u001b[0;34m\u001b[0m\u001b[0m\n\u001b[0m\u001b[1;32m    592\u001b[0m \u001b[0;34m\u001b[0m\u001b[0m\n\u001b[1;32m    593\u001b[0m     error_msg = (\"scoring must return a number, got %s (%s) \"\n",
      "\u001b[0;32m/usr/local/lib/python3.6/dist-packages/sklearn/metrics/_scorer.py\u001b[0m in \u001b[0;36m__call__\u001b[0;34m(self, estimator, *args, **kwargs)\u001b[0m\n\u001b[1;32m     85\u001b[0m             \u001b[0;32mif\u001b[0m \u001b[0misinstance\u001b[0m\u001b[0;34m(\u001b[0m\u001b[0mscorer\u001b[0m\u001b[0;34m,\u001b[0m \u001b[0m_BaseScorer\u001b[0m\u001b[0;34m)\u001b[0m\u001b[0;34m:\u001b[0m\u001b[0;34m\u001b[0m\u001b[0;34m\u001b[0m\u001b[0m\n\u001b[1;32m     86\u001b[0m                 score = scorer._score(cached_call, estimator,\n\u001b[0;32m---> 87\u001b[0;31m                                       *args, **kwargs)\n\u001b[0m\u001b[1;32m     88\u001b[0m             \u001b[0;32melse\u001b[0m\u001b[0;34m:\u001b[0m\u001b[0;34m\u001b[0m\u001b[0;34m\u001b[0m\u001b[0m\n\u001b[1;32m     89\u001b[0m                 \u001b[0mscore\u001b[0m \u001b[0;34m=\u001b[0m \u001b[0mscorer\u001b[0m\u001b[0;34m(\u001b[0m\u001b[0mestimator\u001b[0m\u001b[0;34m,\u001b[0m \u001b[0;34m*\u001b[0m\u001b[0margs\u001b[0m\u001b[0;34m,\u001b[0m \u001b[0;34m**\u001b[0m\u001b[0mkwargs\u001b[0m\u001b[0;34m)\u001b[0m\u001b[0;34m\u001b[0m\u001b[0;34m\u001b[0m\u001b[0m\n",
      "\u001b[0;32m/usr/local/lib/python3.6/dist-packages/sklearn/metrics/_scorer.py\u001b[0m in \u001b[0;36m_score\u001b[0;34m(self, method_caller, estimator, X, y_true, sample_weight)\u001b[0m\n\u001b[1;32m    203\u001b[0m         \"\"\"\n\u001b[1;32m    204\u001b[0m \u001b[0;34m\u001b[0m\u001b[0m\n\u001b[0;32m--> 205\u001b[0;31m         \u001b[0my_pred\u001b[0m \u001b[0;34m=\u001b[0m \u001b[0mmethod_caller\u001b[0m\u001b[0;34m(\u001b[0m\u001b[0mestimator\u001b[0m\u001b[0;34m,\u001b[0m \u001b[0;34m\"predict\"\u001b[0m\u001b[0;34m,\u001b[0m \u001b[0mX\u001b[0m\u001b[0;34m)\u001b[0m\u001b[0;34m\u001b[0m\u001b[0;34m\u001b[0m\u001b[0m\n\u001b[0m\u001b[1;32m    206\u001b[0m         \u001b[0;32mif\u001b[0m \u001b[0msample_weight\u001b[0m \u001b[0;32mis\u001b[0m \u001b[0;32mnot\u001b[0m \u001b[0;32mNone\u001b[0m\u001b[0;34m:\u001b[0m\u001b[0;34m\u001b[0m\u001b[0;34m\u001b[0m\u001b[0m\n\u001b[1;32m    207\u001b[0m             return self._sign * self._score_func(y_true, y_pred,\n",
      "\u001b[0;32m/usr/local/lib/python3.6/dist-packages/sklearn/metrics/_scorer.py\u001b[0m in \u001b[0;36m_cached_call\u001b[0;34m(cache, estimator, method, *args, **kwargs)\u001b[0m\n\u001b[1;32m     55\u001b[0m         \u001b[0;32mreturn\u001b[0m \u001b[0mcache\u001b[0m\u001b[0;34m[\u001b[0m\u001b[0mmethod\u001b[0m\u001b[0;34m]\u001b[0m\u001b[0;34m\u001b[0m\u001b[0;34m\u001b[0m\u001b[0m\n\u001b[1;32m     56\u001b[0m     \u001b[0;32mexcept\u001b[0m \u001b[0mKeyError\u001b[0m\u001b[0;34m:\u001b[0m\u001b[0;34m\u001b[0m\u001b[0;34m\u001b[0m\u001b[0m\n\u001b[0;32m---> 57\u001b[0;31m         \u001b[0mresult\u001b[0m \u001b[0;34m=\u001b[0m \u001b[0mgetattr\u001b[0m\u001b[0;34m(\u001b[0m\u001b[0mestimator\u001b[0m\u001b[0;34m,\u001b[0m \u001b[0mmethod\u001b[0m\u001b[0;34m)\u001b[0m\u001b[0;34m(\u001b[0m\u001b[0;34m*\u001b[0m\u001b[0margs\u001b[0m\u001b[0;34m,\u001b[0m \u001b[0;34m**\u001b[0m\u001b[0mkwargs\u001b[0m\u001b[0;34m)\u001b[0m\u001b[0;34m\u001b[0m\u001b[0;34m\u001b[0m\u001b[0m\n\u001b[0m\u001b[1;32m     58\u001b[0m         \u001b[0mcache\u001b[0m\u001b[0;34m[\u001b[0m\u001b[0mmethod\u001b[0m\u001b[0;34m]\u001b[0m \u001b[0;34m=\u001b[0m \u001b[0mresult\u001b[0m\u001b[0;34m\u001b[0m\u001b[0;34m\u001b[0m\u001b[0m\n\u001b[1;32m     59\u001b[0m         \u001b[0;32mreturn\u001b[0m \u001b[0mresult\u001b[0m\u001b[0;34m\u001b[0m\u001b[0;34m\u001b[0m\u001b[0m\n",
      "\u001b[0;32m/usr/local/lib/python3.6/dist-packages/skorch/classifier.py\u001b[0m in \u001b[0;36mpredict\u001b[0;34m(self, X)\u001b[0m\n\u001b[1;32m    208\u001b[0m         \"\"\"\n\u001b[1;32m    209\u001b[0m         \u001b[0my_preds\u001b[0m \u001b[0;34m=\u001b[0m \u001b[0;34m[\u001b[0m\u001b[0;34m]\u001b[0m\u001b[0;34m\u001b[0m\u001b[0;34m\u001b[0m\u001b[0m\n\u001b[0;32m--> 210\u001b[0;31m         \u001b[0;32mfor\u001b[0m \u001b[0myp\u001b[0m \u001b[0;32min\u001b[0m \u001b[0mself\u001b[0m\u001b[0;34m.\u001b[0m\u001b[0mforward_iter\u001b[0m\u001b[0;34m(\u001b[0m\u001b[0mX\u001b[0m\u001b[0;34m,\u001b[0m \u001b[0mtraining\u001b[0m\u001b[0;34m=\u001b[0m\u001b[0;32mFalse\u001b[0m\u001b[0;34m)\u001b[0m\u001b[0;34m:\u001b[0m\u001b[0;34m\u001b[0m\u001b[0;34m\u001b[0m\u001b[0m\n\u001b[0m\u001b[1;32m    211\u001b[0m             \u001b[0myp\u001b[0m \u001b[0;34m=\u001b[0m \u001b[0myp\u001b[0m\u001b[0;34m[\u001b[0m\u001b[0;36m0\u001b[0m\u001b[0;34m]\u001b[0m \u001b[0;32mif\u001b[0m \u001b[0misinstance\u001b[0m\u001b[0;34m(\u001b[0m\u001b[0myp\u001b[0m\u001b[0;34m,\u001b[0m \u001b[0mtuple\u001b[0m\u001b[0;34m)\u001b[0m \u001b[0;32melse\u001b[0m \u001b[0myp\u001b[0m\u001b[0;34m\u001b[0m\u001b[0;34m\u001b[0m\u001b[0m\n\u001b[1;32m    212\u001b[0m             \u001b[0my_preds\u001b[0m\u001b[0;34m.\u001b[0m\u001b[0mappend\u001b[0m\u001b[0;34m(\u001b[0m\u001b[0mto_numpy\u001b[0m\u001b[0;34m(\u001b[0m\u001b[0myp\u001b[0m\u001b[0;34m.\u001b[0m\u001b[0mmax\u001b[0m\u001b[0;34m(\u001b[0m\u001b[0;34m-\u001b[0m\u001b[0;36m1\u001b[0m\u001b[0;34m)\u001b[0m\u001b[0;34m[\u001b[0m\u001b[0;34m-\u001b[0m\u001b[0;36m1\u001b[0m\u001b[0;34m]\u001b[0m\u001b[0;34m)\u001b[0m\u001b[0;34m)\u001b[0m\u001b[0;34m\u001b[0m\u001b[0;34m\u001b[0m\u001b[0m\n",
      "\u001b[0;32m/usr/local/lib/python3.6/dist-packages/skorch/net.py\u001b[0m in \u001b[0;36mforward_iter\u001b[0;34m(self, X, training, device)\u001b[0m\n\u001b[1;32m    915\u001b[0m         \u001b[0mdataset\u001b[0m \u001b[0;34m=\u001b[0m \u001b[0mself\u001b[0m\u001b[0;34m.\u001b[0m\u001b[0mget_dataset\u001b[0m\u001b[0;34m(\u001b[0m\u001b[0mX\u001b[0m\u001b[0;34m)\u001b[0m\u001b[0;34m\u001b[0m\u001b[0;34m\u001b[0m\u001b[0m\n\u001b[1;32m    916\u001b[0m         \u001b[0miterator\u001b[0m \u001b[0;34m=\u001b[0m \u001b[0mself\u001b[0m\u001b[0;34m.\u001b[0m\u001b[0mget_iterator\u001b[0m\u001b[0;34m(\u001b[0m\u001b[0mdataset\u001b[0m\u001b[0;34m,\u001b[0m \u001b[0mtraining\u001b[0m\u001b[0;34m=\u001b[0m\u001b[0mtraining\u001b[0m\u001b[0;34m)\u001b[0m\u001b[0;34m\u001b[0m\u001b[0;34m\u001b[0m\u001b[0m\n\u001b[0;32m--> 917\u001b[0;31m         \u001b[0;32mfor\u001b[0m \u001b[0mdata\u001b[0m \u001b[0;32min\u001b[0m \u001b[0miterator\u001b[0m\u001b[0;34m:\u001b[0m\u001b[0;34m\u001b[0m\u001b[0;34m\u001b[0m\u001b[0m\n\u001b[0m\u001b[1;32m    918\u001b[0m             \u001b[0mXi\u001b[0m \u001b[0;34m=\u001b[0m \u001b[0munpack_data\u001b[0m\u001b[0;34m(\u001b[0m\u001b[0mdata\u001b[0m\u001b[0;34m)\u001b[0m\u001b[0;34m[\u001b[0m\u001b[0;36m0\u001b[0m\u001b[0;34m]\u001b[0m\u001b[0;34m\u001b[0m\u001b[0;34m\u001b[0m\u001b[0m\n\u001b[1;32m    919\u001b[0m             \u001b[0myp\u001b[0m \u001b[0;34m=\u001b[0m \u001b[0mself\u001b[0m\u001b[0;34m.\u001b[0m\u001b[0mevaluation_step\u001b[0m\u001b[0;34m(\u001b[0m\u001b[0mXi\u001b[0m\u001b[0;34m,\u001b[0m \u001b[0mtraining\u001b[0m\u001b[0;34m=\u001b[0m\u001b[0mtraining\u001b[0m\u001b[0;34m)\u001b[0m\u001b[0;34m\u001b[0m\u001b[0;34m\u001b[0m\u001b[0m\n",
      "\u001b[0;32m/usr/local/lib/python3.6/dist-packages/torch/utils/data/dataloader.py\u001b[0m in \u001b[0;36m__next__\u001b[0;34m(self)\u001b[0m\n\u001b[1;32m    343\u001b[0m \u001b[0;34m\u001b[0m\u001b[0m\n\u001b[1;32m    344\u001b[0m     \u001b[0;32mdef\u001b[0m \u001b[0m__next__\u001b[0m\u001b[0;34m(\u001b[0m\u001b[0mself\u001b[0m\u001b[0;34m)\u001b[0m\u001b[0;34m:\u001b[0m\u001b[0;34m\u001b[0m\u001b[0;34m\u001b[0m\u001b[0m\n\u001b[0;32m--> 345\u001b[0;31m         \u001b[0mdata\u001b[0m \u001b[0;34m=\u001b[0m \u001b[0mself\u001b[0m\u001b[0;34m.\u001b[0m\u001b[0m_next_data\u001b[0m\u001b[0;34m(\u001b[0m\u001b[0;34m)\u001b[0m\u001b[0;34m\u001b[0m\u001b[0;34m\u001b[0m\u001b[0m\n\u001b[0m\u001b[1;32m    346\u001b[0m         \u001b[0mself\u001b[0m\u001b[0;34m.\u001b[0m\u001b[0m_num_yielded\u001b[0m \u001b[0;34m+=\u001b[0m \u001b[0;36m1\u001b[0m\u001b[0;34m\u001b[0m\u001b[0;34m\u001b[0m\u001b[0m\n\u001b[1;32m    347\u001b[0m         \u001b[0;32mif\u001b[0m \u001b[0mself\u001b[0m\u001b[0;34m.\u001b[0m\u001b[0m_dataset_kind\u001b[0m \u001b[0;34m==\u001b[0m \u001b[0m_DatasetKind\u001b[0m\u001b[0;34m.\u001b[0m\u001b[0mIterable\u001b[0m \u001b[0;32mand\u001b[0m\u001b[0;31m \u001b[0m\u001b[0;31m\\\u001b[0m\u001b[0;34m\u001b[0m\u001b[0;34m\u001b[0m\u001b[0m\n",
      "\u001b[0;32m/usr/local/lib/python3.6/dist-packages/torch/utils/data/dataloader.py\u001b[0m in \u001b[0;36m_next_data\u001b[0;34m(self)\u001b[0m\n\u001b[1;32m    383\u001b[0m     \u001b[0;32mdef\u001b[0m \u001b[0m_next_data\u001b[0m\u001b[0;34m(\u001b[0m\u001b[0mself\u001b[0m\u001b[0;34m)\u001b[0m\u001b[0;34m:\u001b[0m\u001b[0;34m\u001b[0m\u001b[0;34m\u001b[0m\u001b[0m\n\u001b[1;32m    384\u001b[0m         \u001b[0mindex\u001b[0m \u001b[0;34m=\u001b[0m \u001b[0mself\u001b[0m\u001b[0;34m.\u001b[0m\u001b[0m_next_index\u001b[0m\u001b[0;34m(\u001b[0m\u001b[0;34m)\u001b[0m  \u001b[0;31m# may raise StopIteration\u001b[0m\u001b[0;34m\u001b[0m\u001b[0;34m\u001b[0m\u001b[0m\n\u001b[0;32m--> 385\u001b[0;31m         \u001b[0mdata\u001b[0m \u001b[0;34m=\u001b[0m \u001b[0mself\u001b[0m\u001b[0;34m.\u001b[0m\u001b[0m_dataset_fetcher\u001b[0m\u001b[0;34m.\u001b[0m\u001b[0mfetch\u001b[0m\u001b[0;34m(\u001b[0m\u001b[0mindex\u001b[0m\u001b[0;34m)\u001b[0m  \u001b[0;31m# may raise StopIteration\u001b[0m\u001b[0;34m\u001b[0m\u001b[0;34m\u001b[0m\u001b[0m\n\u001b[0m\u001b[1;32m    386\u001b[0m         \u001b[0;32mif\u001b[0m \u001b[0mself\u001b[0m\u001b[0;34m.\u001b[0m\u001b[0m_pin_memory\u001b[0m\u001b[0;34m:\u001b[0m\u001b[0;34m\u001b[0m\u001b[0;34m\u001b[0m\u001b[0m\n\u001b[1;32m    387\u001b[0m             \u001b[0mdata\u001b[0m \u001b[0;34m=\u001b[0m \u001b[0m_utils\u001b[0m\u001b[0;34m.\u001b[0m\u001b[0mpin_memory\u001b[0m\u001b[0;34m.\u001b[0m\u001b[0mpin_memory\u001b[0m\u001b[0;34m(\u001b[0m\u001b[0mdata\u001b[0m\u001b[0;34m)\u001b[0m\u001b[0;34m\u001b[0m\u001b[0;34m\u001b[0m\u001b[0m\n",
      "\u001b[0;32m/usr/local/lib/python3.6/dist-packages/torch/utils/data/_utils/fetch.py\u001b[0m in \u001b[0;36mfetch\u001b[0;34m(self, possibly_batched_index)\u001b[0m\n\u001b[1;32m     42\u001b[0m     \u001b[0;32mdef\u001b[0m \u001b[0mfetch\u001b[0m\u001b[0;34m(\u001b[0m\u001b[0mself\u001b[0m\u001b[0;34m,\u001b[0m \u001b[0mpossibly_batched_index\u001b[0m\u001b[0;34m)\u001b[0m\u001b[0;34m:\u001b[0m\u001b[0;34m\u001b[0m\u001b[0;34m\u001b[0m\u001b[0m\n\u001b[1;32m     43\u001b[0m         \u001b[0;32mif\u001b[0m \u001b[0mself\u001b[0m\u001b[0;34m.\u001b[0m\u001b[0mauto_collation\u001b[0m\u001b[0;34m:\u001b[0m\u001b[0;34m\u001b[0m\u001b[0;34m\u001b[0m\u001b[0m\n\u001b[0;32m---> 44\u001b[0;31m             \u001b[0mdata\u001b[0m \u001b[0;34m=\u001b[0m \u001b[0;34m[\u001b[0m\u001b[0mself\u001b[0m\u001b[0;34m.\u001b[0m\u001b[0mdataset\u001b[0m\u001b[0;34m[\u001b[0m\u001b[0midx\u001b[0m\u001b[0;34m]\u001b[0m \u001b[0;32mfor\u001b[0m \u001b[0midx\u001b[0m \u001b[0;32min\u001b[0m \u001b[0mpossibly_batched_index\u001b[0m\u001b[0;34m]\u001b[0m\u001b[0;34m\u001b[0m\u001b[0;34m\u001b[0m\u001b[0m\n\u001b[0m\u001b[1;32m     45\u001b[0m         \u001b[0;32melse\u001b[0m\u001b[0;34m:\u001b[0m\u001b[0;34m\u001b[0m\u001b[0;34m\u001b[0m\u001b[0m\n\u001b[1;32m     46\u001b[0m             \u001b[0mdata\u001b[0m \u001b[0;34m=\u001b[0m \u001b[0mself\u001b[0m\u001b[0;34m.\u001b[0m\u001b[0mdataset\u001b[0m\u001b[0;34m[\u001b[0m\u001b[0mpossibly_batched_index\u001b[0m\u001b[0;34m]\u001b[0m\u001b[0;34m\u001b[0m\u001b[0;34m\u001b[0m\u001b[0m\n",
      "\u001b[0;32m/usr/local/lib/python3.6/dist-packages/torch/utils/data/_utils/fetch.py\u001b[0m in \u001b[0;36m<listcomp>\u001b[0;34m(.0)\u001b[0m\n\u001b[1;32m     42\u001b[0m     \u001b[0;32mdef\u001b[0m \u001b[0mfetch\u001b[0m\u001b[0;34m(\u001b[0m\u001b[0mself\u001b[0m\u001b[0;34m,\u001b[0m \u001b[0mpossibly_batched_index\u001b[0m\u001b[0;34m)\u001b[0m\u001b[0;34m:\u001b[0m\u001b[0;34m\u001b[0m\u001b[0;34m\u001b[0m\u001b[0m\n\u001b[1;32m     43\u001b[0m         \u001b[0;32mif\u001b[0m \u001b[0mself\u001b[0m\u001b[0;34m.\u001b[0m\u001b[0mauto_collation\u001b[0m\u001b[0;34m:\u001b[0m\u001b[0;34m\u001b[0m\u001b[0;34m\u001b[0m\u001b[0m\n\u001b[0;32m---> 44\u001b[0;31m             \u001b[0mdata\u001b[0m \u001b[0;34m=\u001b[0m \u001b[0;34m[\u001b[0m\u001b[0mself\u001b[0m\u001b[0;34m.\u001b[0m\u001b[0mdataset\u001b[0m\u001b[0;34m[\u001b[0m\u001b[0midx\u001b[0m\u001b[0;34m]\u001b[0m \u001b[0;32mfor\u001b[0m \u001b[0midx\u001b[0m \u001b[0;32min\u001b[0m \u001b[0mpossibly_batched_index\u001b[0m\u001b[0;34m]\u001b[0m\u001b[0;34m\u001b[0m\u001b[0;34m\u001b[0m\u001b[0m\n\u001b[0m\u001b[1;32m     45\u001b[0m         \u001b[0;32melse\u001b[0m\u001b[0;34m:\u001b[0m\u001b[0;34m\u001b[0m\u001b[0;34m\u001b[0m\u001b[0m\n\u001b[1;32m     46\u001b[0m             \u001b[0mdata\u001b[0m \u001b[0;34m=\u001b[0m \u001b[0mself\u001b[0m\u001b[0;34m.\u001b[0m\u001b[0mdataset\u001b[0m\u001b[0;34m[\u001b[0m\u001b[0mpossibly_batched_index\u001b[0m\u001b[0;34m]\u001b[0m\u001b[0;34m\u001b[0m\u001b[0;34m\u001b[0m\u001b[0m\n",
      "\u001b[0;32m/usr/local/lib/python3.6/dist-packages/skorch/dataset.py\u001b[0m in \u001b[0;36m__getitem__\u001b[0;34m(self, i)\u001b[0m\n\u001b[1;32m    207\u001b[0m         \u001b[0mXi\u001b[0m \u001b[0;34m=\u001b[0m \u001b[0mmulti_indexing\u001b[0m\u001b[0;34m(\u001b[0m\u001b[0mX\u001b[0m\u001b[0;34m,\u001b[0m \u001b[0mi\u001b[0m\u001b[0;34m,\u001b[0m \u001b[0mself\u001b[0m\u001b[0;34m.\u001b[0m\u001b[0mX_indexing\u001b[0m\u001b[0;34m)\u001b[0m\u001b[0;34m\u001b[0m\u001b[0;34m\u001b[0m\u001b[0m\n\u001b[1;32m    208\u001b[0m         \u001b[0myi\u001b[0m \u001b[0;34m=\u001b[0m \u001b[0mmulti_indexing\u001b[0m\u001b[0;34m(\u001b[0m\u001b[0my\u001b[0m\u001b[0;34m,\u001b[0m \u001b[0mi\u001b[0m\u001b[0;34m,\u001b[0m \u001b[0mself\u001b[0m\u001b[0;34m.\u001b[0m\u001b[0my_indexing\u001b[0m\u001b[0;34m)\u001b[0m\u001b[0;34m\u001b[0m\u001b[0;34m\u001b[0m\u001b[0m\n\u001b[0;32m--> 209\u001b[0;31m         \u001b[0;32mreturn\u001b[0m \u001b[0mself\u001b[0m\u001b[0;34m.\u001b[0m\u001b[0mtransform\u001b[0m\u001b[0;34m(\u001b[0m\u001b[0mXi\u001b[0m\u001b[0;34m,\u001b[0m \u001b[0myi\u001b[0m\u001b[0;34m)\u001b[0m\u001b[0;34m\u001b[0m\u001b[0;34m\u001b[0m\u001b[0m\n\u001b[0m\u001b[1;32m    210\u001b[0m \u001b[0;34m\u001b[0m\u001b[0m\n\u001b[1;32m    211\u001b[0m \u001b[0;34m\u001b[0m\u001b[0m\n",
      "\u001b[0;32m/usr/local/lib/python3.6/dist-packages/skorch/dataset.py\u001b[0m in \u001b[0;36mtransform\u001b[0;34m(self, X, y)\u001b[0m\n\u001b[1;32m    192\u001b[0m         \u001b[0;31m# anyway, which results in a dummy ``y`` value for each row in\u001b[0m\u001b[0;34m\u001b[0m\u001b[0;34m\u001b[0m\u001b[0;34m\u001b[0m\u001b[0m\n\u001b[1;32m    193\u001b[0m         \u001b[0;31m# the batch.\u001b[0m\u001b[0;34m\u001b[0m\u001b[0;34m\u001b[0m\u001b[0;34m\u001b[0m\u001b[0m\n\u001b[0;32m--> 194\u001b[0;31m         \u001b[0my\u001b[0m \u001b[0;34m=\u001b[0m \u001b[0mtorch\u001b[0m\u001b[0;34m.\u001b[0m\u001b[0mTensor\u001b[0m\u001b[0;34m(\u001b[0m\u001b[0;34m[\u001b[0m\u001b[0;36m0\u001b[0m\u001b[0;34m]\u001b[0m\u001b[0;34m)\u001b[0m \u001b[0;32mif\u001b[0m \u001b[0my\u001b[0m \u001b[0;32mis\u001b[0m \u001b[0;32mNone\u001b[0m \u001b[0;32melse\u001b[0m \u001b[0my\u001b[0m\u001b[0;34m\u001b[0m\u001b[0;34m\u001b[0m\u001b[0m\n\u001b[0m\u001b[1;32m    195\u001b[0m \u001b[0;34m\u001b[0m\u001b[0m\n\u001b[1;32m    196\u001b[0m         \u001b[0;31m# pytorch cannot convert sparse matrices, for now just make it\u001b[0m\u001b[0;34m\u001b[0m\u001b[0;34m\u001b[0m\u001b[0;34m\u001b[0m\u001b[0m\n",
      "\u001b[0;31mKeyboardInterrupt\u001b[0m: "
     ]
    }
   ],
   "source": [
    "# net.fit(X, y, subjects=subjects)\n",
    "cv_net = run_cv(net, X, y, groups=df['subject'], cv=LeaveOneGroupOut(), n_jobs=1)"
   ]
  },
  {
   "cell_type": "markdown",
   "metadata": {
    "colab_type": "text",
    "id": "uvYslDaAjmh5"
   },
   "source": [
    "## TODOs:"
   ]
  },
  {
   "cell_type": "markdown",
   "metadata": {
    "colab_type": "text",
    "id": "VZ5hbzj0O8AJ"
   },
   "source": [
    "TODOs\n",
    "\n",
    "* Use [scorch](https://github.com/skorch-dev/skorch) for hyperparameter tuning\n",
    "* Apply SMOTE oversampling technique to tackle class imbalance and naturally adapt it as a data augmentation\n",
    "* a model combining a CNN to automatically extracts local features and RNN to extract temporal dependencies\n",
    "* apply a scalogram to the entire signal in order to get an equivalent image dataset\n",
    "    * *The scalogram is basically a visible time-frequency illustration of a signal using wavelet transform.*\n",
    "* Experiment with fusion schemes to apply different signals for Affect Recognition\n",
    "\n",
    "Related papers:\n",
    "\n",
    "* Psychological Stress Detection Using Deep Convolutional Neural Networks\n",
    "* An Explainable Deep Fusion Network for Affect Recognition Using Physiological Signals.pdf"
   ]
  },
  {
   "cell_type": "code",
   "execution_count": null,
   "metadata": {
    "colab": {},
    "colab_type": "code",
    "id": "2HHMPQMgPCUH"
   },
   "outputs": [],
   "source": []
  }
 ],
 "metadata": {
  "accelerator": "GPU",
  "colab": {
   "authorship_tag": "ABX9TyPjOSbXrN6Z1a/pDSHBR4ki",
   "collapsed_sections": [
    "tMur3N7FIBS0"
   ],
   "include_colab_link": true,
   "name": "LSTM Model w-gridsearch - Chest device.ipynb",
   "provenance": []
  },
  "kernelspec": {
   "display_name": "Python 3",
   "name": "python3"
  },
  "widgets": {
   "application/vnd.jupyter.widget-state+json": {
    "073d47da916f411ca281934f2765d067": {
     "model_module": "@jupyter-widgets/controls",
     "model_name": "DescriptionStyleModel",
     "state": {
      "_model_module": "@jupyter-widgets/controls",
      "_model_module_version": "1.5.0",
      "_model_name": "DescriptionStyleModel",
      "_view_count": null,
      "_view_module": "@jupyter-widgets/base",
      "_view_module_version": "1.2.0",
      "_view_name": "StyleView",
      "description_width": ""
     }
    },
    "088b20767d6e4d71b51412890969dc76": {
     "model_module": "@jupyter-widgets/controls",
     "model_name": "ProgressStyleModel",
     "state": {
      "_model_module": "@jupyter-widgets/controls",
      "_model_module_version": "1.5.0",
      "_model_name": "ProgressStyleModel",
      "_view_count": null,
      "_view_module": "@jupyter-widgets/base",
      "_view_module_version": "1.2.0",
      "_view_name": "StyleView",
      "bar_color": null,
      "description_width": "initial"
     }
    },
    "0a134d32013545eda0bd5d5dcfc36707": {
     "model_module": "@jupyter-widgets/base",
     "model_name": "LayoutModel",
     "state": {
      "_model_module": "@jupyter-widgets/base",
      "_model_module_version": "1.2.0",
      "_model_name": "LayoutModel",
      "_view_count": null,
      "_view_module": "@jupyter-widgets/base",
      "_view_module_version": "1.2.0",
      "_view_name": "LayoutView",
      "align_content": null,
      "align_items": null,
      "align_self": null,
      "border": null,
      "bottom": null,
      "display": null,
      "flex": null,
      "flex_flow": null,
      "grid_area": null,
      "grid_auto_columns": null,
      "grid_auto_flow": null,
      "grid_auto_rows": null,
      "grid_column": null,
      "grid_gap": null,
      "grid_row": null,
      "grid_template_areas": null,
      "grid_template_columns": null,
      "grid_template_rows": null,
      "height": null,
      "justify_content": null,
      "justify_items": null,
      "left": null,
      "margin": null,
      "max_height": null,
      "max_width": null,
      "min_height": null,
      "min_width": null,
      "object_fit": null,
      "object_position": null,
      "order": null,
      "overflow": null,
      "overflow_x": null,
      "overflow_y": null,
      "padding": null,
      "right": null,
      "top": null,
      "visibility": null,
      "width": null
     }
    },
    "0c51ac7d534c4a9f82d0f16d32c269f1": {
     "model_module": "@jupyter-widgets/base",
     "model_name": "LayoutModel",
     "state": {
      "_model_module": "@jupyter-widgets/base",
      "_model_module_version": "1.2.0",
      "_model_name": "LayoutModel",
      "_view_count": null,
      "_view_module": "@jupyter-widgets/base",
      "_view_module_version": "1.2.0",
      "_view_name": "LayoutView",
      "align_content": null,
      "align_items": null,
      "align_self": null,
      "border": null,
      "bottom": null,
      "display": null,
      "flex": null,
      "flex_flow": null,
      "grid_area": null,
      "grid_auto_columns": null,
      "grid_auto_flow": null,
      "grid_auto_rows": null,
      "grid_column": null,
      "grid_gap": null,
      "grid_row": null,
      "grid_template_areas": null,
      "grid_template_columns": null,
      "grid_template_rows": null,
      "height": null,
      "justify_content": null,
      "justify_items": null,
      "left": null,
      "margin": null,
      "max_height": null,
      "max_width": null,
      "min_height": null,
      "min_width": null,
      "object_fit": null,
      "object_position": null,
      "order": null,
      "overflow": null,
      "overflow_x": null,
      "overflow_y": null,
      "padding": null,
      "right": null,
      "top": null,
      "visibility": null,
      "width": null
     }
    },
    "0d9defd150074322bfc6b8a527fb6e16": {
     "model_module": "@jupyter-widgets/base",
     "model_name": "LayoutModel",
     "state": {
      "_model_module": "@jupyter-widgets/base",
      "_model_module_version": "1.2.0",
      "_model_name": "LayoutModel",
      "_view_count": null,
      "_view_module": "@jupyter-widgets/base",
      "_view_module_version": "1.2.0",
      "_view_name": "LayoutView",
      "align_content": null,
      "align_items": null,
      "align_self": null,
      "border": null,
      "bottom": null,
      "display": null,
      "flex": null,
      "flex_flow": null,
      "grid_area": null,
      "grid_auto_columns": null,
      "grid_auto_flow": null,
      "grid_auto_rows": null,
      "grid_column": null,
      "grid_gap": null,
      "grid_row": null,
      "grid_template_areas": null,
      "grid_template_columns": null,
      "grid_template_rows": null,
      "height": null,
      "justify_content": null,
      "justify_items": null,
      "left": null,
      "margin": null,
      "max_height": null,
      "max_width": null,
      "min_height": null,
      "min_width": null,
      "object_fit": null,
      "object_position": null,
      "order": null,
      "overflow": null,
      "overflow_x": null,
      "overflow_y": null,
      "padding": null,
      "right": null,
      "top": null,
      "visibility": null,
      "width": null
     }
    },
    "15f9d1856c5d4ca79070fccec70aa5fc": {
     "model_module": "@jupyter-widgets/base",
     "model_name": "LayoutModel",
     "state": {
      "_model_module": "@jupyter-widgets/base",
      "_model_module_version": "1.2.0",
      "_model_name": "LayoutModel",
      "_view_count": null,
      "_view_module": "@jupyter-widgets/base",
      "_view_module_version": "1.2.0",
      "_view_name": "LayoutView",
      "align_content": null,
      "align_items": null,
      "align_self": null,
      "border": null,
      "bottom": null,
      "display": null,
      "flex": null,
      "flex_flow": null,
      "grid_area": null,
      "grid_auto_columns": null,
      "grid_auto_flow": null,
      "grid_auto_rows": null,
      "grid_column": null,
      "grid_gap": null,
      "grid_row": null,
      "grid_template_areas": null,
      "grid_template_columns": null,
      "grid_template_rows": null,
      "height": null,
      "justify_content": null,
      "justify_items": null,
      "left": null,
      "margin": null,
      "max_height": null,
      "max_width": null,
      "min_height": null,
      "min_width": null,
      "object_fit": null,
      "object_position": null,
      "order": null,
      "overflow": null,
      "overflow_x": null,
      "overflow_y": null,
      "padding": null,
      "right": null,
      "top": null,
      "visibility": null,
      "width": null
     }
    },
    "175dc9ca4cf941b3a42566b44a0d4f99": {
     "model_module": "@jupyter-widgets/base",
     "model_name": "LayoutModel",
     "state": {
      "_model_module": "@jupyter-widgets/base",
      "_model_module_version": "1.2.0",
      "_model_name": "LayoutModel",
      "_view_count": null,
      "_view_module": "@jupyter-widgets/base",
      "_view_module_version": "1.2.0",
      "_view_name": "LayoutView",
      "align_content": null,
      "align_items": null,
      "align_self": null,
      "border": null,
      "bottom": null,
      "display": null,
      "flex": null,
      "flex_flow": null,
      "grid_area": null,
      "grid_auto_columns": null,
      "grid_auto_flow": null,
      "grid_auto_rows": null,
      "grid_column": null,
      "grid_gap": null,
      "grid_row": null,
      "grid_template_areas": null,
      "grid_template_columns": null,
      "grid_template_rows": null,
      "height": null,
      "justify_content": null,
      "justify_items": null,
      "left": null,
      "margin": null,
      "max_height": null,
      "max_width": null,
      "min_height": null,
      "min_width": null,
      "object_fit": null,
      "object_position": null,
      "order": null,
      "overflow": null,
      "overflow_x": null,
      "overflow_y": null,
      "padding": null,
      "right": null,
      "top": null,
      "visibility": null,
      "width": null
     }
    },
    "210889d450ce4292af0cc8ddf4d46eae": {
     "model_module": "@jupyter-widgets/base",
     "model_name": "LayoutModel",
     "state": {
      "_model_module": "@jupyter-widgets/base",
      "_model_module_version": "1.2.0",
      "_model_name": "LayoutModel",
      "_view_count": null,
      "_view_module": "@jupyter-widgets/base",
      "_view_module_version": "1.2.0",
      "_view_name": "LayoutView",
      "align_content": null,
      "align_items": null,
      "align_self": null,
      "border": null,
      "bottom": null,
      "display": null,
      "flex": null,
      "flex_flow": null,
      "grid_area": null,
      "grid_auto_columns": null,
      "grid_auto_flow": null,
      "grid_auto_rows": null,
      "grid_column": null,
      "grid_gap": null,
      "grid_row": null,
      "grid_template_areas": null,
      "grid_template_columns": null,
      "grid_template_rows": null,
      "height": null,
      "justify_content": null,
      "justify_items": null,
      "left": null,
      "margin": null,
      "max_height": null,
      "max_width": null,
      "min_height": null,
      "min_width": null,
      "object_fit": null,
      "object_position": null,
      "order": null,
      "overflow": null,
      "overflow_x": null,
      "overflow_y": null,
      "padding": null,
      "right": null,
      "top": null,
      "visibility": null,
      "width": null
     }
    },
    "2e5127384bce43d9afffcdbaa164206d": {
     "model_module": "@jupyter-widgets/controls",
     "model_name": "ProgressStyleModel",
     "state": {
      "_model_module": "@jupyter-widgets/controls",
      "_model_module_version": "1.5.0",
      "_model_name": "ProgressStyleModel",
      "_view_count": null,
      "_view_module": "@jupyter-widgets/base",
      "_view_module_version": "1.2.0",
      "_view_name": "StyleView",
      "bar_color": null,
      "description_width": "initial"
     }
    },
    "345ac6be53ec48ba867d0a4132bf9f8e": {
     "model_module": "@jupyter-widgets/base",
     "model_name": "LayoutModel",
     "state": {
      "_model_module": "@jupyter-widgets/base",
      "_model_module_version": "1.2.0",
      "_model_name": "LayoutModel",
      "_view_count": null,
      "_view_module": "@jupyter-widgets/base",
      "_view_module_version": "1.2.0",
      "_view_name": "LayoutView",
      "align_content": null,
      "align_items": null,
      "align_self": null,
      "border": null,
      "bottom": null,
      "display": null,
      "flex": null,
      "flex_flow": null,
      "grid_area": null,
      "grid_auto_columns": null,
      "grid_auto_flow": null,
      "grid_auto_rows": null,
      "grid_column": null,
      "grid_gap": null,
      "grid_row": null,
      "grid_template_areas": null,
      "grid_template_columns": null,
      "grid_template_rows": null,
      "height": null,
      "justify_content": null,
      "justify_items": null,
      "left": null,
      "margin": null,
      "max_height": null,
      "max_width": null,
      "min_height": null,
      "min_width": null,
      "object_fit": null,
      "object_position": null,
      "order": null,
      "overflow": null,
      "overflow_x": null,
      "overflow_y": null,
      "padding": null,
      "right": null,
      "top": null,
      "visibility": null,
      "width": null
     }
    },
    "395517cb7770477cadfd082dfa542a66": {
     "model_module": "@jupyter-widgets/controls",
     "model_name": "HTMLModel",
     "state": {
      "_dom_classes": [],
      "_model_module": "@jupyter-widgets/controls",
      "_model_module_version": "1.5.0",
      "_model_name": "HTMLModel",
      "_view_count": null,
      "_view_module": "@jupyter-widgets/controls",
      "_view_module_version": "1.5.0",
      "_view_name": "HTMLView",
      "description": "",
      "description_tooltip": null,
      "layout": "IPY_MODEL_15f9d1856c5d4ca79070fccec70aa5fc",
      "placeholder": "​",
      "style": "IPY_MODEL_9acbca14de074bd89da12c2f1fbdf6cf",
      "value": " 4537/4537 [17:33&lt;00:00,  4.31it/s]"
     }
    },
    "3b9cc8d292c6406a9bbd1c6d8d4c41c8": {
     "model_module": "@jupyter-widgets/base",
     "model_name": "LayoutModel",
     "state": {
      "_model_module": "@jupyter-widgets/base",
      "_model_module_version": "1.2.0",
      "_model_name": "LayoutModel",
      "_view_count": null,
      "_view_module": "@jupyter-widgets/base",
      "_view_module_version": "1.2.0",
      "_view_name": "LayoutView",
      "align_content": null,
      "align_items": null,
      "align_self": null,
      "border": null,
      "bottom": null,
      "display": null,
      "flex": null,
      "flex_flow": null,
      "grid_area": null,
      "grid_auto_columns": null,
      "grid_auto_flow": null,
      "grid_auto_rows": null,
      "grid_column": null,
      "grid_gap": null,
      "grid_row": null,
      "grid_template_areas": null,
      "grid_template_columns": null,
      "grid_template_rows": null,
      "height": null,
      "justify_content": null,
      "justify_items": null,
      "left": null,
      "margin": null,
      "max_height": null,
      "max_width": null,
      "min_height": null,
      "min_width": null,
      "object_fit": null,
      "object_position": null,
      "order": null,
      "overflow": null,
      "overflow_x": null,
      "overflow_y": null,
      "padding": null,
      "right": null,
      "top": null,
      "visibility": null,
      "width": null
     }
    },
    "43540220a99d43fa9434c6641c983779": {
     "model_module": "@jupyter-widgets/base",
     "model_name": "LayoutModel",
     "state": {
      "_model_module": "@jupyter-widgets/base",
      "_model_module_version": "1.2.0",
      "_model_name": "LayoutModel",
      "_view_count": null,
      "_view_module": "@jupyter-widgets/base",
      "_view_module_version": "1.2.0",
      "_view_name": "LayoutView",
      "align_content": null,
      "align_items": null,
      "align_self": null,
      "border": null,
      "bottom": null,
      "display": null,
      "flex": null,
      "flex_flow": null,
      "grid_area": null,
      "grid_auto_columns": null,
      "grid_auto_flow": null,
      "grid_auto_rows": null,
      "grid_column": null,
      "grid_gap": null,
      "grid_row": null,
      "grid_template_areas": null,
      "grid_template_columns": null,
      "grid_template_rows": null,
      "height": null,
      "justify_content": null,
      "justify_items": null,
      "left": null,
      "margin": null,
      "max_height": null,
      "max_width": null,
      "min_height": null,
      "min_width": null,
      "object_fit": null,
      "object_position": null,
      "order": null,
      "overflow": null,
      "overflow_x": null,
      "overflow_y": null,
      "padding": null,
      "right": null,
      "top": null,
      "visibility": null,
      "width": null
     }
    },
    "4457224890204d60b868f1ea8f4f2dc8": {
     "model_module": "@jupyter-widgets/base",
     "model_name": "LayoutModel",
     "state": {
      "_model_module": "@jupyter-widgets/base",
      "_model_module_version": "1.2.0",
      "_model_name": "LayoutModel",
      "_view_count": null,
      "_view_module": "@jupyter-widgets/base",
      "_view_module_version": "1.2.0",
      "_view_name": "LayoutView",
      "align_content": null,
      "align_items": null,
      "align_self": null,
      "border": null,
      "bottom": null,
      "display": null,
      "flex": null,
      "flex_flow": null,
      "grid_area": null,
      "grid_auto_columns": null,
      "grid_auto_flow": null,
      "grid_auto_rows": null,
      "grid_column": null,
      "grid_gap": null,
      "grid_row": null,
      "grid_template_areas": null,
      "grid_template_columns": null,
      "grid_template_rows": null,
      "height": null,
      "justify_content": null,
      "justify_items": null,
      "left": null,
      "margin": null,
      "max_height": null,
      "max_width": null,
      "min_height": null,
      "min_width": null,
      "object_fit": null,
      "object_position": null,
      "order": null,
      "overflow": null,
      "overflow_x": null,
      "overflow_y": null,
      "padding": null,
      "right": null,
      "top": null,
      "visibility": null,
      "width": null
     }
    },
    "506e4435462a4d4292a719819a0c8e17": {
     "model_module": "@jupyter-widgets/base",
     "model_name": "LayoutModel",
     "state": {
      "_model_module": "@jupyter-widgets/base",
      "_model_module_version": "1.2.0",
      "_model_name": "LayoutModel",
      "_view_count": null,
      "_view_module": "@jupyter-widgets/base",
      "_view_module_version": "1.2.0",
      "_view_name": "LayoutView",
      "align_content": null,
      "align_items": null,
      "align_self": null,
      "border": null,
      "bottom": null,
      "display": null,
      "flex": null,
      "flex_flow": null,
      "grid_area": null,
      "grid_auto_columns": null,
      "grid_auto_flow": null,
      "grid_auto_rows": null,
      "grid_column": null,
      "grid_gap": null,
      "grid_row": null,
      "grid_template_areas": null,
      "grid_template_columns": null,
      "grid_template_rows": null,
      "height": null,
      "justify_content": null,
      "justify_items": null,
      "left": null,
      "margin": null,
      "max_height": null,
      "max_width": null,
      "min_height": null,
      "min_width": null,
      "object_fit": null,
      "object_position": null,
      "order": null,
      "overflow": null,
      "overflow_x": null,
      "overflow_y": null,
      "padding": null,
      "right": null,
      "top": null,
      "visibility": null,
      "width": null
     }
    },
    "51b233b4756a47579d9253d9446ad465": {
     "model_module": "@jupyter-widgets/base",
     "model_name": "LayoutModel",
     "state": {
      "_model_module": "@jupyter-widgets/base",
      "_model_module_version": "1.2.0",
      "_model_name": "LayoutModel",
      "_view_count": null,
      "_view_module": "@jupyter-widgets/base",
      "_view_module_version": "1.2.0",
      "_view_name": "LayoutView",
      "align_content": null,
      "align_items": null,
      "align_self": null,
      "border": null,
      "bottom": null,
      "display": null,
      "flex": null,
      "flex_flow": null,
      "grid_area": null,
      "grid_auto_columns": null,
      "grid_auto_flow": null,
      "grid_auto_rows": null,
      "grid_column": null,
      "grid_gap": null,
      "grid_row": null,
      "grid_template_areas": null,
      "grid_template_columns": null,
      "grid_template_rows": null,
      "height": null,
      "justify_content": null,
      "justify_items": null,
      "left": null,
      "margin": null,
      "max_height": null,
      "max_width": null,
      "min_height": null,
      "min_width": null,
      "object_fit": null,
      "object_position": null,
      "order": null,
      "overflow": null,
      "overflow_x": null,
      "overflow_y": null,
      "padding": null,
      "right": null,
      "top": null,
      "visibility": null,
      "width": null
     }
    },
    "69571c1e37ba428fb85c5da858eb3640": {
     "model_module": "@jupyter-widgets/controls",
     "model_name": "HTMLModel",
     "state": {
      "_dom_classes": [],
      "_model_module": "@jupyter-widgets/controls",
      "_model_module_version": "1.5.0",
      "_model_name": "HTMLModel",
      "_view_count": null,
      "_view_module": "@jupyter-widgets/controls",
      "_view_module_version": "1.5.0",
      "_view_name": "HTMLView",
      "description": "",
      "description_tooltip": null,
      "layout": "IPY_MODEL_e5562350386343909e87db299389e7ef",
      "placeholder": "​",
      "style": "IPY_MODEL_e5ac081f09ba4ec18b09dcc6eb2e37d2",
      "value": " 608/1000 [00:40&lt;00:15, 24.77it/s]"
     }
    },
    "6b1d165de1c14f72a289fc9e863492d7": {
     "model_module": "@jupyter-widgets/controls",
     "model_name": "ProgressStyleModel",
     "state": {
      "_model_module": "@jupyter-widgets/controls",
      "_model_module_version": "1.5.0",
      "_model_name": "ProgressStyleModel",
      "_view_count": null,
      "_view_module": "@jupyter-widgets/base",
      "_view_module_version": "1.2.0",
      "_view_name": "StyleView",
      "bar_color": null,
      "description_width": "initial"
     }
    },
    "6cb1f020061a471ba03d5eec27d2d35a": {
     "model_module": "@jupyter-widgets/controls",
     "model_name": "FloatProgressModel",
     "state": {
      "_dom_classes": [],
      "_model_module": "@jupyter-widgets/controls",
      "_model_module_version": "1.5.0",
      "_model_name": "FloatProgressModel",
      "_view_count": null,
      "_view_module": "@jupyter-widgets/controls",
      "_view_module_version": "1.5.0",
      "_view_name": "ProgressView",
      "bar_style": "success",
      "description": "100%",
      "description_tooltip": null,
      "layout": "IPY_MODEL_51b233b4756a47579d9253d9446ad465",
      "max": 4537,
      "min": 0,
      "orientation": "horizontal",
      "style": "IPY_MODEL_6b1d165de1c14f72a289fc9e863492d7",
      "value": 4537
     }
    },
    "6d6d9f0b2a6e48de83eaef9caa9ebd02": {
     "model_module": "@jupyter-widgets/controls",
     "model_name": "ProgressStyleModel",
     "state": {
      "_model_module": "@jupyter-widgets/controls",
      "_model_module_version": "1.5.0",
      "_model_name": "ProgressStyleModel",
      "_view_count": null,
      "_view_module": "@jupyter-widgets/base",
      "_view_module_version": "1.2.0",
      "_view_name": "StyleView",
      "bar_color": null,
      "description_width": "initial"
     }
    },
    "74cdddbd2f004d7886894e4297474708": {
     "model_module": "@jupyter-widgets/controls",
     "model_name": "HTMLModel",
     "state": {
      "_dom_classes": [],
      "_model_module": "@jupyter-widgets/controls",
      "_model_module_version": "1.5.0",
      "_model_name": "HTMLModel",
      "_view_count": null,
      "_view_module": "@jupyter-widgets/controls",
      "_view_module_version": "1.5.0",
      "_view_name": "HTMLView",
      "description": "",
      "description_tooltip": null,
      "layout": "IPY_MODEL_210889d450ce4292af0cc8ddf4d46eae",
      "placeholder": "​",
      "style": "IPY_MODEL_91317de663ce44999df501c8b0d75a47",
      "value": " 4537/4537 [08:22&lt;00:00,  9.04it/s]"
     }
    },
    "7d051de8c8eb4470b64145f58dfdca55": {
     "model_module": "@jupyter-widgets/controls",
     "model_name": "FloatProgressModel",
     "state": {
      "_dom_classes": [],
      "_model_module": "@jupyter-widgets/controls",
      "_model_module_version": "1.5.0",
      "_model_name": "FloatProgressModel",
      "_view_count": null,
      "_view_module": "@jupyter-widgets/controls",
      "_view_module_version": "1.5.0",
      "_view_name": "ProgressView",
      "bar_style": "success",
      "description": "100%",
      "description_tooltip": null,
      "layout": "IPY_MODEL_0c51ac7d534c4a9f82d0f16d32c269f1",
      "max": 4537,
      "min": 0,
      "orientation": "horizontal",
      "style": "IPY_MODEL_2e5127384bce43d9afffcdbaa164206d",
      "value": 4537
     }
    },
    "7df734534de34697af24898a2f195b9e": {
     "model_module": "@jupyter-widgets/controls",
     "model_name": "HBoxModel",
     "state": {
      "_dom_classes": [],
      "_model_module": "@jupyter-widgets/controls",
      "_model_module_version": "1.5.0",
      "_model_name": "HBoxModel",
      "_view_count": null,
      "_view_module": "@jupyter-widgets/controls",
      "_view_module_version": "1.5.0",
      "_view_name": "HBoxView",
      "box_style": "",
      "children": [
       "IPY_MODEL_d6468069d66d43fa961fdcf24b10f10e",
       "IPY_MODEL_892e164f1d744c1cb546e04cc85164fa"
      ],
      "layout": "IPY_MODEL_f16ad6145b1943fc997f67d408c50fca"
     }
    },
    "7e7dbf922e5d4286a5e53cbfdd84c523": {
     "model_module": "@jupyter-widgets/controls",
     "model_name": "ProgressStyleModel",
     "state": {
      "_model_module": "@jupyter-widgets/controls",
      "_model_module_version": "1.5.0",
      "_model_name": "ProgressStyleModel",
      "_view_count": null,
      "_view_module": "@jupyter-widgets/base",
      "_view_module_version": "1.2.0",
      "_view_name": "StyleView",
      "bar_color": null,
      "description_width": "initial"
     }
    },
    "7e89d00dac1343e182dc0c50ef5ffa39": {
     "model_module": "@jupyter-widgets/controls",
     "model_name": "FloatProgressModel",
     "state": {
      "_dom_classes": [],
      "_model_module": "@jupyter-widgets/controls",
      "_model_module_version": "1.5.0",
      "_model_name": "FloatProgressModel",
      "_view_count": null,
      "_view_module": "@jupyter-widgets/controls",
      "_view_module_version": "1.5.0",
      "_view_name": "ProgressView",
      "bar_style": "success",
      "description": "100%",
      "description_tooltip": null,
      "layout": "IPY_MODEL_175dc9ca4cf941b3a42566b44a0d4f99",
      "max": 4537,
      "min": 0,
      "orientation": "horizontal",
      "style": "IPY_MODEL_6d6d9f0b2a6e48de83eaef9caa9ebd02",
      "value": 4537
     }
    },
    "80c2efd5d3794a448fd0c22448d325ee": {
     "model_module": "@jupyter-widgets/controls",
     "model_name": "FloatProgressModel",
     "state": {
      "_dom_classes": [],
      "_model_module": "@jupyter-widgets/controls",
      "_model_module_version": "1.5.0",
      "_model_name": "FloatProgressModel",
      "_view_count": null,
      "_view_module": "@jupyter-widgets/controls",
      "_view_module_version": "1.5.0",
      "_view_name": "ProgressView",
      "bar_style": "danger",
      "description": " 61%",
      "description_tooltip": null,
      "layout": "IPY_MODEL_b5e8f1950fc640488d94e3109b0a237d",
      "max": 1000,
      "min": 0,
      "orientation": "horizontal",
      "style": "IPY_MODEL_8ab0c7d18e824e76839d7e2df636c410",
      "value": 608
     }
    },
    "892e164f1d744c1cb546e04cc85164fa": {
     "model_module": "@jupyter-widgets/controls",
     "model_name": "HTMLModel",
     "state": {
      "_dom_classes": [],
      "_model_module": "@jupyter-widgets/controls",
      "_model_module_version": "1.5.0",
      "_model_name": "HTMLModel",
      "_view_count": null,
      "_view_module": "@jupyter-widgets/controls",
      "_view_module_version": "1.5.0",
      "_view_name": "HTMLView",
      "description": "",
      "description_tooltip": null,
      "layout": "IPY_MODEL_e0e86e49b779404897aab3b4ae85edfd",
      "placeholder": "​",
      "style": "IPY_MODEL_f60febd9a8c643be8d9cef045cce4828",
      "value": " 4537/4537 [22:11&lt;00:00,  3.41it/s]"
     }
    },
    "8ab0c7d18e824e76839d7e2df636c410": {
     "model_module": "@jupyter-widgets/controls",
     "model_name": "ProgressStyleModel",
     "state": {
      "_model_module": "@jupyter-widgets/controls",
      "_model_module_version": "1.5.0",
      "_model_name": "ProgressStyleModel",
      "_view_count": null,
      "_view_module": "@jupyter-widgets/base",
      "_view_module_version": "1.2.0",
      "_view_name": "StyleView",
      "bar_color": null,
      "description_width": "initial"
     }
    },
    "91317de663ce44999df501c8b0d75a47": {
     "model_module": "@jupyter-widgets/controls",
     "model_name": "DescriptionStyleModel",
     "state": {
      "_model_module": "@jupyter-widgets/controls",
      "_model_module_version": "1.5.0",
      "_model_name": "DescriptionStyleModel",
      "_view_count": null,
      "_view_module": "@jupyter-widgets/base",
      "_view_module_version": "1.2.0",
      "_view_name": "StyleView",
      "description_width": ""
     }
    },
    "9395e8ff5b7e43edabadf3ff766ea1d8": {
     "model_module": "@jupyter-widgets/controls",
     "model_name": "HTMLModel",
     "state": {
      "_dom_classes": [],
      "_model_module": "@jupyter-widgets/controls",
      "_model_module_version": "1.5.0",
      "_model_name": "HTMLModel",
      "_view_count": null,
      "_view_module": "@jupyter-widgets/controls",
      "_view_module_version": "1.5.0",
      "_view_name": "HTMLView",
      "description": "",
      "description_tooltip": null,
      "layout": "IPY_MODEL_3b9cc8d292c6406a9bbd1c6d8d4c41c8",
      "placeholder": "​",
      "style": "IPY_MODEL_bdea7d80b440433cbc09943fb26d83e3",
      "value": " 4537/4537 [12:58&lt;00:00,  5.83it/s]"
     }
    },
    "9acbca14de074bd89da12c2f1fbdf6cf": {
     "model_module": "@jupyter-widgets/controls",
     "model_name": "DescriptionStyleModel",
     "state": {
      "_model_module": "@jupyter-widgets/controls",
      "_model_module_version": "1.5.0",
      "_model_name": "DescriptionStyleModel",
      "_view_count": null,
      "_view_module": "@jupyter-widgets/base",
      "_view_module_version": "1.2.0",
      "_view_name": "StyleView",
      "description_width": ""
     }
    },
    "ad112087ff3b4cc583a60a610891b1de": {
     "model_module": "@jupyter-widgets/controls",
     "model_name": "HBoxModel",
     "state": {
      "_dom_classes": [],
      "_model_module": "@jupyter-widgets/controls",
      "_model_module_version": "1.5.0",
      "_model_name": "HBoxModel",
      "_view_count": null,
      "_view_module": "@jupyter-widgets/controls",
      "_view_module_version": "1.5.0",
      "_view_name": "HBoxView",
      "box_style": "",
      "children": [
       "IPY_MODEL_6cb1f020061a471ba03d5eec27d2d35a",
       "IPY_MODEL_b955083d78f2426db949d80f09ee20f2"
      ],
      "layout": "IPY_MODEL_506e4435462a4d4292a719819a0c8e17"
     }
    },
    "b5e8f1950fc640488d94e3109b0a237d": {
     "model_module": "@jupyter-widgets/base",
     "model_name": "LayoutModel",
     "state": {
      "_model_module": "@jupyter-widgets/base",
      "_model_module_version": "1.2.0",
      "_model_name": "LayoutModel",
      "_view_count": null,
      "_view_module": "@jupyter-widgets/base",
      "_view_module_version": "1.2.0",
      "_view_name": "LayoutView",
      "align_content": null,
      "align_items": null,
      "align_self": null,
      "border": null,
      "bottom": null,
      "display": null,
      "flex": null,
      "flex_flow": null,
      "grid_area": null,
      "grid_auto_columns": null,
      "grid_auto_flow": null,
      "grid_auto_rows": null,
      "grid_column": null,
      "grid_gap": null,
      "grid_row": null,
      "grid_template_areas": null,
      "grid_template_columns": null,
      "grid_template_rows": null,
      "height": null,
      "justify_content": null,
      "justify_items": null,
      "left": null,
      "margin": null,
      "max_height": null,
      "max_width": null,
      "min_height": null,
      "min_width": null,
      "object_fit": null,
      "object_position": null,
      "order": null,
      "overflow": null,
      "overflow_x": null,
      "overflow_y": null,
      "padding": null,
      "right": null,
      "top": null,
      "visibility": null,
      "width": null
     }
    },
    "b955083d78f2426db949d80f09ee20f2": {
     "model_module": "@jupyter-widgets/controls",
     "model_name": "HTMLModel",
     "state": {
      "_dom_classes": [],
      "_model_module": "@jupyter-widgets/controls",
      "_model_module_version": "1.5.0",
      "_model_name": "HTMLModel",
      "_view_count": null,
      "_view_module": "@jupyter-widgets/controls",
      "_view_module_version": "1.5.0",
      "_view_name": "HTMLView",
      "description": "",
      "description_tooltip": null,
      "layout": "IPY_MODEL_43540220a99d43fa9434c6641c983779",
      "placeholder": "​",
      "style": "IPY_MODEL_073d47da916f411ca281934f2765d067",
      "value": " 4537/4537 [04:26&lt;00:00, 17.01it/s]"
     }
    },
    "bdea7d80b440433cbc09943fb26d83e3": {
     "model_module": "@jupyter-widgets/controls",
     "model_name": "DescriptionStyleModel",
     "state": {
      "_model_module": "@jupyter-widgets/controls",
      "_model_module_version": "1.5.0",
      "_model_name": "DescriptionStyleModel",
      "_view_count": null,
      "_view_module": "@jupyter-widgets/base",
      "_view_module_version": "1.2.0",
      "_view_name": "StyleView",
      "description_width": ""
     }
    },
    "c5e77a4b28b84512a40b76302b22717d": {
     "model_module": "@jupyter-widgets/controls",
     "model_name": "FloatProgressModel",
     "state": {
      "_dom_classes": [],
      "_model_module": "@jupyter-widgets/controls",
      "_model_module_version": "1.5.0",
      "_model_name": "FloatProgressModel",
      "_view_count": null,
      "_view_module": "@jupyter-widgets/controls",
      "_view_module_version": "1.5.0",
      "_view_name": "ProgressView",
      "bar_style": "success",
      "description": "100%",
      "description_tooltip": null,
      "layout": "IPY_MODEL_fb06ea6f38d74306afbcc22d4cb4adcf",
      "max": 4537,
      "min": 0,
      "orientation": "horizontal",
      "style": "IPY_MODEL_7e7dbf922e5d4286a5e53cbfdd84c523",
      "value": 4537
     }
    },
    "d07c1f93fe1349ec94f5a173060c8da9": {
     "model_module": "@jupyter-widgets/base",
     "model_name": "LayoutModel",
     "state": {
      "_model_module": "@jupyter-widgets/base",
      "_model_module_version": "1.2.0",
      "_model_name": "LayoutModel",
      "_view_count": null,
      "_view_module": "@jupyter-widgets/base",
      "_view_module_version": "1.2.0",
      "_view_name": "LayoutView",
      "align_content": null,
      "align_items": null,
      "align_self": null,
      "border": null,
      "bottom": null,
      "display": null,
      "flex": null,
      "flex_flow": null,
      "grid_area": null,
      "grid_auto_columns": null,
      "grid_auto_flow": null,
      "grid_auto_rows": null,
      "grid_column": null,
      "grid_gap": null,
      "grid_row": null,
      "grid_template_areas": null,
      "grid_template_columns": null,
      "grid_template_rows": null,
      "height": null,
      "justify_content": null,
      "justify_items": null,
      "left": null,
      "margin": null,
      "max_height": null,
      "max_width": null,
      "min_height": null,
      "min_width": null,
      "object_fit": null,
      "object_position": null,
      "order": null,
      "overflow": null,
      "overflow_x": null,
      "overflow_y": null,
      "padding": null,
      "right": null,
      "top": null,
      "visibility": null,
      "width": null
     }
    },
    "d344f2b329634552ad3577c978f2dd52": {
     "model_module": "@jupyter-widgets/controls",
     "model_name": "HBoxModel",
     "state": {
      "_dom_classes": [],
      "_model_module": "@jupyter-widgets/controls",
      "_model_module_version": "1.5.0",
      "_model_name": "HBoxModel",
      "_view_count": null,
      "_view_module": "@jupyter-widgets/controls",
      "_view_module_version": "1.5.0",
      "_view_name": "HBoxView",
      "box_style": "",
      "children": [
       "IPY_MODEL_c5e77a4b28b84512a40b76302b22717d",
       "IPY_MODEL_9395e8ff5b7e43edabadf3ff766ea1d8"
      ],
      "layout": "IPY_MODEL_345ac6be53ec48ba867d0a4132bf9f8e"
     }
    },
    "d6468069d66d43fa961fdcf24b10f10e": {
     "model_module": "@jupyter-widgets/controls",
     "model_name": "FloatProgressModel",
     "state": {
      "_dom_classes": [],
      "_model_module": "@jupyter-widgets/controls",
      "_model_module_version": "1.5.0",
      "_model_name": "FloatProgressModel",
      "_view_count": null,
      "_view_module": "@jupyter-widgets/controls",
      "_view_module_version": "1.5.0",
      "_view_name": "ProgressView",
      "bar_style": "success",
      "description": "100%",
      "description_tooltip": null,
      "layout": "IPY_MODEL_0a134d32013545eda0bd5d5dcfc36707",
      "max": 4537,
      "min": 0,
      "orientation": "horizontal",
      "style": "IPY_MODEL_088b20767d6e4d71b51412890969dc76",
      "value": 4537
     }
    },
    "d819f1d1baea4290aec116d61e358adf": {
     "model_module": "@jupyter-widgets/controls",
     "model_name": "HBoxModel",
     "state": {
      "_dom_classes": [],
      "_model_module": "@jupyter-widgets/controls",
      "_model_module_version": "1.5.0",
      "_model_name": "HBoxModel",
      "_view_count": null,
      "_view_module": "@jupyter-widgets/controls",
      "_view_module_version": "1.5.0",
      "_view_name": "HBoxView",
      "box_style": "",
      "children": [
       "IPY_MODEL_7d051de8c8eb4470b64145f58dfdca55",
       "IPY_MODEL_395517cb7770477cadfd082dfa542a66"
      ],
      "layout": "IPY_MODEL_4457224890204d60b868f1ea8f4f2dc8"
     }
    },
    "de18359779d24b8aa02ede2c144b53fe": {
     "model_module": "@jupyter-widgets/controls",
     "model_name": "HBoxModel",
     "state": {
      "_dom_classes": [],
      "_model_module": "@jupyter-widgets/controls",
      "_model_module_version": "1.5.0",
      "_model_name": "HBoxModel",
      "_view_count": null,
      "_view_module": "@jupyter-widgets/controls",
      "_view_module_version": "1.5.0",
      "_view_name": "HBoxView",
      "box_style": "",
      "children": [
       "IPY_MODEL_80c2efd5d3794a448fd0c22448d325ee",
       "IPY_MODEL_69571c1e37ba428fb85c5da858eb3640"
      ],
      "layout": "IPY_MODEL_d07c1f93fe1349ec94f5a173060c8da9"
     }
    },
    "df4136bbe3d7481cb7c2ae651d1cd0d7": {
     "model_module": "@jupyter-widgets/controls",
     "model_name": "HBoxModel",
     "state": {
      "_dom_classes": [],
      "_model_module": "@jupyter-widgets/controls",
      "_model_module_version": "1.5.0",
      "_model_name": "HBoxModel",
      "_view_count": null,
      "_view_module": "@jupyter-widgets/controls",
      "_view_module_version": "1.5.0",
      "_view_name": "HBoxView",
      "box_style": "",
      "children": [
       "IPY_MODEL_7e89d00dac1343e182dc0c50ef5ffa39",
       "IPY_MODEL_74cdddbd2f004d7886894e4297474708"
      ],
      "layout": "IPY_MODEL_0d9defd150074322bfc6b8a527fb6e16"
     }
    },
    "e0e86e49b779404897aab3b4ae85edfd": {
     "model_module": "@jupyter-widgets/base",
     "model_name": "LayoutModel",
     "state": {
      "_model_module": "@jupyter-widgets/base",
      "_model_module_version": "1.2.0",
      "_model_name": "LayoutModel",
      "_view_count": null,
      "_view_module": "@jupyter-widgets/base",
      "_view_module_version": "1.2.0",
      "_view_name": "LayoutView",
      "align_content": null,
      "align_items": null,
      "align_self": null,
      "border": null,
      "bottom": null,
      "display": null,
      "flex": null,
      "flex_flow": null,
      "grid_area": null,
      "grid_auto_columns": null,
      "grid_auto_flow": null,
      "grid_auto_rows": null,
      "grid_column": null,
      "grid_gap": null,
      "grid_row": null,
      "grid_template_areas": null,
      "grid_template_columns": null,
      "grid_template_rows": null,
      "height": null,
      "justify_content": null,
      "justify_items": null,
      "left": null,
      "margin": null,
      "max_height": null,
      "max_width": null,
      "min_height": null,
      "min_width": null,
      "object_fit": null,
      "object_position": null,
      "order": null,
      "overflow": null,
      "overflow_x": null,
      "overflow_y": null,
      "padding": null,
      "right": null,
      "top": null,
      "visibility": null,
      "width": null
     }
    },
    "e5562350386343909e87db299389e7ef": {
     "model_module": "@jupyter-widgets/base",
     "model_name": "LayoutModel",
     "state": {
      "_model_module": "@jupyter-widgets/base",
      "_model_module_version": "1.2.0",
      "_model_name": "LayoutModel",
      "_view_count": null,
      "_view_module": "@jupyter-widgets/base",
      "_view_module_version": "1.2.0",
      "_view_name": "LayoutView",
      "align_content": null,
      "align_items": null,
      "align_self": null,
      "border": null,
      "bottom": null,
      "display": null,
      "flex": null,
      "flex_flow": null,
      "grid_area": null,
      "grid_auto_columns": null,
      "grid_auto_flow": null,
      "grid_auto_rows": null,
      "grid_column": null,
      "grid_gap": null,
      "grid_row": null,
      "grid_template_areas": null,
      "grid_template_columns": null,
      "grid_template_rows": null,
      "height": null,
      "justify_content": null,
      "justify_items": null,
      "left": null,
      "margin": null,
      "max_height": null,
      "max_width": null,
      "min_height": null,
      "min_width": null,
      "object_fit": null,
      "object_position": null,
      "order": null,
      "overflow": null,
      "overflow_x": null,
      "overflow_y": null,
      "padding": null,
      "right": null,
      "top": null,
      "visibility": null,
      "width": null
     }
    },
    "e5ac081f09ba4ec18b09dcc6eb2e37d2": {
     "model_module": "@jupyter-widgets/controls",
     "model_name": "DescriptionStyleModel",
     "state": {
      "_model_module": "@jupyter-widgets/controls",
      "_model_module_version": "1.5.0",
      "_model_name": "DescriptionStyleModel",
      "_view_count": null,
      "_view_module": "@jupyter-widgets/base",
      "_view_module_version": "1.2.0",
      "_view_name": "StyleView",
      "description_width": ""
     }
    },
    "f16ad6145b1943fc997f67d408c50fca": {
     "model_module": "@jupyter-widgets/base",
     "model_name": "LayoutModel",
     "state": {
      "_model_module": "@jupyter-widgets/base",
      "_model_module_version": "1.2.0",
      "_model_name": "LayoutModel",
      "_view_count": null,
      "_view_module": "@jupyter-widgets/base",
      "_view_module_version": "1.2.0",
      "_view_name": "LayoutView",
      "align_content": null,
      "align_items": null,
      "align_self": null,
      "border": null,
      "bottom": null,
      "display": null,
      "flex": null,
      "flex_flow": null,
      "grid_area": null,
      "grid_auto_columns": null,
      "grid_auto_flow": null,
      "grid_auto_rows": null,
      "grid_column": null,
      "grid_gap": null,
      "grid_row": null,
      "grid_template_areas": null,
      "grid_template_columns": null,
      "grid_template_rows": null,
      "height": null,
      "justify_content": null,
      "justify_items": null,
      "left": null,
      "margin": null,
      "max_height": null,
      "max_width": null,
      "min_height": null,
      "min_width": null,
      "object_fit": null,
      "object_position": null,
      "order": null,
      "overflow": null,
      "overflow_x": null,
      "overflow_y": null,
      "padding": null,
      "right": null,
      "top": null,
      "visibility": null,
      "width": null
     }
    },
    "f60febd9a8c643be8d9cef045cce4828": {
     "model_module": "@jupyter-widgets/controls",
     "model_name": "DescriptionStyleModel",
     "state": {
      "_model_module": "@jupyter-widgets/controls",
      "_model_module_version": "1.5.0",
      "_model_name": "DescriptionStyleModel",
      "_view_count": null,
      "_view_module": "@jupyter-widgets/base",
      "_view_module_version": "1.2.0",
      "_view_name": "StyleView",
      "description_width": ""
     }
    },
    "fb06ea6f38d74306afbcc22d4cb4adcf": {
     "model_module": "@jupyter-widgets/base",
     "model_name": "LayoutModel",
     "state": {
      "_model_module": "@jupyter-widgets/base",
      "_model_module_version": "1.2.0",
      "_model_name": "LayoutModel",
      "_view_count": null,
      "_view_module": "@jupyter-widgets/base",
      "_view_module_version": "1.2.0",
      "_view_name": "LayoutView",
      "align_content": null,
      "align_items": null,
      "align_self": null,
      "border": null,
      "bottom": null,
      "display": null,
      "flex": null,
      "flex_flow": null,
      "grid_area": null,
      "grid_auto_columns": null,
      "grid_auto_flow": null,
      "grid_auto_rows": null,
      "grid_column": null,
      "grid_gap": null,
      "grid_row": null,
      "grid_template_areas": null,
      "grid_template_columns": null,
      "grid_template_rows": null,
      "height": null,
      "justify_content": null,
      "justify_items": null,
      "left": null,
      "margin": null,
      "max_height": null,
      "max_width": null,
      "min_height": null,
      "min_width": null,
      "object_fit": null,
      "object_position": null,
      "order": null,
      "overflow": null,
      "overflow_x": null,
      "overflow_y": null,
      "padding": null,
      "right": null,
      "top": null,
      "visibility": null,
      "width": null
     }
    }
   }
  }
 },
 "nbformat": 4,
 "nbformat_minor": 0
}
