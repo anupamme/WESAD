{
 "cells": [
  {
   "cell_type": "code",
   "execution_count": 1,
   "metadata": {},
   "outputs": [],
   "source": [
    "import os\n",
    "import pandas as pd\n",
    "import numpy as np\n",
    "import seaborn as sns\n",
    "from sklearn import metrics\n",
    "from sklearn.discriminant_analysis import LinearDiscriminantAnalysis as LDA\n",
    "from sklearn.ensemble import AdaBoostClassifier, RandomForestClassifier\n",
    "from sklearn.model_selection import cross_validate, LeaveOneGroupOut\n",
    "from sklearn.pipeline import make_pipeline\n",
    "from sklearn.preprocessing import StandardScaler\n",
    "from sklearn.tree import DecisionTreeClassifier\n",
    "import sklearn\n",
    "%matplotlib inline"
   ]
  },
  {
   "cell_type": "markdown",
   "metadata": {},
   "source": [
    "## Load Subject Data"
   ]
  },
  {
   "cell_type": "code",
   "execution_count": 2,
   "metadata": {},
   "outputs": [],
   "source": [
    "BASE_PATH = 'segmented_data'"
   ]
  },
  {
   "cell_type": "code",
   "execution_count": 76,
   "metadata": {},
   "outputs": [],
   "source": [
    "# subjects_data = [pd.read_feather(os.path.join(BASE_PATH, subject)) for subject in os.listdir(BASE_PATH)]\n",
    "# df = pd.concat(subjects_data)\n",
    "# df.drop(columns=['index'], inplace=True)\n",
    "# df.shape"
   ]
  },
  {
   "cell_type": "code",
   "execution_count": 67,
   "metadata": {},
   "outputs": [],
   "source": [
    "# df.to_csv('segmented_data/all_subjects.csv')"
   ]
  },
  {
   "cell_type": "code",
   "execution_count": 3,
   "metadata": {},
   "outputs": [],
   "source": [
    "df = pd.read_csv(f'{BASE_PATH}/all_subjects.csv', index_col=0)"
   ]
  },
  {
   "cell_type": "code",
   "execution_count": 4,
   "metadata": {},
   "outputs": [
    {
     "data": {
      "text/plain": [
       "(121813, 79)"
      ]
     },
     "execution_count": 4,
     "metadata": {},
     "output_type": "execute_result"
    }
   ],
   "source": [
    "df.shape"
   ]
  },
  {
   "cell_type": "code",
   "execution_count": 5,
   "metadata": {},
   "outputs": [
    {
     "data": {
      "text/html": [
       "<div>\n",
       "<style scoped>\n",
       "    .dataframe tbody tr th:only-of-type {\n",
       "        vertical-align: middle;\n",
       "    }\n",
       "\n",
       "    .dataframe tbody tr th {\n",
       "        vertical-align: top;\n",
       "    }\n",
       "\n",
       "    .dataframe thead th {\n",
       "        text-align: right;\n",
       "    }\n",
       "</style>\n",
       "<table border=\"1\" class=\"dataframe\">\n",
       "  <thead>\n",
       "    <tr style=\"text-align: right;\">\n",
       "      <th></th>\n",
       "      <th>ACC_x_absint</th>\n",
       "      <th>ACC_x_mean</th>\n",
       "      <th>ACC_x_peak</th>\n",
       "      <th>ACC_x_std</th>\n",
       "      <th>ACC_xyz_absint</th>\n",
       "      <th>ACC_xyz_std</th>\n",
       "      <th>ACC_xzy_mean</th>\n",
       "      <th>ACC_y_absint</th>\n",
       "      <th>ACC_y_mean</th>\n",
       "      <th>ACC_y_peak</th>\n",
       "      <th>...</th>\n",
       "      <th>RESP_stretch</th>\n",
       "      <th>RESP_volume</th>\n",
       "      <th>TEMP_drange</th>\n",
       "      <th>TEMP_max</th>\n",
       "      <th>TEMP_mean</th>\n",
       "      <th>TEMP_min</th>\n",
       "      <th>TEMP_slope</th>\n",
       "      <th>TEMP_std</th>\n",
       "      <th>label</th>\n",
       "      <th>subject</th>\n",
       "    </tr>\n",
       "  </thead>\n",
       "  <tbody>\n",
       "    <tr>\n",
       "      <th>0</th>\n",
       "      <td>33018.685611</td>\n",
       "      <td>0.786178</td>\n",
       "      <td>0.8766</td>\n",
       "      <td>0.030389</td>\n",
       "      <td>13233.532886</td>\n",
       "      <td>21266.015893</td>\n",
       "      <td>6736.963395</td>\n",
       "      <td>6256.039785</td>\n",
       "      <td>0.148957</td>\n",
       "      <td>0.2504</td>\n",
       "      <td>...</td>\n",
       "      <td>10.783828</td>\n",
       "      <td>125.194862</td>\n",
       "      <td>1.010598</td>\n",
       "      <td>35.171936</td>\n",
       "      <td>34.988750</td>\n",
       "      <td>34.803101</td>\n",
       "      <td>-0.000002</td>\n",
       "      <td>0.054536</td>\n",
       "      <td>3</td>\n",
       "      <td>S8</td>\n",
       "    </tr>\n",
       "    <tr>\n",
       "      <th>1</th>\n",
       "      <td>33012.188012</td>\n",
       "      <td>0.786023</td>\n",
       "      <td>0.8766</td>\n",
       "      <td>0.030383</td>\n",
       "      <td>13228.857486</td>\n",
       "      <td>21267.760722</td>\n",
       "      <td>6732.487596</td>\n",
       "      <td>6260.111985</td>\n",
       "      <td>0.149054</td>\n",
       "      <td>0.2504</td>\n",
       "      <td>...</td>\n",
       "      <td>10.783828</td>\n",
       "      <td>125.194862</td>\n",
       "      <td>1.010598</td>\n",
       "      <td>35.171936</td>\n",
       "      <td>34.988785</td>\n",
       "      <td>34.803101</td>\n",
       "      <td>-0.000002</td>\n",
       "      <td>0.054524</td>\n",
       "      <td>3</td>\n",
       "      <td>S8</td>\n",
       "    </tr>\n",
       "    <tr>\n",
       "      <th>2</th>\n",
       "      <td>33006.168612</td>\n",
       "      <td>0.785880</td>\n",
       "      <td>0.8766</td>\n",
       "      <td>0.030367</td>\n",
       "      <td>13225.533786</td>\n",
       "      <td>21268.840449</td>\n",
       "      <td>6728.895262</td>\n",
       "      <td>6264.232385</td>\n",
       "      <td>0.149152</td>\n",
       "      <td>0.2504</td>\n",
       "      <td>...</td>\n",
       "      <td>10.783828</td>\n",
       "      <td>125.194862</td>\n",
       "      <td>1.010598</td>\n",
       "      <td>35.171936</td>\n",
       "      <td>34.988869</td>\n",
       "      <td>34.803101</td>\n",
       "      <td>-0.000002</td>\n",
       "      <td>0.054485</td>\n",
       "      <td>3</td>\n",
       "      <td>S8</td>\n",
       "    </tr>\n",
       "    <tr>\n",
       "      <th>3</th>\n",
       "      <td>33005.078112</td>\n",
       "      <td>0.785855</td>\n",
       "      <td>0.8766</td>\n",
       "      <td>0.030379</td>\n",
       "      <td>13228.145587</td>\n",
       "      <td>21269.264878</td>\n",
       "      <td>6729.222863</td>\n",
       "      <td>6268.463386</td>\n",
       "      <td>0.149253</td>\n",
       "      <td>0.2504</td>\n",
       "      <td>...</td>\n",
       "      <td>10.783828</td>\n",
       "      <td>125.194862</td>\n",
       "      <td>1.010598</td>\n",
       "      <td>35.171936</td>\n",
       "      <td>34.988983</td>\n",
       "      <td>34.803101</td>\n",
       "      <td>-0.000002</td>\n",
       "      <td>0.054432</td>\n",
       "      <td>3</td>\n",
       "      <td>S8</td>\n",
       "    </tr>\n",
       "    <tr>\n",
       "      <th>4</th>\n",
       "      <td>33008.020712</td>\n",
       "      <td>0.785926</td>\n",
       "      <td>0.9390</td>\n",
       "      <td>0.030564</td>\n",
       "      <td>13234.658287</td>\n",
       "      <td>21268.410145</td>\n",
       "      <td>6732.741796</td>\n",
       "      <td>6270.908585</td>\n",
       "      <td>0.149312</td>\n",
       "      <td>0.2504</td>\n",
       "      <td>...</td>\n",
       "      <td>10.783828</td>\n",
       "      <td>119.178477</td>\n",
       "      <td>1.010598</td>\n",
       "      <td>35.171936</td>\n",
       "      <td>34.989079</td>\n",
       "      <td>34.803101</td>\n",
       "      <td>-0.000002</td>\n",
       "      <td>0.054387</td>\n",
       "      <td>3</td>\n",
       "      <td>S8</td>\n",
       "    </tr>\n",
       "  </tbody>\n",
       "</table>\n",
       "<p>5 rows × 79 columns</p>\n",
       "</div>"
      ],
      "text/plain": [
       "   ACC_x_absint  ACC_x_mean  ACC_x_peak  ACC_x_std  ACC_xyz_absint  \\\n",
       "0  33018.685611    0.786178      0.8766   0.030389    13233.532886   \n",
       "1  33012.188012    0.786023      0.8766   0.030383    13228.857486   \n",
       "2  33006.168612    0.785880      0.8766   0.030367    13225.533786   \n",
       "3  33005.078112    0.785855      0.8766   0.030379    13228.145587   \n",
       "4  33008.020712    0.785926      0.9390   0.030564    13234.658287   \n",
       "\n",
       "    ACC_xyz_std  ACC_xzy_mean  ACC_y_absint  ACC_y_mean  ACC_y_peak  ...  \\\n",
       "0  21266.015893   6736.963395   6256.039785    0.148957      0.2504  ...   \n",
       "1  21267.760722   6732.487596   6260.111985    0.149054      0.2504  ...   \n",
       "2  21268.840449   6728.895262   6264.232385    0.149152      0.2504  ...   \n",
       "3  21269.264878   6729.222863   6268.463386    0.149253      0.2504  ...   \n",
       "4  21268.410145   6732.741796   6270.908585    0.149312      0.2504  ...   \n",
       "\n",
       "   RESP_stretch  RESP_volume  TEMP_drange   TEMP_max  TEMP_mean   TEMP_min  \\\n",
       "0     10.783828   125.194862     1.010598  35.171936  34.988750  34.803101   \n",
       "1     10.783828   125.194862     1.010598  35.171936  34.988785  34.803101   \n",
       "2     10.783828   125.194862     1.010598  35.171936  34.988869  34.803101   \n",
       "3     10.783828   125.194862     1.010598  35.171936  34.988983  34.803101   \n",
       "4     10.783828   119.178477     1.010598  35.171936  34.989079  34.803101   \n",
       "\n",
       "   TEMP_slope  TEMP_std  label  subject  \n",
       "0   -0.000002  0.054536      3       S8  \n",
       "1   -0.000002  0.054524      3       S8  \n",
       "2   -0.000002  0.054485      3       S8  \n",
       "3   -0.000002  0.054432      3       S8  \n",
       "4   -0.000002  0.054387      3       S8  \n",
       "\n",
       "[5 rows x 79 columns]"
      ]
     },
     "execution_count": 5,
     "metadata": {},
     "output_type": "execute_result"
    }
   ],
   "source": [
    "df.head()"
   ]
  },
  {
   "cell_type": "code",
   "execution_count": 6,
   "metadata": {},
   "outputs": [
    {
     "data": {
      "text/plain": [
       "Index(['ACC_x_absint', 'ACC_x_mean', 'ACC_x_peak', 'ACC_x_std',\n",
       "       'ACC_xyz_absint', 'ACC_xyz_std', 'ACC_xzy_mean', 'ACC_y_absint',\n",
       "       'ACC_y_mean', 'ACC_y_peak', 'ACC_y_std', 'ACC_z_absint', 'ACC_z_mean',\n",
       "       'ACC_z_peak', 'ACC_z_std', 'ECG_hr_mean', 'ECG_hr_std', 'ECG_hrv_HF',\n",
       "       'ECG_hrv_HFn', 'ECG_hrv_LF', 'ECG_hrv_LFHF_ratio', 'ECG_hrv_LFn',\n",
       "       'ECG_hrv_NN50', 'ECG_hrv_RMS', 'ECG_hrv_TINN', 'ECG_hrv_ULF',\n",
       "       'ECG_hrv_VHF', 'ECG_hrv_f_sum', 'ECG_hrv_pNN50', 'ECG_hrv_rel_HF',\n",
       "       'ECG_hrv_rel_LF', 'ECG_hrv_rel_ULF', 'ECG_hrv_rel_VHF', 'EDA_SCL_mean',\n",
       "       'EDA_SCL_std', 'EDA_SCR_mean', 'EDA_SCR_no', 'EDA_SCR_std',\n",
       "       'EDA_ampl_sum', 'EDA_corr_SCL_t', 'EDA_drange', 'EDA_max', 'EDA_mean',\n",
       "       'EDA_min', 'EDA_scr_area', 'EDA_slope', 'EDA_std', 'EMG_absint',\n",
       "       'EMG_drange', 'EMG_mean', 'EMG_mean_freq', 'EMG_median',\n",
       "       'EMG_median_freq', 'EMG_peak_amp_mean', 'EMG_peak_amp_norm_sum',\n",
       "       'EMG_peak_amp_std', 'EMG_peak_amp_sum', 'EMG_peak_freq', 'EMG_peak_no',\n",
       "       'EMG_perc_10', 'EMG_perc_90', 'EMG_std', 'RESP_breath_rate',\n",
       "       'RESP_duration', 'RESP_exhal_mean', 'RESP_exhal_std', 'RESP_ie_ratio',\n",
       "       'RESP_inhal_mean', 'RESP_inhal_std', 'RESP_stretch', 'RESP_volume',\n",
       "       'TEMP_drange', 'TEMP_max', 'TEMP_mean', 'TEMP_min', 'TEMP_slope',\n",
       "       'TEMP_std', 'label', 'subject'],\n",
       "      dtype='object')"
      ]
     },
     "execution_count": 6,
     "metadata": {},
     "output_type": "execute_result"
    }
   ],
   "source": [
    "df.columns"
   ]
  },
  {
   "cell_type": "markdown",
   "metadata": {},
   "source": [
    "## Picking a modality\n",
    "\n",
    "Prior executing the models, uncomment a modality from the following cells"
   ]
  },
  {
   "cell_type": "code",
   "execution_count": 191,
   "metadata": {},
   "outputs": [],
   "source": [
    "# modality = 'ACC'\n",
    "# modality = 'ECG'\n",
    "# modality = 'EDA'\n",
    "# modality = 'EMG'\n",
    "# modality = 'RESP'\n",
    "modality = 'TEMP'"
   ]
  },
  {
   "cell_type": "code",
   "execution_count": 30,
   "metadata": {},
   "outputs": [],
   "source": [
    "df_report = pd.DataFrame()\n",
    "df_report.loc['ACC', :] = []\n",
    "df_report.loc['ECG', :] = []\n",
    "df_report.loc['EDA', :] = []\n",
    "df_report.loc['EMG', :] = []\n",
    "df_report.loc['RESP', :] = []\n",
    "df_report.loc['TEMP', :] = []"
   ]
  },
  {
   "cell_type": "code",
   "execution_count": 192,
   "metadata": {},
   "outputs": [],
   "source": [
    "mod_cols = df.columns[df.columns.str.startswith(modality)]"
   ]
  },
  {
   "cell_type": "markdown",
   "metadata": {},
   "source": [
    "## Splitting data for CV"
   ]
  },
  {
   "cell_type": "code",
   "execution_count": 193,
   "metadata": {},
   "outputs": [
    {
     "name": "stdout",
     "output_type": "stream",
     "text": [
      "(113425,)\n",
      "(113621,)\n",
      "(113628,)\n",
      "(113624,)\n",
      "(113601,)\n",
      "(113648,)\n",
      "(113429,)\n",
      "(114049,)\n",
      "(113913,)\n",
      "(113872,)\n",
      "(113665,)\n",
      "(113725,)\n",
      "(113740,)\n",
      "(113697,)\n",
      "(113745,)\n"
     ]
    }
   ],
   "source": [
    "X = df[mod_cols]\n",
    "y = df['label']\n",
    "y_b = y.copy().apply(lambda x: 1 if x == 2 else 0)  # stress vs non-stress\n",
    "loso_cv = LeaveOneGroupOut()  # just to analyze training set sizes\n",
    "for train, test in loso_cv.split(X, y, groups=df['subject']):\n",
    "    print(train.shape)"
   ]
  },
  {
   "cell_type": "code",
   "execution_count": 194,
   "metadata": {},
   "outputs": [
    {
     "data": {
      "text/plain": [
       "(121813, 6)"
      ]
     },
     "execution_count": 194,
     "metadata": {},
     "output_type": "execute_result"
    }
   ],
   "source": [
    "X.shape"
   ]
  },
  {
   "cell_type": "markdown",
   "metadata": {},
   "source": [
    "## Hyperparameters"
   ]
  },
  {
   "cell_type": "code",
   "execution_count": 195,
   "metadata": {},
   "outputs": [],
   "source": [
    "n_estimators = 100\n",
    "min_samples_split = 20\n",
    "criterion = 'entropy'  # information gain\n",
    "subjects = df['subject'].unique()"
   ]
  },
  {
   "cell_type": "code",
   "execution_count": 196,
   "metadata": {},
   "outputs": [],
   "source": [
    "def run_cv(clf, X, y, groups, cv, scoring=['accuracy', 'f1_macro'], return_train_score=True,\n",
    "          return_estimator=True, n_jobs=-1):\n",
    "    \"\"\"\n",
    "        More on cross validation: https://scikit-learn.org/stable/modules/cross_validation.html#\n",
    "        More on scoring: https://scikit-learn.org/stable/modules/model_evaluation.html#scoring-parameter\n",
    "    \"\"\"\n",
    "    return cross_validate(clf, X, y, groups=groups, cv=cv, scoring=scoring, return_train_score=return_train_score,\n",
    "                          return_estimator=return_estimator, n_jobs=n_jobs)\n",
    "def raw_scores(cv):\n",
    "    return np.mean(cv['test_accuracy']), np.mean(cv['test_f1_macro'])\n",
    "\n",
    "def test_score(cv):\n",
    "    return {\n",
    "        'accuracy': f\"{np.mean(cv['test_accuracy'])} +-{np.std(cv['test_accuracy'])}\",\n",
    "        'f1_macro': f\"{np.mean(cv['test_f1_macro'])} +-{np.std(cv['test_f1_macro'])}\"\n",
    "    }\n",
    "\n",
    "def min_max(acc_scores):\n",
    "    print(np.argmax(acc_scores), np.amax(acc_scores))\n",
    "    print(np.argmin(acc_scores), np.amin(acc_scores))"
   ]
  },
  {
   "cell_type": "markdown",
   "metadata": {},
   "source": [
    "# Random Forest"
   ]
  },
  {
   "cell_type": "code",
   "execution_count": 197,
   "metadata": {},
   "outputs": [],
   "source": [
    "def create_rf_pipeline(n_estimators=100, min_samples_split=20, criterion='entropy', n_jobs=-1):\n",
    "    model_rf =  RandomForestClassifier(n_estimators=n_estimators, min_samples_split=min_samples_split, \n",
    "                                  criterion=criterion, n_jobs=-1)\n",
    "    return make_pipeline(StandardScaler(), model_rf)"
   ]
  },
  {
   "cell_type": "markdown",
   "metadata": {},
   "source": [
    "### Baseline vs Stress vs Amusement"
   ]
  },
  {
   "cell_type": "code",
   "execution_count": 198,
   "metadata": {},
   "outputs": [
    {
     "data": {
      "text/plain": [
       "{'accuracy': '0.499754647995666 +-0.19306057821544867',\n",
       " 'f1_macro': '0.40883665575794165 +-0.18470415760962317'}"
      ]
     },
     "execution_count": 198,
     "metadata": {},
     "output_type": "execute_result"
    }
   ],
   "source": [
    "clf_rf_all = create_rf_pipeline(n_estimators=n_estimators, min_samples_split=min_samples_split,\n",
    "                                criterion=criterion, n_jobs=-1)\n",
    "cv_rf_all = run_cv(clf_rf_all, X, y, groups=df['subject'], cv=LeaveOneGroupOut())\n",
    "test_score(cv_rf_all)"
   ]
  },
  {
   "cell_type": "code",
   "execution_count": 199,
   "metadata": {},
   "outputs": [
    {
     "data": {
      "image/png": "[encoded data removed]",
      "text/plain": [
       "<Figure size 432x288 with 1 Axes>"
      ]
     },
     "metadata": {
      "needs_background": "light"
     },
     "output_type": "display_data"
    }
   ],
   "source": [
    "sns.barplot(x=list(range(len(subjects))), y=cv_rf_all['test_accuracy']);"
   ]
  },
  {
   "cell_type": "code",
   "execution_count": 200,
   "metadata": {},
   "outputs": [
    {
     "name": "stdout",
     "output_type": "stream",
     "text": [
      "2 0.8196701282834453\n",
      "8 0.005316455696202532\n"
     ]
    }
   ],
   "source": [
    "min_max(cv_rf_all['test_accuracy'])"
   ]
  },
  {
   "cell_type": "markdown",
   "metadata": {},
   "source": [
    "### Stress vs Non-Stress"
   ]
  },
  {
   "cell_type": "code",
   "execution_count": 201,
   "metadata": {},
   "outputs": [
    {
     "name": "stdout",
     "output_type": "stream",
     "text": [
      "{'accuracy': '0.6427685858944838 +-0.14943073781633812', 'f1_macro': '0.5351300574621347 +-0.17146963445978558'}\n"
     ]
    }
   ],
   "source": [
    "clf_b_rf_all = create_rf_pipeline(n_estimators=n_estimators, min_samples_split=min_samples_split,\n",
    "                              criterion=criterion, n_jobs=-1)\n",
    "cv_b_rf_all = run_cv(clf_b_rf_all, X, y_b, groups=df['subject'], cv=LeaveOneGroupOut())\n",
    "print(test_score(cv_b_rf_all))"
   ]
  },
  {
   "cell_type": "code",
   "execution_count": 202,
   "metadata": {},
   "outputs": [
    {
     "data": {
      "image/png": "[encoded data removed]",
      "text/plain": [
       "<Figure size 432x288 with 1 Axes>"
      ]
     },
     "metadata": {
      "needs_background": "light"
     },
     "output_type": "display_data"
    }
   ],
   "source": [
    "sns.barplot(x=list(range(len(subjects))), y=cv_b_rf_all['test_accuracy']);"
   ]
  },
  {
   "cell_type": "code",
   "execution_count": 203,
   "metadata": {},
   "outputs": [
    {
     "name": "stdout",
     "output_type": "stream",
     "text": [
      "2 0.8707391569945021\n",
      "13 0.33526367668802365\n"
     ]
    }
   ],
   "source": [
    "min_max(cv_b_rf_all['test_accuracy'])"
   ]
  },
  {
   "cell_type": "code",
   "execution_count": 204,
   "metadata": {},
   "outputs": [],
   "source": [
    "rf_acc, rf_f1 = raw_scores(cv_rf_all)\n",
    "rf_b_acc, rf_b_f1 = raw_scores(cv_b_rf_all)\n",
    "df_report.loc[modality, 'rf_f1'] = rf_f1\n",
    "df_report.loc[modality, 'rf_acc'] = rf_acc\n",
    "df_report.loc[modality, 'rf_b_f1'] = rf_b_f1\n",
    "df_report.loc[modality, 'rf_b_acc'] = rf_b_acc"
   ]
  },
  {
   "cell_type": "markdown",
   "metadata": {},
   "source": [
    "# AdaBoost"
   ]
  },
  {
   "cell_type": "code",
   "execution_count": 205,
   "metadata": {},
   "outputs": [],
   "source": [
    "def create_ab_pipeline(n_estimators=100, min_samples_split=20, criterion='entropy'):\n",
    "    base_estimator = DecisionTreeClassifier(criterion=criterion, min_samples_split=min_samples_split)\n",
    "    model_ab = AdaBoostClassifier(base_estimator=base_estimator, n_estimators=n_estimators)\n",
    "    return make_pipeline(StandardScaler(), model_ab)"
   ]
  },
  {
   "cell_type": "markdown",
   "metadata": {},
   "source": [
    "### Baseline vs Stress vs Amusement"
   ]
  },
  {
   "cell_type": "code",
   "execution_count": 206,
   "metadata": {},
   "outputs": [
    {
     "data": {
      "text/plain": [
       "{'accuracy': '0.4947611645544441 +-0.17061247031579288',\n",
       " 'f1_macro': '0.386726902486435 +-0.15451625574115885'}"
      ]
     },
     "execution_count": 206,
     "metadata": {},
     "output_type": "execute_result"
    }
   ],
   "source": [
    "clf_ab_all = create_ab_pipeline()\n",
    "cv_ab_all = run_cv(clf_ab_all, X, y, groups=df['subject'], cv=LeaveOneGroupOut())\n",
    "test_score(cv_ab_all)"
   ]
  },
  {
   "cell_type": "code",
   "execution_count": 207,
   "metadata": {},
   "outputs": [
    {
     "data": {
      "image/png": "[encoded data removed]",
      "text/plain": [
       "<Figure size 432x288 with 1 Axes>"
      ]
     },
     "metadata": {
      "needs_background": "light"
     },
     "output_type": "display_data"
    }
   ],
   "source": [
    "sns.barplot(x=list(range(len(subjects))), y=cv_ab_all['test_accuracy']);"
   ]
  },
  {
   "cell_type": "code",
   "execution_count": 208,
   "metadata": {},
   "outputs": [
    {
     "name": "stdout",
     "output_type": "stream",
     "text": [
      "2 0.7997556505803298\n",
      "8 0.12974683544303797\n"
     ]
    }
   ],
   "source": [
    "min_max(cv_ab_all['test_accuracy'])"
   ]
  },
  {
   "cell_type": "markdown",
   "metadata": {},
   "source": [
    "### Stress vs Non-stress"
   ]
  },
  {
   "cell_type": "code",
   "execution_count": 209,
   "metadata": {},
   "outputs": [
    {
     "data": {
      "text/plain": [
       "{'accuracy': '0.6147497201006527 +-0.15978252785041336',\n",
       " 'f1_macro': '0.5004780403703463 +-0.15670744402557127'}"
      ]
     },
     "execution_count": 209,
     "metadata": {},
     "output_type": "execute_result"
    }
   ],
   "source": [
    "clf_b_ab_all = create_ab_pipeline()\n",
    "cv_b_ab_all = run_cv(clf_b_ab_all, X, y_b, groups=df['subject'], cv=LeaveOneGroupOut())\n",
    "test_score(cv_b_ab_all)"
   ]
  },
  {
   "cell_type": "code",
   "execution_count": 210,
   "metadata": {},
   "outputs": [
    {
     "data": {
      "image/png": "[encoded data removed]",
      "text/plain": [
       "<Figure size 432x288 with 1 Axes>"
      ]
     },
     "metadata": {
      "needs_background": "light"
     },
     "output_type": "display_data"
    }
   ],
   "source": [
    "sns.barplot(x=list(range(len(subjects))), y=cv_b_ab_all['test_accuracy']);"
   ]
  },
  {
   "cell_type": "code",
   "execution_count": 211,
   "metadata": {},
   "outputs": [
    {
     "name": "stdout",
     "output_type": "stream",
     "text": [
      "2 0.8467929138668295\n",
      "13 0.23410547067520945\n"
     ]
    }
   ],
   "source": [
    "min_max(cv_b_ab_all['test_accuracy'])"
   ]
  },
  {
   "cell_type": "code",
   "execution_count": 212,
   "metadata": {},
   "outputs": [],
   "source": [
    "ab_acc, ab_f1 = raw_scores(cv_ab_all)\n",
    "ab_b_acc, ab_b_f1 = raw_scores(cv_b_ab_all)\n",
    "df_report.loc[modality, 'ab_f1'] = ab_f1\n",
    "df_report.loc[modality, 'ab_acc'] = ab_acc\n",
    "df_report.loc[modality, 'ab_b_f1'] = ab_b_f1\n",
    "df_report.loc[modality, 'ab_b_acc'] = ab_b_acc"
   ]
  },
  {
   "cell_type": "markdown",
   "metadata": {},
   "source": [
    "# LDA"
   ]
  },
  {
   "cell_type": "code",
   "execution_count": 213,
   "metadata": {},
   "outputs": [],
   "source": [
    "def create_lda_pipeline():\n",
    "    return make_pipeline(StandardScaler(), LDA())"
   ]
  },
  {
   "cell_type": "markdown",
   "metadata": {},
   "source": [
    "### Baseline vs Stress vs Non-stress"
   ]
  },
  {
   "cell_type": "code",
   "execution_count": 214,
   "metadata": {},
   "outputs": [
    {
     "data": {
      "text/plain": [
       "{'accuracy': '0.5754434914420609 +-0.06968548217118739',\n",
       " 'f1_macro': '0.2897186265347211 +-0.10195462544511139'}"
      ]
     },
     "execution_count": 214,
     "metadata": {},
     "output_type": "execute_result"
    }
   ],
   "source": [
    "model_lda_all = create_lda_pipeline()\n",
    "cv_lda_all = run_cv(model_lda_all, X, y, groups=df['subject'], cv=LeaveOneGroupOut())\n",
    "test_score(cv_lda_all)"
   ]
  },
  {
   "cell_type": "code",
   "execution_count": 215,
   "metadata": {},
   "outputs": [
    {
     "data": {
      "image/png": "[encoded data removed]",
      "text/plain": [
       "<Figure size 432x288 with 1 Axes>"
      ]
     },
     "metadata": {
      "needs_background": "light"
     },
     "output_type": "display_data"
    }
   ],
   "source": [
    "sns.barplot(x=list(range(len(subjects))), y=cv_lda_all['test_accuracy']);"
   ]
  },
  {
   "cell_type": "code",
   "execution_count": 216,
   "metadata": {},
   "outputs": [
    {
     "name": "stdout",
     "output_type": "stream",
     "text": [
      "0 0.7867191225560324\n",
      "7 0.49806800618238023\n"
     ]
    }
   ],
   "source": [
    "min_max(cv_lda_all['test_accuracy'])"
   ]
  },
  {
   "cell_type": "markdown",
   "metadata": {},
   "source": [
    "### Stress vs Non-Stress"
   ]
  },
  {
   "cell_type": "code",
   "execution_count": 217,
   "metadata": {},
   "outputs": [
    {
     "data": {
      "text/plain": [
       "{'accuracy': '0.7052835593936336 +-0.03168774005457038',\n",
       " 'f1_macro': '0.43031788404186333 +-0.07263065593746956'}"
      ]
     },
     "execution_count": 217,
     "metadata": {},
     "output_type": "execute_result"
    }
   ],
   "source": [
    "model_b_lda_all = create_lda_pipeline()\n",
    "cv_b_lda_all = run_cv(model_b_lda_all, X, y_b, groups=df['subject'], cv=LeaveOneGroupOut())\n",
    "test_score(cv_b_lda_all)"
   ]
  },
  {
   "cell_type": "code",
   "execution_count": 218,
   "metadata": {},
   "outputs": [
    {
     "data": {
      "image/png": "[encoded data removed]",
      "text/plain": [
       "<Figure size 432x288 with 1 Axes>"
      ]
     },
     "metadata": {
      "needs_background": "light"
     },
     "output_type": "display_data"
    }
   ],
   "source": [
    "sns.barplot(x=list(range(len(subjects))), y=cv_b_lda_all['test_accuracy']);"
   ]
  },
  {
   "cell_type": "code",
   "execution_count": 219,
   "metadata": {},
   "outputs": [
    {
     "name": "stdout",
     "output_type": "stream",
     "text": [
      "8 0.809873417721519\n",
      "7 0.6531427099433282\n"
     ]
    }
   ],
   "source": [
    "min_max(cv_b_lda_all['test_accuracy'])"
   ]
  },
  {
   "cell_type": "code",
   "execution_count": 220,
   "metadata": {},
   "outputs": [],
   "source": [
    "lda_acc, lda_f1 = raw_scores(cv_lda_all)\n",
    "lda_b_acc, lda_b_f1 = raw_scores(cv_b_lda_all)\n",
    "df_report.loc[modality, 'lda_f1'] = lda_f1\n",
    "df_report.loc[modality, 'lda_acc'] = lda_acc\n",
    "df_report.loc[modality, 'lda_b_f1'] = lda_b_f1\n",
    "df_report.loc[modality, 'lda_b_acc'] = lda_b_acc"
   ]
  },
  {
   "cell_type": "markdown",
   "metadata": {},
   "source": [
    "## Results"
   ]
  },
  {
   "cell_type": "code",
   "execution_count": 221,
   "metadata": {},
   "outputs": [
    {
     "data": {
      "text/html": [
       "<div>\n",
       "<style scoped>\n",
       "    .dataframe tbody tr th:only-of-type {\n",
       "        vertical-align: middle;\n",
       "    }\n",
       "\n",
       "    .dataframe tbody tr th {\n",
       "        vertical-align: top;\n",
       "    }\n",
       "\n",
       "    .dataframe thead th {\n",
       "        text-align: right;\n",
       "    }\n",
       "</style>\n",
       "<table border=\"1\" class=\"dataframe\">\n",
       "  <thead>\n",
       "    <tr style=\"text-align: right;\">\n",
       "      <th></th>\n",
       "      <th>rf_f1</th>\n",
       "      <th>rf_acc</th>\n",
       "      <th>rf_b_f1</th>\n",
       "      <th>rf_b_acc</th>\n",
       "      <th>ab_f1</th>\n",
       "      <th>ab_acc</th>\n",
       "      <th>ab_b_f1</th>\n",
       "      <th>ab_b_acc</th>\n",
       "      <th>lda_f1</th>\n",
       "      <th>lda_acc</th>\n",
       "      <th>lda_b_f1</th>\n",
       "      <th>lda_b_acc</th>\n",
       "    </tr>\n",
       "  </thead>\n",
       "  <tbody>\n",
       "    <tr>\n",
       "      <th>ACC</th>\n",
       "      <td>0.395361</td>\n",
       "      <td>0.559278</td>\n",
       "      <td>0.569841</td>\n",
       "      <td>0.723911</td>\n",
       "      <td>0.448804</td>\n",
       "      <td>0.591598</td>\n",
       "      <td>0.588321</td>\n",
       "      <td>0.733027</td>\n",
       "      <td>0.400382</td>\n",
       "      <td>0.597001</td>\n",
       "      <td>0.542222</td>\n",
       "      <td>0.700070</td>\n",
       "    </tr>\n",
       "    <tr>\n",
       "      <th>ECG</th>\n",
       "      <td>0.518569</td>\n",
       "      <td>0.660007</td>\n",
       "      <td>0.796300</td>\n",
       "      <td>0.839966</td>\n",
       "      <td>0.515433</td>\n",
       "      <td>0.662472</td>\n",
       "      <td>0.800814</td>\n",
       "      <td>0.844100</td>\n",
       "      <td>0.515813</td>\n",
       "      <td>0.708160</td>\n",
       "      <td>0.809485</td>\n",
       "      <td>0.865115</td>\n",
       "    </tr>\n",
       "    <tr>\n",
       "      <th>EDA</th>\n",
       "      <td>0.643974</td>\n",
       "      <td>0.667019</td>\n",
       "      <td>0.749781</td>\n",
       "      <td>0.787745</td>\n",
       "      <td>0.621201</td>\n",
       "      <td>0.645761</td>\n",
       "      <td>0.741442</td>\n",
       "      <td>0.781814</td>\n",
       "      <td>0.451855</td>\n",
       "      <td>0.574640</td>\n",
       "      <td>0.692621</td>\n",
       "      <td>0.764252</td>\n",
       "    </tr>\n",
       "    <tr>\n",
       "      <th>EMG</th>\n",
       "      <td>0.462594</td>\n",
       "      <td>0.607954</td>\n",
       "      <td>0.599067</td>\n",
       "      <td>0.713775</td>\n",
       "      <td>0.480842</td>\n",
       "      <td>0.620192</td>\n",
       "      <td>0.610554</td>\n",
       "      <td>0.723836</td>\n",
       "      <td>0.445108</td>\n",
       "      <td>0.599009</td>\n",
       "      <td>0.614172</td>\n",
       "      <td>0.724727</td>\n",
       "    </tr>\n",
       "    <tr>\n",
       "      <th>RESP</th>\n",
       "      <td>0.545764</td>\n",
       "      <td>0.676278</td>\n",
       "      <td>0.786080</td>\n",
       "      <td>0.824339</td>\n",
       "      <td>0.544442</td>\n",
       "      <td>0.682530</td>\n",
       "      <td>0.785471</td>\n",
       "      <td>0.821546</td>\n",
       "      <td>0.545973</td>\n",
       "      <td>0.698706</td>\n",
       "      <td>0.796305</td>\n",
       "      <td>0.841577</td>\n",
       "    </tr>\n",
       "    <tr>\n",
       "      <th>TEMP</th>\n",
       "      <td>0.408837</td>\n",
       "      <td>0.499755</td>\n",
       "      <td>0.535130</td>\n",
       "      <td>0.642769</td>\n",
       "      <td>0.386727</td>\n",
       "      <td>0.494761</td>\n",
       "      <td>0.500478</td>\n",
       "      <td>0.614750</td>\n",
       "      <td>0.289719</td>\n",
       "      <td>0.575443</td>\n",
       "      <td>0.430318</td>\n",
       "      <td>0.705284</td>\n",
       "    </tr>\n",
       "  </tbody>\n",
       "</table>\n",
       "</div>"
      ],
      "text/plain": [
       "         rf_f1    rf_acc   rf_b_f1  rf_b_acc     ab_f1    ab_acc   ab_b_f1  \\\n",
       "ACC   0.395361  0.559278  0.569841  0.723911  0.448804  0.591598  0.588321   \n",
       "ECG   0.518569  0.660007  0.796300  0.839966  0.515433  0.662472  0.800814   \n",
       "EDA   0.643974  0.667019  0.749781  0.787745  0.621201  0.645761  0.741442   \n",
       "EMG   0.462594  0.607954  0.599067  0.713775  0.480842  0.620192  0.610554   \n",
       "RESP  0.545764  0.676278  0.786080  0.824339  0.544442  0.682530  0.785471   \n",
       "TEMP  0.408837  0.499755  0.535130  0.642769  0.386727  0.494761  0.500478   \n",
       "\n",
       "      ab_b_acc    lda_f1   lda_acc  lda_b_f1  lda_b_acc  \n",
       "ACC   0.733027  0.400382  0.597001  0.542222   0.700070  \n",
       "ECG   0.844100  0.515813  0.708160  0.809485   0.865115  \n",
       "EDA   0.781814  0.451855  0.574640  0.692621   0.764252  \n",
       "EMG   0.723836  0.445108  0.599009  0.614172   0.724727  \n",
       "RESP  0.821546  0.545973  0.698706  0.796305   0.841577  \n",
       "TEMP  0.614750  0.289719  0.575443  0.430318   0.705284  "
      ]
     },
     "execution_count": 221,
     "metadata": {},
     "output_type": "execute_result"
    }
   ],
   "source": [
    "df_report"
   ]
  },
  {
   "cell_type": "code",
   "execution_count": 222,
   "metadata": {},
   "outputs": [],
   "source": [
    "df_report.to_csv('chest_scores_per_mod.csv')"
   ]
  },
  {
   "cell_type": "code",
   "execution_count": 1,
   "metadata": {},
   "outputs": [],
   "source": [
    "# df_report.to_markdown()"
   ]
  },
  {
   "cell_type": "code",
   "execution_count": null,
   "metadata": {},
   "outputs": [],
   "source": []
  }
 ],
 "metadata": {
  "kernelspec": {
   "display_name": "Python 3",
   "language": "python",
   "name": "python3"
  },
  "language_info": {
   "codemirror_mode": {
    "name": "ipython",
    "version": 3
   },
   "file_extension": ".py",
   "mimetype": "text/x-python",
   "name": "python",
   "nbconvert_exporter": "python",
   "pygments_lexer": "ipython3",
   "version": "3.7.7"
  }
 },
 "nbformat": 4,
 "nbformat_minor": 4
}
