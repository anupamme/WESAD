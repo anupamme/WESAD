{
 "cells": [
  {
   "cell_type": "markdown",
   "metadata": {
    "colab_type": "text",
    "id": "view-in-github"
   },
   "source": [
    "<a href=\"https://colab.research.google.com/github/santteegt/om-fol-timeseries/blob/master/WESAD_Data_Exploration.ipynb\" target=\"_parent\"><img src=\"https://colab.research.google.com/assets/colab-badge.svg\" alt=\"Open In Colab\"/></a>"
   ]
  },
  {
   "cell_type": "markdown",
   "metadata": {
    "colab_type": "text",
    "id": "xPBxt5U64v8n"
   },
   "source": [
    "# WESAD - A Multimodal Dataset for Wearable Stress and Affect Detection\n",
    "\n",
    "This notebook does data segmentation. Filters were applied to raw data to finally apply a sliding window of 0.25 sec with a window size of 1 second"
   ]
  },
  {
   "cell_type": "markdown",
   "metadata": {
    "colab_type": "text",
    "id": "scMGFUBL1cVY"
   },
   "source": [
    "## Requires Dependencies"
   ]
  },
  {
   "cell_type": "code",
   "execution_count": 3,
   "metadata": {
    "colab": {
     "base_uri": "https://localhost:8080/",
     "height": 714
    },
    "colab_type": "code",
    "id": "vPwtauZv0M-M",
    "outputId": "7d9022f3-77c8-4200-e391-0f2863057120"
   },
   "outputs": [
    {
     "name": "stdout",
     "output_type": "stream",
     "text": [
      "Requirement already satisfied: neurokit2 in /Users/santteegt/anaconda3/envs/om_research/lib/python3.6/site-packages (0.0.36)\n",
      "Requirement already satisfied: pyhrv in /Users/santteegt/anaconda3/envs/om_research/lib/python3.6/site-packages (0.4.0)\n",
      "Requirement already satisfied: pyarrow in /Users/santteegt/anaconda3/envs/om_research/lib/python3.6/site-packages (0.17.1)\n",
      "Requirement already satisfied: scipy in /Users/santteegt/anaconda3/envs/om_research/lib/python3.6/site-packages (from neurokit2) (1.4.1)\n",
      "Requirement already satisfied: matplotlib in /Users/santteegt/anaconda3/envs/om_research/lib/python3.6/site-packages (from neurokit2) (3.2.1)\n",
      "Requirement already satisfied: pandas in /Users/santteegt/anaconda3/envs/om_research/lib/python3.6/site-packages (from neurokit2) (1.0.3)\n",
      "Requirement already satisfied: numpy in /Users/santteegt/anaconda3/envs/om_research/lib/python3.6/site-packages (from neurokit2) (1.18.4)\n",
      "Requirement already satisfied: sklearn in /Users/santteegt/anaconda3/envs/om_research/lib/python3.6/site-packages (from neurokit2) (0.0)\n",
      "Requirement already satisfied: biosppy in /Users/santteegt/anaconda3/envs/om_research/lib/python3.6/site-packages (from pyhrv) (0.6.1)\n",
      "Requirement already satisfied: nolds in /Users/santteegt/anaconda3/envs/om_research/lib/python3.6/site-packages (from pyhrv) (0.5.2)\n",
      "Requirement already satisfied: spectrum in /Users/santteegt/anaconda3/envs/om_research/lib/python3.6/site-packages (from pyhrv) (0.7.6)\n",
      "Requirement already satisfied: kiwisolver>=1.0.1 in /Users/santteegt/anaconda3/envs/om_research/lib/python3.6/site-packages (from matplotlib->neurokit2) (1.2.0)\n",
      "Requirement already satisfied: pyparsing!=2.0.4,!=2.1.2,!=2.1.6,>=2.0.1 in /Users/santteegt/anaconda3/envs/om_research/lib/python3.6/site-packages (from matplotlib->neurokit2) (2.4.7)\n",
      "Requirement already satisfied: python-dateutil>=2.1 in /Users/santteegt/anaconda3/envs/om_research/lib/python3.6/site-packages (from matplotlib->neurokit2) (2.8.1)\n",
      "Requirement already satisfied: cycler>=0.10 in /Users/santteegt/anaconda3/envs/om_research/lib/python3.6/site-packages (from matplotlib->neurokit2) (0.10.0)\n",
      "Requirement already satisfied: pytz>=2017.2 in /Users/santteegt/anaconda3/envs/om_research/lib/python3.6/site-packages (from pandas->neurokit2) (2020.1)\n",
      "Requirement already satisfied: scikit-learn in /Users/santteegt/anaconda3/envs/om_research/lib/python3.6/site-packages (from sklearn->neurokit2) (0.23.0)\n",
      "Requirement already satisfied: bidict in /Users/santteegt/anaconda3/envs/om_research/lib/python3.6/site-packages (from biosppy->pyhrv) (0.19.0)\n",
      "Requirement already satisfied: h5py in /Users/santteegt/anaconda3/envs/om_research/lib/python3.6/site-packages (from biosppy->pyhrv) (2.10.0)\n",
      "Requirement already satisfied: shortuuid in /Users/santteegt/anaconda3/envs/om_research/lib/python3.6/site-packages (from biosppy->pyhrv) (1.0.1)\n",
      "Requirement already satisfied: six in /Users/santteegt/anaconda3/envs/om_research/lib/python3.6/site-packages (from biosppy->pyhrv) (1.14.0)\n",
      "Requirement already satisfied: setuptools in /Users/santteegt/anaconda3/envs/om_research/lib/python3.6/site-packages (from nolds->pyhrv) (46.1.3.post20200330)\n",
      "Requirement already satisfied: future in /Users/santteegt/anaconda3/envs/om_research/lib/python3.6/site-packages (from nolds->pyhrv) (0.18.2)\n",
      "Requirement already satisfied: joblib>=0.11 in /Users/santteegt/anaconda3/envs/om_research/lib/python3.6/site-packages (from scikit-learn->sklearn->neurokit2) (0.15.1)\n",
      "Requirement already satisfied: threadpoolctl>=2.0.0 in /Users/santteegt/anaconda3/envs/om_research/lib/python3.6/site-packages (from scikit-learn->sklearn->neurokit2) (2.0.0)\n"
     ]
    }
   ],
   "source": [
    "!pip install neurokit2 pyhrv pyarrow"
   ]
  },
  {
   "cell_type": "code",
   "execution_count": 4,
   "metadata": {
    "colab": {},
    "colab_type": "code",
    "id": "REMGlK_Z3zq6"
   },
   "outputs": [],
   "source": [
    "import concurrent.futures\n",
    "from datetime import timedelta\n",
    "\n",
    "import gzip\n",
    "import logging\n",
    "import matplotlib as plt\n",
    "import neurokit2 as nk\n",
    "import numpy as np\n",
    "import os\n",
    "import pandas as pd\n",
    "import pyhrv\n",
    "import scipy.signal as scisig\n",
    "import scipy.stats\n",
    "import shutil\n",
    "import time\n",
    "from urllib.request import Request, urlopen\n",
    "import zipfile\n",
    "\n",
    "import cvxEDA\n",
    "\n",
    "%matplotlib inline\n",
    "plt.rcParams['figure.figsize'] = [10, 7]  # Bigger images"
   ]
  },
  {
   "cell_type": "code",
   "execution_count": 5,
   "metadata": {
    "colab": {
     "base_uri": "https://localhost:8080/",
     "height": 204
    },
    "colab_type": "code",
    "id": "zuYTKZ-I1Mcb",
    "outputId": "2b2e7e05-3a94-44f7-ed14-3c1014aed66d",
    "scrolled": true
   },
   "outputs": [],
   "source": [
    "if not os.path.exists('cvxEDA.py'):\n",
    "    !wget https://raw.githubusercontent.com/lciti/cvxEDA/master/src/cvxEDA.py"
   ]
  },
  {
   "cell_type": "code",
   "execution_count": 6,
   "metadata": {
    "colab": {
     "base_uri": "https://localhost:8080/",
     "height": 85
    },
    "colab_type": "code",
    "id": "yLIJiqRh0H21",
    "outputId": "b4934fb3-6fe8-4426-a889-20e09b9b4f55"
   },
   "outputs": [
    {
     "name": "stdout",
     "output_type": "stream",
     "text": [
      "total 1112\r\n",
      "-rw-r--r--  1 santteegt  staff    5351 Jun 25 21:39 BASELINE_EXPERIMENTS.md\r\n",
      "-rw-r--r--  1 santteegt  staff   71111 Jun 25 21:39 LSTM_Model_Chest_device.ipynb\r\n",
      "-rw-r--r--  1 santteegt  staff  291153 Jun 25 21:39 ML Classifiers - Chest Device.ipynb\r\n",
      "-rw-r--r--  1 santteegt  staff   75156 Jun 25 21:39 ML Classifiers per Modality.ipynb\r\n",
      "-rw-r--r--  1 santteegt  staff    3022 Jun 25 21:39 README.md\r\n",
      "-rw-r--r--  1 santteegt  staff   95150 Jun 28 20:54 WESAD_Data_Exploration.ipynb\r\n",
      "drwxr-xr-x  3 santteegt  staff      96 Jun 11 10:13 \u001b[34m__pycache__\u001b[m\u001b[m\r\n",
      "-rw-r--r--  1 santteegt  staff    1481 Jun 21 21:53 chest_scores_per_mod.csv\r\n",
      "-rw-r--r--  1 santteegt  staff    5876 Jun 11 10:12 cvxEDA.py\r\n",
      "-rw-r--r--  1 santteegt  staff       0 Jun 11 11:45 process.log\r\n",
      "drwxr-xr-x  5 santteegt  staff     160 Jun 28 20:48 \u001b[34msegmented_data\u001b[m\u001b[m\r\n"
     ]
    }
   ],
   "source": [
    "!ls -l"
   ]
  },
  {
   "cell_type": "markdown",
   "metadata": {
    "colab_type": "text",
    "id": "PSRQ7dUs33ru"
   },
   "source": [
    "## Data Loader"
   ]
  },
  {
   "cell_type": "code",
   "execution_count": 7,
   "metadata": {
    "colab": {},
    "colab_type": "code",
    "id": "FkU_oqlJh9Jm"
   },
   "outputs": [],
   "source": [
    "class WesadDataLoader():\n",
    "    \"\"\"Downloads and load data from the WESAD dataset\n",
    "        \n",
    "        Source URI: https://uni-siegen.sciebo.de/s/pYjSgfOVs6Ntahr/download\n",
    "    \"\"\"\n",
    "    \n",
    "    LABEL = 'label'\n",
    "    SIGNAL = 'signal'\n",
    "    SUBJECT = 'subject'\n",
    "    \n",
    "    WRIST_DEV = 'wrist'\n",
    "    CHEST_DEV = 'chest'\n",
    "    \n",
    "    DATASET_NAME = 'WESAD'\n",
    "    DATASET_URI = 'https://uni-siegen.sciebo.de/s/pYjSgfOVs6Ntahr/download'\n",
    "    \n",
    "    def __init__(self, subject, basepath='.'):\n",
    "        self.logger = logging.getLogger(WesadDataLoader.__name__)\n",
    "        self.logger.info('Init...')\n",
    "        self.chest_modalities = ['ACC', 'ECG', 'EDA', 'EMG', 'Resp', 'Temp']\n",
    "        self.wrist_modalities = ['ACC', 'BVP', 'EDA', 'TEMP']\n",
    "        self.mod_samp_rate = {'ACC': 32, 'BVP': 64, 'EDA': 4, 'TEMP': 4, 'chest': 700}  # Hz\n",
    "        WesadDataLoader.download(basepath)\n",
    "        basepath = os.path.join(os.path.abspath(basepath), WesadDataLoader.DATASET_NAME, subject)\n",
    "        if not os.path.isdir(basepath):\n",
    "            raise Exception(f'Dataset path does not exist or is not a directory: {basepath}')\n",
    "        data_file = os.path.join(basepath, f'{subject}.pkl')\n",
    "        if not os.path.exists(data_file):\n",
    "            raise Exception(f'Data file does not exists: {data_file}')\n",
    "#         with open(subject + '.pkl', 'rb') as file:\n",
    "#             data = pickle.load(file, encoding='latin1')\n",
    "        self.data = pd.read_pickle(data_file)\n",
    "    \n",
    "    @staticmethod\n",
    "    def download(basepath):\n",
    "        filename = os.path.join(os.path.abspath(basepath), f'{WesadDataLoader.DATASET_NAME}.zip')\n",
    "        data_folder = os.path.join(os.path.abspath(basepath), WesadDataLoader.DATASET_NAME)\n",
    "        if not os.path.isdir(data_folder) and not os.path.exists(filename):\n",
    "            print('Downloading dataset...')\n",
    "            start = time.time()\n",
    "            response = urlopen(WesadDataLoader.DATASET_URI)\n",
    "            print(f'Elapsed: {time.time() - start} secs')\n",
    "        if not os.path.isdir(data_folder):\n",
    "            with open(filename, 'wb') as out_file:\n",
    "                print('Saving dataset locally...')\n",
    "                start = time.time()\n",
    "                shutil.copyfileobj(response, out_file)\n",
    "            out_file.close()\n",
    "            print(f'Elapsed: {time.time() - start} secs')\n",
    "            start = time.time()\n",
    "            while not zipfile.is_zipfile(filename):\n",
    "                print('Wait..')\n",
    "            print('Found Zip...')\n",
    "            print(f'Elapsed: {time.time() - start} secs')\n",
    "            with zipfile.ZipFile(filename) as zf:\n",
    "                print('Extracting files...')\n",
    "                start = time.time()\n",
    "                zf.extractall()\n",
    "            print(f'Elapsed: {time.time() - start} secs')\n",
    "            print('Done!')\n",
    "\n",
    "    def get_labels(self):\n",
    "        return self.data[WesadDataLoader.LABEL]\n",
    "\n",
    "    def get_wrist_data(self):\n",
    "        \"\"\"\"\"\"\n",
    "        #label = self.data[self.keys[0]]\n",
    "#         assert subject == self.data[self.keys[1]]\n",
    "        signal = self.data[WesadDataLoader.SIGNAL]\n",
    "        wrist_data = signal[WesadDataLoader.WRIST_DEV]\n",
    "        # Adding Resp modality from chest device\n",
    "        wrist_data.update({'Resp': self.data[WesadDataLoader.SIGNAL][WesadDataLoader.CHEST_DEV]['Resp']})\n",
    "        return wrist_data\n",
    "\n",
    "    def get_chest_data(self):\n",
    "        \"\"\"\"\"\"\n",
    "        signal = self.data[WesadDataLoader.SIGNAL]\n",
    "        chest_data = signal[WesadDataLoader.CHEST_DEV]\n",
    "        return chest_data"
   ]
  },
  {
   "cell_type": "markdown",
   "metadata": {
    "colab_type": "text",
    "id": "cXQ_4tv137W2"
   },
   "source": [
    "## Data Exploration - Initial settings"
   ]
  },
  {
   "cell_type": "code",
   "execution_count": 8,
   "metadata": {
    "colab": {
     "base_uri": "https://localhost:8080/",
     "height": 204
    },
    "colab_type": "code",
    "id": "qS5OCLaidPcu",
    "outputId": "5ff81558-0b7f-4158-8d18-0f1e6bc43cd1"
   },
   "outputs": [
    {
     "name": "stdout",
     "output_type": "stream",
     "text": [
      "CPU times: user 55 s, sys: 28.7 s, total: 1min 23s\n",
      "Wall time: 1min 26s\n"
     ]
    }
   ],
   "source": [
    "%%time\n",
    "BASE_PATH = '../'\n",
    "# WesadDataLoader.download('.')\n",
    "DATASET_PATH = os.path.join(BASE_PATH, WesadDataLoader.DATASET_NAME)\n",
    "subjects = [dir_ for dir_ in os.listdir(DATASET_PATH) if os.path.isdir(os.path.join(DATASET_PATH, dir_))]\n",
    "# subjects = ['S3']\n",
    "obj_data = {}\n",
    "\n",
    "for subject in subjects:\n",
    "    obj_data[subject] = WesadDataLoader(subject=subject, basepath=BASE_PATH)"
   ]
  },
  {
   "cell_type": "code",
   "execution_count": 41,
   "metadata": {
    "colab": {
     "base_uri": "https://localhost:8080/",
     "height": 306
    },
    "colab_type": "code",
    "id": "1ASOr67U9Eke",
    "outputId": "cea3f8e1-99ac-4247-f798-673658deb793"
   },
   "outputs": [
    {
     "name": "stdout",
     "output_type": "stream",
     "text": [
      "Subjects dict_keys(['S5', 'S2', 'S3', 'S4', 'S17', 'S10', 'S11', 'S16', 'S8', 'S6', 'S7', 'S9', 'S13', 'S14', 'S15'])\n",
      "Subject S5 8856\n",
      "Subject S2 8472\n",
      "Subject S3 8608\n",
      "Subject S4 8649\n",
      "Subject S17 9092\n",
      "Subject S10 9096\n",
      "Subject S11 8900\n",
      "Subject S16 8873\n",
      "Subject S8 8824\n",
      "Subject S6 8796\n",
      "Subject S7 8781\n",
      "Subject S9 8776\n",
      "Subject S13 8893\n",
      "Subject S14 8897\n",
      "Subject S15 8920\n"
     ]
    },
    {
     "data": {
      "text/plain": [
       "(23206404, 132433)"
      ]
     },
     "execution_count": 41,
     "metadata": {},
     "output_type": "execute_result"
    }
   ],
   "source": [
    "# Checking dataset size\n",
    "sampling_rate=700\n",
    "window_size=1\n",
    "window_shift=0.25\n",
    "\n",
    "baseline_rec = 0\n",
    "stress_rec = 0\n",
    "amusement_rec = 0\n",
    "total_segmented = 0\n",
    "print('Subjects', obj_data.keys())\n",
    "for sub in obj_data.keys():\n",
    "    data = obj_data[sub].get_chest_data()\n",
    "    labels = obj_data[sub].get_labels()\n",
    "    baseline = np.asarray([idx for idx,val in enumerate(labels) if val == 1])\n",
    "    stress = np.asarray([idx for idx,val in enumerate(labels) if val == 2])\n",
    "    amusement = np.asarray([idx for idx,val in enumerate(labels) if val == 3])\n",
    "\n",
    "    baseline_rec += baseline.shape[0]\n",
    "    stress_rec += stress.shape[0]\n",
    "    amusement_rec += amusement.shape[0]\n",
    "    conditions = [baseline, stress, amusement]\n",
    "    \n",
    "    subtotal = 0\n",
    "    for cond in conditions:\n",
    "        subtotal += len(list(range(0, data['ECG'][cond].shape[0] - (sampling_rate * window_size), int(sampling_rate * window_shift))))\n",
    "    print('Subject', sub, subtotal)\n",
    "    total_segmented += subtotal\n",
    "\n",
    "(baseline_rec + stress_rec + amusement_rec), total_segmented"
   ]
  },
  {
   "cell_type": "markdown",
   "metadata": {
    "colab_type": "text",
    "id": "M8m_8eOSjmoJ"
   },
   "source": [
    "### Compute Features"
   ]
  },
  {
   "cell_type": "code",
   "execution_count": 46,
   "metadata": {
    "colab": {},
    "colab_type": "code",
    "id": "dVvvC6NAbn30"
   },
   "outputs": [],
   "source": [
    "# def compute_features(data, condition, sampling_rate=700, window_size=60, window_shift=0.25):\n",
    "def compute_features(data, condition, sampling_rate=700, window_size=1, window_shift=0.25):\n",
    "\n",
    "    index = 0\n",
    "    init = time.time()\n",
    "\n",
    "    # data cleaning\n",
    "    ## ECG\n",
    "    ecg_cleaned = nk.ecg_clean(data[\"ECG\"][condition].flatten(), sampling_rate=sampling_rate)\n",
    "    ## == OLD\n",
    "    # ecg_rpeaks, _ = nk.ecg_peaks(ecg_cleaned, sampling_rate=sampling_rate)\n",
    "    # ecg_hr = nk.signal_rate(ecg_rpeaks, sampling_rate=sampling_rate)\n",
    "    ## ==\n",
    "    ## EDA\n",
    "    ## 5Hz lowpass filter\n",
    "    eda_highcut = 5\n",
    "    eda_filtered = nk.signal_filter(data['EDA'][condition].flatten(), sampling_rate=sampling_rate, highcut=eda_highcut)\n",
    "    eda_cleaned = nk.standardize(eda_filtered)\n",
    "    # TODO: not sure about the approach. cvxeda takes longer periods\n",
    "    # phasic_tonic = nk.eda_phasic(cleaned, sampling_rate=700, method='cvxeda')\n",
    "    eda_phasic_tonic = nk.eda_phasic(eda_cleaned, sampling_rate=sampling_rate)\n",
    "    eda_phasic_tonic['t'] = [(1 / sampling_rate) * i for i in range(eda_phasic_tonic.shape[0])]\n",
    "    eda_scr_peaks, scr_info = nk.eda_peaks(eda_phasic_tonic['EDA_Phasic'], sampling_rate=sampling_rate)\n",
    "    ## EMG\n",
    "    ## For 5 sec window signal\n",
    "    ## More on DC Bias https://www.c-motion.com/v3dwiki/index.php/EMG:_Removing_DC_Bias\n",
    "    emg_lowcut = 50\n",
    "    emg_filtered_dc = nk.signal_filter(data['EMG'][condition].flatten(), sampling_rate=sampling_rate, lowcut=emg_lowcut)\n",
    "    # OR 100 Hz highpass Butterworth filter followed by a constant detrending\n",
    "    # filtered_dc = nk.emg_clean(chest_data_dict['EMG'][baseline].flatten(), sampling_rate=700)\n",
    "    ## For 60 sec window signal\n",
    "    # 50Hz lowpass filter\n",
    "    emg_highcut = 50\n",
    "    emg_filtered = nk.signal_filter(data['EMG'][condition].flatten(), sampling_rate=sampling_rate, highcut=emg_highcut)\n",
    "    ## Resp\n",
    "    ## Method biosppy important to appply bandpass filter 0.1 - 0.35 Hz\n",
    "    resp_processed, _ = nk.rsp_process(data['Resp'][condition].flatten(), sampling_rate=sampling_rate, method='biosppy')\n",
    "\n",
    "    print('Elapsed Preprocess', str(timedelta(seconds=time.time() - init)))\n",
    "    init = time.time()\n",
    "\n",
    "    chest_df_5 = pd.DataFrame() # For 5 sec window size\n",
    "    chest_df = pd.DataFrame()\n",
    "\n",
    "    window = int(sampling_rate * window_size)\n",
    "    for i in range(0, data['ACC'][condition].shape[0] - window, int(sampling_rate * window_shift)):\n",
    "\n",
    "        # ACC\n",
    "        w_acc_data = data['ACC'][condition][i: window + i]\n",
    "        acc_x_mean, acc_y_mean, acc_z_mean = np.mean(w_acc_data, axis=0)  # Feature\n",
    "\n",
    "        ## ECG \n",
    "        w_ecg_cleaned = ecg_cleaned[i: window + i]\n",
    "        w_ecg_mean = np.mean(w_ecg_cleaned)\n",
    "\n",
    "        # EDA\n",
    "        w_eda_data = eda_cleaned[i: window + i]\n",
    "        w_eda_mean = np.mean(w_eda_data)\n",
    "\n",
    "        # EMG\n",
    "        w_emg_data = emg_filtered_dc[i: window + i]\n",
    "        w_emg_mean = np.mean(w_emg_data)\n",
    "        \n",
    "        # Resp\n",
    "        w_resp_data = resp_processed.loc[i: window + i, 'RSP_Clean']\n",
    "        w_resp_mean = np.mean(w_resp_data)\n",
    "\n",
    "        # Temp\n",
    "        w_temp_data = data['Temp'][condition][i: window + i].flatten()\n",
    "        w_temp_mean = np.mean(w_temp_data)  # Feature\n",
    "\n",
    "        chest_df = chest_df.append({\n",
    "            'ACC_x': acc_x_mean, 'ACC_y': acc_y_mean, 'ACC_z': acc_z_mean,\n",
    "            'ECG': w_ecg_mean,\n",
    "            'EDA': w_eda_mean,\n",
    "            'EMG': w_emg_mean,\n",
    "            'RESP': w_resp_mean,\n",
    "            'TEMP': w_temp_mean\n",
    "        }, ignore_index=True)\n",
    "\n",
    "\n",
    "        # index += 1\n",
    "        # if index % 10 == 0:\n",
    "        #     break\n",
    "    \n",
    "    print('Elapsed Process', condition.shape[0], str(timedelta(seconds=time.time() - init)))\n",
    "    return chest_df, chest_df_5\n"
   ]
  },
  {
   "cell_type": "markdown",
   "metadata": {
    "colab_type": "text",
    "id": "7j0ECbcblDDb"
   },
   "source": [
    "## Chest-worn device - Dataset Generation"
   ]
  },
  {
   "cell_type": "code",
   "execution_count": 49,
   "metadata": {
    "colab": {},
    "colab_type": "code",
    "id": "Wf1aiK2O0oTH"
   },
   "outputs": [],
   "source": [
    "def process_subject(subject_data, cond_to_process, max_workers=6):\n",
    "    rs = dict()\n",
    "\n",
    "    with concurrent.futures.ThreadPoolExecutor(max_workers=max_workers) as executor:\n",
    "        future_to_label = {executor.submit(compute_features, subject_data, cond): label for label, cond in cond_to_process}\n",
    "        for future in concurrent.futures.as_completed(future_to_label):\n",
    "            label = future_to_label[future]\n",
    "            try:\n",
    "                data, _ = future.result()\n",
    "                print(label, data.shape)\n",
    "                rs[label] = data\n",
    "            except Exception as exc:\n",
    "                print('%r generated an exception: %s' % (label, exc))\n",
    "    return rs"
   ]
  },
  {
   "cell_type": "code",
   "execution_count": 50,
   "metadata": {
    "colab": {
     "base_uri": "https://localhost:8080/",
     "height": 153
    },
    "colab_type": "code",
    "id": "zu_aIQ-3lFsM",
    "outputId": "b30a8d40-579f-4569-9909-3a585503857a"
   },
   "outputs": [
    {
     "name": "stdout",
     "output_type": "stream",
     "text": [
      "Subject S2\n",
      "{'ACC': 4255300, 'ECG': 4255300, 'EMG': 4255300, 'EDA': 4255300, 'Temp': 4255300, 'Resp': 4255300}\n",
      "Baseline: (800800, 1)\n",
      "Stress: (430500, 1)\n",
      "Amusement: (253400, 1)\n",
      "Elapsed Preprocess 0:00:01.837103\n",
      "Elapsed Preprocess 0:00:02.356836\n",
      "Elapsed Preprocess 0:00:03.485379\n",
      "Elapsed Process 253400 0:00:11.439508\n",
      "amusement (1444, 8)\n",
      "Elapsed Process 430500 0:00:26.130266\n",
      "stress (2456, 8)\n",
      "Elapsed Process 800800 0:01:18.545360\n",
      "baseline (4572, 8)\n",
      "CPU times: user 1min 45s, sys: 7.6 s, total: 1min 53s\n",
      "Wall time: 1min 20s\n",
      "Generated dataset for S2 (8472, 10)\n",
      "Subject S3\n",
      "{'ACC': 4545100, 'ECG': 4545100, 'EMG': 4545100, 'EDA': 4545100, 'Temp': 4545100, 'Resp': 4545100}\n",
      "Baseline: (798000, 1)\n",
      "Stress: (448000, 1)\n",
      "Amusement: (262500, 1)\n",
      "Elapsed Preprocess 0:00:02.385835\n",
      "Elapsed Preprocess 0:00:02.534810\n",
      "Elapsed Preprocess 0:00:05.054465\n",
      "Elapsed Process 262500 0:00:13.044552\n",
      "amusement (1496, 8)\n",
      "Elapsed Process 448000 0:00:31.412621\n",
      "stress (2556, 8)\n",
      "Elapsed Process 798000 0:01:23.630023\n",
      "baseline (4556, 8)\n",
      "CPU times: user 1min 56s, sys: 9.07 s, total: 2min 5s\n",
      "Wall time: 1min 28s\n",
      "Generated dataset for S3 (8608, 10)\n",
      "Subject S4\n",
      "{'ACC': 4496100, 'ECG': 4496100, 'EMG': 4496100, 'EDA': 4496100, 'Temp': 4496100, 'Resp': 4496100}\n",
      "Baseline: (810601, 1)\n",
      "Stress: (444500, 1)\n",
      "Amusement: (260400, 1)\n",
      "Elapsed Preprocess 0:00:02.167974\n",
      "Elapsed Preprocess 0:00:02.697387\n",
      "Elapsed Preprocess 0:00:06.046274\n",
      "Elapsed Process 260400 0:00:11.563929\n",
      "amusement (1484, 8)\n",
      "Elapsed Process 444500 0:00:25.704202\n",
      "stress (2536, 8)\n",
      "Elapsed Process 810601 0:01:09.809188\n",
      "baseline (4629, 8)\n",
      "CPU times: user 1min 40s, sys: 5.72 s, total: 1min 45s\n",
      "Wall time: 1min 15s\n",
      "Generated dataset for S4 (8649, 10)\n",
      "Subject S5\n",
      "{'ACC': 4380600, 'ECG': 4380600, 'EMG': 4380600, 'EDA': 4380600, 'Temp': 4380600, 'Resp': 4380600}\n",
      "Baseline: (838600, 1)\n",
      "Stress: (451500, 1)\n",
      "Amusement: (261800, 1)\n",
      "Elapsed Preprocess 0:00:00.983712\n",
      "Elapsed Preprocess 0:00:02.092320\n",
      "Elapsed Preprocess 0:00:02.367508\n",
      "Elapsed Process 261800 0:00:12.430218\n",
      "amusement (1492, 8)\n",
      "Elapsed Process 451500 0:00:29.979516\n",
      "stress (2576, 8)\n",
      "Elapsed Process 838600 0:01:29.068766\n",
      "baseline (4788, 8)\n",
      "CPU times: user 1min 59s, sys: 9.08 s, total: 2min 8s\n",
      "Wall time: 1min 31s\n",
      "Generated dataset for S5 (8856, 10)\n",
      "Subject S6\n",
      "{'ACC': 4949700, 'ECG': 4949700, 'EMG': 4949700, 'EDA': 4949700, 'Temp': 4949700, 'Resp': 4949700}\n",
      "Baseline: (826000, 1)\n",
      "Stress: (455000, 1)\n",
      "Amusement: (260400, 1)\n",
      "Elapsed Preprocess 0:00:02.800452\n",
      "Elapsed Preprocess 0:00:03.313187\n",
      "Elapsed Preprocess 0:00:03.600771\n",
      "Elapsed Process 260400 0:00:12.875696\n",
      "amusement (1484, 8)\n",
      "Elapsed Process 455000 0:00:29.118422\n",
      "stress (2596, 8)\n",
      "Elapsed Process 826000 0:01:28.477219\n",
      "baseline (4716, 8)\n",
      "CPU times: user 1min 59s, sys: 8.75 s, total: 2min 8s\n",
      "Wall time: 1min 32s\n",
      "Generated dataset for S6 (8796, 10)\n",
      "Subject S7\n",
      "{'ACC': 3666600, 'ECG': 3666600, 'EMG': 3666600, 'EDA': 3666600, 'Temp': 3666600, 'Resp': 3666600}\n",
      "Baseline: (830200, 1)\n",
      "Stress: (448000, 1)\n",
      "Amusement: (260401, 1)\n",
      "Elapsed Preprocess 0:00:02.864539\n",
      "Elapsed Preprocess 0:00:03.568025\n",
      "Elapsed Preprocess 0:00:09.111324\n",
      "Elapsed Process 260401 0:00:13.944800\n",
      "amusement (1485, 8)\n",
      "Elapsed Process 448000 0:00:28.669446\n",
      "stress (2556, 8)\n",
      "Elapsed Process 830200 0:01:25.708527\n",
      "baseline (4740, 8)\n",
      "CPU times: user 1min 59s, sys: 8.18 s, total: 2min 7s\n",
      "Wall time: 1min 34s\n",
      "Generated dataset for S7 (8781, 10)\n",
      "Subject S8\n",
      "{'ACC': 3826200, 'ECG': 3826200, 'EMG': 3826200, 'EDA': 3826200, 'Temp': 3826200, 'Resp': 3826200}\n",
      "Baseline: (818300, 1)\n",
      "Stress: (469000, 1)\n",
      "Amusement: (258999, 1)\n",
      "Elapsed Preprocess 0:00:02.295914\n",
      "Elapsed Preprocess 0:00:02.839774\n",
      "Elapsed Preprocess 0:00:03.871582\n",
      "Elapsed Process 258999 0:00:14.981582\n",
      "amusement (1476, 8)\n",
      "Elapsed Process 469000 0:00:38.655100\n",
      "stress (2676, 8)\n",
      "Elapsed Process 818300 0:01:35.584095\n",
      "baseline (4672, 8)\n",
      "CPU times: user 2min 12s, sys: 10.5 s, total: 2min 23s\n",
      "Wall time: 1min 39s\n",
      "Generated dataset for S8 (8824, 10)\n",
      "Subject S9\n",
      "{'ACC': 3656100, 'ECG': 3656100, 'EMG': 3656100, 'EDA': 3656100, 'Temp': 3656100, 'Resp': 3656100}\n",
      "Baseline: (826000, 1)\n",
      "Stress: (451500, 1)\n",
      "Amusement: (260400, 1)\n",
      "Elapsed Preprocess 0:00:01.218615\n",
      "Elapsed Preprocess 0:00:02.031968\n",
      "Elapsed Preprocess 0:00:03.576958\n",
      "Elapsed Process 260400 0:00:13.667184\n",
      "amusement (1484, 8)\n",
      "Elapsed Process 451500 0:00:33.147645\n",
      "stress (2576, 8)\n",
      "Elapsed Process 826000 0:01:33.400605\n",
      "baseline (4716, 8)\n",
      "CPU times: user 2min 6s, sys: 9.7 s, total: 2min 16s\n",
      "Wall time: 1min 36s\n",
      "Generated dataset for S9 (8776, 10)\n",
      "Subject S10\n",
      "{'ACC': 3847200, 'ECG': 3847200, 'EMG': 3847200, 'EDA': 3847200, 'Temp': 3847200, 'Resp': 3847200}\n",
      "Baseline: (826000, 1)\n",
      "Stress: (507500, 1)\n",
      "Amusement: (260400, 1)\n",
      "Elapsed Preprocess 0:00:02.768988\n",
      "Elapsed Preprocess 0:00:05.279517\n",
      "Elapsed Preprocess 0:00:16.122260\n",
      "Elapsed Process 260400 0:00:15.637019\n",
      "amusement (1484, 8)\n",
      "Elapsed Process 507500 0:00:42.928679\n",
      "stress (2896, 8)\n",
      "Elapsed Process 826000 0:01:31.558642\n",
      "baseline (4716, 8)\n",
      "CPU times: user 2min 21s, sys: 9.81 s, total: 2min 30s\n",
      "Wall time: 1min 47s\n",
      "Generated dataset for S10 (9096, 10)\n",
      "Subject S11\n",
      "{'ACC': 3663100, 'ECG': 3663100, 'EMG': 3663100, 'EDA': 3663100, 'Temp': 3663100, 'Resp': 3663100}\n",
      "Baseline: (826000, 1)\n",
      "Stress: (476000, 1)\n",
      "Amusement: (257600, 1)\n",
      "Elapsed Preprocess 0:00:02.098144\n",
      "Elapsed Preprocess 0:00:02.543598\n",
      "Elapsed Preprocess 0:00:07.719255\n",
      "Elapsed Process 257600 0:00:13.871218\n",
      "amusement (1468, 8)\n",
      "Elapsed Process 476000 0:00:35.477654\n",
      "stress (2716, 8)\n",
      "Elapsed Process 826000 0:01:31.242493\n",
      "baseline (4716, 8)\n",
      "CPU times: user 2min 9s, sys: 8.84 s, total: 2min 18s\n",
      "Wall time: 1min 38s\n",
      "Generated dataset for S11 (8900, 10)\n",
      "Subject S13\n",
      "{'ACC': 3875900, 'ECG': 3875900, 'EMG': 3875900, 'EDA': 3875900, 'Temp': 3875900, 'Resp': 3875900}\n",
      "Baseline: (826001, 1)\n",
      "Stress: (464800, 1)\n",
      "Amusement: (267400, 1)\n",
      "Elapsed Preprocess 0:00:02.120819\n",
      "Elapsed Preprocess 0:00:03.074445\n",
      "Elapsed Preprocess 0:00:03.232809\n",
      "Elapsed Process 267400 0:00:13.773476\n",
      "amusement (1524, 8)\n",
      "Elapsed Process 464800 0:00:34.943807\n",
      "stress (2652, 8)\n",
      "Elapsed Process 826001 0:01:32.639598\n",
      "baseline (4717, 8)\n",
      "CPU times: user 2min 7s, sys: 10 s, total: 2min 17s\n",
      "Wall time: 1min 35s\n",
      "Generated dataset for S13 (8893, 10)\n",
      "Subject S14\n",
      "{'ACC': 3883600, 'ECG': 3883600, 'EMG': 3883600, 'EDA': 3883600, 'Temp': 3883600, 'Resp': 3883600}\n",
      "Baseline: (826000, 1)\n",
      "Stress: (472500, 1)\n",
      "Amusement: (260401, 1)\n",
      "Elapsed Preprocess 0:00:01.608521\n",
      "Elapsed Preprocess 0:00:01.864622\n",
      "Elapsed Preprocess 0:00:02.531599\n",
      "Elapsed Process 260401 0:00:13.099651\n",
      "amusement (1485, 8)\n",
      "Elapsed Process 472500 0:00:34.346048\n",
      "stress (2696, 8)\n",
      "Elapsed Process 826000 0:01:29.009389\n",
      "baseline (4716, 8)\n",
      "CPU times: user 2min 3s, sys: 9.2 s, total: 2min 12s\n",
      "Wall time: 1min 31s\n",
      "Generated dataset for S14 (8897, 10)\n",
      "Subject S15\n",
      "{'ACC': 3676400, 'ECG': 3676400, 'EMG': 3676400, 'EDA': 3676400, 'Temp': 3676400, 'Resp': 3676400}\n",
      "Baseline: (822500, 1)\n",
      "Stress: (480200, 1)\n",
      "Amusement: (260400, 1)\n",
      "Elapsed Preprocess 0:00:01.753141\n",
      "Elapsed Preprocess 0:00:03.746185\n",
      "Elapsed Preprocess 0:00:05.571608\n",
      "Elapsed Process 260400 0:00:13.679076\n",
      "amusement (1484, 8)\n",
      "Elapsed Process 480200 0:00:36.232382\n",
      "stress (2740, 8)\n",
      "Elapsed Process 822500 0:01:24.960300\n",
      "baseline (4696, 8)\n",
      "CPU times: user 2min 3s, sys: 8.26 s, total: 2min 11s\n",
      "Wall time: 1min 30s\n",
      "Generated dataset for S15 (8920, 10)\n",
      "Subject S16\n",
      "{'ACC': 3941700, 'ECG': 3941700, 'EMG': 3941700, 'EDA': 3941700, 'Temp': 3941700, 'Resp': 3941700}\n",
      "Baseline: (826000, 1)\n",
      "Stress: (471101, 1)\n",
      "Amusement: (257600, 1)\n",
      "Elapsed Preprocess 0:00:01.892488\n",
      "Elapsed Preprocess 0:00:02.409739\n",
      "Elapsed Preprocess 0:00:10.974755\n",
      "Elapsed Process 257600 0:00:15.079573\n",
      "amusement (1468, 8)\n",
      "Elapsed Process 471101 0:00:36.728848\n",
      "stress (2689, 8)\n",
      "Elapsed Process 826000 0:01:31.355577\n",
      "baseline (4716, 8)\n",
      "CPU times: user 2min 11s, sys: 9.7 s, total: 2min 21s\n",
      "Wall time: 1min 42s\n",
      "Generated dataset for S16 (8873, 10)\n",
      "Subject S17\n",
      "{'ACC': 4144000, 'ECG': 4144000, 'EMG': 4144000, 'EDA': 4144000, 'Temp': 4144000, 'Resp': 4144000}\n",
      "Baseline: (826700, 1)\n",
      "Stress: (506100, 1)\n",
      "Amusement: (260400, 1)\n",
      "Elapsed Preprocess 0:00:02.072570\n",
      "Elapsed Preprocess 0:00:03.024173\n",
      "Elapsed Preprocess 0:00:03.561666\n",
      "Elapsed Process 260400 0:00:14.569233\n",
      "amusement (1484, 8)\n",
      "Elapsed Process 506100 0:00:39.510269\n",
      "stress (2888, 8)\n"
     ]
    },
    {
     "name": "stdout",
     "output_type": "stream",
     "text": [
      "Elapsed Process 826700 0:01:34.061676\n",
      "baseline (4720, 8)\n",
      "CPU times: user 2min 14s, sys: 10.5 s, total: 2min 24s\n",
      "Wall time: 1min 37s\n",
      "Generated dataset for S17 (9092, 10)\n"
     ]
    }
   ],
   "source": [
    "base_path = './raw_segmented'\n",
    "subjects = ['S2', 'S3', 'S4', 'S5', 'S6', 'S7', 'S8', 'S9', 'S10', 'S11', 'S13', 'S14', 'S15', 'S16', 'S17']\n",
    "\n",
    "for subject in subjects:\n",
    "    print('Subject', subject)\n",
    "    chest_data_dict = obj_data[subject].get_chest_data()\n",
    "    labels = obj_data[subject].get_labels()\n",
    "    chest_dict_length = {key: len(value) for key, value in chest_data_dict.items()}\n",
    "    print(chest_dict_length)\n",
    "\n",
    "    # Get labels\n",
    "    baseline = np.asarray([idx for idx,val in enumerate(labels) if val == 1])\n",
    "    stress = np.asarray([idx for idx,val in enumerate(labels) if val == 2])\n",
    "    amusement = np.asarray([idx for idx,val in enumerate(labels) if val == 3])\n",
    "\n",
    "    print(\"Baseline:\", chest_data_dict['ECG'][baseline].shape)\n",
    "    print(\"Stress:\", chest_data_dict['ECG'][stress].shape)\n",
    "    print(\"Amusement:\", chest_data_dict['ECG'][amusement].shape)\n",
    "\n",
    "    # Process Subject\n",
    "    to_process = zip(['baseline', 'stress', 'amusement'], [baseline, stress, amusement])\n",
    "    # to_process = zip(['baseline'], [baseline])\n",
    "    %time subject_data = process_subject(chest_data_dict, cond_to_process=to_process)\n",
    "\n",
    "    ## Labeling\n",
    "    subject_data['baseline']['label'] = 1\n",
    "    subject_data['baseline']['subject'] = subject\n",
    "    subject_data['stress']['label'] = 2\n",
    "    subject_data['stress']['subject'] = subject\n",
    "    subject_data['amusement']['label'] = 3\n",
    "    subject_data['amusement']['subject'] = subject\n",
    "    ## Storing\n",
    "    dfs = [v for k, v in subject_data.items()]\n",
    "    df_subject = pd.concat(dfs)\n",
    "    print('Generated dataset for', subject, df_subject.shape)\n",
    "    df_subject.head()\n",
    "    df_subject.reset_index().to_feather(f'{base_path}/{subject}.feather')"
   ]
  },
  {
   "cell_type": "code",
   "execution_count": 16,
   "metadata": {},
   "outputs": [],
   "source": [
    "# Download files If running in Google Colab\n",
    "# from google.colab import files\n",
    "# [files.download(file) for file in os.listdir('.') if file.endswith('feather')]"
   ]
  },
  {
   "cell_type": "code",
   "execution_count": 57,
   "metadata": {},
   "outputs": [
    {
     "name": "stdout",
     "output_type": "stream",
     "text": [
      "(132433, 10)\n"
     ]
    }
   ],
   "source": [
    "feather_files = []\n",
    "for f in os.listdir(base_path):\n",
    "    feather_files.append(pd.read_feather(os.path.join(base_path, f)).drop(columns=['index']))\n",
    "\n",
    "df_all = pd.concat(feather_files)\n",
    "print(df_all.shape)\n",
    "df_all.to_csv(os.path.join(base_path, 'all_raw.csv'), index=False)"
   ]
  },
  {
   "cell_type": "code",
   "execution_count": null,
   "metadata": {
    "colab": {},
    "colab_type": "code",
    "id": "-QqkeZuf_WNv"
   },
   "outputs": [],
   "source": []
  }
 ],
 "metadata": {
  "colab": {
   "authorship_tag": "ABX9TyPNwvrDZMkTVXfJiCdmJhiL",
   "collapsed_sections": [
    "PSRQ7dUs33ru",
    "3TYvqbCW1wtz",
    "_zR5vyy7gJkk",
    "sOdJAQwfgzaJ",
    "6oGR_62zhNcm",
    "jr5fIfCunhaO",
    "qKdtGCQH3Z2l"
   ],
   "include_colab_link": true,
   "name": "WESAD - Data Exploration.ipynb",
   "provenance": []
  },
  "kernelspec": {
   "display_name": "Python 3",
   "language": "python",
   "name": "python3"
  },
  "language_info": {
   "codemirror_mode": {
    "name": "ipython",
    "version": 3
   },
   "file_extension": ".py",
   "mimetype": "text/x-python",
   "name": "python",
   "nbconvert_exporter": "python",
   "pygments_lexer": "ipython3",
   "version": "3.6.9"
  }
 },
 "nbformat": 4,
 "nbformat_minor": 1
}
