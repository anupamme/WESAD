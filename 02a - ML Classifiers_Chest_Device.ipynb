{
 "cells": [
  {
   "cell_type": "code",
   "execution_count": 1,
   "metadata": {},
   "outputs": [],
   "source": [
    "import os\n",
    "import pandas as pd\n",
    "import numpy as np\n",
    "import seaborn as sns\n",
    "from sklearn import metrics\n",
    "from sklearn.discriminant_analysis import LinearDiscriminantAnalysis as LDA\n",
    "from sklearn.ensemble import AdaBoostClassifier, RandomForestClassifier\n",
    "from sklearn.model_selection import cross_validate, LeaveOneGroupOut\n",
    "from sklearn.pipeline import make_pipeline\n",
    "from sklearn.preprocessing import StandardScaler\n",
    "from sklearn.tree import DecisionTreeClassifier\n",
    "import sklearn\n",
    "%matplotlib inline"
   ]
  },
  {
   "cell_type": "markdown",
   "metadata": {},
   "source": [
    "## Load Subject Data"
   ]
  },
  {
   "cell_type": "code",
   "execution_count": 2,
   "metadata": {},
   "outputs": [],
   "source": [
    "BASE_PATH = 'segmented_data'"
   ]
  },
  {
   "cell_type": "code",
   "execution_count": 3,
   "metadata": {},
   "outputs": [],
   "source": [
    "# subjects_data = [pd.read_feather(os.path.join(BASE_PATH, subject)) for subject in os.listdir(BASE_PATH)]\n",
    "# df = pd.concat(subjects_data)\n",
    "# df.drop(columns=['index'], inplace=True)\n",
    "# df.shape"
   ]
  },
  {
   "cell_type": "code",
   "execution_count": 4,
   "metadata": {},
   "outputs": [],
   "source": [
    "# df.to_csv('segmented_data/all_subjects.csv')"
   ]
  },
  {
   "cell_type": "code",
   "execution_count": 5,
   "metadata": {},
   "outputs": [],
   "source": [
    "df = pd.read_csv(f'{BASE_PATH}/all_subjects.csv', index_col=0)"
   ]
  },
  {
   "cell_type": "code",
   "execution_count": 6,
   "metadata": {},
   "outputs": [
    {
     "data": {
      "text/plain": [
       "(121813, 79)"
      ]
     },
     "execution_count": 6,
     "metadata": {},
     "output_type": "execute_result"
    }
   ],
   "source": [
    "df.shape"
   ]
  },
  {
   "cell_type": "code",
   "execution_count": 7,
   "metadata": {},
   "outputs": [
    {
     "data": {
      "text/html": [
       "<div>\n",
       "<style scoped>\n",
       "    .dataframe tbody tr th:only-of-type {\n",
       "        vertical-align: middle;\n",
       "    }\n",
       "\n",
       "    .dataframe tbody tr th {\n",
       "        vertical-align: top;\n",
       "    }\n",
       "\n",
       "    .dataframe thead th {\n",
       "        text-align: right;\n",
       "    }\n",
       "</style>\n",
       "<table border=\"1\" class=\"dataframe\">\n",
       "  <thead>\n",
       "    <tr style=\"text-align: right;\">\n",
       "      <th></th>\n",
       "      <th>ACC_x_absint</th>\n",
       "      <th>ACC_x_mean</th>\n",
       "      <th>ACC_x_peak</th>\n",
       "      <th>ACC_x_std</th>\n",
       "      <th>ACC_xyz_absint</th>\n",
       "      <th>ACC_xyz_std</th>\n",
       "      <th>ACC_xzy_mean</th>\n",
       "      <th>ACC_y_absint</th>\n",
       "      <th>ACC_y_mean</th>\n",
       "      <th>ACC_y_peak</th>\n",
       "      <th>...</th>\n",
       "      <th>RESP_stretch</th>\n",
       "      <th>RESP_volume</th>\n",
       "      <th>TEMP_drange</th>\n",
       "      <th>TEMP_max</th>\n",
       "      <th>TEMP_mean</th>\n",
       "      <th>TEMP_min</th>\n",
       "      <th>TEMP_slope</th>\n",
       "      <th>TEMP_std</th>\n",
       "      <th>label</th>\n",
       "      <th>subject</th>\n",
       "    </tr>\n",
       "  </thead>\n",
       "  <tbody>\n",
       "    <tr>\n",
       "      <th>0</th>\n",
       "      <td>33018.685611</td>\n",
       "      <td>0.786178</td>\n",
       "      <td>0.8766</td>\n",
       "      <td>0.030389</td>\n",
       "      <td>13233.532886</td>\n",
       "      <td>21266.015893</td>\n",
       "      <td>6736.963395</td>\n",
       "      <td>6256.039785</td>\n",
       "      <td>0.148957</td>\n",
       "      <td>0.2504</td>\n",
       "      <td>...</td>\n",
       "      <td>10.783828</td>\n",
       "      <td>125.194862</td>\n",
       "      <td>1.010598</td>\n",
       "      <td>35.171936</td>\n",
       "      <td>34.988750</td>\n",
       "      <td>34.803101</td>\n",
       "      <td>-0.000002</td>\n",
       "      <td>0.054536</td>\n",
       "      <td>3</td>\n",
       "      <td>S8</td>\n",
       "    </tr>\n",
       "    <tr>\n",
       "      <th>1</th>\n",
       "      <td>33012.188012</td>\n",
       "      <td>0.786023</td>\n",
       "      <td>0.8766</td>\n",
       "      <td>0.030383</td>\n",
       "      <td>13228.857486</td>\n",
       "      <td>21267.760722</td>\n",
       "      <td>6732.487596</td>\n",
       "      <td>6260.111985</td>\n",
       "      <td>0.149054</td>\n",
       "      <td>0.2504</td>\n",
       "      <td>...</td>\n",
       "      <td>10.783828</td>\n",
       "      <td>125.194862</td>\n",
       "      <td>1.010598</td>\n",
       "      <td>35.171936</td>\n",
       "      <td>34.988785</td>\n",
       "      <td>34.803101</td>\n",
       "      <td>-0.000002</td>\n",
       "      <td>0.054524</td>\n",
       "      <td>3</td>\n",
       "      <td>S8</td>\n",
       "    </tr>\n",
       "    <tr>\n",
       "      <th>2</th>\n",
       "      <td>33006.168612</td>\n",
       "      <td>0.785880</td>\n",
       "      <td>0.8766</td>\n",
       "      <td>0.030367</td>\n",
       "      <td>13225.533786</td>\n",
       "      <td>21268.840449</td>\n",
       "      <td>6728.895262</td>\n",
       "      <td>6264.232385</td>\n",
       "      <td>0.149152</td>\n",
       "      <td>0.2504</td>\n",
       "      <td>...</td>\n",
       "      <td>10.783828</td>\n",
       "      <td>125.194862</td>\n",
       "      <td>1.010598</td>\n",
       "      <td>35.171936</td>\n",
       "      <td>34.988869</td>\n",
       "      <td>34.803101</td>\n",
       "      <td>-0.000002</td>\n",
       "      <td>0.054485</td>\n",
       "      <td>3</td>\n",
       "      <td>S8</td>\n",
       "    </tr>\n",
       "    <tr>\n",
       "      <th>3</th>\n",
       "      <td>33005.078112</td>\n",
       "      <td>0.785855</td>\n",
       "      <td>0.8766</td>\n",
       "      <td>0.030379</td>\n",
       "      <td>13228.145587</td>\n",
       "      <td>21269.264878</td>\n",
       "      <td>6729.222863</td>\n",
       "      <td>6268.463386</td>\n",
       "      <td>0.149253</td>\n",
       "      <td>0.2504</td>\n",
       "      <td>...</td>\n",
       "      <td>10.783828</td>\n",
       "      <td>125.194862</td>\n",
       "      <td>1.010598</td>\n",
       "      <td>35.171936</td>\n",
       "      <td>34.988983</td>\n",
       "      <td>34.803101</td>\n",
       "      <td>-0.000002</td>\n",
       "      <td>0.054432</td>\n",
       "      <td>3</td>\n",
       "      <td>S8</td>\n",
       "    </tr>\n",
       "    <tr>\n",
       "      <th>4</th>\n",
       "      <td>33008.020712</td>\n",
       "      <td>0.785926</td>\n",
       "      <td>0.9390</td>\n",
       "      <td>0.030564</td>\n",
       "      <td>13234.658287</td>\n",
       "      <td>21268.410145</td>\n",
       "      <td>6732.741796</td>\n",
       "      <td>6270.908585</td>\n",
       "      <td>0.149312</td>\n",
       "      <td>0.2504</td>\n",
       "      <td>...</td>\n",
       "      <td>10.783828</td>\n",
       "      <td>119.178477</td>\n",
       "      <td>1.010598</td>\n",
       "      <td>35.171936</td>\n",
       "      <td>34.989079</td>\n",
       "      <td>34.803101</td>\n",
       "      <td>-0.000002</td>\n",
       "      <td>0.054387</td>\n",
       "      <td>3</td>\n",
       "      <td>S8</td>\n",
       "    </tr>\n",
       "  </tbody>\n",
       "</table>\n",
       "<p>5 rows × 79 columns</p>\n",
       "</div>"
      ],
      "text/plain": [
       "   ACC_x_absint  ACC_x_mean  ACC_x_peak  ACC_x_std  ACC_xyz_absint  \\\n",
       "0  33018.685611    0.786178      0.8766   0.030389    13233.532886   \n",
       "1  33012.188012    0.786023      0.8766   0.030383    13228.857486   \n",
       "2  33006.168612    0.785880      0.8766   0.030367    13225.533786   \n",
       "3  33005.078112    0.785855      0.8766   0.030379    13228.145587   \n",
       "4  33008.020712    0.785926      0.9390   0.030564    13234.658287   \n",
       "\n",
       "    ACC_xyz_std  ACC_xzy_mean  ACC_y_absint  ACC_y_mean  ACC_y_peak  ...  \\\n",
       "0  21266.015893   6736.963395   6256.039785    0.148957      0.2504  ...   \n",
       "1  21267.760722   6732.487596   6260.111985    0.149054      0.2504  ...   \n",
       "2  21268.840449   6728.895262   6264.232385    0.149152      0.2504  ...   \n",
       "3  21269.264878   6729.222863   6268.463386    0.149253      0.2504  ...   \n",
       "4  21268.410145   6732.741796   6270.908585    0.149312      0.2504  ...   \n",
       "\n",
       "   RESP_stretch  RESP_volume  TEMP_drange   TEMP_max  TEMP_mean   TEMP_min  \\\n",
       "0     10.783828   125.194862     1.010598  35.171936  34.988750  34.803101   \n",
       "1     10.783828   125.194862     1.010598  35.171936  34.988785  34.803101   \n",
       "2     10.783828   125.194862     1.010598  35.171936  34.988869  34.803101   \n",
       "3     10.783828   125.194862     1.010598  35.171936  34.988983  34.803101   \n",
       "4     10.783828   119.178477     1.010598  35.171936  34.989079  34.803101   \n",
       "\n",
       "   TEMP_slope  TEMP_std  label  subject  \n",
       "0   -0.000002  0.054536      3       S8  \n",
       "1   -0.000002  0.054524      3       S8  \n",
       "2   -0.000002  0.054485      3       S8  \n",
       "3   -0.000002  0.054432      3       S8  \n",
       "4   -0.000002  0.054387      3       S8  \n",
       "\n",
       "[5 rows x 79 columns]"
      ]
     },
     "execution_count": 7,
     "metadata": {},
     "output_type": "execute_result"
    }
   ],
   "source": [
    "df.head()"
   ]
  },
  {
   "cell_type": "code",
   "execution_count": 8,
   "metadata": {},
   "outputs": [
    {
     "data": {
      "text/plain": [
       "Index(['ACC_x_absint', 'ACC_x_mean', 'ACC_x_peak', 'ACC_x_std',\n",
       "       'ACC_xyz_absint', 'ACC_xyz_std', 'ACC_xzy_mean', 'ACC_y_absint',\n",
       "       'ACC_y_mean', 'ACC_y_peak', 'ACC_y_std', 'ACC_z_absint', 'ACC_z_mean',\n",
       "       'ACC_z_peak', 'ACC_z_std', 'ECG_hr_mean', 'ECG_hr_std', 'ECG_hrv_HF',\n",
       "       'ECG_hrv_HFn', 'ECG_hrv_LF', 'ECG_hrv_LFHF_ratio', 'ECG_hrv_LFn',\n",
       "       'ECG_hrv_NN50', 'ECG_hrv_RMS', 'ECG_hrv_TINN', 'ECG_hrv_ULF',\n",
       "       'ECG_hrv_VHF', 'ECG_hrv_f_sum', 'ECG_hrv_pNN50', 'ECG_hrv_rel_HF',\n",
       "       'ECG_hrv_rel_LF', 'ECG_hrv_rel_ULF', 'ECG_hrv_rel_VHF', 'EDA_SCL_mean',\n",
       "       'EDA_SCL_std', 'EDA_SCR_mean', 'EDA_SCR_no', 'EDA_SCR_std',\n",
       "       'EDA_ampl_sum', 'EDA_corr_SCL_t', 'EDA_drange', 'EDA_max', 'EDA_mean',\n",
       "       'EDA_min', 'EDA_scr_area', 'EDA_slope', 'EDA_std', 'EMG_absint',\n",
       "       'EMG_drange', 'EMG_mean', 'EMG_mean_freq', 'EMG_median',\n",
       "       'EMG_median_freq', 'EMG_peak_amp_mean', 'EMG_peak_amp_norm_sum',\n",
       "       'EMG_peak_amp_std', 'EMG_peak_amp_sum', 'EMG_peak_freq', 'EMG_peak_no',\n",
       "       'EMG_perc_10', 'EMG_perc_90', 'EMG_std', 'RESP_breath_rate',\n",
       "       'RESP_duration', 'RESP_exhal_mean', 'RESP_exhal_std', 'RESP_ie_ratio',\n",
       "       'RESP_inhal_mean', 'RESP_inhal_std', 'RESP_stretch', 'RESP_volume',\n",
       "       'TEMP_drange', 'TEMP_max', 'TEMP_mean', 'TEMP_min', 'TEMP_slope',\n",
       "       'TEMP_std', 'label', 'subject'],\n",
       "      dtype='object')"
      ]
     },
     "execution_count": 8,
     "metadata": {},
     "output_type": "execute_result"
    }
   ],
   "source": [
    "df.columns"
   ]
  },
  {
   "cell_type": "code",
   "execution_count": 9,
   "metadata": {},
   "outputs": [
    {
     "data": {
      "text/html": [
       "<div>\n",
       "<style scoped>\n",
       "    .dataframe tbody tr th:only-of-type {\n",
       "        vertical-align: middle;\n",
       "    }\n",
       "\n",
       "    .dataframe tbody tr th {\n",
       "        vertical-align: top;\n",
       "    }\n",
       "\n",
       "    .dataframe thead th {\n",
       "        text-align: right;\n",
       "    }\n",
       "</style>\n",
       "<table border=\"1\" class=\"dataframe\">\n",
       "  <thead>\n",
       "    <tr style=\"text-align: right;\">\n",
       "      <th></th>\n",
       "      <th>0</th>\n",
       "      <th>1</th>\n",
       "      <th>2</th>\n",
       "      <th>3</th>\n",
       "      <th>4</th>\n",
       "    </tr>\n",
       "  </thead>\n",
       "  <tbody>\n",
       "    <tr>\n",
       "      <th>ACC_x_absint</th>\n",
       "      <td>33018.7</td>\n",
       "      <td>33012.2</td>\n",
       "      <td>33006.2</td>\n",
       "      <td>33005.1</td>\n",
       "      <td>33008</td>\n",
       "    </tr>\n",
       "    <tr>\n",
       "      <th>ACC_x_mean</th>\n",
       "      <td>0.786178</td>\n",
       "      <td>0.786023</td>\n",
       "      <td>0.78588</td>\n",
       "      <td>0.785855</td>\n",
       "      <td>0.785926</td>\n",
       "    </tr>\n",
       "    <tr>\n",
       "      <th>ACC_x_peak</th>\n",
       "      <td>0.8766</td>\n",
       "      <td>0.8766</td>\n",
       "      <td>0.8766</td>\n",
       "      <td>0.8766</td>\n",
       "      <td>0.939</td>\n",
       "    </tr>\n",
       "    <tr>\n",
       "      <th>ACC_x_std</th>\n",
       "      <td>0.0303892</td>\n",
       "      <td>0.0303835</td>\n",
       "      <td>0.0303673</td>\n",
       "      <td>0.0303795</td>\n",
       "      <td>0.0305639</td>\n",
       "    </tr>\n",
       "    <tr>\n",
       "      <th>ACC_xyz_absint</th>\n",
       "      <td>13233.5</td>\n",
       "      <td>13228.9</td>\n",
       "      <td>13225.5</td>\n",
       "      <td>13228.1</td>\n",
       "      <td>13234.7</td>\n",
       "    </tr>\n",
       "    <tr>\n",
       "      <th>ACC_xyz_std</th>\n",
       "      <td>21266</td>\n",
       "      <td>21267.8</td>\n",
       "      <td>21268.8</td>\n",
       "      <td>21269.3</td>\n",
       "      <td>21268.4</td>\n",
       "    </tr>\n",
       "    <tr>\n",
       "      <th>ACC_xzy_mean</th>\n",
       "      <td>6736.96</td>\n",
       "      <td>6732.49</td>\n",
       "      <td>6728.9</td>\n",
       "      <td>6729.22</td>\n",
       "      <td>6732.74</td>\n",
       "    </tr>\n",
       "    <tr>\n",
       "      <th>ACC_y_absint</th>\n",
       "      <td>6256.04</td>\n",
       "      <td>6260.11</td>\n",
       "      <td>6264.23</td>\n",
       "      <td>6268.46</td>\n",
       "      <td>6270.91</td>\n",
       "    </tr>\n",
       "    <tr>\n",
       "      <th>ACC_y_mean</th>\n",
       "      <td>0.148957</td>\n",
       "      <td>0.149054</td>\n",
       "      <td>0.149152</td>\n",
       "      <td>0.149253</td>\n",
       "      <td>0.149312</td>\n",
       "    </tr>\n",
       "    <tr>\n",
       "      <th>ACC_y_peak</th>\n",
       "      <td>0.2504</td>\n",
       "      <td>0.2504</td>\n",
       "      <td>0.2504</td>\n",
       "      <td>0.2504</td>\n",
       "      <td>0.2504</td>\n",
       "    </tr>\n",
       "    <tr>\n",
       "      <th>ACC_y_std</th>\n",
       "      <td>0.0165969</td>\n",
       "      <td>0.0165417</td>\n",
       "      <td>0.0164938</td>\n",
       "      <td>0.0164861</td>\n",
       "      <td>0.0166095</td>\n",
       "    </tr>\n",
       "    <tr>\n",
       "      <th>ACC_z_absint</th>\n",
       "      <td>19064.3</td>\n",
       "      <td>19075.3</td>\n",
       "      <td>19084.2</td>\n",
       "      <td>19086.4</td>\n",
       "      <td>19081.3</td>\n",
       "    </tr>\n",
       "    <tr>\n",
       "      <th>ACC_z_mean</th>\n",
       "      <td>-0.453923</td>\n",
       "      <td>-0.454185</td>\n",
       "      <td>-0.454396</td>\n",
       "      <td>-0.454449</td>\n",
       "      <td>-0.454327</td>\n",
       "    </tr>\n",
       "    <tr>\n",
       "      <th>ACC_z_peak</th>\n",
       "      <td>-0.2802</td>\n",
       "      <td>-0.2802</td>\n",
       "      <td>-0.2802</td>\n",
       "      <td>-0.2802</td>\n",
       "      <td>-0.2802</td>\n",
       "    </tr>\n",
       "    <tr>\n",
       "      <th>ACC_z_std</th>\n",
       "      <td>0.0546233</td>\n",
       "      <td>0.0546473</td>\n",
       "      <td>0.0546595</td>\n",
       "      <td>0.0546621</td>\n",
       "      <td>0.0548029</td>\n",
       "    </tr>\n",
       "    <tr>\n",
       "      <th>ECG_hr_mean</th>\n",
       "      <td>95.6814</td>\n",
       "      <td>95.6814</td>\n",
       "      <td>95.4562</td>\n",
       "      <td>95.4562</td>\n",
       "      <td>95.3082</td>\n",
       "    </tr>\n",
       "    <tr>\n",
       "      <th>ECG_hr_std</th>\n",
       "      <td>13.1067</td>\n",
       "      <td>13.1067</td>\n",
       "      <td>13.0829</td>\n",
       "      <td>13.0829</td>\n",
       "      <td>13.035</td>\n",
       "    </tr>\n",
       "    <tr>\n",
       "      <th>ECG_hrv_HF</th>\n",
       "      <td>3438.78</td>\n",
       "      <td>3438.78</td>\n",
       "      <td>3403.76</td>\n",
       "      <td>3403.76</td>\n",
       "      <td>3333.51</td>\n",
       "    </tr>\n",
       "    <tr>\n",
       "      <th>ECG_hrv_HFn</th>\n",
       "      <td>11.9074</td>\n",
       "      <td>11.9074</td>\n",
       "      <td>11.7633</td>\n",
       "      <td>11.7633</td>\n",
       "      <td>11.5949</td>\n",
       "    </tr>\n",
       "    <tr>\n",
       "      <th>ECG_hrv_LF</th>\n",
       "      <td>4323.31</td>\n",
       "      <td>4323.31</td>\n",
       "      <td>4345.51</td>\n",
       "      <td>4345.51</td>\n",
       "      <td>4275.32</td>\n",
       "    </tr>\n",
       "    <tr>\n",
       "      <th>ECG_hrv_LFHF_ratio</th>\n",
       "      <td>7.39811</td>\n",
       "      <td>7.39811</td>\n",
       "      <td>7.50098</td>\n",
       "      <td>7.50098</td>\n",
       "      <td>7.62448</td>\n",
       "    </tr>\n",
       "    <tr>\n",
       "      <th>ECG_hrv_LFn</th>\n",
       "      <td>88.0926</td>\n",
       "      <td>88.0926</td>\n",
       "      <td>88.2367</td>\n",
       "      <td>88.2367</td>\n",
       "      <td>88.4051</td>\n",
       "    </tr>\n",
       "    <tr>\n",
       "      <th>ECG_hrv_NN50</th>\n",
       "      <td>24</td>\n",
       "      <td>24</td>\n",
       "      <td>24</td>\n",
       "      <td>24</td>\n",
       "      <td>24</td>\n",
       "    </tr>\n",
       "    <tr>\n",
       "      <th>ECG_hrv_RMS</th>\n",
       "      <td>60.5512</td>\n",
       "      <td>60.5512</td>\n",
       "      <td>60.9725</td>\n",
       "      <td>60.9725</td>\n",
       "      <td>60.6523</td>\n",
       "    </tr>\n",
       "    <tr>\n",
       "      <th>ECG_hrv_TINN</th>\n",
       "      <td>510</td>\n",
       "      <td>510</td>\n",
       "      <td>510</td>\n",
       "      <td>510</td>\n",
       "      <td>510</td>\n",
       "    </tr>\n",
       "    <tr>\n",
       "      <th>ECG_hrv_ULF</th>\n",
       "      <td>682.533</td>\n",
       "      <td>682.533</td>\n",
       "      <td>727.434</td>\n",
       "      <td>727.434</td>\n",
       "      <td>740.907</td>\n",
       "    </tr>\n",
       "    <tr>\n",
       "      <th>ECG_hrv_VHF</th>\n",
       "      <td>464.819</td>\n",
       "      <td>464.819</td>\n",
       "      <td>453.775</td>\n",
       "      <td>453.775</td>\n",
       "      <td>437.212</td>\n",
       "    </tr>\n",
       "    <tr>\n",
       "      <th>ECG_hrv_f_sum</th>\n",
       "      <td>8909.44</td>\n",
       "      <td>8909.44</td>\n",
       "      <td>8930.47</td>\n",
       "      <td>8930.47</td>\n",
       "      <td>8786.95</td>\n",
       "    </tr>\n",
       "    <tr>\n",
       "      <th>ECG_hrv_pNN50</th>\n",
       "      <td>37.5</td>\n",
       "      <td>37.5</td>\n",
       "      <td>38.0952</td>\n",
       "      <td>38.0952</td>\n",
       "      <td>37.5</td>\n",
       "    </tr>\n",
       "    <tr>\n",
       "      <th>ECG_hrv_rel_HF</th>\n",
       "      <td>38.597</td>\n",
       "      <td>38.597</td>\n",
       "      <td>38.114</td>\n",
       "      <td>38.114</td>\n",
       "      <td>37.9371</td>\n",
       "    </tr>\n",
       "    <tr>\n",
       "      <th>ECG_hrv_rel_LF</th>\n",
       "      <td>48.525</td>\n",
       "      <td>48.525</td>\n",
       "      <td>48.6593</td>\n",
       "      <td>48.6593</td>\n",
       "      <td>48.6553</td>\n",
       "    </tr>\n",
       "    <tr>\n",
       "      <th>ECG_hrv_rel_ULF</th>\n",
       "      <td>7.66078</td>\n",
       "      <td>7.66078</td>\n",
       "      <td>8.14552</td>\n",
       "      <td>8.14552</td>\n",
       "      <td>8.4319</td>\n",
       "    </tr>\n",
       "    <tr>\n",
       "      <th>ECG_hrv_rel_VHF</th>\n",
       "      <td>5.21715</td>\n",
       "      <td>5.21715</td>\n",
       "      <td>5.0812</td>\n",
       "      <td>5.0812</td>\n",
       "      <td>4.97569</td>\n",
       "    </tr>\n",
       "    <tr>\n",
       "      <th>EDA_SCL_mean</th>\n",
       "      <td>1.3092</td>\n",
       "      <td>1.30695</td>\n",
       "      <td>1.30468</td>\n",
       "      <td>1.30238</td>\n",
       "      <td>1.30006</td>\n",
       "    </tr>\n",
       "    <tr>\n",
       "      <th>EDA_SCL_std</th>\n",
       "      <td>1.3092</td>\n",
       "      <td>1.30695</td>\n",
       "      <td>1.30468</td>\n",
       "      <td>1.30238</td>\n",
       "      <td>1.30006</td>\n",
       "    </tr>\n",
       "    <tr>\n",
       "      <th>EDA_SCR_mean</th>\n",
       "      <td>0.00136043</td>\n",
       "      <td>0.000329373</td>\n",
       "      <td>-0.000563776</td>\n",
       "      <td>-0.00111515</td>\n",
       "      <td>-0.000790051</td>\n",
       "    </tr>\n",
       "    <tr>\n",
       "      <th>EDA_SCR_no</th>\n",
       "      <td>53</td>\n",
       "      <td>52</td>\n",
       "      <td>52</td>\n",
       "      <td>52</td>\n",
       "      <td>51</td>\n",
       "    </tr>\n",
       "    <tr>\n",
       "      <th>EDA_SCR_std</th>\n",
       "      <td>0.0719615</td>\n",
       "      <td>0.072439</td>\n",
       "      <td>0.0731532</td>\n",
       "      <td>0.0735171</td>\n",
       "      <td>0.0741443</td>\n",
       "    </tr>\n",
       "    <tr>\n",
       "      <th>EDA_ampl_sum</th>\n",
       "      <td>38.0272</td>\n",
       "      <td>24.3994</td>\n",
       "      <td>9.40536</td>\n",
       "      <td>0</td>\n",
       "      <td>0</td>\n",
       "    </tr>\n",
       "    <tr>\n",
       "      <th>EDA_corr_SCL_t</th>\n",
       "      <td>-0.9638</td>\n",
       "      <td>-0.962739</td>\n",
       "      <td>-0.961514</td>\n",
       "      <td>-0.960136</td>\n",
       "      <td>-0.958618</td>\n",
       "    </tr>\n",
       "    <tr>\n",
       "      <th>EDA_drange</th>\n",
       "      <td>2.38644</td>\n",
       "      <td>2.38644</td>\n",
       "      <td>2.38644</td>\n",
       "      <td>2.38644</td>\n",
       "      <td>2.38644</td>\n",
       "    </tr>\n",
       "    <tr>\n",
       "      <th>EDA_max</th>\n",
       "      <td>1.96266</td>\n",
       "      <td>1.96266</td>\n",
       "      <td>1.96266</td>\n",
       "      <td>1.96266</td>\n",
       "      <td>1.96266</td>\n",
       "    </tr>\n",
       "    <tr>\n",
       "      <th>EDA_mean</th>\n",
       "      <td>1.31056</td>\n",
       "      <td>1.30728</td>\n",
       "      <td>1.30412</td>\n",
       "      <td>1.30127</td>\n",
       "      <td>1.29927</td>\n",
       "    </tr>\n",
       "    <tr>\n",
       "      <th>EDA_min</th>\n",
       "      <td>0.822423</td>\n",
       "      <td>0.822423</td>\n",
       "      <td>0.822423</td>\n",
       "      <td>0.822423</td>\n",
       "      <td>0.822423</td>\n",
       "    </tr>\n",
       "    <tr>\n",
       "      <th>EDA_scr_area</th>\n",
       "      <td>0.643946</td>\n",
       "      <td>0.63607</td>\n",
       "      <td>0.635052</td>\n",
       "      <td>0.63368</td>\n",
       "      <td>0.649258</td>\n",
       "    </tr>\n",
       "    <tr>\n",
       "      <th>EDA_slope</th>\n",
       "      <td>-2.23147e-05</td>\n",
       "      <td>-2.23061e-05</td>\n",
       "      <td>-2.23127e-05</td>\n",
       "      <td>-2.2286e-05</td>\n",
       "      <td>-2.20705e-05</td>\n",
       "    </tr>\n",
       "    <tr>\n",
       "      <th>EDA_std</th>\n",
       "      <td>0.284947</td>\n",
       "      <td>0.284846</td>\n",
       "      <td>0.284908</td>\n",
       "      <td>0.284703</td>\n",
       "      <td>0.283462</td>\n",
       "    </tr>\n",
       "    <tr>\n",
       "      <th>EMG_absint</th>\n",
       "      <td>0.00848961</td>\n",
       "      <td>0.0225237</td>\n",
       "      <td>0.00990211</td>\n",
       "      <td>0.00222574</td>\n",
       "      <td>0.00491277</td>\n",
       "    </tr>\n",
       "    <tr>\n",
       "      <th>EMG_drange</th>\n",
       "      <td>-0.696487</td>\n",
       "      <td>-0.696487</td>\n",
       "      <td>-0.696487</td>\n",
       "      <td>-0.696487</td>\n",
       "      <td>-0.696487</td>\n",
       "    </tr>\n",
       "    <tr>\n",
       "      <th>EMG_mean</th>\n",
       "      <td>9.46268e-08</td>\n",
       "      <td>-5.51795e-07</td>\n",
       "      <td>-2.15491e-07</td>\n",
       "      <td>4.2745e-08</td>\n",
       "      <td>-2.71029e-08</td>\n",
       "    </tr>\n",
       "    <tr>\n",
       "      <th>EMG_mean_freq</th>\n",
       "      <td>0.19713</td>\n",
       "      <td>0.197005</td>\n",
       "      <td>0.197063</td>\n",
       "      <td>0.197021</td>\n",
       "      <td>0.197171</td>\n",
       "    </tr>\n",
       "    <tr>\n",
       "      <th>EMG_median</th>\n",
       "      <td>0.000312396</td>\n",
       "      <td>0.000309889</td>\n",
       "      <td>0.000312938</td>\n",
       "      <td>0.000316162</td>\n",
       "      <td>0.000317644</td>\n",
       "    </tr>\n",
       "    <tr>\n",
       "      <th>EMG_median_freq</th>\n",
       "      <td>0.0072619</td>\n",
       "      <td>0.0072619</td>\n",
       "      <td>0.0072619</td>\n",
       "      <td>0.0072619</td>\n",
       "      <td>0.00728571</td>\n",
       "    </tr>\n",
       "    <tr>\n",
       "      <th>EMG_peak_amp_mean</th>\n",
       "      <td>0.00388589</td>\n",
       "      <td>0.00389075</td>\n",
       "      <td>0.00388678</td>\n",
       "      <td>0.00387143</td>\n",
       "      <td>0.00388455</td>\n",
       "    </tr>\n",
       "    <tr>\n",
       "      <th>EMG_peak_amp_norm_sum</th>\n",
       "      <td>114.664</td>\n",
       "      <td>114.738</td>\n",
       "      <td>114.759</td>\n",
       "      <td>114.444</td>\n",
       "      <td>115.038</td>\n",
       "    </tr>\n",
       "    <tr>\n",
       "      <th>EMG_peak_amp_std</th>\n",
       "      <td>0.00470975</td>\n",
       "      <td>0.00471004</td>\n",
       "      <td>0.0047147</td>\n",
       "      <td>0.00469738</td>\n",
       "      <td>0.00471994</td>\n",
       "    </tr>\n",
       "    <tr>\n",
       "      <th>EMG_peak_amp_sum</th>\n",
       "      <td>6.45835</td>\n",
       "      <td>6.46253</td>\n",
       "      <td>6.46372</td>\n",
       "      <td>6.44593</td>\n",
       "      <td>6.47942</td>\n",
       "    </tr>\n",
       "    <tr>\n",
       "      <th>EMG_peak_freq</th>\n",
       "      <td>0.102762</td>\n",
       "      <td>0.107214</td>\n",
       "      <td>0.107214</td>\n",
       "      <td>0.107214</td>\n",
       "      <td>0.107214</td>\n",
       "    </tr>\n",
       "    <tr>\n",
       "      <th>EMG_peak_no</th>\n",
       "      <td>1662</td>\n",
       "      <td>1661</td>\n",
       "      <td>1663</td>\n",
       "      <td>1665</td>\n",
       "      <td>1668</td>\n",
       "    </tr>\n",
       "    <tr>\n",
       "      <th>EMG_perc_10</th>\n",
       "      <td>-0.00890824</td>\n",
       "      <td>-0.00890614</td>\n",
       "      <td>-0.00891277</td>\n",
       "      <td>-0.00891807</td>\n",
       "      <td>-0.00892934</td>\n",
       "    </tr>\n",
       "    <tr>\n",
       "      <th>EMG_perc_90</th>\n",
       "      <td>0.00838726</td>\n",
       "      <td>0.00838751</td>\n",
       "      <td>0.00838751</td>\n",
       "      <td>0.00839636</td>\n",
       "      <td>0.00840537</td>\n",
       "    </tr>\n",
       "    <tr>\n",
       "      <th>EMG_std</th>\n",
       "      <td>0.00725867</td>\n",
       "      <td>0.00725618</td>\n",
       "      <td>0.00725731</td>\n",
       "      <td>0.00726457</td>\n",
       "      <td>0.00727645</td>\n",
       "    </tr>\n",
       "    <tr>\n",
       "      <th>RESP_breath_rate</th>\n",
       "      <td>14</td>\n",
       "      <td>14</td>\n",
       "      <td>14</td>\n",
       "      <td>14</td>\n",
       "      <td>14</td>\n",
       "    </tr>\n",
       "    <tr>\n",
       "      <th>RESP_duration</th>\n",
       "      <td>40107</td>\n",
       "      <td>40282</td>\n",
       "      <td>40457</td>\n",
       "      <td>40632</td>\n",
       "      <td>40807</td>\n",
       "    </tr>\n",
       "    <tr>\n",
       "      <th>RESP_exhal_mean</th>\n",
       "      <td>1473.08</td>\n",
       "      <td>1473.08</td>\n",
       "      <td>1473.08</td>\n",
       "      <td>1473.08</td>\n",
       "      <td>1473.08</td>\n",
       "    </tr>\n",
       "    <tr>\n",
       "      <th>RESP_exhal_std</th>\n",
       "      <td>616.487</td>\n",
       "      <td>616.487</td>\n",
       "      <td>616.487</td>\n",
       "      <td>616.487</td>\n",
       "      <td>616.487</td>\n",
       "    </tr>\n",
       "    <tr>\n",
       "      <th>RESP_ie_ratio</th>\n",
       "      <td>1.0811</td>\n",
       "      <td>1.07137</td>\n",
       "      <td>1.06182</td>\n",
       "      <td>1.05243</td>\n",
       "      <td>1.04321</td>\n",
       "    </tr>\n",
       "    <tr>\n",
       "      <th>RESP_inhal_mean</th>\n",
       "      <td>1488.14</td>\n",
       "      <td>1488.14</td>\n",
       "      <td>1488.14</td>\n",
       "      <td>1488.14</td>\n",
       "      <td>1488.14</td>\n",
       "    </tr>\n",
       "    <tr>\n",
       "      <th>RESP_inhal_std</th>\n",
       "      <td>510.762</td>\n",
       "      <td>510.762</td>\n",
       "      <td>510.762</td>\n",
       "      <td>510.762</td>\n",
       "      <td>510.762</td>\n",
       "    </tr>\n",
       "    <tr>\n",
       "      <th>RESP_stretch</th>\n",
       "      <td>10.7838</td>\n",
       "      <td>10.7838</td>\n",
       "      <td>10.7838</td>\n",
       "      <td>10.7838</td>\n",
       "      <td>10.7838</td>\n",
       "    </tr>\n",
       "    <tr>\n",
       "      <th>RESP_volume</th>\n",
       "      <td>125.195</td>\n",
       "      <td>125.195</td>\n",
       "      <td>125.195</td>\n",
       "      <td>125.195</td>\n",
       "      <td>119.178</td>\n",
       "    </tr>\n",
       "    <tr>\n",
       "      <th>TEMP_drange</th>\n",
       "      <td>1.0106</td>\n",
       "      <td>1.0106</td>\n",
       "      <td>1.0106</td>\n",
       "      <td>1.0106</td>\n",
       "      <td>1.0106</td>\n",
       "    </tr>\n",
       "    <tr>\n",
       "      <th>TEMP_max</th>\n",
       "      <td>35.1719</td>\n",
       "      <td>35.1719</td>\n",
       "      <td>35.1719</td>\n",
       "      <td>35.1719</td>\n",
       "      <td>35.1719</td>\n",
       "    </tr>\n",
       "    <tr>\n",
       "      <th>TEMP_mean</th>\n",
       "      <td>34.9888</td>\n",
       "      <td>34.9888</td>\n",
       "      <td>34.9889</td>\n",
       "      <td>34.989</td>\n",
       "      <td>34.9891</td>\n",
       "    </tr>\n",
       "    <tr>\n",
       "      <th>TEMP_min</th>\n",
       "      <td>34.8031</td>\n",
       "      <td>34.8031</td>\n",
       "      <td>34.8031</td>\n",
       "      <td>34.8031</td>\n",
       "      <td>34.8031</td>\n",
       "    </tr>\n",
       "    <tr>\n",
       "      <th>TEMP_slope</th>\n",
       "      <td>-1.89612e-06</td>\n",
       "      <td>-1.92166e-06</td>\n",
       "      <td>-1.94739e-06</td>\n",
       "      <td>-1.97413e-06</td>\n",
       "      <td>-1.99919e-06</td>\n",
       "    </tr>\n",
       "    <tr>\n",
       "      <th>TEMP_std</th>\n",
       "      <td>0.0545356</td>\n",
       "      <td>0.0545242</td>\n",
       "      <td>0.0544855</td>\n",
       "      <td>0.0544315</td>\n",
       "      <td>0.0543866</td>\n",
       "    </tr>\n",
       "    <tr>\n",
       "      <th>label</th>\n",
       "      <td>3</td>\n",
       "      <td>3</td>\n",
       "      <td>3</td>\n",
       "      <td>3</td>\n",
       "      <td>3</td>\n",
       "    </tr>\n",
       "    <tr>\n",
       "      <th>subject</th>\n",
       "      <td>S8</td>\n",
       "      <td>S8</td>\n",
       "      <td>S8</td>\n",
       "      <td>S8</td>\n",
       "      <td>S8</td>\n",
       "    </tr>\n",
       "  </tbody>\n",
       "</table>\n",
       "</div>"
      ],
      "text/plain": [
       "                                 0            1            2            3  \\\n",
       "ACC_x_absint               33018.7      33012.2      33006.2      33005.1   \n",
       "ACC_x_mean                0.786178     0.786023      0.78588     0.785855   \n",
       "ACC_x_peak                  0.8766       0.8766       0.8766       0.8766   \n",
       "ACC_x_std                0.0303892    0.0303835    0.0303673    0.0303795   \n",
       "ACC_xyz_absint             13233.5      13228.9      13225.5      13228.1   \n",
       "ACC_xyz_std                  21266      21267.8      21268.8      21269.3   \n",
       "ACC_xzy_mean               6736.96      6732.49       6728.9      6729.22   \n",
       "ACC_y_absint               6256.04      6260.11      6264.23      6268.46   \n",
       "ACC_y_mean                0.148957     0.149054     0.149152     0.149253   \n",
       "ACC_y_peak                  0.2504       0.2504       0.2504       0.2504   \n",
       "ACC_y_std                0.0165969    0.0165417    0.0164938    0.0164861   \n",
       "ACC_z_absint               19064.3      19075.3      19084.2      19086.4   \n",
       "ACC_z_mean               -0.453923    -0.454185    -0.454396    -0.454449   \n",
       "ACC_z_peak                 -0.2802      -0.2802      -0.2802      -0.2802   \n",
       "ACC_z_std                0.0546233    0.0546473    0.0546595    0.0546621   \n",
       "ECG_hr_mean                95.6814      95.6814      95.4562      95.4562   \n",
       "ECG_hr_std                 13.1067      13.1067      13.0829      13.0829   \n",
       "ECG_hrv_HF                 3438.78      3438.78      3403.76      3403.76   \n",
       "ECG_hrv_HFn                11.9074      11.9074      11.7633      11.7633   \n",
       "ECG_hrv_LF                 4323.31      4323.31      4345.51      4345.51   \n",
       "ECG_hrv_LFHF_ratio         7.39811      7.39811      7.50098      7.50098   \n",
       "ECG_hrv_LFn                88.0926      88.0926      88.2367      88.2367   \n",
       "ECG_hrv_NN50                    24           24           24           24   \n",
       "ECG_hrv_RMS                60.5512      60.5512      60.9725      60.9725   \n",
       "ECG_hrv_TINN                   510          510          510          510   \n",
       "ECG_hrv_ULF                682.533      682.533      727.434      727.434   \n",
       "ECG_hrv_VHF                464.819      464.819      453.775      453.775   \n",
       "ECG_hrv_f_sum              8909.44      8909.44      8930.47      8930.47   \n",
       "ECG_hrv_pNN50                 37.5         37.5      38.0952      38.0952   \n",
       "ECG_hrv_rel_HF              38.597       38.597       38.114       38.114   \n",
       "ECG_hrv_rel_LF              48.525       48.525      48.6593      48.6593   \n",
       "ECG_hrv_rel_ULF            7.66078      7.66078      8.14552      8.14552   \n",
       "ECG_hrv_rel_VHF            5.21715      5.21715       5.0812       5.0812   \n",
       "EDA_SCL_mean                1.3092      1.30695      1.30468      1.30238   \n",
       "EDA_SCL_std                 1.3092      1.30695      1.30468      1.30238   \n",
       "EDA_SCR_mean            0.00136043  0.000329373 -0.000563776  -0.00111515   \n",
       "EDA_SCR_no                      53           52           52           52   \n",
       "EDA_SCR_std              0.0719615     0.072439    0.0731532    0.0735171   \n",
       "EDA_ampl_sum               38.0272      24.3994      9.40536            0   \n",
       "EDA_corr_SCL_t             -0.9638    -0.962739    -0.961514    -0.960136   \n",
       "EDA_drange                 2.38644      2.38644      2.38644      2.38644   \n",
       "EDA_max                    1.96266      1.96266      1.96266      1.96266   \n",
       "EDA_mean                   1.31056      1.30728      1.30412      1.30127   \n",
       "EDA_min                   0.822423     0.822423     0.822423     0.822423   \n",
       "EDA_scr_area              0.643946      0.63607     0.635052      0.63368   \n",
       "EDA_slope             -2.23147e-05 -2.23061e-05 -2.23127e-05  -2.2286e-05   \n",
       "EDA_std                   0.284947     0.284846     0.284908     0.284703   \n",
       "EMG_absint              0.00848961    0.0225237   0.00990211   0.00222574   \n",
       "EMG_drange               -0.696487    -0.696487    -0.696487    -0.696487   \n",
       "EMG_mean               9.46268e-08 -5.51795e-07 -2.15491e-07   4.2745e-08   \n",
       "EMG_mean_freq              0.19713     0.197005     0.197063     0.197021   \n",
       "EMG_median             0.000312396  0.000309889  0.000312938  0.000316162   \n",
       "EMG_median_freq          0.0072619    0.0072619    0.0072619    0.0072619   \n",
       "EMG_peak_amp_mean       0.00388589   0.00389075   0.00388678   0.00387143   \n",
       "EMG_peak_amp_norm_sum      114.664      114.738      114.759      114.444   \n",
       "EMG_peak_amp_std        0.00470975   0.00471004    0.0047147   0.00469738   \n",
       "EMG_peak_amp_sum           6.45835      6.46253      6.46372      6.44593   \n",
       "EMG_peak_freq             0.102762     0.107214     0.107214     0.107214   \n",
       "EMG_peak_no                   1662         1661         1663         1665   \n",
       "EMG_perc_10            -0.00890824  -0.00890614  -0.00891277  -0.00891807   \n",
       "EMG_perc_90             0.00838726   0.00838751   0.00838751   0.00839636   \n",
       "EMG_std                 0.00725867   0.00725618   0.00725731   0.00726457   \n",
       "RESP_breath_rate                14           14           14           14   \n",
       "RESP_duration                40107        40282        40457        40632   \n",
       "RESP_exhal_mean            1473.08      1473.08      1473.08      1473.08   \n",
       "RESP_exhal_std             616.487      616.487      616.487      616.487   \n",
       "RESP_ie_ratio               1.0811      1.07137      1.06182      1.05243   \n",
       "RESP_inhal_mean            1488.14      1488.14      1488.14      1488.14   \n",
       "RESP_inhal_std             510.762      510.762      510.762      510.762   \n",
       "RESP_stretch               10.7838      10.7838      10.7838      10.7838   \n",
       "RESP_volume                125.195      125.195      125.195      125.195   \n",
       "TEMP_drange                 1.0106       1.0106       1.0106       1.0106   \n",
       "TEMP_max                   35.1719      35.1719      35.1719      35.1719   \n",
       "TEMP_mean                  34.9888      34.9888      34.9889       34.989   \n",
       "TEMP_min                   34.8031      34.8031      34.8031      34.8031   \n",
       "TEMP_slope            -1.89612e-06 -1.92166e-06 -1.94739e-06 -1.97413e-06   \n",
       "TEMP_std                 0.0545356    0.0545242    0.0544855    0.0544315   \n",
       "label                            3            3            3            3   \n",
       "subject                         S8           S8           S8           S8   \n",
       "\n",
       "                                 4  \n",
       "ACC_x_absint                 33008  \n",
       "ACC_x_mean                0.785926  \n",
       "ACC_x_peak                   0.939  \n",
       "ACC_x_std                0.0305639  \n",
       "ACC_xyz_absint             13234.7  \n",
       "ACC_xyz_std                21268.4  \n",
       "ACC_xzy_mean               6732.74  \n",
       "ACC_y_absint               6270.91  \n",
       "ACC_y_mean                0.149312  \n",
       "ACC_y_peak                  0.2504  \n",
       "ACC_y_std                0.0166095  \n",
       "ACC_z_absint               19081.3  \n",
       "ACC_z_mean               -0.454327  \n",
       "ACC_z_peak                 -0.2802  \n",
       "ACC_z_std                0.0548029  \n",
       "ECG_hr_mean                95.3082  \n",
       "ECG_hr_std                  13.035  \n",
       "ECG_hrv_HF                 3333.51  \n",
       "ECG_hrv_HFn                11.5949  \n",
       "ECG_hrv_LF                 4275.32  \n",
       "ECG_hrv_LFHF_ratio         7.62448  \n",
       "ECG_hrv_LFn                88.4051  \n",
       "ECG_hrv_NN50                    24  \n",
       "ECG_hrv_RMS                60.6523  \n",
       "ECG_hrv_TINN                   510  \n",
       "ECG_hrv_ULF                740.907  \n",
       "ECG_hrv_VHF                437.212  \n",
       "ECG_hrv_f_sum              8786.95  \n",
       "ECG_hrv_pNN50                 37.5  \n",
       "ECG_hrv_rel_HF             37.9371  \n",
       "ECG_hrv_rel_LF             48.6553  \n",
       "ECG_hrv_rel_ULF             8.4319  \n",
       "ECG_hrv_rel_VHF            4.97569  \n",
       "EDA_SCL_mean               1.30006  \n",
       "EDA_SCL_std                1.30006  \n",
       "EDA_SCR_mean          -0.000790051  \n",
       "EDA_SCR_no                      51  \n",
       "EDA_SCR_std              0.0741443  \n",
       "EDA_ampl_sum                     0  \n",
       "EDA_corr_SCL_t           -0.958618  \n",
       "EDA_drange                 2.38644  \n",
       "EDA_max                    1.96266  \n",
       "EDA_mean                   1.29927  \n",
       "EDA_min                   0.822423  \n",
       "EDA_scr_area              0.649258  \n",
       "EDA_slope             -2.20705e-05  \n",
       "EDA_std                   0.283462  \n",
       "EMG_absint              0.00491277  \n",
       "EMG_drange               -0.696487  \n",
       "EMG_mean              -2.71029e-08  \n",
       "EMG_mean_freq             0.197171  \n",
       "EMG_median             0.000317644  \n",
       "EMG_median_freq         0.00728571  \n",
       "EMG_peak_amp_mean       0.00388455  \n",
       "EMG_peak_amp_norm_sum      115.038  \n",
       "EMG_peak_amp_std        0.00471994  \n",
       "EMG_peak_amp_sum           6.47942  \n",
       "EMG_peak_freq             0.107214  \n",
       "EMG_peak_no                   1668  \n",
       "EMG_perc_10            -0.00892934  \n",
       "EMG_perc_90             0.00840537  \n",
       "EMG_std                 0.00727645  \n",
       "RESP_breath_rate                14  \n",
       "RESP_duration                40807  \n",
       "RESP_exhal_mean            1473.08  \n",
       "RESP_exhal_std             616.487  \n",
       "RESP_ie_ratio              1.04321  \n",
       "RESP_inhal_mean            1488.14  \n",
       "RESP_inhal_std             510.762  \n",
       "RESP_stretch               10.7838  \n",
       "RESP_volume                119.178  \n",
       "TEMP_drange                 1.0106  \n",
       "TEMP_max                   35.1719  \n",
       "TEMP_mean                  34.9891  \n",
       "TEMP_min                   34.8031  \n",
       "TEMP_slope            -1.99919e-06  \n",
       "TEMP_std                 0.0543866  \n",
       "label                            3  \n",
       "subject                         S8  "
      ]
     },
     "metadata": {},
     "output_type": "display_data"
    }
   ],
   "source": [
    "with pd.option_context(\"display.max_rows\", df.columns.shape[0]): \n",
    "        display(df.head().T)"
   ]
  },
  {
   "cell_type": "code",
   "execution_count": 10,
   "metadata": {},
   "outputs": [
    {
     "data": {
      "text/html": [
       "<div>\n",
       "<style scoped>\n",
       "    .dataframe tbody tr th:only-of-type {\n",
       "        vertical-align: middle;\n",
       "    }\n",
       "\n",
       "    .dataframe tbody tr th {\n",
       "        vertical-align: top;\n",
       "    }\n",
       "\n",
       "    .dataframe thead th {\n",
       "        text-align: right;\n",
       "    }\n",
       "</style>\n",
       "<table border=\"1\" class=\"dataframe\">\n",
       "  <thead>\n",
       "    <tr style=\"text-align: right;\">\n",
       "      <th></th>\n",
       "      <th>count</th>\n",
       "      <th>mean</th>\n",
       "      <th>std</th>\n",
       "      <th>min</th>\n",
       "      <th>25%</th>\n",
       "      <th>50%</th>\n",
       "      <th>75%</th>\n",
       "      <th>max</th>\n",
       "    </tr>\n",
       "  </thead>\n",
       "  <tbody>\n",
       "    <tr>\n",
       "      <th>ACC_x_absint</th>\n",
       "      <td>121813.0</td>\n",
       "      <td>3.373182e+04</td>\n",
       "      <td>5.442559e+03</td>\n",
       "      <td>1.115059e+04</td>\n",
       "      <td>3.046235e+04</td>\n",
       "      <td>3.594657e+04</td>\n",
       "      <td>3.770159e+04</td>\n",
       "      <td>38482.839411</td>\n",
       "    </tr>\n",
       "    <tr>\n",
       "      <th>ACC_x_mean</th>\n",
       "      <td>121813.0</td>\n",
       "      <td>8.031577e-01</td>\n",
       "      <td>1.295878e-01</td>\n",
       "      <td>2.654967e-01</td>\n",
       "      <td>7.253115e-01</td>\n",
       "      <td>8.558914e-01</td>\n",
       "      <td>8.976773e-01</td>\n",
       "      <td>0.916280</td>\n",
       "    </tr>\n",
       "    <tr>\n",
       "      <th>ACC_x_peak</th>\n",
       "      <td>121813.0</td>\n",
       "      <td>9.008852e-01</td>\n",
       "      <td>1.670471e-01</td>\n",
       "      <td>2.905999e-01</td>\n",
       "      <td>8.162000e-01</td>\n",
       "      <td>9.318000e-01</td>\n",
       "      <td>9.940000e-01</td>\n",
       "      <td>1.553400</td>\n",
       "    </tr>\n",
       "    <tr>\n",
       "      <th>ACC_x_std</th>\n",
       "      <td>121813.0</td>\n",
       "      <td>1.576536e-02</td>\n",
       "      <td>2.159889e-02</td>\n",
       "      <td>2.540918e-03</td>\n",
       "      <td>6.727452e-03</td>\n",
       "      <td>1.019764e-02</td>\n",
       "      <td>1.733832e-02</td>\n",
       "      <td>0.334104</td>\n",
       "    </tr>\n",
       "    <tr>\n",
       "      <th>ACC_xyz_absint</th>\n",
       "      <td>121813.0</td>\n",
       "      <td>1.126388e+04</td>\n",
       "      <td>6.171864e+03</td>\n",
       "      <td>6.333725e-01</td>\n",
       "      <td>6.368842e+03</td>\n",
       "      <td>1.208748e+04</td>\n",
       "      <td>1.549643e+04</td>\n",
       "      <td>31365.086834</td>\n",
       "    </tr>\n",
       "    <tr>\n",
       "      <th>ACC_xyz_std</th>\n",
       "      <td>121813.0</td>\n",
       "      <td>2.083812e+04</td>\n",
       "      <td>1.923747e+03</td>\n",
       "      <td>1.066439e+04</td>\n",
       "      <td>1.977699e+04</td>\n",
       "      <td>2.109936e+04</td>\n",
       "      <td>2.246112e+04</td>\n",
       "      <td>23359.812435</td>\n",
       "    </tr>\n",
       "    <tr>\n",
       "      <th>ACC_xzy_mean</th>\n",
       "      <td>121813.0</td>\n",
       "      <td>5.946100e+03</td>\n",
       "      <td>5.767697e+03</td>\n",
       "      <td>-1.066388e+04</td>\n",
       "      <td>1.433468e+03</td>\n",
       "      <td>7.286843e+03</td>\n",
       "      <td>1.010301e+04</td>\n",
       "      <td>19538.685476</td>\n",
       "    </tr>\n",
       "    <tr>\n",
       "      <th>ACC_y_absint</th>\n",
       "      <td>121813.0</td>\n",
       "      <td>2.875874e+03</td>\n",
       "      <td>3.553315e+03</td>\n",
       "      <td>9.700954e-04</td>\n",
       "      <td>8.820891e+02</td>\n",
       "      <td>1.919441e+03</td>\n",
       "      <td>3.333147e+03</td>\n",
       "      <td>20173.308396</td>\n",
       "    </tr>\n",
       "    <tr>\n",
       "      <th>ACC_y_mean</th>\n",
       "      <td>121813.0</td>\n",
       "      <td>-3.171673e-02</td>\n",
       "      <td>1.041193e-01</td>\n",
       "      <td>-4.803281e-01</td>\n",
       "      <td>-5.821665e-02</td>\n",
       "      <td>-2.075289e-02</td>\n",
       "      <td>2.162790e-02</td>\n",
       "      <td>0.206044</td>\n",
       "    </tr>\n",
       "    <tr>\n",
       "      <th>ACC_y_peak</th>\n",
       "      <td>121813.0</td>\n",
       "      <td>6.079692e-02</td>\n",
       "      <td>1.348027e-01</td>\n",
       "      <td>-4.514000e-01</td>\n",
       "      <td>1.000047e-03</td>\n",
       "      <td>6.659997e-02</td>\n",
       "      <td>1.274000e-01</td>\n",
       "      <td>0.517600</td>\n",
       "    </tr>\n",
       "    <tr>\n",
       "      <th>ACC_y_std</th>\n",
       "      <td>121813.0</td>\n",
       "      <td>2.231234e-02</td>\n",
       "      <td>2.630981e-02</td>\n",
       "      <td>2.437846e-03</td>\n",
       "      <td>7.400205e-03</td>\n",
       "      <td>1.410219e-02</td>\n",
       "      <td>2.699352e-02</td>\n",
       "      <td>0.297557</td>\n",
       "    </tr>\n",
       "    <tr>\n",
       "      <th>ACC_z_absint</th>\n",
       "      <td>121813.0</td>\n",
       "      <td>1.524902e+04</td>\n",
       "      <td>9.934453e+03</td>\n",
       "      <td>2.211138e-01</td>\n",
       "      <td>7.232294e+03</td>\n",
       "      <td>1.363166e+04</td>\n",
       "      <td>2.284682e+04</td>\n",
       "      <td>39573.054387</td>\n",
       "    </tr>\n",
       "    <tr>\n",
       "      <th>ACC_z_mean</th>\n",
       "      <td>121813.0</td>\n",
       "      <td>-3.467196e-01</td>\n",
       "      <td>2.599314e-01</td>\n",
       "      <td>-9.422378e-01</td>\n",
       "      <td>-5.421536e-01</td>\n",
       "      <td>-3.188847e-01</td>\n",
       "      <td>-1.662460e-01</td>\n",
       "      <td>0.649590</td>\n",
       "    </tr>\n",
       "    <tr>\n",
       "      <th>ACC_z_peak</th>\n",
       "      <td>121813.0</td>\n",
       "      <td>-1.734836e-01</td>\n",
       "      <td>3.374804e-01</td>\n",
       "      <td>-9.218000e-01</td>\n",
       "      <td>-4.204000e-01</td>\n",
       "      <td>-1.326000e-01</td>\n",
       "      <td>5.579996e-02</td>\n",
       "      <td>1.041800</td>\n",
       "    </tr>\n",
       "    <tr>\n",
       "      <th>ACC_z_std</th>\n",
       "      <td>121813.0</td>\n",
       "      <td>3.790791e-02</td>\n",
       "      <td>4.562463e-02</td>\n",
       "      <td>4.217744e-03</td>\n",
       "      <td>1.332436e-02</td>\n",
       "      <td>2.389932e-02</td>\n",
       "      <td>4.342554e-02</td>\n",
       "      <td>0.416549</td>\n",
       "    </tr>\n",
       "    <tr>\n",
       "      <th>ECG_hr_mean</th>\n",
       "      <td>121813.0</td>\n",
       "      <td>1.150156e+02</td>\n",
       "      <td>2.596134e+01</td>\n",
       "      <td>7.283340e+01</td>\n",
       "      <td>9.793210e+01</td>\n",
       "      <td>1.086545e+02</td>\n",
       "      <td>1.245342e+02</td>\n",
       "      <td>212.975472</td>\n",
       "    </tr>\n",
       "    <tr>\n",
       "      <th>ECG_hr_std</th>\n",
       "      <td>121813.0</td>\n",
       "      <td>9.631362e+00</td>\n",
       "      <td>3.932930e+00</td>\n",
       "      <td>2.702037e+00</td>\n",
       "      <td>6.948382e+00</td>\n",
       "      <td>8.916820e+00</td>\n",
       "      <td>1.134984e+01</td>\n",
       "      <td>36.254226</td>\n",
       "    </tr>\n",
       "    <tr>\n",
       "      <th>ECG_hrv_HF</th>\n",
       "      <td>121813.0</td>\n",
       "      <td>8.892800e+02</td>\n",
       "      <td>1.265845e+03</td>\n",
       "      <td>5.400580e-01</td>\n",
       "      <td>1.800907e+02</td>\n",
       "      <td>4.626218e+02</td>\n",
       "      <td>1.045669e+03</td>\n",
       "      <td>15434.314292</td>\n",
       "    </tr>\n",
       "    <tr>\n",
       "      <th>ECG_hrv_HFn</th>\n",
       "      <td>121813.0</td>\n",
       "      <td>2.142626e+01</td>\n",
       "      <td>1.704996e+01</td>\n",
       "      <td>9.798405e-01</td>\n",
       "      <td>8.521370e+00</td>\n",
       "      <td>1.604173e+01</td>\n",
       "      <td>2.956955e+01</td>\n",
       "      <td>93.041165</td>\n",
       "    </tr>\n",
       "    <tr>\n",
       "      <th>ECG_hrv_LF</th>\n",
       "      <td>121813.0</td>\n",
       "      <td>9.177515e+02</td>\n",
       "      <td>9.918280e+02</td>\n",
       "      <td>4.913167e+00</td>\n",
       "      <td>2.957927e+02</td>\n",
       "      <td>6.174729e+02</td>\n",
       "      <td>1.161405e+03</td>\n",
       "      <td>11597.641522</td>\n",
       "    </tr>\n",
       "    <tr>\n",
       "      <th>ECG_hrv_LFHF_ratio</th>\n",
       "      <td>121813.0</td>\n",
       "      <td>8.357228e+00</td>\n",
       "      <td>9.675399e+00</td>\n",
       "      <td>7.479307e-02</td>\n",
       "      <td>2.381858e+00</td>\n",
       "      <td>5.233740e+00</td>\n",
       "      <td>1.073520e+01</td>\n",
       "      <td>101.057431</td>\n",
       "    </tr>\n",
       "    <tr>\n",
       "      <th>ECG_hrv_LFn</th>\n",
       "      <td>121813.0</td>\n",
       "      <td>7.857374e+01</td>\n",
       "      <td>1.704996e+01</td>\n",
       "      <td>6.958835e+00</td>\n",
       "      <td>7.043045e+01</td>\n",
       "      <td>8.395827e+01</td>\n",
       "      <td>9.147863e+01</td>\n",
       "      <td>99.020160</td>\n",
       "    </tr>\n",
       "    <tr>\n",
       "      <th>ECG_hrv_NN50</th>\n",
       "      <td>121813.0</td>\n",
       "      <td>8.576523e+00</td>\n",
       "      <td>9.065345e+00</td>\n",
       "      <td>0.000000e+00</td>\n",
       "      <td>1.000000e+00</td>\n",
       "      <td>5.000000e+00</td>\n",
       "      <td>1.400000e+01</td>\n",
       "      <td>39.000000</td>\n",
       "    </tr>\n",
       "    <tr>\n",
       "      <th>ECG_hrv_RMS</th>\n",
       "      <td>121813.0</td>\n",
       "      <td>3.535209e+01</td>\n",
       "      <td>2.451819e+01</td>\n",
       "      <td>1.394433e+00</td>\n",
       "      <td>1.903777e+01</td>\n",
       "      <td>2.910283e+01</td>\n",
       "      <td>4.421071e+01</td>\n",
       "      <td>174.578322</td>\n",
       "    </tr>\n",
       "    <tr>\n",
       "      <th>ECG_hrv_TINN</th>\n",
       "      <td>121813.0</td>\n",
       "      <td>3.178878e+02</td>\n",
       "      <td>1.549591e+02</td>\n",
       "      <td>4.571429e+01</td>\n",
       "      <td>2.157143e+02</td>\n",
       "      <td>2.900000e+02</td>\n",
       "      <td>3.957143e+02</td>\n",
       "      <td>1082.857143</td>\n",
       "    </tr>\n",
       "    <tr>\n",
       "      <th>ECG_hrv_ULF</th>\n",
       "      <td>121813.0</td>\n",
       "      <td>4.506362e+02</td>\n",
       "      <td>7.065871e+02</td>\n",
       "      <td>1.021278e+00</td>\n",
       "      <td>7.635542e+01</td>\n",
       "      <td>2.284820e+02</td>\n",
       "      <td>5.452221e+02</td>\n",
       "      <td>11459.380293</td>\n",
       "    </tr>\n",
       "    <tr>\n",
       "      <th>ECG_hrv_VHF</th>\n",
       "      <td>121813.0</td>\n",
       "      <td>2.540961e+02</td>\n",
       "      <td>5.686612e+02</td>\n",
       "      <td>3.479956e-01</td>\n",
       "      <td>2.934363e+01</td>\n",
       "      <td>9.153784e+01</td>\n",
       "      <td>2.731946e+02</td>\n",
       "      <td>9325.178318</td>\n",
       "    </tr>\n",
       "    <tr>\n",
       "      <th>ECG_hrv_f_sum</th>\n",
       "      <td>121813.0</td>\n",
       "      <td>2.511764e+03</td>\n",
       "      <td>2.557679e+03</td>\n",
       "      <td>2.532833e+01</td>\n",
       "      <td>8.974504e+02</td>\n",
       "      <td>1.775331e+03</td>\n",
       "      <td>3.151953e+03</td>\n",
       "      <td>27297.870278</td>\n",
       "    </tr>\n",
       "    <tr>\n",
       "      <th>ECG_hrv_pNN50</th>\n",
       "      <td>121813.0</td>\n",
       "      <td>1.315435e+01</td>\n",
       "      <td>1.548097e+01</td>\n",
       "      <td>0.000000e+00</td>\n",
       "      <td>1.492537e+00</td>\n",
       "      <td>6.666667e+00</td>\n",
       "      <td>2.000000e+01</td>\n",
       "      <td>69.230769</td>\n",
       "    </tr>\n",
       "    <tr>\n",
       "      <th>ECG_hrv_rel_HF</th>\n",
       "      <td>121813.0</td>\n",
       "      <td>3.151221e+01</td>\n",
       "      <td>1.771518e+01</td>\n",
       "      <td>4.915866e-01</td>\n",
       "      <td>1.750589e+01</td>\n",
       "      <td>2.882322e+01</td>\n",
       "      <td>4.280783e+01</td>\n",
       "      <td>88.155671</td>\n",
       "    </tr>\n",
       "    <tr>\n",
       "      <th>ECG_hrv_rel_LF</th>\n",
       "      <td>121813.0</td>\n",
       "      <td>4.004594e+01</td>\n",
       "      <td>1.868238e+01</td>\n",
       "      <td>8.653701e-01</td>\n",
       "      <td>2.507784e+01</td>\n",
       "      <td>3.899708e+01</td>\n",
       "      <td>5.379465e+01</td>\n",
       "      <td>94.736023</td>\n",
       "    </tr>\n",
       "    <tr>\n",
       "      <th>ECG_hrv_rel_ULF</th>\n",
       "      <td>121813.0</td>\n",
       "      <td>1.910078e+01</td>\n",
       "      <td>1.608598e+01</td>\n",
       "      <td>1.033621e-01</td>\n",
       "      <td>6.384687e+00</td>\n",
       "      <td>1.464047e+01</td>\n",
       "      <td>2.789209e+01</td>\n",
       "      <td>93.581365</td>\n",
       "    </tr>\n",
       "    <tr>\n",
       "      <th>ECG_hrv_rel_VHF</th>\n",
       "      <td>121813.0</td>\n",
       "      <td>9.341071e+00</td>\n",
       "      <td>1.070147e+01</td>\n",
       "      <td>1.558650e-01</td>\n",
       "      <td>2.483533e+00</td>\n",
       "      <td>4.939138e+00</td>\n",
       "      <td>1.195069e+01</td>\n",
       "      <td>75.871393</td>\n",
       "    </tr>\n",
       "    <tr>\n",
       "      <th>EDA_SCL_mean</th>\n",
       "      <td>121813.0</td>\n",
       "      <td>-1.903416e-02</td>\n",
       "      <td>8.781849e-01</td>\n",
       "      <td>-1.948759e+00</td>\n",
       "      <td>-6.761268e-01</td>\n",
       "      <td>-1.740805e-01</td>\n",
       "      <td>6.310920e-01</td>\n",
       "      <td>3.255024</td>\n",
       "    </tr>\n",
       "    <tr>\n",
       "      <th>EDA_SCL_std</th>\n",
       "      <td>121813.0</td>\n",
       "      <td>-1.903416e-02</td>\n",
       "      <td>8.781849e-01</td>\n",
       "      <td>-1.948759e+00</td>\n",
       "      <td>-6.761268e-01</td>\n",
       "      <td>-1.740805e-01</td>\n",
       "      <td>6.310920e-01</td>\n",
       "      <td>3.255024</td>\n",
       "    </tr>\n",
       "    <tr>\n",
       "      <th>EDA_SCR_mean</th>\n",
       "      <td>121813.0</td>\n",
       "      <td>-1.199862e-06</td>\n",
       "      <td>4.290778e-03</td>\n",
       "      <td>-6.342619e-02</td>\n",
       "      <td>-8.577593e-04</td>\n",
       "      <td>5.842032e-07</td>\n",
       "      <td>8.588986e-04</td>\n",
       "      <td>0.071839</td>\n",
       "    </tr>\n",
       "    <tr>\n",
       "      <th>EDA_SCR_no</th>\n",
       "      <td>121813.0</td>\n",
       "      <td>2.869170e+01</td>\n",
       "      <td>3.747932e+01</td>\n",
       "      <td>0.000000e+00</td>\n",
       "      <td>4.000000e+00</td>\n",
       "      <td>1.000000e+01</td>\n",
       "      <td>4.600000e+01</td>\n",
       "      <td>176.000000</td>\n",
       "    </tr>\n",
       "    <tr>\n",
       "      <th>EDA_SCR_std</th>\n",
       "      <td>121813.0</td>\n",
       "      <td>7.800268e-02</td>\n",
       "      <td>8.693728e-02</td>\n",
       "      <td>1.347313e-03</td>\n",
       "      <td>2.098119e-02</td>\n",
       "      <td>5.242651e-02</td>\n",
       "      <td>1.046312e-01</td>\n",
       "      <td>0.690004</td>\n",
       "    </tr>\n",
       "    <tr>\n",
       "      <th>EDA_ampl_sum</th>\n",
       "      <td>121813.0</td>\n",
       "      <td>7.393511e-02</td>\n",
       "      <td>4.119272e+00</td>\n",
       "      <td>0.000000e+00</td>\n",
       "      <td>0.000000e+00</td>\n",
       "      <td>0.000000e+00</td>\n",
       "      <td>0.000000e+00</td>\n",
       "      <td>488.265512</td>\n",
       "    </tr>\n",
       "    <tr>\n",
       "      <th>EDA_corr_SCL_t</th>\n",
       "      <td>121813.0</td>\n",
       "      <td>2.782612e-02</td>\n",
       "      <td>8.229942e-01</td>\n",
       "      <td>-9.999664e-01</td>\n",
       "      <td>-9.163881e-01</td>\n",
       "      <td>2.213031e-01</td>\n",
       "      <td>8.815104e-01</td>\n",
       "      <td>0.999548</td>\n",
       "    </tr>\n",
       "    <tr>\n",
       "      <th>EDA_drange</th>\n",
       "      <td>121813.0</td>\n",
       "      <td>2.768199e+00</td>\n",
       "      <td>1.238774e+02</td>\n",
       "      <td>-3.967831e+03</td>\n",
       "      <td>-2.964488e-01</td>\n",
       "      <td>6.062892e-01</td>\n",
       "      <td>1.574950e+00</td>\n",
       "      <td>11106.050509</td>\n",
       "    </tr>\n",
       "    <tr>\n",
       "      <th>EDA_max</th>\n",
       "      <td>121813.0</td>\n",
       "      <td>5.493528e-01</td>\n",
       "      <td>1.166038e+00</td>\n",
       "      <td>-1.738216e+00</td>\n",
       "      <td>-4.386713e-01</td>\n",
       "      <td>3.681331e-01</td>\n",
       "      <td>1.286859e+00</td>\n",
       "      <td>7.193766</td>\n",
       "    </tr>\n",
       "    <tr>\n",
       "      <th>EDA_mean</th>\n",
       "      <td>121813.0</td>\n",
       "      <td>-1.903162e-02</td>\n",
       "      <td>8.782353e-01</td>\n",
       "      <td>-1.945009e+00</td>\n",
       "      <td>-6.761643e-01</td>\n",
       "      <td>-1.746478e-01</td>\n",
       "      <td>6.312192e-01</td>\n",
       "      <td>3.256583</td>\n",
       "    </tr>\n",
       "    <tr>\n",
       "      <th>EDA_min</th>\n",
       "      <td>121813.0</td>\n",
       "      <td>-4.145182e-01</td>\n",
       "      <td>9.309273e-01</td>\n",
       "      <td>-7.598910e+00</td>\n",
       "      <td>-9.663767e-01</td>\n",
       "      <td>-5.459753e-01</td>\n",
       "      <td>1.790925e-01</td>\n",
       "      <td>2.561550</td>\n",
       "    </tr>\n",
       "    <tr>\n",
       "      <th>EDA_scr_area</th>\n",
       "      <td>121813.0</td>\n",
       "      <td>1.125531e+00</td>\n",
       "      <td>2.750544e+00</td>\n",
       "      <td>3.232345e-04</td>\n",
       "      <td>4.697535e-02</td>\n",
       "      <td>1.972812e-01</td>\n",
       "      <td>1.061966e+00</td>\n",
       "      <td>30.107660</td>\n",
       "    </tr>\n",
       "    <tr>\n",
       "      <th>EDA_slope</th>\n",
       "      <td>121813.0</td>\n",
       "      <td>8.680248e-07</td>\n",
       "      <td>1.674013e-05</td>\n",
       "      <td>-1.079305e-04</td>\n",
       "      <td>-6.689605e-06</td>\n",
       "      <td>7.607842e-07</td>\n",
       "      <td>7.292923e-06</td>\n",
       "      <td>0.000137</td>\n",
       "    </tr>\n",
       "    <tr>\n",
       "      <th>EDA_std</th>\n",
       "      <td>121813.0</td>\n",
       "      <td>1.993713e-01</td>\n",
       "      <td>1.941195e-01</td>\n",
       "      <td>5.691243e-03</td>\n",
       "      <td>7.269518e-02</td>\n",
       "      <td>1.423018e-01</td>\n",
       "      <td>2.564714e-01</td>\n",
       "      <td>1.763312</td>\n",
       "    </tr>\n",
       "    <tr>\n",
       "      <th>EMG_absint</th>\n",
       "      <td>121813.0</td>\n",
       "      <td>1.140037e-02</td>\n",
       "      <td>1.243380e-02</td>\n",
       "      <td>3.760722e-08</td>\n",
       "      <td>3.657774e-03</td>\n",
       "      <td>8.015328e-03</td>\n",
       "      <td>1.491604e-02</td>\n",
       "      <td>0.342385</td>\n",
       "    </tr>\n",
       "    <tr>\n",
       "      <th>EMG_drange</th>\n",
       "      <td>121813.0</td>\n",
       "      <td>-1.014171e+00</td>\n",
       "      <td>2.568502e-01</td>\n",
       "      <td>-2.213083e+00</td>\n",
       "      <td>-1.150374e+00</td>\n",
       "      <td>-9.668116e-01</td>\n",
       "      <td>-8.343992e-01</td>\n",
       "      <td>-0.310230</td>\n",
       "    </tr>\n",
       "    <tr>\n",
       "      <th>EMG_mean</th>\n",
       "      <td>121813.0</td>\n",
       "      <td>-2.132572e-10</td>\n",
       "      <td>4.395814e-07</td>\n",
       "      <td>-8.242197e-06</td>\n",
       "      <td>-2.133219e-07</td>\n",
       "      <td>-4.385435e-10</td>\n",
       "      <td>2.140062e-07</td>\n",
       "      <td>0.000008</td>\n",
       "    </tr>\n",
       "    <tr>\n",
       "      <th>EMG_mean_freq</th>\n",
       "      <td>121813.0</td>\n",
       "      <td>2.136757e-01</td>\n",
       "      <td>3.412440e-02</td>\n",
       "      <td>1.493851e-01</td>\n",
       "      <td>1.860345e-01</td>\n",
       "      <td>2.137755e-01</td>\n",
       "      <td>2.373458e-01</td>\n",
       "      <td>0.311637</td>\n",
       "    </tr>\n",
       "    <tr>\n",
       "      <th>EMG_median</th>\n",
       "      <td>121813.0</td>\n",
       "      <td>2.327240e-04</td>\n",
       "      <td>2.445275e-04</td>\n",
       "      <td>-8.887516e-04</td>\n",
       "      <td>7.678846e-05</td>\n",
       "      <td>2.630443e-04</td>\n",
       "      <td>4.206593e-04</td>\n",
       "      <td>0.001482</td>\n",
       "    </tr>\n",
       "    <tr>\n",
       "      <th>EMG_median_freq</th>\n",
       "      <td>121813.0</td>\n",
       "      <td>9.769595e-03</td>\n",
       "      <td>4.114953e-03</td>\n",
       "      <td>5.047619e-03</td>\n",
       "      <td>7.095238e-03</td>\n",
       "      <td>8.666667e-03</td>\n",
       "      <td>1.097619e-02</td>\n",
       "      <td>0.044643</td>\n",
       "    </tr>\n",
       "    <tr>\n",
       "      <th>EMG_peak_amp_mean</th>\n",
       "      <td>121813.0</td>\n",
       "      <td>5.049228e-03</td>\n",
       "      <td>2.060131e-03</td>\n",
       "      <td>1.735037e-03</td>\n",
       "      <td>3.600132e-03</td>\n",
       "      <td>4.527581e-03</td>\n",
       "      <td>5.982619e-03</td>\n",
       "      <td>0.020000</td>\n",
       "    </tr>\n",
       "    <tr>\n",
       "      <th>EMG_peak_amp_norm_sum</th>\n",
       "      <td>121813.0</td>\n",
       "      <td>2.257264e+02</td>\n",
       "      <td>1.028546e+02</td>\n",
       "      <td>2.543861e+01</td>\n",
       "      <td>1.495391e+02</td>\n",
       "      <td>2.149861e+02</td>\n",
       "      <td>2.878847e+02</td>\n",
       "      <td>718.847777</td>\n",
       "    </tr>\n",
       "    <tr>\n",
       "      <th>EMG_peak_amp_std</th>\n",
       "      <td>121813.0</td>\n",
       "      <td>5.042387e-03</td>\n",
       "      <td>2.248901e-03</td>\n",
       "      <td>1.753844e-03</td>\n",
       "      <td>3.471532e-03</td>\n",
       "      <td>4.711380e-03</td>\n",
       "      <td>5.945361e-03</td>\n",
       "      <td>0.026791</td>\n",
       "    </tr>\n",
       "    <tr>\n",
       "      <th>EMG_peak_amp_sum</th>\n",
       "      <td>121813.0</td>\n",
       "      <td>8.804994e+00</td>\n",
       "      <td>5.532621e+00</td>\n",
       "      <td>1.248847e+00</td>\n",
       "      <td>5.072997e+00</td>\n",
       "      <td>7.309870e+00</td>\n",
       "      <td>1.073504e+01</td>\n",
       "      <td>47.760020</td>\n",
       "    </tr>\n",
       "    <tr>\n",
       "      <th>EMG_peak_freq</th>\n",
       "      <td>121813.0</td>\n",
       "      <td>1.256571e-01</td>\n",
       "      <td>5.718963e-02</td>\n",
       "      <td>6.100000e-02</td>\n",
       "      <td>9.945238e-02</td>\n",
       "      <td>1.125714e-01</td>\n",
       "      <td>1.318810e-01</td>\n",
       "      <td>0.499976</td>\n",
       "    </tr>\n",
       "    <tr>\n",
       "      <th>EMG_peak_no</th>\n",
       "      <td>121813.0</td>\n",
       "      <td>1.651546e+03</td>\n",
       "      <td>4.293873e+02</td>\n",
       "      <td>3.100000e+02</td>\n",
       "      <td>1.439000e+03</td>\n",
       "      <td>1.683000e+03</td>\n",
       "      <td>1.911000e+03</td>\n",
       "      <td>2710.000000</td>\n",
       "    </tr>\n",
       "    <tr>\n",
       "      <th>EMG_perc_10</th>\n",
       "      <td>121813.0</td>\n",
       "      <td>-1.161736e-02</td>\n",
       "      <td>4.083110e-03</td>\n",
       "      <td>-4.159827e-02</td>\n",
       "      <td>-1.265936e-02</td>\n",
       "      <td>-1.056720e-02</td>\n",
       "      <td>-9.076794e-03</td>\n",
       "      <td>-0.006444</td>\n",
       "    </tr>\n",
       "    <tr>\n",
       "      <th>EMG_perc_90</th>\n",
       "      <td>121813.0</td>\n",
       "      <td>1.116668e-02</td>\n",
       "      <td>4.251662e-03</td>\n",
       "      <td>6.184561e-03</td>\n",
       "      <td>8.360369e-03</td>\n",
       "      <td>1.016214e-02</td>\n",
       "      <td>1.241528e-02</td>\n",
       "      <td>0.040787</td>\n",
       "    </tr>\n",
       "    <tr>\n",
       "      <th>EMG_std</th>\n",
       "      <td>121813.0</td>\n",
       "      <td>9.769588e-03</td>\n",
       "      <td>4.114905e-03</td>\n",
       "      <td>5.047376e-03</td>\n",
       "      <td>7.106887e-03</td>\n",
       "      <td>8.658870e-03</td>\n",
       "      <td>1.097158e-02</td>\n",
       "      <td>0.044644</td>\n",
       "    </tr>\n",
       "    <tr>\n",
       "      <th>RESP_breath_rate</th>\n",
       "      <td>121813.0</td>\n",
       "      <td>1.484241e+01</td>\n",
       "      <td>2.719323e+00</td>\n",
       "      <td>7.000000e+00</td>\n",
       "      <td>1.300000e+01</td>\n",
       "      <td>1.500000e+01</td>\n",
       "      <td>1.700000e+01</td>\n",
       "      <td>23.000000</td>\n",
       "    </tr>\n",
       "    <tr>\n",
       "      <th>RESP_duration</th>\n",
       "      <td>121813.0</td>\n",
       "      <td>4.197226e+04</td>\n",
       "      <td>2.924766e+02</td>\n",
       "      <td>3.419800e+04</td>\n",
       "      <td>4.200000e+04</td>\n",
       "      <td>4.200000e+04</td>\n",
       "      <td>4.200000e+04</td>\n",
       "      <td>42000.000000</td>\n",
       "    </tr>\n",
       "    <tr>\n",
       "      <th>RESP_exhal_mean</th>\n",
       "      <td>121813.0</td>\n",
       "      <td>1.426550e+03</td>\n",
       "      <td>2.938229e+02</td>\n",
       "      <td>8.695217e+02</td>\n",
       "      <td>1.222765e+03</td>\n",
       "      <td>1.355467e+03</td>\n",
       "      <td>1.569769e+03</td>\n",
       "      <td>3218.500000</td>\n",
       "    </tr>\n",
       "    <tr>\n",
       "      <th>RESP_exhal_std</th>\n",
       "      <td>121813.0</td>\n",
       "      <td>4.146157e+02</td>\n",
       "      <td>2.916481e+02</td>\n",
       "      <td>2.598544e+01</td>\n",
       "      <td>1.703066e+02</td>\n",
       "      <td>3.358667e+02</td>\n",
       "      <td>6.038271e+02</td>\n",
       "      <td>1864.398251</td>\n",
       "    </tr>\n",
       "    <tr>\n",
       "      <th>RESP_ie_ratio</th>\n",
       "      <td>121813.0</td>\n",
       "      <td>1.021084e+00</td>\n",
       "      <td>1.218813e-01</td>\n",
       "      <td>4.952472e-01</td>\n",
       "      <td>9.586812e-01</td>\n",
       "      <td>1.014485e+00</td>\n",
       "      <td>1.079929e+00</td>\n",
       "      <td>2.030084</td>\n",
       "    </tr>\n",
       "    <tr>\n",
       "      <th>RESP_inhal_mean</th>\n",
       "      <td>121813.0</td>\n",
       "      <td>1.444406e+03</td>\n",
       "      <td>2.890134e+02</td>\n",
       "      <td>8.788261e+02</td>\n",
       "      <td>1.235412e+03</td>\n",
       "      <td>1.390600e+03</td>\n",
       "      <td>1.607462e+03</td>\n",
       "      <td>3135.571429</td>\n",
       "    </tr>\n",
       "    <tr>\n",
       "      <th>RESP_inhal_std</th>\n",
       "      <td>121813.0</td>\n",
       "      <td>4.274283e+02</td>\n",
       "      <td>2.691726e+02</td>\n",
       "      <td>3.442137e+01</td>\n",
       "      <td>2.016383e+02</td>\n",
       "      <td>3.731933e+02</td>\n",
       "      <td>6.175455e+02</td>\n",
       "      <td>2140.917428</td>\n",
       "    </tr>\n",
       "    <tr>\n",
       "      <th>RESP_stretch</th>\n",
       "      <td>121813.0</td>\n",
       "      <td>1.082744e+01</td>\n",
       "      <td>7.026491e+00</td>\n",
       "      <td>3.995015e-01</td>\n",
       "      <td>5.363267e+00</td>\n",
       "      <td>9.501897e+00</td>\n",
       "      <td>1.447040e+01</td>\n",
       "      <td>45.375329</td>\n",
       "    </tr>\n",
       "    <tr>\n",
       "      <th>RESP_volume</th>\n",
       "      <td>121813.0</td>\n",
       "      <td>1.149319e+02</td>\n",
       "      <td>1.107390e+02</td>\n",
       "      <td>3.581510e-01</td>\n",
       "      <td>4.896074e+01</td>\n",
       "      <td>8.260654e+01</td>\n",
       "      <td>1.418458e+02</td>\n",
       "      <td>1035.275390</td>\n",
       "    </tr>\n",
       "    <tr>\n",
       "      <th>TEMP_drange</th>\n",
       "      <td>121813.0</td>\n",
       "      <td>1.008641e+00</td>\n",
       "      <td>5.121114e-02</td>\n",
       "      <td>-1.237100e-01</td>\n",
       "      <td>1.008075e+00</td>\n",
       "      <td>1.009397e+00</td>\n",
       "      <td>1.011384e+00</td>\n",
       "      <td>1.197949</td>\n",
       "    </tr>\n",
       "    <tr>\n",
       "      <th>TEMP_max</th>\n",
       "      <td>121813.0</td>\n",
       "      <td>3.396902e+01</td>\n",
       "      <td>1.299388e+00</td>\n",
       "      <td>2.841458e+01</td>\n",
       "      <td>3.373526e+01</td>\n",
       "      <td>3.430771e+01</td>\n",
       "      <td>3.470312e+01</td>\n",
       "      <td>35.778046</td>\n",
       "    </tr>\n",
       "    <tr>\n",
       "      <th>TEMP_mean</th>\n",
       "      <td>121813.0</td>\n",
       "      <td>3.376256e+01</td>\n",
       "      <td>1.331234e+00</td>\n",
       "      <td>2.820180e+01</td>\n",
       "      <td>3.354780e+01</td>\n",
       "      <td>3.412833e+01</td>\n",
       "      <td>3.453360e+01</td>\n",
       "      <td>35.631836</td>\n",
       "    </tr>\n",
       "    <tr>\n",
       "      <th>TEMP_min</th>\n",
       "      <td>121813.0</td>\n",
       "      <td>3.300103e+01</td>\n",
       "      <td>1.369866e+01</td>\n",
       "      <td>-2.731500e+02</td>\n",
       "      <td>3.341599e+01</td>\n",
       "      <td>3.400568e+01</td>\n",
       "      <td>3.439948e+01</td>\n",
       "      <td>35.516296</td>\n",
       "    </tr>\n",
       "    <tr>\n",
       "      <th>TEMP_slope</th>\n",
       "      <td>121813.0</td>\n",
       "      <td>6.747549e-07</td>\n",
       "      <td>7.263960e-06</td>\n",
       "      <td>-1.290544e-04</td>\n",
       "      <td>-3.701148e-07</td>\n",
       "      <td>5.957498e-07</td>\n",
       "      <td>1.631870e-06</td>\n",
       "      <td>0.000149</td>\n",
       "    </tr>\n",
       "    <tr>\n",
       "      <th>TEMP_std</th>\n",
       "      <td>121813.0</td>\n",
       "      <td>7.238136e-02</td>\n",
       "      <td>6.077758e-01</td>\n",
       "      <td>1.443778e-02</td>\n",
       "      <td>2.762968e-02</td>\n",
       "      <td>3.219721e-02</td>\n",
       "      <td>4.211922e-02</td>\n",
       "      <td>13.619300</td>\n",
       "    </tr>\n",
       "    <tr>\n",
       "      <th>label</th>\n",
       "      <td>121813.0</td>\n",
       "      <td>1.604771e+00</td>\n",
       "      <td>7.389779e-01</td>\n",
       "      <td>1.000000e+00</td>\n",
       "      <td>1.000000e+00</td>\n",
       "      <td>1.000000e+00</td>\n",
       "      <td>2.000000e+00</td>\n",
       "      <td>3.000000</td>\n",
       "    </tr>\n",
       "  </tbody>\n",
       "</table>\n",
       "</div>"
      ],
      "text/plain": [
       "                          count          mean           std           min  \\\n",
       "ACC_x_absint           121813.0  3.373182e+04  5.442559e+03  1.115059e+04   \n",
       "ACC_x_mean             121813.0  8.031577e-01  1.295878e-01  2.654967e-01   \n",
       "ACC_x_peak             121813.0  9.008852e-01  1.670471e-01  2.905999e-01   \n",
       "ACC_x_std              121813.0  1.576536e-02  2.159889e-02  2.540918e-03   \n",
       "ACC_xyz_absint         121813.0  1.126388e+04  6.171864e+03  6.333725e-01   \n",
       "ACC_xyz_std            121813.0  2.083812e+04  1.923747e+03  1.066439e+04   \n",
       "ACC_xzy_mean           121813.0  5.946100e+03  5.767697e+03 -1.066388e+04   \n",
       "ACC_y_absint           121813.0  2.875874e+03  3.553315e+03  9.700954e-04   \n",
       "ACC_y_mean             121813.0 -3.171673e-02  1.041193e-01 -4.803281e-01   \n",
       "ACC_y_peak             121813.0  6.079692e-02  1.348027e-01 -4.514000e-01   \n",
       "ACC_y_std              121813.0  2.231234e-02  2.630981e-02  2.437846e-03   \n",
       "ACC_z_absint           121813.0  1.524902e+04  9.934453e+03  2.211138e-01   \n",
       "ACC_z_mean             121813.0 -3.467196e-01  2.599314e-01 -9.422378e-01   \n",
       "ACC_z_peak             121813.0 -1.734836e-01  3.374804e-01 -9.218000e-01   \n",
       "ACC_z_std              121813.0  3.790791e-02  4.562463e-02  4.217744e-03   \n",
       "ECG_hr_mean            121813.0  1.150156e+02  2.596134e+01  7.283340e+01   \n",
       "ECG_hr_std             121813.0  9.631362e+00  3.932930e+00  2.702037e+00   \n",
       "ECG_hrv_HF             121813.0  8.892800e+02  1.265845e+03  5.400580e-01   \n",
       "ECG_hrv_HFn            121813.0  2.142626e+01  1.704996e+01  9.798405e-01   \n",
       "ECG_hrv_LF             121813.0  9.177515e+02  9.918280e+02  4.913167e+00   \n",
       "ECG_hrv_LFHF_ratio     121813.0  8.357228e+00  9.675399e+00  7.479307e-02   \n",
       "ECG_hrv_LFn            121813.0  7.857374e+01  1.704996e+01  6.958835e+00   \n",
       "ECG_hrv_NN50           121813.0  8.576523e+00  9.065345e+00  0.000000e+00   \n",
       "ECG_hrv_RMS            121813.0  3.535209e+01  2.451819e+01  1.394433e+00   \n",
       "ECG_hrv_TINN           121813.0  3.178878e+02  1.549591e+02  4.571429e+01   \n",
       "ECG_hrv_ULF            121813.0  4.506362e+02  7.065871e+02  1.021278e+00   \n",
       "ECG_hrv_VHF            121813.0  2.540961e+02  5.686612e+02  3.479956e-01   \n",
       "ECG_hrv_f_sum          121813.0  2.511764e+03  2.557679e+03  2.532833e+01   \n",
       "ECG_hrv_pNN50          121813.0  1.315435e+01  1.548097e+01  0.000000e+00   \n",
       "ECG_hrv_rel_HF         121813.0  3.151221e+01  1.771518e+01  4.915866e-01   \n",
       "ECG_hrv_rel_LF         121813.0  4.004594e+01  1.868238e+01  8.653701e-01   \n",
       "ECG_hrv_rel_ULF        121813.0  1.910078e+01  1.608598e+01  1.033621e-01   \n",
       "ECG_hrv_rel_VHF        121813.0  9.341071e+00  1.070147e+01  1.558650e-01   \n",
       "EDA_SCL_mean           121813.0 -1.903416e-02  8.781849e-01 -1.948759e+00   \n",
       "EDA_SCL_std            121813.0 -1.903416e-02  8.781849e-01 -1.948759e+00   \n",
       "EDA_SCR_mean           121813.0 -1.199862e-06  4.290778e-03 -6.342619e-02   \n",
       "EDA_SCR_no             121813.0  2.869170e+01  3.747932e+01  0.000000e+00   \n",
       "EDA_SCR_std            121813.0  7.800268e-02  8.693728e-02  1.347313e-03   \n",
       "EDA_ampl_sum           121813.0  7.393511e-02  4.119272e+00  0.000000e+00   \n",
       "EDA_corr_SCL_t         121813.0  2.782612e-02  8.229942e-01 -9.999664e-01   \n",
       "EDA_drange             121813.0  2.768199e+00  1.238774e+02 -3.967831e+03   \n",
       "EDA_max                121813.0  5.493528e-01  1.166038e+00 -1.738216e+00   \n",
       "EDA_mean               121813.0 -1.903162e-02  8.782353e-01 -1.945009e+00   \n",
       "EDA_min                121813.0 -4.145182e-01  9.309273e-01 -7.598910e+00   \n",
       "EDA_scr_area           121813.0  1.125531e+00  2.750544e+00  3.232345e-04   \n",
       "EDA_slope              121813.0  8.680248e-07  1.674013e-05 -1.079305e-04   \n",
       "EDA_std                121813.0  1.993713e-01  1.941195e-01  5.691243e-03   \n",
       "EMG_absint             121813.0  1.140037e-02  1.243380e-02  3.760722e-08   \n",
       "EMG_drange             121813.0 -1.014171e+00  2.568502e-01 -2.213083e+00   \n",
       "EMG_mean               121813.0 -2.132572e-10  4.395814e-07 -8.242197e-06   \n",
       "EMG_mean_freq          121813.0  2.136757e-01  3.412440e-02  1.493851e-01   \n",
       "EMG_median             121813.0  2.327240e-04  2.445275e-04 -8.887516e-04   \n",
       "EMG_median_freq        121813.0  9.769595e-03  4.114953e-03  5.047619e-03   \n",
       "EMG_peak_amp_mean      121813.0  5.049228e-03  2.060131e-03  1.735037e-03   \n",
       "EMG_peak_amp_norm_sum  121813.0  2.257264e+02  1.028546e+02  2.543861e+01   \n",
       "EMG_peak_amp_std       121813.0  5.042387e-03  2.248901e-03  1.753844e-03   \n",
       "EMG_peak_amp_sum       121813.0  8.804994e+00  5.532621e+00  1.248847e+00   \n",
       "EMG_peak_freq          121813.0  1.256571e-01  5.718963e-02  6.100000e-02   \n",
       "EMG_peak_no            121813.0  1.651546e+03  4.293873e+02  3.100000e+02   \n",
       "EMG_perc_10            121813.0 -1.161736e-02  4.083110e-03 -4.159827e-02   \n",
       "EMG_perc_90            121813.0  1.116668e-02  4.251662e-03  6.184561e-03   \n",
       "EMG_std                121813.0  9.769588e-03  4.114905e-03  5.047376e-03   \n",
       "RESP_breath_rate       121813.0  1.484241e+01  2.719323e+00  7.000000e+00   \n",
       "RESP_duration          121813.0  4.197226e+04  2.924766e+02  3.419800e+04   \n",
       "RESP_exhal_mean        121813.0  1.426550e+03  2.938229e+02  8.695217e+02   \n",
       "RESP_exhal_std         121813.0  4.146157e+02  2.916481e+02  2.598544e+01   \n",
       "RESP_ie_ratio          121813.0  1.021084e+00  1.218813e-01  4.952472e-01   \n",
       "RESP_inhal_mean        121813.0  1.444406e+03  2.890134e+02  8.788261e+02   \n",
       "RESP_inhal_std         121813.0  4.274283e+02  2.691726e+02  3.442137e+01   \n",
       "RESP_stretch           121813.0  1.082744e+01  7.026491e+00  3.995015e-01   \n",
       "RESP_volume            121813.0  1.149319e+02  1.107390e+02  3.581510e-01   \n",
       "TEMP_drange            121813.0  1.008641e+00  5.121114e-02 -1.237100e-01   \n",
       "TEMP_max               121813.0  3.396902e+01  1.299388e+00  2.841458e+01   \n",
       "TEMP_mean              121813.0  3.376256e+01  1.331234e+00  2.820180e+01   \n",
       "TEMP_min               121813.0  3.300103e+01  1.369866e+01 -2.731500e+02   \n",
       "TEMP_slope             121813.0  6.747549e-07  7.263960e-06 -1.290544e-04   \n",
       "TEMP_std               121813.0  7.238136e-02  6.077758e-01  1.443778e-02   \n",
       "label                  121813.0  1.604771e+00  7.389779e-01  1.000000e+00   \n",
       "\n",
       "                                25%           50%           75%           max  \n",
       "ACC_x_absint           3.046235e+04  3.594657e+04  3.770159e+04  38482.839411  \n",
       "ACC_x_mean             7.253115e-01  8.558914e-01  8.976773e-01      0.916280  \n",
       "ACC_x_peak             8.162000e-01  9.318000e-01  9.940000e-01      1.553400  \n",
       "ACC_x_std              6.727452e-03  1.019764e-02  1.733832e-02      0.334104  \n",
       "ACC_xyz_absint         6.368842e+03  1.208748e+04  1.549643e+04  31365.086834  \n",
       "ACC_xyz_std            1.977699e+04  2.109936e+04  2.246112e+04  23359.812435  \n",
       "ACC_xzy_mean           1.433468e+03  7.286843e+03  1.010301e+04  19538.685476  \n",
       "ACC_y_absint           8.820891e+02  1.919441e+03  3.333147e+03  20173.308396  \n",
       "ACC_y_mean            -5.821665e-02 -2.075289e-02  2.162790e-02      0.206044  \n",
       "ACC_y_peak             1.000047e-03  6.659997e-02  1.274000e-01      0.517600  \n",
       "ACC_y_std              7.400205e-03  1.410219e-02  2.699352e-02      0.297557  \n",
       "ACC_z_absint           7.232294e+03  1.363166e+04  2.284682e+04  39573.054387  \n",
       "ACC_z_mean            -5.421536e-01 -3.188847e-01 -1.662460e-01      0.649590  \n",
       "ACC_z_peak            -4.204000e-01 -1.326000e-01  5.579996e-02      1.041800  \n",
       "ACC_z_std              1.332436e-02  2.389932e-02  4.342554e-02      0.416549  \n",
       "ECG_hr_mean            9.793210e+01  1.086545e+02  1.245342e+02    212.975472  \n",
       "ECG_hr_std             6.948382e+00  8.916820e+00  1.134984e+01     36.254226  \n",
       "ECG_hrv_HF             1.800907e+02  4.626218e+02  1.045669e+03  15434.314292  \n",
       "ECG_hrv_HFn            8.521370e+00  1.604173e+01  2.956955e+01     93.041165  \n",
       "ECG_hrv_LF             2.957927e+02  6.174729e+02  1.161405e+03  11597.641522  \n",
       "ECG_hrv_LFHF_ratio     2.381858e+00  5.233740e+00  1.073520e+01    101.057431  \n",
       "ECG_hrv_LFn            7.043045e+01  8.395827e+01  9.147863e+01     99.020160  \n",
       "ECG_hrv_NN50           1.000000e+00  5.000000e+00  1.400000e+01     39.000000  \n",
       "ECG_hrv_RMS            1.903777e+01  2.910283e+01  4.421071e+01    174.578322  \n",
       "ECG_hrv_TINN           2.157143e+02  2.900000e+02  3.957143e+02   1082.857143  \n",
       "ECG_hrv_ULF            7.635542e+01  2.284820e+02  5.452221e+02  11459.380293  \n",
       "ECG_hrv_VHF            2.934363e+01  9.153784e+01  2.731946e+02   9325.178318  \n",
       "ECG_hrv_f_sum          8.974504e+02  1.775331e+03  3.151953e+03  27297.870278  \n",
       "ECG_hrv_pNN50          1.492537e+00  6.666667e+00  2.000000e+01     69.230769  \n",
       "ECG_hrv_rel_HF         1.750589e+01  2.882322e+01  4.280783e+01     88.155671  \n",
       "ECG_hrv_rel_LF         2.507784e+01  3.899708e+01  5.379465e+01     94.736023  \n",
       "ECG_hrv_rel_ULF        6.384687e+00  1.464047e+01  2.789209e+01     93.581365  \n",
       "ECG_hrv_rel_VHF        2.483533e+00  4.939138e+00  1.195069e+01     75.871393  \n",
       "EDA_SCL_mean          -6.761268e-01 -1.740805e-01  6.310920e-01      3.255024  \n",
       "EDA_SCL_std           -6.761268e-01 -1.740805e-01  6.310920e-01      3.255024  \n",
       "EDA_SCR_mean          -8.577593e-04  5.842032e-07  8.588986e-04      0.071839  \n",
       "EDA_SCR_no             4.000000e+00  1.000000e+01  4.600000e+01    176.000000  \n",
       "EDA_SCR_std            2.098119e-02  5.242651e-02  1.046312e-01      0.690004  \n",
       "EDA_ampl_sum           0.000000e+00  0.000000e+00  0.000000e+00    488.265512  \n",
       "EDA_corr_SCL_t        -9.163881e-01  2.213031e-01  8.815104e-01      0.999548  \n",
       "EDA_drange            -2.964488e-01  6.062892e-01  1.574950e+00  11106.050509  \n",
       "EDA_max               -4.386713e-01  3.681331e-01  1.286859e+00      7.193766  \n",
       "EDA_mean              -6.761643e-01 -1.746478e-01  6.312192e-01      3.256583  \n",
       "EDA_min               -9.663767e-01 -5.459753e-01  1.790925e-01      2.561550  \n",
       "EDA_scr_area           4.697535e-02  1.972812e-01  1.061966e+00     30.107660  \n",
       "EDA_slope             -6.689605e-06  7.607842e-07  7.292923e-06      0.000137  \n",
       "EDA_std                7.269518e-02  1.423018e-01  2.564714e-01      1.763312  \n",
       "EMG_absint             3.657774e-03  8.015328e-03  1.491604e-02      0.342385  \n",
       "EMG_drange            -1.150374e+00 -9.668116e-01 -8.343992e-01     -0.310230  \n",
       "EMG_mean              -2.133219e-07 -4.385435e-10  2.140062e-07      0.000008  \n",
       "EMG_mean_freq          1.860345e-01  2.137755e-01  2.373458e-01      0.311637  \n",
       "EMG_median             7.678846e-05  2.630443e-04  4.206593e-04      0.001482  \n",
       "EMG_median_freq        7.095238e-03  8.666667e-03  1.097619e-02      0.044643  \n",
       "EMG_peak_amp_mean      3.600132e-03  4.527581e-03  5.982619e-03      0.020000  \n",
       "EMG_peak_amp_norm_sum  1.495391e+02  2.149861e+02  2.878847e+02    718.847777  \n",
       "EMG_peak_amp_std       3.471532e-03  4.711380e-03  5.945361e-03      0.026791  \n",
       "EMG_peak_amp_sum       5.072997e+00  7.309870e+00  1.073504e+01     47.760020  \n",
       "EMG_peak_freq          9.945238e-02  1.125714e-01  1.318810e-01      0.499976  \n",
       "EMG_peak_no            1.439000e+03  1.683000e+03  1.911000e+03   2710.000000  \n",
       "EMG_perc_10           -1.265936e-02 -1.056720e-02 -9.076794e-03     -0.006444  \n",
       "EMG_perc_90            8.360369e-03  1.016214e-02  1.241528e-02      0.040787  \n",
       "EMG_std                7.106887e-03  8.658870e-03  1.097158e-02      0.044644  \n",
       "RESP_breath_rate       1.300000e+01  1.500000e+01  1.700000e+01     23.000000  \n",
       "RESP_duration          4.200000e+04  4.200000e+04  4.200000e+04  42000.000000  \n",
       "RESP_exhal_mean        1.222765e+03  1.355467e+03  1.569769e+03   3218.500000  \n",
       "RESP_exhal_std         1.703066e+02  3.358667e+02  6.038271e+02   1864.398251  \n",
       "RESP_ie_ratio          9.586812e-01  1.014485e+00  1.079929e+00      2.030084  \n",
       "RESP_inhal_mean        1.235412e+03  1.390600e+03  1.607462e+03   3135.571429  \n",
       "RESP_inhal_std         2.016383e+02  3.731933e+02  6.175455e+02   2140.917428  \n",
       "RESP_stretch           5.363267e+00  9.501897e+00  1.447040e+01     45.375329  \n",
       "RESP_volume            4.896074e+01  8.260654e+01  1.418458e+02   1035.275390  \n",
       "TEMP_drange            1.008075e+00  1.009397e+00  1.011384e+00      1.197949  \n",
       "TEMP_max               3.373526e+01  3.430771e+01  3.470312e+01     35.778046  \n",
       "TEMP_mean              3.354780e+01  3.412833e+01  3.453360e+01     35.631836  \n",
       "TEMP_min               3.341599e+01  3.400568e+01  3.439948e+01     35.516296  \n",
       "TEMP_slope            -3.701148e-07  5.957498e-07  1.631870e-06      0.000149  \n",
       "TEMP_std               2.762968e-02  3.219721e-02  4.211922e-02     13.619300  \n",
       "label                  1.000000e+00  1.000000e+00  2.000000e+00      3.000000  "
      ]
     },
     "metadata": {},
     "output_type": "display_data"
    }
   ],
   "source": [
    "with pd.option_context(\"display.max_rows\", df.columns.shape[0], \"display.max_columns\", 100):\n",
    "    display(df.describe().T)"
   ]
  },
  {
   "cell_type": "markdown",
   "metadata": {},
   "source": [
    "## Splitting data for CV"
   ]
  },
  {
   "cell_type": "code",
   "execution_count": 11,
   "metadata": {},
   "outputs": [
    {
     "name": "stdout",
     "output_type": "stream",
     "text": [
      "(113425,)\n",
      "(113621,)\n",
      "(113628,)\n",
      "(113624,)\n",
      "(113601,)\n",
      "(113648,)\n",
      "(113429,)\n",
      "(114049,)\n",
      "(113913,)\n",
      "(113872,)\n",
      "(113665,)\n",
      "(113725,)\n",
      "(113740,)\n",
      "(113697,)\n",
      "(113745,)\n"
     ]
    }
   ],
   "source": [
    "X = df.drop(columns=['label', 'subject'])\n",
    "filter_cols = df.columns[df.columns.str.startswith('ACC')]\n",
    "X_p = X.drop(columns=df.columns[df.columns.str.startswith('ACC')].values)  # Physiological modalities only\n",
    "y = df['label']\n",
    "y_b = y.copy().apply(lambda x: 1 if x == 2 else 0)  # stress vs non-stress\n",
    "loso_cv = LeaveOneGroupOut()  # just to analyze training set sizes\n",
    "for x_idxs, y_idxs in loso_cv.split(X, y, groups=df['subject']):\n",
    "    print(x_idxs.shape)"
   ]
  },
  {
   "cell_type": "markdown",
   "metadata": {},
   "source": [
    "## Hyperparameters"
   ]
  },
  {
   "cell_type": "code",
   "execution_count": 12,
   "metadata": {},
   "outputs": [],
   "source": [
    "n_estimators = 100\n",
    "min_samples_split = 20\n",
    "criterion = 'entropy'  # information gain\n",
    "subjects = df['subject'].unique()"
   ]
  },
  {
   "cell_type": "code",
   "execution_count": 26,
   "metadata": {},
   "outputs": [],
   "source": [
    "def run_cv(clf, X, y, groups, cv, scoring=['accuracy', 'f1_macro'], return_train_score=True,\n",
    "          return_estimator=True, n_jobs=-1):\n",
    "    \"\"\"\n",
    "        More on cross validation: https://scikit-learn.org/stable/modules/cross_validation.html#\n",
    "        More on scoring: https://scikit-learn.org/stable/modules/model_evaluation.html#scoring-parameter\n",
    "    \"\"\"\n",
    "    return cross_validate(clf, X, y, groups=groups, cv=cv, scoring=scoring, return_train_score=return_train_score,\n",
    "                          return_estimator=return_estimator, n_jobs=n_jobs)\n",
    "\n",
    "def raw_scores(cv):\n",
    "    return np.mean(cv['test_accuracy']), np.mean(cv['test_f1_macro'])\n",
    "\n",
    "def test_score(cv):\n",
    "    return {\n",
    "        'accuracy': f\"{np.mean(cv['test_accuracy']) * 100} +-{np.std(cv['test_accuracy']) * 100}\",\n",
    "        'f1_macro': f\"{np.mean(cv['test_f1_macro']) * 100} +-{np.std(cv['test_f1_macro']) * 100}\"\n",
    "    }\n",
    "\n",
    "def min_max(acc_scores):\n",
    "    print(np.argmax(acc_scores), np.amax(acc_scores))\n",
    "    print(np.argmin(acc_scores), np.amin(acc_scores))"
   ]
  },
  {
   "cell_type": "markdown",
   "metadata": {},
   "source": [
    "## Experimental setup"
   ]
  },
  {
   "cell_type": "code",
   "execution_count": 53,
   "metadata": {},
   "outputs": [],
   "source": [
    "df_report_all = pd.DataFrame()\n",
    "df_report_phy = pd.DataFrame()"
   ]
  },
  {
   "cell_type": "code",
   "execution_count": 365,
   "metadata": {},
   "outputs": [
    {
     "data": {
      "text/plain": [
       "'Experiment No 5'"
      ]
     },
     "execution_count": 365,
     "metadata": {},
     "output_type": "execute_result"
    }
   ],
   "source": [
    "experiment_idx = df_report_all.shape[0]\n",
    "# df_report_all.loc[experiment_idx, :] = []\n",
    "# df_report_phy.loc[experiment_idx, :] = []\n",
    "# df_report_all = df_report_all.append([[]])\n",
    "# df_report_phy = df_report_phy.append([[]])\n",
    "f'Experiment No {experiment_idx + 1}'"
   ]
  },
  {
   "cell_type": "markdown",
   "metadata": {},
   "source": [
    "# Random Forest"
   ]
  },
  {
   "cell_type": "code",
   "execution_count": 366,
   "metadata": {},
   "outputs": [],
   "source": [
    "def create_rf_pipeline(n_estimators=100, min_samples_split=20, criterion='entropy', n_jobs=-1):\n",
    "    model_rf =  RandomForestClassifier(n_estimators=n_estimators, min_samples_split=min_samples_split, \n",
    "                                  criterion=criterion, n_jobs=-1)\n",
    "    return make_pipeline(StandardScaler(), model_rf)"
   ]
  },
  {
   "cell_type": "markdown",
   "metadata": {},
   "source": [
    "### Baseline vs Stress vs Amusement"
   ]
  },
  {
   "cell_type": "markdown",
   "metadata": {},
   "source": [
    "#### All modalities"
   ]
  },
  {
   "cell_type": "code",
   "execution_count": 367,
   "metadata": {},
   "outputs": [
    {
     "data": {
      "text/plain": [
       "{'accuracy': '68.16513325419396 +-16.60036819042444',\n",
       " 'f1_macro': '56.52126032888619 +-21.21037134783233'}"
      ]
     },
     "execution_count": 367,
     "metadata": {},
     "output_type": "execute_result"
    }
   ],
   "source": [
    "clf_rf_all = create_rf_pipeline(n_estimators=n_estimators, min_samples_split=min_samples_split,\n",
    "                                criterion=criterion, n_jobs=-1)\n",
    "cv_rf_all = run_cv(clf_rf_all, X, y, groups=df['subject'], cv=LeaveOneGroupOut())\n",
    "test_score(cv_rf_all)"
   ]
  },
  {
   "cell_type": "code",
   "execution_count": 368,
   "metadata": {},
   "outputs": [
    {
     "data": {
      "image/png": "[encoded data removed]",
      "text/plain": [
       "<Figure size 432x288 with 1 Axes>"
      ]
     },
     "metadata": {
      "needs_background": "light"
     },
     "output_type": "display_data"
    }
   ],
   "source": [
    "sns.barplot(x=list(range(len(subjects))), y=cv_rf_all['test_accuracy']);"
   ]
  },
  {
   "cell_type": "code",
   "execution_count": 369,
   "metadata": {},
   "outputs": [
    {
     "name": "stdout",
     "output_type": "stream",
     "text": [
      "10 0.9959499263622975\n",
      "2 0.3513744654856445\n"
     ]
    }
   ],
   "source": [
    "min_max(cv_rf_all['test_accuracy'])"
   ]
  },
  {
   "cell_type": "code",
   "execution_count": 370,
   "metadata": {},
   "outputs": [
    {
     "data": {
      "image/png": "[encoded data removed]",
      "text/plain": [
       "<Figure size 432x288 with 1 Axes>"
      ]
     },
     "metadata": {
      "needs_background": "light"
     },
     "output_type": "display_data"
    }
   ],
   "source": [
    "sns.barplot(x=list(range(len(subjects))), y=cv_rf_all['test_f1_macro']);"
   ]
  },
  {
   "cell_type": "code",
   "execution_count": 371,
   "metadata": {},
   "outputs": [
    {
     "name": "stdout",
     "output_type": "stream",
     "text": [
      "10 0.9936861528385794\n",
      "2 0.2281960896273186\n"
     ]
    }
   ],
   "source": [
    "min_max(cv_rf_all['test_f1_macro'])"
   ]
  },
  {
   "cell_type": "markdown",
   "metadata": {},
   "source": [
    "#### Physiological modalities"
   ]
  },
  {
   "cell_type": "code",
   "execution_count": 372,
   "metadata": {},
   "outputs": [
    {
     "data": {
      "text/plain": [
       "{'accuracy': '71.14370431773794 +-16.073039533797033',\n",
       " 'f1_macro': '61.76761351290884 +-20.355669500929636'}"
      ]
     },
     "execution_count": 372,
     "metadata": {},
     "output_type": "execute_result"
    }
   ],
   "source": [
    "clf_rf_phy = create_rf_pipeline(n_estimators=n_estimators, min_samples_split=min_samples_split,\n",
    "                                criterion=criterion, n_jobs=-1)\n",
    "cv_rf_phy = run_cv(clf_rf_phy, X_p, y, groups=df['subject'], cv=LeaveOneGroupOut())\n",
    "test_score(cv_rf_phy)"
   ]
  },
  {
   "cell_type": "code",
   "execution_count": 373,
   "metadata": {},
   "outputs": [
    {
     "data": {
      "image/png": "[encoded data removed]",
      "text/plain": [
       "<Figure size 432x288 with 1 Axes>"
      ]
     },
     "metadata": {
      "needs_background": "light"
     },
     "output_type": "display_data"
    }
   ],
   "source": [
    "sns.barplot(x=list(range(len(subjects))), y=cv_rf_phy['test_accuracy']);"
   ]
  },
  {
   "cell_type": "code",
   "execution_count": 374,
   "metadata": {},
   "outputs": [
    {
     "data": {
      "image/png": "[encoded data removed]",
      "text/plain": [
       "<Figure size 432x288 with 1 Axes>"
      ]
     },
     "metadata": {
      "needs_background": "light"
     },
     "output_type": "display_data"
    }
   ],
   "source": [
    "sns.barplot(x=list(range(len(subjects))), y=cv_rf_phy['test_f1_macro']);"
   ]
  },
  {
   "cell_type": "markdown",
   "metadata": {},
   "source": [
    "### Stress vs Non-Stress"
   ]
  },
  {
   "cell_type": "code",
   "execution_count": 375,
   "metadata": {},
   "outputs": [
    {
     "data": {
      "text/plain": [
       "0    85548\n",
       "1    36265\n",
       "Name: label, dtype: int64"
      ]
     },
     "execution_count": 375,
     "metadata": {},
     "output_type": "execute_result"
    }
   ],
   "source": [
    "y_b.value_counts()"
   ]
  },
  {
   "cell_type": "markdown",
   "metadata": {},
   "source": [
    "#### All modalities"
   ]
  },
  {
   "cell_type": "code",
   "execution_count": 376,
   "metadata": {},
   "outputs": [
    {
     "name": "stdout",
     "output_type": "stream",
     "text": [
      "{'accuracy': '84.33349928064499 +-12.596472511220755', 'f1_macro': '75.95840616270004 +-21.16801693089855'}\n"
     ]
    }
   ],
   "source": [
    "clf_b_rf_all = create_rf_pipeline(n_estimators=n_estimators, min_samples_split=min_samples_split,\n",
    "                              criterion=criterion, n_jobs=-1)\n",
    "cv_b_rf_all = run_cv(clf_b_rf_all, X, y_b, groups=df['subject'], cv=LeaveOneGroupOut())\n",
    "print(test_score(cv_b_rf_all))"
   ]
  },
  {
   "cell_type": "code",
   "execution_count": 377,
   "metadata": {},
   "outputs": [
    {
     "data": {
      "image/png": "[encoded data removed]",
      "text/plain": [
       "<Figure size 432x288 with 1 Axes>"
      ]
     },
     "metadata": {
      "needs_background": "light"
     },
     "output_type": "display_data"
    }
   ],
   "source": [
    "sns.barplot(x=list(range(len(subjects))), y=cv_b_rf_all['test_accuracy']);"
   ]
  },
  {
   "cell_type": "code",
   "execution_count": 378,
   "metadata": {},
   "outputs": [
    {
     "name": "stdout",
     "output_type": "stream",
     "text": [
      "5 0.9819963257807716\n",
      "2 0.5584605986560782\n"
     ]
    }
   ],
   "source": [
    "min_max(cv_b_rf_all['test_accuracy'])"
   ]
  },
  {
   "cell_type": "code",
   "execution_count": 379,
   "metadata": {},
   "outputs": [
    {
     "data": {
      "image/png": "[encoded data removed]",
      "text/plain": [
       "<Figure size 432x288 with 1 Axes>"
      ]
     },
     "metadata": {
      "needs_background": "light"
     },
     "output_type": "display_data"
    }
   ],
   "source": [
    "sns.barplot(x=list(range(len(subjects))), y=cv_b_rf_all['test_f1_macro']);"
   ]
  },
  {
   "cell_type": "code",
   "execution_count": 380,
   "metadata": {},
   "outputs": [
    {
     "name": "stdout",
     "output_type": "stream",
     "text": [
      "5 0.9782034917887934\n",
      "9 0.4153291120600795\n"
     ]
    }
   ],
   "source": [
    "min_max(cv_b_rf_all['test_f1_macro'])"
   ]
  },
  {
   "cell_type": "markdown",
   "metadata": {},
   "source": [
    "#### Physiological modalities"
   ]
  },
  {
   "cell_type": "code",
   "execution_count": 381,
   "metadata": {},
   "outputs": [
    {
     "name": "stdout",
     "output_type": "stream",
     "text": [
      "{'accuracy': '84.93218852223181 +-12.05799327084041', 'f1_macro': '77.82266406484575 +-20.250290686304183'}\n"
     ]
    }
   ],
   "source": [
    "clf_b_rf_phy = create_rf_pipeline(n_estimators=n_estimators, min_samples_split=min_samples_split,\n",
    "                              criterion=criterion, n_jobs=-1)\n",
    "cv_b_rf_phy = run_cv(clf_b_rf_phy, X_p, y_b, groups=df['subject'], cv=LeaveOneGroupOut())\n",
    "print(test_score(cv_b_rf_phy))"
   ]
  },
  {
   "cell_type": "code",
   "execution_count": 382,
   "metadata": {},
   "outputs": [
    {
     "data": {
      "image/png": "[encoded data removed]",
      "text/plain": [
       "<Figure size 432x288 with 1 Axes>"
      ]
     },
     "metadata": {
      "needs_background": "light"
     },
     "output_type": "display_data"
    }
   ],
   "source": [
    "sns.barplot(x=list(range(len(subjects))), y=cv_b_rf_phy['test_accuracy']);"
   ]
  },
  {
   "cell_type": "code",
   "execution_count": 383,
   "metadata": {},
   "outputs": [
    {
     "name": "stdout",
     "output_type": "stream",
     "text": [
      "3 1.0\n",
      "2 0.5675015271838729\n"
     ]
    }
   ],
   "source": [
    "min_max(cv_b_rf_phy['test_accuracy'])"
   ]
  },
  {
   "cell_type": "code",
   "execution_count": 384,
   "metadata": {},
   "outputs": [
    {
     "data": {
      "image/png": "[encoded data removed]",
      "text/plain": [
       "<Figure size 432x288 with 1 Axes>"
      ]
     },
     "metadata": {
      "needs_background": "light"
     },
     "output_type": "display_data"
    }
   ],
   "source": [
    "sns.barplot(x=list(range(len(subjects))), y=cv_b_rf_phy['test_f1_macro']);"
   ]
  },
  {
   "cell_type": "code",
   "execution_count": 385,
   "metadata": {},
   "outputs": [
    {
     "name": "stdout",
     "output_type": "stream",
     "text": [
      "3 1.0\n",
      "7 0.4165915238954013\n"
     ]
    }
   ],
   "source": [
    "min_max(cv_b_rf_phy['test_f1_macro'])"
   ]
  },
  {
   "cell_type": "code",
   "execution_count": 386,
   "metadata": {},
   "outputs": [],
   "source": [
    "## Reporting results\n",
    "rf_acc, rf_f1 = raw_scores(cv_rf_all)\n",
    "rf_b_acc, rf_b_f1 = raw_scores(cv_b_rf_all)\n",
    "df_report_all.loc[experiment_idx, 'rf_f1'] = rf_f1\n",
    "df_report_all.loc[experiment_idx, 'rf_acc'] = rf_acc\n",
    "df_report_all.loc[experiment_idx, 'rf_b_f1'] = rf_b_f1\n",
    "df_report_all.loc[experiment_idx, 'rf_b_acc'] = rf_b_acc\n",
    "\n",
    "rf_acc, rf_f1 = raw_scores(cv_rf_phy)\n",
    "rf_b_acc, rf_b_f1 = raw_scores(cv_b_rf_phy)\n",
    "df_report_phy.loc[experiment_idx, 'rf_f1'] = rf_f1\n",
    "df_report_phy.loc[experiment_idx, 'rf_acc'] = rf_acc\n",
    "df_report_phy.loc[experiment_idx, 'rf_b_f1'] = rf_b_f1\n",
    "df_report_phy.loc[experiment_idx, 'rf_b_acc'] = rf_b_acc"
   ]
  },
  {
   "cell_type": "markdown",
   "metadata": {},
   "source": [
    "# AdaBoost"
   ]
  },
  {
   "cell_type": "code",
   "execution_count": 387,
   "metadata": {},
   "outputs": [],
   "source": [
    "def create_ab_pipeline(n_estimators=100, min_samples_split=20, criterion='entropy'):\n",
    "    base_estimator = DecisionTreeClassifier(criterion=criterion, min_samples_split=min_samples_split)\n",
    "    model_ab = AdaBoostClassifier(base_estimator=base_estimator, n_estimators=n_estimators)\n",
    "    return make_pipeline(StandardScaler(), model_ab)"
   ]
  },
  {
   "cell_type": "markdown",
   "metadata": {},
   "source": [
    "### Baseline vs Stress vs Amusement"
   ]
  },
  {
   "cell_type": "markdown",
   "metadata": {},
   "source": [
    "#### All modalities"
   ]
  },
  {
   "cell_type": "code",
   "execution_count": 388,
   "metadata": {},
   "outputs": [
    {
     "data": {
      "text/plain": [
       "{'accuracy': '64.47869291637963 +-16.511607169619165',\n",
       " 'f1_macro': '55.298969054932826 +-19.095631337940592'}"
      ]
     },
     "execution_count": 388,
     "metadata": {},
     "output_type": "execute_result"
    }
   ],
   "source": [
    "clf_ab_all = create_ab_pipeline()\n",
    "cv_ab_all = run_cv(clf_ab_all, X, y, groups=df['subject'], cv=LeaveOneGroupOut())\n",
    "test_score(cv_ab_all)"
   ]
  },
  {
   "cell_type": "code",
   "execution_count": 389,
   "metadata": {},
   "outputs": [
    {
     "data": {
      "image/png": "[encoded data removed]",
      "text/plain": [
       "<Figure size 432x288 with 1 Axes>"
      ]
     },
     "metadata": {
      "needs_background": "light"
     },
     "output_type": "display_data"
    }
   ],
   "source": [
    "sns.barplot(x=list(range(len(subjects))), y=cv_ab_all['test_accuracy']);"
   ]
  },
  {
   "cell_type": "code",
   "execution_count": 390,
   "metadata": {},
   "outputs": [
    {
     "name": "stdout",
     "output_type": "stream",
     "text": [
      "12 0.8756348321565713\n",
      "10 0.28902798232695137\n"
     ]
    }
   ],
   "source": [
    "min_max(cv_ab_all['test_accuracy'])"
   ]
  },
  {
   "cell_type": "code",
   "execution_count": 391,
   "metadata": {},
   "outputs": [
    {
     "data": {
      "image/png": "[encoded data removed]",
      "text/plain": [
       "<Figure size 432x288 with 1 Axes>"
      ]
     },
     "metadata": {
      "needs_background": "light"
     },
     "output_type": "display_data"
    }
   ],
   "source": [
    "sns.barplot(x=list(range(len(subjects))), y=cv_ab_all['test_f1_macro']);"
   ]
  },
  {
   "cell_type": "code",
   "execution_count": 392,
   "metadata": {},
   "outputs": [
    {
     "name": "stdout",
     "output_type": "stream",
     "text": [
      "12 0.8592926331190952\n",
      "8 0.20870798058241313\n"
     ]
    }
   ],
   "source": [
    "min_max(cv_ab_all['test_f1_macro'])"
   ]
  },
  {
   "cell_type": "markdown",
   "metadata": {},
   "source": [
    "#### Physiological modalities"
   ]
  },
  {
   "cell_type": "code",
   "execution_count": 393,
   "metadata": {},
   "outputs": [
    {
     "data": {
      "text/plain": [
       "{'accuracy': '67.65107081856117 +-14.003524080288468',\n",
       " 'f1_macro': '59.83875538767948 +-15.898217501732168'}"
      ]
     },
     "execution_count": 393,
     "metadata": {},
     "output_type": "execute_result"
    }
   ],
   "source": [
    "clf_ab_phy = create_ab_pipeline()\n",
    "cv_ab_phy = run_cv(clf_ab_phy, X_p, y, groups=df['subject'], cv=LeaveOneGroupOut())\n",
    "test_score(cv_ab_phy)"
   ]
  },
  {
   "cell_type": "code",
   "execution_count": 394,
   "metadata": {},
   "outputs": [
    {
     "data": {
      "image/png": "[encoded data removed]",
      "text/plain": [
       "<Figure size 432x288 with 1 Axes>"
      ]
     },
     "metadata": {
      "needs_background": "light"
     },
     "output_type": "display_data"
    }
   ],
   "source": [
    "sns.barplot(x=list(range(len(subjects))), y=cv_ab_phy['test_accuracy']);"
   ]
  },
  {
   "cell_type": "code",
   "execution_count": 395,
   "metadata": {},
   "outputs": [
    {
     "name": "stdout",
     "output_type": "stream",
     "text": [
      "11 0.8649851632047477\n",
      "2 0.3908368967623702\n"
     ]
    }
   ],
   "source": [
    "min_max(cv_ab_phy['test_accuracy'])"
   ]
  },
  {
   "cell_type": "code",
   "execution_count": 396,
   "metadata": {},
   "outputs": [
    {
     "data": {
      "image/png": "[encoded data removed]",
      "text/plain": [
       "<Figure size 432x288 with 1 Axes>"
      ]
     },
     "metadata": {
      "needs_background": "light"
     },
     "output_type": "display_data"
    }
   ],
   "source": [
    "sns.barplot(x=list(range(len(subjects))), y=cv_ab_phy['test_f1_macro']);"
   ]
  },
  {
   "cell_type": "code",
   "execution_count": 397,
   "metadata": {},
   "outputs": [
    {
     "name": "stdout",
     "output_type": "stream",
     "text": [
      "11 0.8193138567746395\n",
      "2 0.3004404972552602\n"
     ]
    }
   ],
   "source": [
    "min_max(cv_ab_phy['test_f1_macro'])"
   ]
  },
  {
   "cell_type": "markdown",
   "metadata": {},
   "source": [
    "### Stress vs Non-stress"
   ]
  },
  {
   "cell_type": "markdown",
   "metadata": {},
   "source": [
    "#### All modalities"
   ]
  },
  {
   "cell_type": "code",
   "execution_count": 398,
   "metadata": {},
   "outputs": [
    {
     "data": {
      "text/plain": [
       "{'accuracy': '80.67466917928397 +-14.153738869653523',\n",
       " 'f1_macro': '74.08500045240444 +-18.58292930086182'}"
      ]
     },
     "execution_count": 398,
     "metadata": {},
     "output_type": "execute_result"
    }
   ],
   "source": [
    "clf_b_ab_all = create_ab_pipeline()\n",
    "cv_b_ab_all = run_cv(clf_b_ab_all, X, y_b, groups=df['subject'], cv=LeaveOneGroupOut())\n",
    "test_score(cv_b_ab_all)"
   ]
  },
  {
   "cell_type": "code",
   "execution_count": 399,
   "metadata": {},
   "outputs": [
    {
     "data": {
      "image/png": "[encoded data removed]",
      "text/plain": [
       "<Figure size 432x288 with 1 Axes>"
      ]
     },
     "metadata": {
      "needs_background": "light"
     },
     "output_type": "display_data"
    }
   ],
   "source": [
    "sns.barplot(x=list(range(len(subjects))), y=cv_b_ab_all['test_accuracy']);"
   ]
  },
  {
   "cell_type": "code",
   "execution_count": 400,
   "metadata": {},
   "outputs": [
    {
     "name": "stdout",
     "output_type": "stream",
     "text": [
      "5 1.0\n",
      "0 0.5046494992846924\n"
     ]
    }
   ],
   "source": [
    "min_max(cv_b_ab_all['test_accuracy'])"
   ]
  },
  {
   "cell_type": "code",
   "execution_count": 401,
   "metadata": {},
   "outputs": [
    {
     "data": {
      "image/png": "[encoded data removed]",
      "text/plain": [
       "<Figure size 432x288 with 1 Axes>"
      ]
     },
     "metadata": {
      "needs_background": "light"
     },
     "output_type": "display_data"
    }
   ],
   "source": [
    "sns.barplot(x=list(range(len(subjects))), y=cv_b_ab_all['test_f1_macro']);"
   ]
  },
  {
   "cell_type": "code",
   "execution_count": 402,
   "metadata": {},
   "outputs": [
    {
     "name": "stdout",
     "output_type": "stream",
     "text": [
      "5 1.0\n",
      "11 0.41866109784641026\n"
     ]
    }
   ],
   "source": [
    "min_max(cv_b_ab_all['test_f1_macro'])"
   ]
  },
  {
   "cell_type": "markdown",
   "metadata": {},
   "source": [
    "#### Physiological modalities"
   ]
  },
  {
   "cell_type": "code",
   "execution_count": 403,
   "metadata": {},
   "outputs": [
    {
     "data": {
      "text/plain": [
       "{'accuracy': '83.45565130962734 +-13.519274301391304',\n",
       " 'f1_macro': '77.61923834025146 +-18.391765936674876'}"
      ]
     },
     "execution_count": 403,
     "metadata": {},
     "output_type": "execute_result"
    }
   ],
   "source": [
    "clf_b_ab_phy = create_ab_pipeline()\n",
    "cv_b_ab_phy = run_cv(clf_b_ab_phy, X_p, y_b, groups=df['subject'], cv=LeaveOneGroupOut())\n",
    "test_score(cv_b_ab_phy)"
   ]
  },
  {
   "cell_type": "code",
   "execution_count": 404,
   "metadata": {},
   "outputs": [
    {
     "data": {
      "image/png": "[encoded data removed]",
      "text/plain": [
       "<Figure size 432x288 with 1 Axes>"
      ]
     },
     "metadata": {
      "needs_background": "light"
     },
     "output_type": "display_data"
    }
   ],
   "source": [
    "sns.barplot(x=list(range(len(subjects))), y=cv_b_ab_phy['test_accuracy']);"
   ]
  },
  {
   "cell_type": "code",
   "execution_count": 405,
   "metadata": {},
   "outputs": [
    {
     "name": "stdout",
     "output_type": "stream",
     "text": [
      "5 0.9985303123086344\n",
      "0 0.4661421077730091\n"
     ]
    }
   ],
   "source": [
    "min_max(cv_b_ab_phy['test_accuracy'])"
   ]
  },
  {
   "cell_type": "code",
   "execution_count": 406,
   "metadata": {},
   "outputs": [
    {
     "data": {
      "image/png": "[encoded data removed]",
      "text/plain": [
       "<Figure size 432x288 with 1 Axes>"
      ]
     },
     "metadata": {
      "needs_background": "light"
     },
     "output_type": "display_data"
    }
   ],
   "source": [
    "sns.barplot(x=list(range(len(subjects))), y=cv_b_ab_phy['test_f1_macro']);"
   ]
  },
  {
   "cell_type": "code",
   "execution_count": 407,
   "metadata": {},
   "outputs": [
    {
     "name": "stdout",
     "output_type": "stream",
     "text": [
      "5 0.9982493500189322\n",
      "7 0.4161088967436264\n"
     ]
    }
   ],
   "source": [
    "min_max(cv_b_ab_phy['test_f1_macro'])"
   ]
  },
  {
   "cell_type": "code",
   "execution_count": 408,
   "metadata": {},
   "outputs": [],
   "source": [
    "## Reporting results\n",
    "ab_acc, ab_f1 = raw_scores(cv_ab_all)\n",
    "ab_b_acc, ab_b_f1 = raw_scores(cv_b_ab_all)\n",
    "df_report_all.loc[experiment_idx, 'ab_f1'] = ab_f1\n",
    "df_report_all.loc[experiment_idx, 'ab_acc'] = ab_acc\n",
    "df_report_all.loc[experiment_idx, 'ab_b_f1'] = ab_b_f1\n",
    "df_report_all.loc[experiment_idx, 'ab_b_acc'] = ab_b_acc\n",
    "\n",
    "ab_acc, ab_f1 = raw_scores(cv_ab_phy)\n",
    "ab_b_acc, ab_b_f1 = raw_scores(cv_b_ab_phy)\n",
    "df_report_phy.loc[experiment_idx, 'ab_f1'] = ab_f1\n",
    "df_report_phy.loc[experiment_idx, 'ab_acc'] = ab_acc\n",
    "df_report_phy.loc[experiment_idx, 'ab_b_f1'] = ab_b_f1\n",
    "df_report_phy.loc[experiment_idx, 'ab_b_acc'] = ab_b_acc"
   ]
  },
  {
   "cell_type": "markdown",
   "metadata": {},
   "source": [
    "# LDA"
   ]
  },
  {
   "cell_type": "code",
   "execution_count": 409,
   "metadata": {},
   "outputs": [],
   "source": [
    "def create_lda_pipeline():\n",
    "    return make_pipeline(StandardScaler(), LDA())"
   ]
  },
  {
   "cell_type": "markdown",
   "metadata": {},
   "source": [
    "### Baseline vs Stress vs Non-stress"
   ]
  },
  {
   "cell_type": "markdown",
   "metadata": {},
   "source": [
    "#### All modalities"
   ]
  },
  {
   "cell_type": "code",
   "execution_count": 410,
   "metadata": {},
   "outputs": [
    {
     "data": {
      "text/plain": [
       "{'accuracy': '71.62674387682108 +-11.33211766138123',\n",
       " 'f1_macro': '65.30661915803545 +-12.535242577794905'}"
      ]
     },
     "execution_count": 410,
     "metadata": {},
     "output_type": "execute_result"
    }
   ],
   "source": [
    "model_lda_all = create_lda_pipeline()\n",
    "cv_lda_all = run_cv(model_lda_all, X, y, groups=df['subject'], cv=LeaveOneGroupOut())\n",
    "test_score(cv_lda_all)"
   ]
  },
  {
   "cell_type": "code",
   "execution_count": 411,
   "metadata": {},
   "outputs": [
    {
     "data": {
      "image/png": "[encoded data removed]",
      "text/plain": [
       "<Figure size 432x288 with 1 Axes>"
      ]
     },
     "metadata": {
      "needs_background": "light"
     },
     "output_type": "display_data"
    }
   ],
   "source": [
    "sns.barplot(x=list(range(len(subjects))), y=cv_lda_all['test_accuracy']);"
   ]
  },
  {
   "cell_type": "code",
   "execution_count": 412,
   "metadata": {},
   "outputs": [
    {
     "name": "stdout",
     "output_type": "stream",
     "text": [
      "10 0.9207167403043691\n",
      "5 0.5733006736068585\n"
     ]
    }
   ],
   "source": [
    "min_max(cv_lda_all['test_accuracy'])"
   ]
  },
  {
   "cell_type": "code",
   "execution_count": 413,
   "metadata": {},
   "outputs": [
    {
     "data": {
      "image/png": "[encoded data removed]",
      "text/plain": [
       "<Figure size 432x288 with 1 Axes>"
      ]
     },
     "metadata": {
      "needs_background": "light"
     },
     "output_type": "display_data"
    }
   ],
   "source": [
    "sns.barplot(x=list(range(len(subjects))), y=cv_lda_all['test_f1_macro']);"
   ]
  },
  {
   "cell_type": "code",
   "execution_count": 414,
   "metadata": {},
   "outputs": [
    {
     "name": "stdout",
     "output_type": "stream",
     "text": [
      "10 0.8889149709505785\n",
      "7 0.42365088765629805\n"
     ]
    }
   ],
   "source": [
    "min_max(cv_lda_all['test_f1_macro'])"
   ]
  },
  {
   "cell_type": "markdown",
   "metadata": {},
   "source": [
    "#### Physiological modalities"
   ]
  },
  {
   "cell_type": "code",
   "execution_count": 415,
   "metadata": {},
   "outputs": [
    {
     "data": {
      "text/plain": [
       "{'accuracy': '74.02462925388204 +-13.077506856399717',\n",
       " 'f1_macro': '66.61675817610353 +-15.285442746968817'}"
      ]
     },
     "execution_count": 415,
     "metadata": {},
     "output_type": "execute_result"
    }
   ],
   "source": [
    "model_lda_phy = create_lda_pipeline()\n",
    "cv_lda_phy = run_cv(model_lda_phy, X_p, y, groups=df['subject'], cv=LeaveOneGroupOut())\n",
    "test_score(cv_lda_phy)"
   ]
  },
  {
   "cell_type": "code",
   "execution_count": 416,
   "metadata": {},
   "outputs": [
    {
     "data": {
      "image/png": "[encoded data removed]",
      "text/plain": [
       "<Figure size 432x288 with 1 Axes>"
      ]
     },
     "metadata": {
      "needs_background": "light"
     },
     "output_type": "display_data"
    }
   ],
   "source": [
    "sns.barplot(x=list(range(len(subjects))), y=cv_lda_phy['test_accuracy']);"
   ]
  },
  {
   "cell_type": "code",
   "execution_count": 417,
   "metadata": {},
   "outputs": [
    {
     "name": "stdout",
     "output_type": "stream",
     "text": [
      "1 0.9130859375\n",
      "5 0.500796080832823\n"
     ]
    }
   ],
   "source": [
    "min_max(cv_lda_phy['test_accuracy'])"
   ]
  },
  {
   "cell_type": "code",
   "execution_count": 418,
   "metadata": {},
   "outputs": [
    {
     "data": {
      "image/png": "[encoded data removed]",
      "text/plain": [
       "<Figure size 432x288 with 1 Axes>"
      ]
     },
     "metadata": {
      "needs_background": "light"
     },
     "output_type": "display_data"
    }
   ],
   "source": [
    "sns.barplot(x=list(range(len(subjects))), y=cv_lda_phy['test_f1_macro']);"
   ]
  },
  {
   "cell_type": "code",
   "execution_count": 419,
   "metadata": {},
   "outputs": [
    {
     "name": "stdout",
     "output_type": "stream",
     "text": [
      "10 0.862461807316382\n",
      "7 0.2921918988479306\n"
     ]
    }
   ],
   "source": [
    "min_max(cv_lda_phy['test_f1_macro'])"
   ]
  },
  {
   "cell_type": "markdown",
   "metadata": {},
   "source": [
    "### Stress vs Non-Stress"
   ]
  },
  {
   "cell_type": "markdown",
   "metadata": {},
   "source": [
    "#### All modalities"
   ]
  },
  {
   "cell_type": "code",
   "execution_count": 420,
   "metadata": {},
   "outputs": [
    {
     "data": {
      "text/plain": [
       "{'accuracy': '89.0251616455377 +-9.608988218953025',\n",
       " 'f1_macro': '86.07048596185419 +-12.733815270677093'}"
      ]
     },
     "execution_count": 420,
     "metadata": {},
     "output_type": "execute_result"
    }
   ],
   "source": [
    "model_b_lda_all = create_lda_pipeline()\n",
    "cv_b_lda_all = run_cv(model_b_lda_all, X, y_b, groups=df['subject'], cv=LeaveOneGroupOut())\n",
    "test_score(cv_b_lda_all)"
   ]
  },
  {
   "cell_type": "code",
   "execution_count": 421,
   "metadata": {},
   "outputs": [
    {
     "data": {
      "image/png": "[encoded data removed]",
      "text/plain": [
       "<Figure size 432x288 with 1 Axes>"
      ]
     },
     "metadata": {
      "needs_background": "light"
     },
     "output_type": "display_data"
    }
   ],
   "source": [
    "sns.barplot(x=list(range(len(subjects))), y=cv_b_lda_all['test_accuracy']);"
   ]
  },
  {
   "cell_type": "code",
   "execution_count": 422,
   "metadata": {},
   "outputs": [
    {
     "name": "stdout",
     "output_type": "stream",
     "text": [
      "5 0.9998775260257196\n",
      "4 0.7021432050657574\n"
     ]
    }
   ],
   "source": [
    "min_max(cv_b_lda_all['test_accuracy'])"
   ]
  },
  {
   "cell_type": "code",
   "execution_count": 423,
   "metadata": {},
   "outputs": [
    {
     "data": {
      "image/png": "[encoded data removed]",
      "text/plain": [
       "<Figure size 432x288 with 1 Axes>"
      ]
     },
     "metadata": {
      "needs_background": "light"
     },
     "output_type": "display_data"
    }
   ],
   "source": [
    "sns.barplot(x=list(range(len(subjects))), y=cv_b_lda_all['test_f1_macro']);"
   ]
  },
  {
   "cell_type": "code",
   "execution_count": 424,
   "metadata": {},
   "outputs": [
    {
     "name": "stdout",
     "output_type": "stream",
     "text": [
      "5 0.9998542995246666\n",
      "4 0.5792608046316486\n"
     ]
    }
   ],
   "source": [
    "min_max(cv_b_lda_all['test_f1_macro'])"
   ]
  },
  {
   "cell_type": "markdown",
   "metadata": {},
   "source": [
    "#### Physiological modalities"
   ]
  },
  {
   "cell_type": "code",
   "execution_count": 425,
   "metadata": {},
   "outputs": [
    {
     "data": {
      "text/plain": [
       "{'accuracy': '89.85557568780152 +-9.53372978861513',\n",
       " 'f1_macro': '86.43388559424253 +-14.678529317649266'}"
      ]
     },
     "execution_count": 425,
     "metadata": {},
     "output_type": "execute_result"
    }
   ],
   "source": [
    "model_b_lda_phy = create_lda_pipeline()\n",
    "cv_b_lda_phy = run_cv(model_b_lda_phy, X_p, y_b, groups=df['subject'], cv=LeaveOneGroupOut())\n",
    "test_score(cv_b_lda_phy)"
   ]
  },
  {
   "cell_type": "code",
   "execution_count": 426,
   "metadata": {},
   "outputs": [
    {
     "data": {
      "image/png": "[encoded data removed]",
      "text/plain": [
       "<Figure size 432x288 with 1 Axes>"
      ]
     },
     "metadata": {
      "needs_background": "light"
     },
     "output_type": "display_data"
    }
   ],
   "source": [
    "sns.barplot(x=list(range(len(subjects))), y=cv_b_lda_phy['test_accuracy']);"
   ]
  },
  {
   "cell_type": "code",
   "execution_count": 427,
   "metadata": {},
   "outputs": [
    {
     "name": "stdout",
     "output_type": "stream",
     "text": [
      "12 0.9995045212436516\n",
      "7 0.6563626996393611\n"
     ]
    }
   ],
   "source": [
    "min_max(cv_b_lda_phy['test_accuracy'])"
   ]
  },
  {
   "cell_type": "code",
   "execution_count": 428,
   "metadata": {},
   "outputs": [
    {
     "data": {
      "image/png": "[encoded data removed]",
      "text/plain": [
       "<Figure size 432x288 with 1 Axes>"
      ]
     },
     "metadata": {
      "needs_background": "light"
     },
     "output_type": "display_data"
    }
   ],
   "source": [
    "sns.barplot(x=list(range(len(subjects))), y=cv_b_lda_phy['test_f1_macro']);"
   ]
  },
  {
   "cell_type": "code",
   "execution_count": 429,
   "metadata": {},
   "outputs": [
    {
     "name": "stdout",
     "output_type": "stream",
     "text": [
      "12 0.9993954539756483\n",
      "7 0.4064358295080224\n"
     ]
    }
   ],
   "source": [
    "min_max(cv_b_lda_phy['test_f1_macro'])"
   ]
  },
  {
   "cell_type": "code",
   "execution_count": 430,
   "metadata": {},
   "outputs": [],
   "source": [
    "## Reporting results\n",
    "lda_acc, lda_f1 = raw_scores(cv_lda_all)\n",
    "lda_b_acc, lda_b_f1 = raw_scores(cv_b_lda_all)\n",
    "df_report_all.loc[experiment_idx, 'lda_f1'] = lda_f1\n",
    "df_report_all.loc[experiment_idx, 'lda_acc'] = lda_acc\n",
    "df_report_all.loc[experiment_idx, 'lda_b_f1'] = lda_b_f1\n",
    "df_report_all.loc[experiment_idx, 'lda_b_acc'] = lda_b_acc\n",
    "\n",
    "lda_acc, lda_f1 = raw_scores(cv_lda_phy)\n",
    "lda_b_acc, lda_b_f1 = raw_scores(cv_b_lda_phy)\n",
    "df_report_phy.loc[experiment_idx, 'lda_f1'] = lda_f1\n",
    "df_report_phy.loc[experiment_idx, 'lda_acc'] = lda_acc\n",
    "df_report_phy.loc[experiment_idx, 'lda_b_f1'] = lda_b_f1\n",
    "df_report_phy.loc[experiment_idx, 'lda_b_acc'] = lda_b_acc"
   ]
  },
  {
   "cell_type": "markdown",
   "metadata": {},
   "source": [
    "## Experiment results"
   ]
  },
  {
   "cell_type": "code",
   "execution_count": 431,
   "metadata": {},
   "outputs": [
    {
     "data": {
      "text/html": [
       "<div>\n",
       "<style scoped>\n",
       "    .dataframe tbody tr th:only-of-type {\n",
       "        vertical-align: middle;\n",
       "    }\n",
       "\n",
       "    .dataframe tbody tr th {\n",
       "        vertical-align: top;\n",
       "    }\n",
       "\n",
       "    .dataframe thead th {\n",
       "        text-align: right;\n",
       "    }\n",
       "</style>\n",
       "<table border=\"1\" class=\"dataframe\">\n",
       "  <thead>\n",
       "    <tr style=\"text-align: right;\">\n",
       "      <th></th>\n",
       "      <th>rf_f1</th>\n",
       "      <th>rf_acc</th>\n",
       "      <th>rf_b_f1</th>\n",
       "      <th>rf_b_acc</th>\n",
       "      <th>ab_f1</th>\n",
       "      <th>ab_acc</th>\n",
       "      <th>ab_b_f1</th>\n",
       "      <th>ab_b_acc</th>\n",
       "      <th>lda_f1</th>\n",
       "      <th>lda_acc</th>\n",
       "      <th>lda_b_f1</th>\n",
       "      <th>lda_b_acc</th>\n",
       "    </tr>\n",
       "  </thead>\n",
       "  <tbody>\n",
       "    <tr>\n",
       "      <th>0</th>\n",
       "      <td>0.569973</td>\n",
       "      <td>0.694808</td>\n",
       "      <td>0.764492</td>\n",
       "      <td>0.848803</td>\n",
       "      <td>0.531372</td>\n",
       "      <td>0.628832</td>\n",
       "      <td>0.730374</td>\n",
       "      <td>0.799242</td>\n",
       "      <td>0.653066</td>\n",
       "      <td>0.716267</td>\n",
       "      <td>0.860705</td>\n",
       "      <td>0.890252</td>\n",
       "    </tr>\n",
       "    <tr>\n",
       "      <th>1</th>\n",
       "      <td>0.569680</td>\n",
       "      <td>0.691200</td>\n",
       "      <td>0.760651</td>\n",
       "      <td>0.843797</td>\n",
       "      <td>0.539400</td>\n",
       "      <td>0.633503</td>\n",
       "      <td>0.731361</td>\n",
       "      <td>0.800324</td>\n",
       "      <td>0.653066</td>\n",
       "      <td>0.716267</td>\n",
       "      <td>0.860705</td>\n",
       "      <td>0.890252</td>\n",
       "    </tr>\n",
       "    <tr>\n",
       "      <th>2</th>\n",
       "      <td>0.564980</td>\n",
       "      <td>0.688050</td>\n",
       "      <td>0.758422</td>\n",
       "      <td>0.845627</td>\n",
       "      <td>0.553703</td>\n",
       "      <td>0.641779</td>\n",
       "      <td>0.737756</td>\n",
       "      <td>0.800519</td>\n",
       "      <td>0.653066</td>\n",
       "      <td>0.716267</td>\n",
       "      <td>0.860705</td>\n",
       "      <td>0.890252</td>\n",
       "    </tr>\n",
       "    <tr>\n",
       "      <th>3</th>\n",
       "      <td>0.587290</td>\n",
       "      <td>0.697717</td>\n",
       "      <td>0.760592</td>\n",
       "      <td>0.845984</td>\n",
       "      <td>0.541359</td>\n",
       "      <td>0.631875</td>\n",
       "      <td>0.727363</td>\n",
       "      <td>0.794404</td>\n",
       "      <td>0.653066</td>\n",
       "      <td>0.716267</td>\n",
       "      <td>0.860705</td>\n",
       "      <td>0.890252</td>\n",
       "    </tr>\n",
       "    <tr>\n",
       "      <th>4</th>\n",
       "      <td>0.565213</td>\n",
       "      <td>0.681651</td>\n",
       "      <td>0.759584</td>\n",
       "      <td>0.843335</td>\n",
       "      <td>0.552990</td>\n",
       "      <td>0.644787</td>\n",
       "      <td>0.740850</td>\n",
       "      <td>0.806747</td>\n",
       "      <td>0.653066</td>\n",
       "      <td>0.716267</td>\n",
       "      <td>0.860705</td>\n",
       "      <td>0.890252</td>\n",
       "    </tr>\n",
       "  </tbody>\n",
       "</table>\n",
       "</div>"
      ],
      "text/plain": [
       "      rf_f1    rf_acc   rf_b_f1  rf_b_acc     ab_f1    ab_acc   ab_b_f1  \\\n",
       "0  0.569973  0.694808  0.764492  0.848803  0.531372  0.628832  0.730374   \n",
       "1  0.569680  0.691200  0.760651  0.843797  0.539400  0.633503  0.731361   \n",
       "2  0.564980  0.688050  0.758422  0.845627  0.553703  0.641779  0.737756   \n",
       "3  0.587290  0.697717  0.760592  0.845984  0.541359  0.631875  0.727363   \n",
       "4  0.565213  0.681651  0.759584  0.843335  0.552990  0.644787  0.740850   \n",
       "\n",
       "   ab_b_acc    lda_f1   lda_acc  lda_b_f1  lda_b_acc  \n",
       "0  0.799242  0.653066  0.716267  0.860705   0.890252  \n",
       "1  0.800324  0.653066  0.716267  0.860705   0.890252  \n",
       "2  0.800519  0.653066  0.716267  0.860705   0.890252  \n",
       "3  0.794404  0.653066  0.716267  0.860705   0.890252  \n",
       "4  0.806747  0.653066  0.716267  0.860705   0.890252  "
      ]
     },
     "execution_count": 431,
     "metadata": {},
     "output_type": "execute_result"
    }
   ],
   "source": [
    "df_report_all"
   ]
  },
  {
   "cell_type": "code",
   "execution_count": 450,
   "metadata": {},
   "outputs": [
    {
     "data": {
      "text/html": [
       "<div>\n",
       "<style scoped>\n",
       "    .dataframe tbody tr th:only-of-type {\n",
       "        vertical-align: middle;\n",
       "    }\n",
       "\n",
       "    .dataframe tbody tr th {\n",
       "        vertical-align: top;\n",
       "    }\n",
       "\n",
       "    .dataframe thead th {\n",
       "        text-align: right;\n",
       "    }\n",
       "</style>\n",
       "<table border=\"1\" class=\"dataframe\">\n",
       "  <thead>\n",
       "    <tr style=\"text-align: right;\">\n",
       "      <th></th>\n",
       "      <th>mean</th>\n",
       "      <th>std</th>\n",
       "    </tr>\n",
       "  </thead>\n",
       "  <tbody>\n",
       "    <tr>\n",
       "      <th>rf_f1</th>\n",
       "      <td>57.14</td>\n",
       "      <td>0.92</td>\n",
       "    </tr>\n",
       "    <tr>\n",
       "      <th>rf_acc</th>\n",
       "      <td>69.07</td>\n",
       "      <td>0.62</td>\n",
       "    </tr>\n",
       "    <tr>\n",
       "      <th>rf_b_f1</th>\n",
       "      <td>76.07</td>\n",
       "      <td>0.23</td>\n",
       "    </tr>\n",
       "    <tr>\n",
       "      <th>rf_b_acc</th>\n",
       "      <td>84.55</td>\n",
       "      <td>0.22</td>\n",
       "    </tr>\n",
       "    <tr>\n",
       "      <th>ab_f1</th>\n",
       "      <td>54.38</td>\n",
       "      <td>0.95</td>\n",
       "    </tr>\n",
       "    <tr>\n",
       "      <th>ab_acc</th>\n",
       "      <td>63.62</td>\n",
       "      <td>0.68</td>\n",
       "    </tr>\n",
       "    <tr>\n",
       "      <th>ab_b_f1</th>\n",
       "      <td>73.35</td>\n",
       "      <td>0.56</td>\n",
       "    </tr>\n",
       "    <tr>\n",
       "      <th>ab_b_acc</th>\n",
       "      <td>80.02</td>\n",
       "      <td>0.44</td>\n",
       "    </tr>\n",
       "    <tr>\n",
       "      <th>lda_f1</th>\n",
       "      <td>65.31</td>\n",
       "      <td>0.00</td>\n",
       "    </tr>\n",
       "    <tr>\n",
       "      <th>lda_acc</th>\n",
       "      <td>71.63</td>\n",
       "      <td>0.00</td>\n",
       "    </tr>\n",
       "    <tr>\n",
       "      <th>lda_b_f1</th>\n",
       "      <td>86.07</td>\n",
       "      <td>0.00</td>\n",
       "    </tr>\n",
       "    <tr>\n",
       "      <th>lda_b_acc</th>\n",
       "      <td>89.03</td>\n",
       "      <td>0.00</td>\n",
       "    </tr>\n",
       "  </tbody>\n",
       "</table>\n",
       "</div>"
      ],
      "text/plain": [
       "            mean   std\n",
       "rf_f1      57.14  0.92\n",
       "rf_acc     69.07  0.62\n",
       "rf_b_f1    76.07  0.23\n",
       "rf_b_acc   84.55  0.22\n",
       "ab_f1      54.38  0.95\n",
       "ab_acc     63.62  0.68\n",
       "ab_b_f1    73.35  0.56\n",
       "ab_b_acc   80.02  0.44\n",
       "lda_f1     65.31  0.00\n",
       "lda_acc    71.63  0.00\n",
       "lda_b_f1   86.07  0.00\n",
       "lda_b_acc  89.03  0.00"
      ]
     },
     "execution_count": 450,
     "metadata": {},
     "output_type": "execute_result"
    }
   ],
   "source": [
    "eval_all = df_report_all.describe().T[['mean', 'std']].apply(lambda x: x * 100).round(decimals=2)\n",
    "eval_all"
   ]
  },
  {
   "cell_type": "code",
   "execution_count": 463,
   "metadata": {},
   "outputs": [],
   "source": [
    "# eval_all.sort_values(by='mean', ascending=False).to_markdown()\n",
    "# eval_all.to_markdown()"
   ]
  },
  {
   "cell_type": "code",
   "execution_count": 432,
   "metadata": {},
   "outputs": [
    {
     "data": {
      "text/html": [
       "<div>\n",
       "<style scoped>\n",
       "    .dataframe tbody tr th:only-of-type {\n",
       "        vertical-align: middle;\n",
       "    }\n",
       "\n",
       "    .dataframe tbody tr th {\n",
       "        vertical-align: top;\n",
       "    }\n",
       "\n",
       "    .dataframe thead th {\n",
       "        text-align: right;\n",
       "    }\n",
       "</style>\n",
       "<table border=\"1\" class=\"dataframe\">\n",
       "  <thead>\n",
       "    <tr style=\"text-align: right;\">\n",
       "      <th></th>\n",
       "      <th>rf_f1</th>\n",
       "      <th>rf_acc</th>\n",
       "      <th>rf_b_f1</th>\n",
       "      <th>rf_b_acc</th>\n",
       "      <th>ab_f1</th>\n",
       "      <th>ab_acc</th>\n",
       "      <th>ab_b_f1</th>\n",
       "      <th>ab_b_acc</th>\n",
       "      <th>lda_f1</th>\n",
       "      <th>lda_acc</th>\n",
       "      <th>lda_b_f1</th>\n",
       "      <th>lda_b_acc</th>\n",
       "    </tr>\n",
       "  </thead>\n",
       "  <tbody>\n",
       "    <tr>\n",
       "      <th>0</th>\n",
       "      <td>0.611613</td>\n",
       "      <td>0.712413</td>\n",
       "      <td>0.792816</td>\n",
       "      <td>0.858259</td>\n",
       "      <td>0.600025</td>\n",
       "      <td>0.677185</td>\n",
       "      <td>0.765867</td>\n",
       "      <td>0.824575</td>\n",
       "      <td>0.666168</td>\n",
       "      <td>0.740246</td>\n",
       "      <td>0.864339</td>\n",
       "      <td>0.898556</td>\n",
       "    </tr>\n",
       "    <tr>\n",
       "      <th>1</th>\n",
       "      <td>0.595537</td>\n",
       "      <td>0.707775</td>\n",
       "      <td>0.789591</td>\n",
       "      <td>0.860137</td>\n",
       "      <td>0.610302</td>\n",
       "      <td>0.687882</td>\n",
       "      <td>0.768598</td>\n",
       "      <td>0.824075</td>\n",
       "      <td>0.666168</td>\n",
       "      <td>0.740246</td>\n",
       "      <td>0.864339</td>\n",
       "      <td>0.898556</td>\n",
       "    </tr>\n",
       "    <tr>\n",
       "      <th>2</th>\n",
       "      <td>0.605814</td>\n",
       "      <td>0.706488</td>\n",
       "      <td>0.787350</td>\n",
       "      <td>0.857363</td>\n",
       "      <td>0.579471</td>\n",
       "      <td>0.661721</td>\n",
       "      <td>0.772506</td>\n",
       "      <td>0.828806</td>\n",
       "      <td>0.666168</td>\n",
       "      <td>0.740246</td>\n",
       "      <td>0.864339</td>\n",
       "      <td>0.898556</td>\n",
       "    </tr>\n",
       "    <tr>\n",
       "      <th>3</th>\n",
       "      <td>0.617625</td>\n",
       "      <td>0.715526</td>\n",
       "      <td>0.780956</td>\n",
       "      <td>0.851126</td>\n",
       "      <td>0.594276</td>\n",
       "      <td>0.670094</td>\n",
       "      <td>0.775233</td>\n",
       "      <td>0.832660</td>\n",
       "      <td>0.666168</td>\n",
       "      <td>0.740246</td>\n",
       "      <td>0.864339</td>\n",
       "      <td>0.898556</td>\n",
       "    </tr>\n",
       "    <tr>\n",
       "      <th>4</th>\n",
       "      <td>0.617676</td>\n",
       "      <td>0.711437</td>\n",
       "      <td>0.778227</td>\n",
       "      <td>0.849322</td>\n",
       "      <td>0.598388</td>\n",
       "      <td>0.676511</td>\n",
       "      <td>0.776192</td>\n",
       "      <td>0.834557</td>\n",
       "      <td>0.666168</td>\n",
       "      <td>0.740246</td>\n",
       "      <td>0.864339</td>\n",
       "      <td>0.898556</td>\n",
       "    </tr>\n",
       "  </tbody>\n",
       "</table>\n",
       "</div>"
      ],
      "text/plain": [
       "      rf_f1    rf_acc   rf_b_f1  rf_b_acc     ab_f1    ab_acc   ab_b_f1  \\\n",
       "0  0.611613  0.712413  0.792816  0.858259  0.600025  0.677185  0.765867   \n",
       "1  0.595537  0.707775  0.789591  0.860137  0.610302  0.687882  0.768598   \n",
       "2  0.605814  0.706488  0.787350  0.857363  0.579471  0.661721  0.772506   \n",
       "3  0.617625  0.715526  0.780956  0.851126  0.594276  0.670094  0.775233   \n",
       "4  0.617676  0.711437  0.778227  0.849322  0.598388  0.676511  0.776192   \n",
       "\n",
       "   ab_b_acc    lda_f1   lda_acc  lda_b_f1  lda_b_acc  \n",
       "0  0.824575  0.666168  0.740246  0.864339   0.898556  \n",
       "1  0.824075  0.666168  0.740246  0.864339   0.898556  \n",
       "2  0.828806  0.666168  0.740246  0.864339   0.898556  \n",
       "3  0.832660  0.666168  0.740246  0.864339   0.898556  \n",
       "4  0.834557  0.666168  0.740246  0.864339   0.898556  "
      ]
     },
     "execution_count": 432,
     "metadata": {},
     "output_type": "execute_result"
    }
   ],
   "source": [
    "df_report_phy"
   ]
  },
  {
   "cell_type": "code",
   "execution_count": 456,
   "metadata": {},
   "outputs": [
    {
     "data": {
      "text/html": [
       "<div>\n",
       "<style scoped>\n",
       "    .dataframe tbody tr th:only-of-type {\n",
       "        vertical-align: middle;\n",
       "    }\n",
       "\n",
       "    .dataframe tbody tr th {\n",
       "        vertical-align: top;\n",
       "    }\n",
       "\n",
       "    .dataframe thead th {\n",
       "        text-align: right;\n",
       "    }\n",
       "</style>\n",
       "<table border=\"1\" class=\"dataframe\">\n",
       "  <thead>\n",
       "    <tr style=\"text-align: right;\">\n",
       "      <th></th>\n",
       "      <th>mean</th>\n",
       "      <th>std</th>\n",
       "    </tr>\n",
       "  </thead>\n",
       "  <tbody>\n",
       "    <tr>\n",
       "      <th>rf_f1</th>\n",
       "      <td>60.97</td>\n",
       "      <td>0.93</td>\n",
       "    </tr>\n",
       "    <tr>\n",
       "      <th>rf_acc</th>\n",
       "      <td>71.07</td>\n",
       "      <td>0.36</td>\n",
       "    </tr>\n",
       "    <tr>\n",
       "      <th>rf_b_f1</th>\n",
       "      <td>78.58</td>\n",
       "      <td>0.61</td>\n",
       "    </tr>\n",
       "    <tr>\n",
       "      <th>rf_b_acc</th>\n",
       "      <td>85.52</td>\n",
       "      <td>0.47</td>\n",
       "    </tr>\n",
       "    <tr>\n",
       "      <th>ab_f1</th>\n",
       "      <td>59.65</td>\n",
       "      <td>1.12</td>\n",
       "    </tr>\n",
       "    <tr>\n",
       "      <th>ab_acc</th>\n",
       "      <td>67.47</td>\n",
       "      <td>0.97</td>\n",
       "    </tr>\n",
       "    <tr>\n",
       "      <th>ab_b_f1</th>\n",
       "      <td>77.17</td>\n",
       "      <td>0.44</td>\n",
       "    </tr>\n",
       "    <tr>\n",
       "      <th>ab_b_acc</th>\n",
       "      <td>82.89</td>\n",
       "      <td>0.47</td>\n",
       "    </tr>\n",
       "    <tr>\n",
       "      <th>lda_f1</th>\n",
       "      <td>66.62</td>\n",
       "      <td>0.00</td>\n",
       "    </tr>\n",
       "    <tr>\n",
       "      <th>lda_acc</th>\n",
       "      <td>74.02</td>\n",
       "      <td>0.00</td>\n",
       "    </tr>\n",
       "    <tr>\n",
       "      <th>lda_b_f1</th>\n",
       "      <td>86.43</td>\n",
       "      <td>0.00</td>\n",
       "    </tr>\n",
       "    <tr>\n",
       "      <th>lda_b_acc</th>\n",
       "      <td>89.86</td>\n",
       "      <td>0.00</td>\n",
       "    </tr>\n",
       "  </tbody>\n",
       "</table>\n",
       "</div>"
      ],
      "text/plain": [
       "            mean   std\n",
       "rf_f1      60.97  0.93\n",
       "rf_acc     71.07  0.36\n",
       "rf_b_f1    78.58  0.61\n",
       "rf_b_acc   85.52  0.47\n",
       "ab_f1      59.65  1.12\n",
       "ab_acc     67.47  0.97\n",
       "ab_b_f1    77.17  0.44\n",
       "ab_b_acc   82.89  0.47\n",
       "lda_f1     66.62  0.00\n",
       "lda_acc    74.02  0.00\n",
       "lda_b_f1   86.43  0.00\n",
       "lda_b_acc  89.86  0.00"
      ]
     },
     "execution_count": 456,
     "metadata": {},
     "output_type": "execute_result"
    }
   ],
   "source": [
    "eval_phy = df_report_phy.describe().T[['mean', 'std']].apply(lambda x: x * 100).round(decimals=2)\n",
    "eval_phy"
   ]
  },
  {
   "cell_type": "code",
   "execution_count": 464,
   "metadata": {},
   "outputs": [],
   "source": [
    "# eval_phy.to_markdown()"
   ]
  },
  {
   "cell_type": "markdown",
   "metadata": {},
   "source": [
    "# Feature Importance"
   ]
  },
  {
   "cell_type": "markdown",
   "metadata": {},
   "source": [
    "### Baseline vs Stress vs Amusement"
   ]
  },
  {
   "cell_type": "code",
   "execution_count": 458,
   "metadata": {},
   "outputs": [],
   "source": [
    "fi_3 = DecisionTreeClassifier()\n",
    "fi_3.fit(X, y)\n",
    "df_3_fi = pd.DataFrame({'cols': X.columns, 'imp': fi_3.feature_importances_}).sort_values('imp', ascending=False)"
   ]
  },
  {
   "cell_type": "code",
   "execution_count": 459,
   "metadata": {},
   "outputs": [
    {
     "data": {
      "text/html": [
       "<div>\n",
       "<style scoped>\n",
       "    .dataframe tbody tr th:only-of-type {\n",
       "        vertical-align: middle;\n",
       "    }\n",
       "\n",
       "    .dataframe tbody tr th {\n",
       "        vertical-align: top;\n",
       "    }\n",
       "\n",
       "    .dataframe thead th {\n",
       "        text-align: right;\n",
       "    }\n",
       "</style>\n",
       "<table border=\"1\" class=\"dataframe\">\n",
       "  <thead>\n",
       "    <tr style=\"text-align: right;\">\n",
       "      <th></th>\n",
       "      <th>cols</th>\n",
       "      <th>imp</th>\n",
       "    </tr>\n",
       "  </thead>\n",
       "  <tbody>\n",
       "    <tr>\n",
       "      <th>64</th>\n",
       "      <td>RESP_exhal_mean</td>\n",
       "      <td>0.239524</td>\n",
       "    </tr>\n",
       "    <tr>\n",
       "      <th>36</th>\n",
       "      <td>EDA_SCR_no</td>\n",
       "      <td>0.135226</td>\n",
       "    </tr>\n",
       "    <tr>\n",
       "      <th>15</th>\n",
       "      <td>ECG_hr_mean</td>\n",
       "      <td>0.106965</td>\n",
       "    </tr>\n",
       "    <tr>\n",
       "      <th>56</th>\n",
       "      <td>EMG_peak_amp_sum</td>\n",
       "      <td>0.084956</td>\n",
       "    </tr>\n",
       "    <tr>\n",
       "      <th>5</th>\n",
       "      <td>ACC_xyz_std</td>\n",
       "      <td>0.068314</td>\n",
       "    </tr>\n",
       "    <tr>\n",
       "      <th>74</th>\n",
       "      <td>TEMP_min</td>\n",
       "      <td>0.057586</td>\n",
       "    </tr>\n",
       "    <tr>\n",
       "      <th>46</th>\n",
       "      <td>EDA_std</td>\n",
       "      <td>0.039229</td>\n",
       "    </tr>\n",
       "    <tr>\n",
       "      <th>58</th>\n",
       "      <td>EMG_peak_no</td>\n",
       "      <td>0.024425</td>\n",
       "    </tr>\n",
       "    <tr>\n",
       "      <th>6</th>\n",
       "      <td>ACC_xzy_mean</td>\n",
       "      <td>0.023665</td>\n",
       "    </tr>\n",
       "    <tr>\n",
       "      <th>1</th>\n",
       "      <td>ACC_x_mean</td>\n",
       "      <td>0.022358</td>\n",
       "    </tr>\n",
       "  </tbody>\n",
       "</table>\n",
       "</div>"
      ],
      "text/plain": [
       "                cols       imp\n",
       "64   RESP_exhal_mean  0.239524\n",
       "36        EDA_SCR_no  0.135226\n",
       "15       ECG_hr_mean  0.106965\n",
       "56  EMG_peak_amp_sum  0.084956\n",
       "5        ACC_xyz_std  0.068314\n",
       "74          TEMP_min  0.057586\n",
       "46           EDA_std  0.039229\n",
       "58       EMG_peak_no  0.024425\n",
       "6       ACC_xzy_mean  0.023665\n",
       "1         ACC_x_mean  0.022358"
      ]
     },
     "execution_count": 459,
     "metadata": {},
     "output_type": "execute_result"
    }
   ],
   "source": [
    "df_3_fi[:10]"
   ]
  },
  {
   "cell_type": "code",
   "execution_count": 435,
   "metadata": {},
   "outputs": [],
   "source": [
    "# df_3_fi.iloc[:10].to_markdown()"
   ]
  },
  {
   "cell_type": "markdown",
   "metadata": {},
   "source": [
    "### Stress vs Non-stress"
   ]
  },
  {
   "cell_type": "code",
   "execution_count": 460,
   "metadata": {},
   "outputs": [
    {
     "data": {
      "text/html": [
       "<div>\n",
       "<style scoped>\n",
       "    .dataframe tbody tr th:only-of-type {\n",
       "        vertical-align: middle;\n",
       "    }\n",
       "\n",
       "    .dataframe tbody tr th {\n",
       "        vertical-align: top;\n",
       "    }\n",
       "\n",
       "    .dataframe thead th {\n",
       "        text-align: right;\n",
       "    }\n",
       "</style>\n",
       "<table border=\"1\" class=\"dataframe\">\n",
       "  <thead>\n",
       "    <tr style=\"text-align: right;\">\n",
       "      <th></th>\n",
       "      <th>cols</th>\n",
       "      <th>imp</th>\n",
       "    </tr>\n",
       "  </thead>\n",
       "  <tbody>\n",
       "    <tr>\n",
       "      <th>64</th>\n",
       "      <td>RESP_exhal_mean</td>\n",
       "      <td>0.395155</td>\n",
       "    </tr>\n",
       "    <tr>\n",
       "      <th>15</th>\n",
       "      <td>ECG_hr_mean</td>\n",
       "      <td>0.144775</td>\n",
       "    </tr>\n",
       "    <tr>\n",
       "      <th>36</th>\n",
       "      <td>EDA_SCR_no</td>\n",
       "      <td>0.138381</td>\n",
       "    </tr>\n",
       "    <tr>\n",
       "      <th>1</th>\n",
       "      <td>ACC_x_mean</td>\n",
       "      <td>0.042426</td>\n",
       "    </tr>\n",
       "    <tr>\n",
       "      <th>72</th>\n",
       "      <td>TEMP_max</td>\n",
       "      <td>0.037903</td>\n",
       "    </tr>\n",
       "    <tr>\n",
       "      <th>58</th>\n",
       "      <td>EMG_peak_no</td>\n",
       "      <td>0.037576</td>\n",
       "    </tr>\n",
       "    <tr>\n",
       "      <th>44</th>\n",
       "      <td>EDA_scr_area</td>\n",
       "      <td>0.034910</td>\n",
       "    </tr>\n",
       "    <tr>\n",
       "      <th>65</th>\n",
       "      <td>RESP_exhal_std</td>\n",
       "      <td>0.023892</td>\n",
       "    </tr>\n",
       "    <tr>\n",
       "      <th>8</th>\n",
       "      <td>ACC_y_mean</td>\n",
       "      <td>0.016804</td>\n",
       "    </tr>\n",
       "    <tr>\n",
       "      <th>56</th>\n",
       "      <td>EMG_peak_amp_sum</td>\n",
       "      <td>0.016447</td>\n",
       "    </tr>\n",
       "  </tbody>\n",
       "</table>\n",
       "</div>"
      ],
      "text/plain": [
       "                cols       imp\n",
       "64   RESP_exhal_mean  0.395155\n",
       "15       ECG_hr_mean  0.144775\n",
       "36        EDA_SCR_no  0.138381\n",
       "1         ACC_x_mean  0.042426\n",
       "72          TEMP_max  0.037903\n",
       "58       EMG_peak_no  0.037576\n",
       "44      EDA_scr_area  0.034910\n",
       "65    RESP_exhal_std  0.023892\n",
       "8         ACC_y_mean  0.016804\n",
       "56  EMG_peak_amp_sum  0.016447"
      ]
     },
     "execution_count": 460,
     "metadata": {},
     "output_type": "execute_result"
    }
   ],
   "source": [
    "fi_b = DecisionTreeClassifier()\n",
    "fi_b.fit(X, y_b)\n",
    "df_b_fi = pd.DataFrame({'cols': X.columns, 'imp': fi_b.feature_importances_}).sort_values('imp', ascending=False)\n",
    "df_b_fi[:10]"
   ]
  },
  {
   "cell_type": "code",
   "execution_count": 437,
   "metadata": {},
   "outputs": [],
   "source": [
    "# df_b_fi.iloc[:10].to_markdown()"
   ]
  },
  {
   "cell_type": "code",
   "execution_count": null,
   "metadata": {},
   "outputs": [],
   "source": []
  }
 ],
 "metadata": {
  "kernelspec": {
   "display_name": "Python 3",
   "language": "python",
   "name": "python3"
  },
  "language_info": {
   "codemirror_mode": {
    "name": "ipython",
    "version": 3
   },
   "file_extension": ".py",
   "mimetype": "text/x-python",
   "name": "python",
   "nbconvert_exporter": "python",
   "pygments_lexer": "ipython3",
   "version": "3.7.7"
  }
 },
 "nbformat": 4,
 "nbformat_minor": 4
}
